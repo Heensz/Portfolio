{
 "cells": [
  {
   "cell_type": "code",
   "execution_count": 20,
   "metadata": {},
   "outputs": [],
   "source": [
    "#подключаем библиотеки\n",
    "import pandas as pd\n",
    "import datetime as dt\n",
    "import numpy as np\n",
    "import matplotlib.pyplot as plt\n",
    "import scipy.stats as st\n",
    "from plotly import graph_objects as go\n",
    "import math as mth"
   ]
  },
  {
   "attachments": {},
   "cell_type": "markdown",
   "metadata": {},
   "source": [
    "# Тестирования изменений, связанных с внедрением улучшенной рекомендательной системы."
   ]
  },
  {
   "cell_type": "markdown",
   "metadata": {},
   "source": [
    "Интернет-магазин проводит тест для проверки улучшенной рекомендательной системы. \n",
    "Новых пользователей разделили на две группы: А (контрольная) и B (новая платёжная воронка).\n",
    "\n",
    "Цели:\n",
    "1. Проверить, что за 14 дней с момента регистрации пользователи показали увеличение конверсии не менее, чем на 10%.\n",
    "\n",
    "2. Оценить корректность проведения теста, включая анализ пересечения тестовой аудитории с конкурирующими тестами, а также проверку совпадения временных границ теста с \n",
    "маркетинговыми событиями.\n",
    "\n",
    "3. Оценить результаты A/B-теста, проанализировав статистическую значимость полученных результатов и сделать выводы о влиянии улучшенной рекомендательной системы на конверсии.\n",
    "\n",
    "Имееются датафреймы с данными о маркетинговых событиях, зарегистрированных пользователях и событиях новых пользователей.\n",
    "\n",
    "План работы:\n",
    "\n",
    "Шаг 1 Выгрузка данных.\n",
    "\n",
    "Шаг 2. Предобработка данных.\n",
    "\n",
    "    2.1 Изучить инфо о датасете.\n",
    "    2.2 Посмотреть пропуски и дубликаты.\n",
    "    2.3 Приведём данные к нужным типам\n",
    "    2.4 Объединить датафреймы users и events.\n",
    "\n",
    "Шаг 3. Оценка корректности проведения теста.\n",
    "\n",
    "    3.1 Проверить соответствие данных требованиям ТЗ.\n",
    "    3.2 Удалить \"лишних\" пользователей.\n",
    "    3.3 Проверка временного разделения с маркетинговыми активностями\n",
    "    3.4 Проверка равномерности распределения по группам\n",
    "    3.5 Выявление пересекающихся пользователей в тестах.\n",
    "    3.6 удалим пользователей из ненужных регионов\n",
    "    3.7 Расчет доли участников теста среди новых пользователей из Евросоюза\n",
    "\n",
    "Шаг 4. Исследовательский анализ.\n",
    "\n",
    "    4.1 Анализ распределения событий на пользователя в выборках\n",
    "    4.2 Изучим распределение пользователей по устройствам в выборках\n",
    "    4.3 Посмотреть распределение событий пользователей по дням\n",
    "\n",
    "Шаг 5. Вывод."
   ]
  },
  {
   "attachments": {},
   "cell_type": "markdown",
   "metadata": {},
   "source": [
    "## Предобработка данных "
   ]
  },
  {
   "cell_type": "code",
   "execution_count": 23,
   "metadata": {},
   "outputs": [
    {
     "data": {
      "text/html": [
       "<div>\n",
       "<style scoped>\n",
       "    .dataframe tbody tr th:only-of-type {\n",
       "        vertical-align: middle;\n",
       "    }\n",
       "\n",
       "    .dataframe tbody tr th {\n",
       "        vertical-align: top;\n",
       "    }\n",
       "\n",
       "    .dataframe thead th {\n",
       "        text-align: right;\n",
       "    }\n",
       "</style>\n",
       "<table border=\"1\" class=\"dataframe\">\n",
       "  <thead>\n",
       "    <tr style=\"text-align: right;\">\n",
       "      <th></th>\n",
       "      <th>name</th>\n",
       "      <th>regions</th>\n",
       "      <th>start_dt</th>\n",
       "      <th>finish_dt</th>\n",
       "    </tr>\n",
       "  </thead>\n",
       "  <tbody>\n",
       "    <tr>\n",
       "      <th>0</th>\n",
       "      <td>Christmas&amp;New Year Promo</td>\n",
       "      <td>EU, N.America</td>\n",
       "      <td>2020-12-25</td>\n",
       "      <td>2021-01-03</td>\n",
       "    </tr>\n",
       "    <tr>\n",
       "      <th>1</th>\n",
       "      <td>St. Valentine's Day Giveaway</td>\n",
       "      <td>EU, CIS, APAC, N.America</td>\n",
       "      <td>2020-02-14</td>\n",
       "      <td>2020-02-16</td>\n",
       "    </tr>\n",
       "    <tr>\n",
       "      <th>2</th>\n",
       "      <td>St. Patric's Day Promo</td>\n",
       "      <td>EU, N.America</td>\n",
       "      <td>2020-03-17</td>\n",
       "      <td>2020-03-19</td>\n",
       "    </tr>\n",
       "    <tr>\n",
       "      <th>3</th>\n",
       "      <td>Easter Promo</td>\n",
       "      <td>EU, CIS, APAC, N.America</td>\n",
       "      <td>2020-04-12</td>\n",
       "      <td>2020-04-19</td>\n",
       "    </tr>\n",
       "    <tr>\n",
       "      <th>4</th>\n",
       "      <td>4th of July Promo</td>\n",
       "      <td>N.America</td>\n",
       "      <td>2020-07-04</td>\n",
       "      <td>2020-07-11</td>\n",
       "    </tr>\n",
       "    <tr>\n",
       "      <th>5</th>\n",
       "      <td>Black Friday Ads Campaign</td>\n",
       "      <td>EU, CIS, APAC, N.America</td>\n",
       "      <td>2020-11-26</td>\n",
       "      <td>2020-12-01</td>\n",
       "    </tr>\n",
       "    <tr>\n",
       "      <th>6</th>\n",
       "      <td>Chinese New Year Promo</td>\n",
       "      <td>APAC</td>\n",
       "      <td>2020-01-25</td>\n",
       "      <td>2020-02-07</td>\n",
       "    </tr>\n",
       "    <tr>\n",
       "      <th>7</th>\n",
       "      <td>Labor day (May 1st) Ads Campaign</td>\n",
       "      <td>EU, CIS, APAC</td>\n",
       "      <td>2020-05-01</td>\n",
       "      <td>2020-05-03</td>\n",
       "    </tr>\n",
       "    <tr>\n",
       "      <th>8</th>\n",
       "      <td>International Women's Day Promo</td>\n",
       "      <td>EU, CIS, APAC</td>\n",
       "      <td>2020-03-08</td>\n",
       "      <td>2020-03-10</td>\n",
       "    </tr>\n",
       "    <tr>\n",
       "      <th>9</th>\n",
       "      <td>Victory Day CIS (May 9th) Event</td>\n",
       "      <td>CIS</td>\n",
       "      <td>2020-05-09</td>\n",
       "      <td>2020-05-11</td>\n",
       "    </tr>\n",
       "    <tr>\n",
       "      <th>10</th>\n",
       "      <td>CIS New Year Gift Lottery</td>\n",
       "      <td>CIS</td>\n",
       "      <td>2020-12-30</td>\n",
       "      <td>2021-01-07</td>\n",
       "    </tr>\n",
       "    <tr>\n",
       "      <th>11</th>\n",
       "      <td>Dragon Boat Festival Giveaway</td>\n",
       "      <td>APAC</td>\n",
       "      <td>2020-06-25</td>\n",
       "      <td>2020-07-01</td>\n",
       "    </tr>\n",
       "    <tr>\n",
       "      <th>12</th>\n",
       "      <td>Single's Day Gift Promo</td>\n",
       "      <td>APAC</td>\n",
       "      <td>2020-11-11</td>\n",
       "      <td>2020-11-12</td>\n",
       "    </tr>\n",
       "    <tr>\n",
       "      <th>13</th>\n",
       "      <td>Chinese Moon Festival</td>\n",
       "      <td>APAC</td>\n",
       "      <td>2020-10-01</td>\n",
       "      <td>2020-10-07</td>\n",
       "    </tr>\n",
       "  </tbody>\n",
       "</table>\n",
       "</div>"
      ],
      "text/plain": [
       "                                name                   regions    start_dt  \\\n",
       "0           Christmas&New Year Promo             EU, N.America  2020-12-25   \n",
       "1       St. Valentine's Day Giveaway  EU, CIS, APAC, N.America  2020-02-14   \n",
       "2             St. Patric's Day Promo             EU, N.America  2020-03-17   \n",
       "3                       Easter Promo  EU, CIS, APAC, N.America  2020-04-12   \n",
       "4                  4th of July Promo                 N.America  2020-07-04   \n",
       "5          Black Friday Ads Campaign  EU, CIS, APAC, N.America  2020-11-26   \n",
       "6             Chinese New Year Promo                      APAC  2020-01-25   \n",
       "7   Labor day (May 1st) Ads Campaign             EU, CIS, APAC  2020-05-01   \n",
       "8    International Women's Day Promo             EU, CIS, APAC  2020-03-08   \n",
       "9    Victory Day CIS (May 9th) Event                       CIS  2020-05-09   \n",
       "10         CIS New Year Gift Lottery                       CIS  2020-12-30   \n",
       "11     Dragon Boat Festival Giveaway                      APAC  2020-06-25   \n",
       "12           Single's Day Gift Promo                      APAC  2020-11-11   \n",
       "13             Chinese Moon Festival                      APAC  2020-10-01   \n",
       "\n",
       "     finish_dt  \n",
       "0   2021-01-03  \n",
       "1   2020-02-16  \n",
       "2   2020-03-19  \n",
       "3   2020-04-19  \n",
       "4   2020-07-11  \n",
       "5   2020-12-01  \n",
       "6   2020-02-07  \n",
       "7   2020-05-03  \n",
       "8   2020-03-10  \n",
       "9   2020-05-11  \n",
       "10  2021-01-07  \n",
       "11  2020-07-01  \n",
       "12  2020-11-12  \n",
       "13  2020-10-07  "
      ]
     },
     "metadata": {},
     "output_type": "display_data"
    },
    {
     "data": {
      "text/html": [
       "<div>\n",
       "<style scoped>\n",
       "    .dataframe tbody tr th:only-of-type {\n",
       "        vertical-align: middle;\n",
       "    }\n",
       "\n",
       "    .dataframe tbody tr th {\n",
       "        vertical-align: top;\n",
       "    }\n",
       "\n",
       "    .dataframe thead th {\n",
       "        text-align: right;\n",
       "    }\n",
       "</style>\n",
       "<table border=\"1\" class=\"dataframe\">\n",
       "  <thead>\n",
       "    <tr style=\"text-align: right;\">\n",
       "      <th></th>\n",
       "      <th>user_id</th>\n",
       "      <th>first_date</th>\n",
       "      <th>region</th>\n",
       "      <th>device</th>\n",
       "    </tr>\n",
       "  </thead>\n",
       "  <tbody>\n",
       "    <tr>\n",
       "      <th>0</th>\n",
       "      <td>D72A72121175D8BE</td>\n",
       "      <td>2020-12-07</td>\n",
       "      <td>EU</td>\n",
       "      <td>PC</td>\n",
       "    </tr>\n",
       "    <tr>\n",
       "      <th>1</th>\n",
       "      <td>F1C668619DFE6E65</td>\n",
       "      <td>2020-12-07</td>\n",
       "      <td>N.America</td>\n",
       "      <td>Android</td>\n",
       "    </tr>\n",
       "    <tr>\n",
       "      <th>2</th>\n",
       "      <td>2E1BF1D4C37EA01F</td>\n",
       "      <td>2020-12-07</td>\n",
       "      <td>EU</td>\n",
       "      <td>PC</td>\n",
       "    </tr>\n",
       "    <tr>\n",
       "      <th>3</th>\n",
       "      <td>50734A22C0C63768</td>\n",
       "      <td>2020-12-07</td>\n",
       "      <td>EU</td>\n",
       "      <td>iPhone</td>\n",
       "    </tr>\n",
       "    <tr>\n",
       "      <th>4</th>\n",
       "      <td>E1BDDCE0DAFA2679</td>\n",
       "      <td>2020-12-07</td>\n",
       "      <td>N.America</td>\n",
       "      <td>iPhone</td>\n",
       "    </tr>\n",
       "  </tbody>\n",
       "</table>\n",
       "</div>"
      ],
      "text/plain": [
       "            user_id  first_date     region   device\n",
       "0  D72A72121175D8BE  2020-12-07         EU       PC\n",
       "1  F1C668619DFE6E65  2020-12-07  N.America  Android\n",
       "2  2E1BF1D4C37EA01F  2020-12-07         EU       PC\n",
       "3  50734A22C0C63768  2020-12-07         EU   iPhone\n",
       "4  E1BDDCE0DAFA2679  2020-12-07  N.America   iPhone"
      ]
     },
     "metadata": {},
     "output_type": "display_data"
    },
    {
     "data": {
      "text/html": [
       "<div>\n",
       "<style scoped>\n",
       "    .dataframe tbody tr th:only-of-type {\n",
       "        vertical-align: middle;\n",
       "    }\n",
       "\n",
       "    .dataframe tbody tr th {\n",
       "        vertical-align: top;\n",
       "    }\n",
       "\n",
       "    .dataframe thead th {\n",
       "        text-align: right;\n",
       "    }\n",
       "</style>\n",
       "<table border=\"1\" class=\"dataframe\">\n",
       "  <thead>\n",
       "    <tr style=\"text-align: right;\">\n",
       "      <th></th>\n",
       "      <th>user_id</th>\n",
       "      <th>event_dt</th>\n",
       "      <th>event_name</th>\n",
       "      <th>details</th>\n",
       "    </tr>\n",
       "  </thead>\n",
       "  <tbody>\n",
       "    <tr>\n",
       "      <th>0</th>\n",
       "      <td>E1BDDCE0DAFA2679</td>\n",
       "      <td>2020-12-07 20:22:03</td>\n",
       "      <td>purchase</td>\n",
       "      <td>99.99</td>\n",
       "    </tr>\n",
       "    <tr>\n",
       "      <th>1</th>\n",
       "      <td>7B6452F081F49504</td>\n",
       "      <td>2020-12-07 09:22:53</td>\n",
       "      <td>purchase</td>\n",
       "      <td>9.99</td>\n",
       "    </tr>\n",
       "    <tr>\n",
       "      <th>2</th>\n",
       "      <td>9CD9F34546DF254C</td>\n",
       "      <td>2020-12-07 12:59:29</td>\n",
       "      <td>purchase</td>\n",
       "      <td>4.99</td>\n",
       "    </tr>\n",
       "    <tr>\n",
       "      <th>3</th>\n",
       "      <td>96F27A054B191457</td>\n",
       "      <td>2020-12-07 04:02:40</td>\n",
       "      <td>purchase</td>\n",
       "      <td>4.99</td>\n",
       "    </tr>\n",
       "    <tr>\n",
       "      <th>4</th>\n",
       "      <td>1FD7660FDF94CA1F</td>\n",
       "      <td>2020-12-07 10:15:09</td>\n",
       "      <td>purchase</td>\n",
       "      <td>4.99</td>\n",
       "    </tr>\n",
       "  </tbody>\n",
       "</table>\n",
       "</div>"
      ],
      "text/plain": [
       "            user_id             event_dt event_name  details\n",
       "0  E1BDDCE0DAFA2679  2020-12-07 20:22:03   purchase    99.99\n",
       "1  7B6452F081F49504  2020-12-07 09:22:53   purchase     9.99\n",
       "2  9CD9F34546DF254C  2020-12-07 12:59:29   purchase     4.99\n",
       "3  96F27A054B191457  2020-12-07 04:02:40   purchase     4.99\n",
       "4  1FD7660FDF94CA1F  2020-12-07 10:15:09   purchase     4.99"
      ]
     },
     "metadata": {},
     "output_type": "display_data"
    },
    {
     "data": {
      "text/html": [
       "<div>\n",
       "<style scoped>\n",
       "    .dataframe tbody tr th:only-of-type {\n",
       "        vertical-align: middle;\n",
       "    }\n",
       "\n",
       "    .dataframe tbody tr th {\n",
       "        vertical-align: top;\n",
       "    }\n",
       "\n",
       "    .dataframe thead th {\n",
       "        text-align: right;\n",
       "    }\n",
       "</style>\n",
       "<table border=\"1\" class=\"dataframe\">\n",
       "  <thead>\n",
       "    <tr style=\"text-align: right;\">\n",
       "      <th></th>\n",
       "      <th>user_id</th>\n",
       "      <th>group</th>\n",
       "      <th>ab_test</th>\n",
       "    </tr>\n",
       "  </thead>\n",
       "  <tbody>\n",
       "    <tr>\n",
       "      <th>0</th>\n",
       "      <td>D1ABA3E2887B6A73</td>\n",
       "      <td>A</td>\n",
       "      <td>recommender_system_test</td>\n",
       "    </tr>\n",
       "    <tr>\n",
       "      <th>1</th>\n",
       "      <td>A7A3664BD6242119</td>\n",
       "      <td>A</td>\n",
       "      <td>recommender_system_test</td>\n",
       "    </tr>\n",
       "    <tr>\n",
       "      <th>2</th>\n",
       "      <td>DABC14FDDFADD29E</td>\n",
       "      <td>A</td>\n",
       "      <td>recommender_system_test</td>\n",
       "    </tr>\n",
       "    <tr>\n",
       "      <th>3</th>\n",
       "      <td>04988C5DF189632E</td>\n",
       "      <td>A</td>\n",
       "      <td>recommender_system_test</td>\n",
       "    </tr>\n",
       "    <tr>\n",
       "      <th>4</th>\n",
       "      <td>482F14783456D21B</td>\n",
       "      <td>B</td>\n",
       "      <td>recommender_system_test</td>\n",
       "    </tr>\n",
       "  </tbody>\n",
       "</table>\n",
       "</div>"
      ],
      "text/plain": [
       "            user_id group                  ab_test\n",
       "0  D1ABA3E2887B6A73     A  recommender_system_test\n",
       "1  A7A3664BD6242119     A  recommender_system_test\n",
       "2  DABC14FDDFADD29E     A  recommender_system_test\n",
       "3  04988C5DF189632E     A  recommender_system_test\n",
       "4  482F14783456D21B     B  recommender_system_test"
      ]
     },
     "metadata": {},
     "output_type": "display_data"
    }
   ],
   "source": [
    "#взглянем на датафреймы\n",
    "display(marketing_events)\n",
    "display(users.head())\n",
    "display(events.head())\n",
    "display(groups.head())"
   ]
  },
  {
   "cell_type": "code",
   "execution_count": 24,
   "metadata": {},
   "outputs": [
    {
     "name": "stdout",
     "output_type": "stream",
     "text": [
      "<class 'pandas.core.frame.DataFrame'>\n",
      "RangeIndex: 14 entries, 0 to 13\n",
      "Data columns (total 4 columns):\n",
      " #   Column     Non-Null Count  Dtype \n",
      "---  ------     --------------  ----- \n",
      " 0   name       14 non-null     object\n",
      " 1   regions    14 non-null     object\n",
      " 2   start_dt   14 non-null     object\n",
      " 3   finish_dt  14 non-null     object\n",
      "dtypes: object(4)\n",
      "memory usage: 576.0+ bytes\n",
      "**************************************************\n",
      "<class 'pandas.core.frame.DataFrame'>\n",
      "RangeIndex: 61733 entries, 0 to 61732\n",
      "Data columns (total 4 columns):\n",
      " #   Column      Non-Null Count  Dtype \n",
      "---  ------      --------------  ----- \n",
      " 0   user_id     61733 non-null  object\n",
      " 1   first_date  61733 non-null  object\n",
      " 2   region      61733 non-null  object\n",
      " 3   device      61733 non-null  object\n",
      "dtypes: object(4)\n",
      "memory usage: 1.9+ MB\n",
      "**************************************************\n",
      "<class 'pandas.core.frame.DataFrame'>\n",
      "RangeIndex: 440317 entries, 0 to 440316\n",
      "Data columns (total 4 columns):\n",
      " #   Column      Non-Null Count   Dtype  \n",
      "---  ------      --------------   -----  \n",
      " 0   user_id     440317 non-null  object \n",
      " 1   event_dt    440317 non-null  object \n",
      " 2   event_name  440317 non-null  object \n",
      " 3   details     62740 non-null   float64\n",
      "dtypes: float64(1), object(3)\n",
      "memory usage: 13.4+ MB\n",
      "**************************************************\n",
      "<class 'pandas.core.frame.DataFrame'>\n",
      "RangeIndex: 18268 entries, 0 to 18267\n",
      "Data columns (total 3 columns):\n",
      " #   Column   Non-Null Count  Dtype \n",
      "---  ------   --------------  ----- \n",
      " 0   user_id  18268 non-null  object\n",
      " 1   group    18268 non-null  object\n",
      " 2   ab_test  18268 non-null  object\n",
      "dtypes: object(3)\n",
      "memory usage: 428.3+ KB\n",
      "**************************************************\n",
      "Количество полных дубликатов в marketing_events: 0\n",
      "Количество полных дубликатов в users: 0\n",
      "Количество полных дубликатов в events: 0\n",
      "Количество полных дубликатов в groups: 0\n"
     ]
    }
   ],
   "source": [
    "#посмотрим информацию о датафреймах\n",
    "marketing_events.info()\n",
    "print(50*'*')\n",
    "users.info()\n",
    "print(50*'*')\n",
    "events.info()\n",
    "print(50*'*')\n",
    "groups.info()\n",
    "print(50*'*')\n",
    "print(\"Количество полных дубликатов в marketing_events:\", marketing_events.duplicated().sum())\n",
    "print(\"Количество полных дубликатов в users:\", users.duplicated().sum())\n",
    "print(\"Количество полных дубликатов в events:\", events.duplicated().sum())\n",
    "print(\"Количество полных дубликатов в groups:\", groups.duplicated().sum())"
   ]
  },
  {
   "cell_type": "code",
   "execution_count": 25,
   "metadata": {},
   "outputs": [],
   "source": [
    "#Приведём данные к нужным типам\n",
    "events['date']=pd.to_datetime(events['event_dt']).dt.date\n",
    "events['event_dt']= pd.to_datetime(events['event_dt'])\n",
    "users['first_date'] = pd.to_datetime(users['first_date'])"
   ]
  },
  {
   "cell_type": "code",
   "execution_count": 26,
   "metadata": {},
   "outputs": [],
   "source": [
    "#объединим датасеты с данными о пользователях и о событиях\n",
    "events_users = users.merge(events, on='user_id', how='inner')"
   ]
  },
  {
   "cell_type": "code",
   "execution_count": 27,
   "metadata": {
    "scrolled": true
   },
   "outputs": [
    {
     "name": "stdout",
     "output_type": "stream",
     "text": [
      "Названия тестов: ['recommender_system_test' 'interface_eu_test']\n"
     ]
    }
   ],
   "source": [
    "print(\"Названия тестов:\", groups['ab_test'].unique())"
   ]
  },
  {
   "cell_type": "markdown",
   "metadata": {},
   "source": [
    "Проводятся 2 теста, нас интересует recommender_system_test."
   ]
  },
  {
   "cell_type": "code",
   "execution_count": 29,
   "metadata": {
    "scrolled": true
   },
   "outputs": [
    {
     "name": "stdout",
     "output_type": "stream",
     "text": [
      "Из каких регионов пользователи: ['EU' 'N.America' 'APAC' 'CIS']\n"
     ]
    }
   ],
   "source": [
    "print(\"Из каких регионов пользователи:\",users['region'].unique())"
   ]
  },
  {
   "cell_type": "markdown",
   "metadata": {},
   "source": [
    "Пользователи из Европы, Северной Америки, Азиатско-Тихоокеанского региона и Содружества Независимых Государств."
   ]
  },
  {
   "attachments": {},
   "cell_type": "markdown",
   "metadata": {},
   "source": [
    "Выводы по разделу: \n",
    "* Пропусков в данных нет, кроме столбца details, но он для нас не важен\n",
    "* Полных дубликатов в данных нет\n",
    "* все столбцы имеют тип object, привели необходимые столбцы к нужному типу\n",
    "* названия столбцов имеют \"змеиный\" тип\n",
    "* количество строк во всех датасетах разное\n",
    "* Все датасеты, кроме marketing_events, имеют столбец user_id - в дальнейшем по нему можно соединять датасеты. \n",
    "\n",
    "В целом, мы имеем качественные сырые данные."
   ]
  },
  {
   "attachments": {},
   "cell_type": "markdown",
   "metadata": {},
   "source": [
    "## Оценка корректности проведения теста"
   ]
  },
  {
   "cell_type": "code",
   "execution_count": 31,
   "metadata": {
    "scrolled": true
   },
   "outputs": [
    {
     "name": "stdout",
     "output_type": "stream",
     "text": [
      "Начальная дата 2020-12-07 00:00:33, конечная дата 2020-12-30 23:36:33\n",
      "Тест длился: 23 days 23:36:00\n",
      "**************************************************\n",
      "Дата остановки набора новых пользователей: 2020-12-23 00:00:00\n",
      "Лайфтайм последнего нового пользователя: 7 days 23:36:33\n",
      "**************************************************\n",
      "Количество новых пользователей в разных регионах: EU           46270\n",
      "N.America     9155\n",
      "CIS           3155\n",
      "APAC          3153\n",
      "Name: region, dtype: int64\n",
      "**************************************************\n",
      "Количество участников теста: 6701\n",
      "**************************************************\n"
     ]
    },
    {
     "name": "stderr",
     "output_type": "stream",
     "text": [
      "C:\\Users\\Redmi\\AppData\\Local\\Temp\\ipykernel_15592\\372662381.py:12: UserWarning: Parsing dates in DD/MM/YYYY format when dayfirst=False (the default) was specified. This may lead to inconsistently parsed dates! Specify a format to ensure consistent parsing.\n",
      "  print(\"Количество новых пользователей:\", events_users.query('first_date  <=\"21.12.2020\"')['user_id'].nunique())\n"
     ]
    },
    {
     "name": "stdout",
     "output_type": "stream",
     "text": [
      "Количество новых пользователей: 53440\n"
     ]
    }
   ],
   "source": [
    "#Проверим соответствие данных требованиям технического задания.\n",
    "print('Начальная дата {}, конечная дата {}'.format(events['event_dt'].min(), events['event_dt'].max()))\n",
    "print('Тест длился:', events['event_dt'].max() - events['event_dt'].min())\n",
    "print(50*'*')\n",
    "print(\"Дата остановки набора новых пользователей:\", users['first_date'].max())\n",
    "print(\"Лайфтайм последнего нового пользователя:\", events['event_dt'].max()-users['first_date'].max())\n",
    "print(50*'*')\n",
    "print(\"Количество новых пользователей в разных регионах:\", users['region'].value_counts())\n",
    "print(50*'*')\n",
    "print(\"Количество участников теста:\", groups.query('ab_test==\"recommender_system_test\"')['user_id'].nunique())\n",
    "print(50*'*')\n",
    "print(\"Количество новых пользователей:\", events_users.query('first_date  <=\"21.12.2020\"')['user_id'].nunique())"
   ]
  },
  {
   "cell_type": "code",
   "execution_count": 33,
   "metadata": {},
   "outputs": [],
   "source": [
    "#Удалим пользователей из users, которые пришли после 2020-12-21\n",
    "users = users.query('first_date <= \"2020-12-21\"')"
   ]
  },
  {
   "cell_type": "code",
   "execution_count": 34,
   "metadata": {},
   "outputs": [
    {
     "data": {
      "text/plain": [
       "Timestamp('2020-12-21 00:00:00')"
      ]
     },
     "execution_count": 34,
     "metadata": {},
     "output_type": "execute_result"
    }
   ],
   "source": [
    "g = groups.query('ab_test==\"recommender_system_test\"').merge(users, on='user_id', how='inner')\n",
    "g['first_date'].max()"
   ]
  },
  {
   "attachments": {},
   "cell_type": "markdown",
   "metadata": {},
   "source": [
    "<div class=\"alert alert-info\"> </b>Дата остановки нашего теста 2020-12-21. Заданию соответствует</div>"
   ]
  },
  {
   "cell_type": "code",
   "execution_count": 35,
   "metadata": {},
   "outputs": [
    {
     "data": {
      "text/html": [
       "<div>\n",
       "<style scoped>\n",
       "    .dataframe tbody tr th:only-of-type {\n",
       "        vertical-align: middle;\n",
       "    }\n",
       "\n",
       "    .dataframe tbody tr th {\n",
       "        vertical-align: top;\n",
       "    }\n",
       "\n",
       "    .dataframe thead th {\n",
       "        text-align: right;\n",
       "    }\n",
       "</style>\n",
       "<table border=\"1\" class=\"dataframe\">\n",
       "  <thead>\n",
       "    <tr style=\"text-align: right;\">\n",
       "      <th></th>\n",
       "      <th>name</th>\n",
       "      <th>regions</th>\n",
       "      <th>start_dt</th>\n",
       "      <th>finish_dt</th>\n",
       "    </tr>\n",
       "  </thead>\n",
       "  <tbody>\n",
       "    <tr>\n",
       "      <th>6</th>\n",
       "      <td>Chinese New Year Promo</td>\n",
       "      <td>APAC</td>\n",
       "      <td>2020-01-25</td>\n",
       "      <td>2020-02-07</td>\n",
       "    </tr>\n",
       "    <tr>\n",
       "      <th>1</th>\n",
       "      <td>St. Valentine's Day Giveaway</td>\n",
       "      <td>EU, CIS, APAC, N.America</td>\n",
       "      <td>2020-02-14</td>\n",
       "      <td>2020-02-16</td>\n",
       "    </tr>\n",
       "    <tr>\n",
       "      <th>8</th>\n",
       "      <td>International Women's Day Promo</td>\n",
       "      <td>EU, CIS, APAC</td>\n",
       "      <td>2020-03-08</td>\n",
       "      <td>2020-03-10</td>\n",
       "    </tr>\n",
       "    <tr>\n",
       "      <th>2</th>\n",
       "      <td>St. Patric's Day Promo</td>\n",
       "      <td>EU, N.America</td>\n",
       "      <td>2020-03-17</td>\n",
       "      <td>2020-03-19</td>\n",
       "    </tr>\n",
       "    <tr>\n",
       "      <th>3</th>\n",
       "      <td>Easter Promo</td>\n",
       "      <td>EU, CIS, APAC, N.America</td>\n",
       "      <td>2020-04-12</td>\n",
       "      <td>2020-04-19</td>\n",
       "    </tr>\n",
       "    <tr>\n",
       "      <th>7</th>\n",
       "      <td>Labor day (May 1st) Ads Campaign</td>\n",
       "      <td>EU, CIS, APAC</td>\n",
       "      <td>2020-05-01</td>\n",
       "      <td>2020-05-03</td>\n",
       "    </tr>\n",
       "    <tr>\n",
       "      <th>9</th>\n",
       "      <td>Victory Day CIS (May 9th) Event</td>\n",
       "      <td>CIS</td>\n",
       "      <td>2020-05-09</td>\n",
       "      <td>2020-05-11</td>\n",
       "    </tr>\n",
       "    <tr>\n",
       "      <th>11</th>\n",
       "      <td>Dragon Boat Festival Giveaway</td>\n",
       "      <td>APAC</td>\n",
       "      <td>2020-06-25</td>\n",
       "      <td>2020-07-01</td>\n",
       "    </tr>\n",
       "    <tr>\n",
       "      <th>4</th>\n",
       "      <td>4th of July Promo</td>\n",
       "      <td>N.America</td>\n",
       "      <td>2020-07-04</td>\n",
       "      <td>2020-07-11</td>\n",
       "    </tr>\n",
       "    <tr>\n",
       "      <th>13</th>\n",
       "      <td>Chinese Moon Festival</td>\n",
       "      <td>APAC</td>\n",
       "      <td>2020-10-01</td>\n",
       "      <td>2020-10-07</td>\n",
       "    </tr>\n",
       "    <tr>\n",
       "      <th>12</th>\n",
       "      <td>Single's Day Gift Promo</td>\n",
       "      <td>APAC</td>\n",
       "      <td>2020-11-11</td>\n",
       "      <td>2020-11-12</td>\n",
       "    </tr>\n",
       "    <tr>\n",
       "      <th>5</th>\n",
       "      <td>Black Friday Ads Campaign</td>\n",
       "      <td>EU, CIS, APAC, N.America</td>\n",
       "      <td>2020-11-26</td>\n",
       "      <td>2020-12-01</td>\n",
       "    </tr>\n",
       "    <tr>\n",
       "      <th>0</th>\n",
       "      <td>Christmas&amp;New Year Promo</td>\n",
       "      <td>EU, N.America</td>\n",
       "      <td>2020-12-25</td>\n",
       "      <td>2021-01-03</td>\n",
       "    </tr>\n",
       "    <tr>\n",
       "      <th>10</th>\n",
       "      <td>CIS New Year Gift Lottery</td>\n",
       "      <td>CIS</td>\n",
       "      <td>2020-12-30</td>\n",
       "      <td>2021-01-07</td>\n",
       "    </tr>\n",
       "  </tbody>\n",
       "</table>\n",
       "</div>"
      ],
      "text/plain": [
       "                                name                   regions    start_dt  \\\n",
       "6             Chinese New Year Promo                      APAC  2020-01-25   \n",
       "1       St. Valentine's Day Giveaway  EU, CIS, APAC, N.America  2020-02-14   \n",
       "8    International Women's Day Promo             EU, CIS, APAC  2020-03-08   \n",
       "2             St. Patric's Day Promo             EU, N.America  2020-03-17   \n",
       "3                       Easter Promo  EU, CIS, APAC, N.America  2020-04-12   \n",
       "7   Labor day (May 1st) Ads Campaign             EU, CIS, APAC  2020-05-01   \n",
       "9    Victory Day CIS (May 9th) Event                       CIS  2020-05-09   \n",
       "11     Dragon Boat Festival Giveaway                      APAC  2020-06-25   \n",
       "4                  4th of July Promo                 N.America  2020-07-04   \n",
       "13             Chinese Moon Festival                      APAC  2020-10-01   \n",
       "12           Single's Day Gift Promo                      APAC  2020-11-11   \n",
       "5          Black Friday Ads Campaign  EU, CIS, APAC, N.America  2020-11-26   \n",
       "0           Christmas&New Year Promo             EU, N.America  2020-12-25   \n",
       "10         CIS New Year Gift Lottery                       CIS  2020-12-30   \n",
       "\n",
       "     finish_dt  \n",
       "6   2020-02-07  \n",
       "1   2020-02-16  \n",
       "8   2020-03-10  \n",
       "2   2020-03-19  \n",
       "3   2020-04-19  \n",
       "7   2020-05-03  \n",
       "9   2020-05-11  \n",
       "11  2020-07-01  \n",
       "4   2020-07-11  \n",
       "13  2020-10-07  \n",
       "12  2020-11-12  \n",
       "5   2020-12-01  \n",
       "0   2021-01-03  \n",
       "10  2021-01-07  "
      ]
     },
     "execution_count": 35,
     "metadata": {},
     "output_type": "execute_result"
    }
   ],
   "source": [
    "# Убедимся, что время проведения теста не совпадает с маркетинговыми и другими активностями.\n",
    "marketing_events.sort_values(by=['start_dt','finish_dt'])"
   ]
  },
  {
   "attachments": {},
   "cell_type": "markdown",
   "metadata": {},
   "source": [
    "Во время проведения теста было совершено 2 маркетинговых мероприятия, но участники теста застали лишь 5 дней \"Christmas&New Year Promo\" и первый день \"CIS New Year Gift Lottery\", но это нестрашно, потому что маркетинговые мероприятия будут одинаково влиять на пользователей в двух группах."
   ]
  },
  {
   "cell_type": "code",
   "execution_count": 36,
   "metadata": {},
   "outputs": [
    {
     "name": "stdout",
     "output_type": "stream",
     "text": [
      "1602\n",
      "Количество пользователей из теста interface_eu_test, которые попали в контрольную группу: 3824\n"
     ]
    }
   ],
   "source": [
    "#Удостоверимся, что нет пересечений с конкурирующим тестом и нет пользователей, участвующих в двух группах теста одновременно. \n",
    "#Проверим равномерность распределения пользователей по тестовым группам и правильность их формирования.\n",
    "#посмотрим сколько пользователей входят в оба теста\n",
    "recommender_system_test=groups.query('ab_test==\"recommender_system_test\"')\n",
    "interface_eu_test=groups.query('ab_test==\"interface_eu_test\"')\n",
    "p=recommender_system_test.merge(interface_eu_test, how='inner', indicator = False, on=['user_id'])\n",
    "print(p['user_id'].nunique())\n",
    "print(\"Количество пользователей из теста interface_eu_test, которые попали в контрольную группу:\", recommender_system_test.query('group==\"A\"')['user_id'].nunique())"
   ]
  },
  {
   "attachments": {},
   "cell_type": "markdown",
   "metadata": {},
   "source": [
    "В данных есть результаты двух тестов, 1602 пользователей попадают в оба теста, но так как мы ничего не знаем о 2ом тесте и не можем узнать, просто оставим только результаты recommender_system_test"
   ]
  },
  {
   "cell_type": "code",
   "execution_count": 37,
   "metadata": {
    "scrolled": false
   },
   "outputs": [
    {
     "name": "stdout",
     "output_type": "stream",
     "text": [
      "Количество уникальных пользователей в тесте: 6701\n",
      "Регионы участников теста: EU           6351\n",
      "N.America     223\n",
      "APAC           72\n",
      "CIS            55\n",
      "Name: region, dtype: int64\n"
     ]
    },
    {
     "data": {
      "text/plain": [
       "6701"
      ]
     },
     "execution_count": 37,
     "metadata": {},
     "output_type": "execute_result"
    }
   ],
   "source": [
    "groups_2 = groups.query('ab_test==\"recommender_system_test\"')\n",
    "users_groups = groups_2.merge(users, on='user_id', how='inner')\n",
    "users_group=users_groups.query('first_date >= \"2020-12-07\"').query('first_date <= \"2020-12-21\"')\n",
    "print(\"Количество уникальных пользователей в тесте:\", users_groups['user_id'].nunique())\n",
    "print(\"Регионы участников теста:\", users_groups['region'].value_counts())\n",
    "users_groups['user_id'].nunique()"
   ]
  },
  {
   "cell_type": "code",
   "execution_count": 39,
   "metadata": {},
   "outputs": [
    {
     "name": "stdout",
     "output_type": "stream",
     "text": [
      "Число пользователей в тесте из региона EU: 6701\n"
     ]
    }
   ],
   "source": [
    "#удалим пользователей из других регионов\n",
    "users_group = users_groups.query('region !=\"N.America\"').query('region !=\"APAC\"').query('region !=\"CIS\"')\n",
    "print(\"Число пользователей в тесте из региона EU:\", users_groups['user_id'].nunique())"
   ]
  },
  {
   "cell_type": "code",
   "execution_count": 40,
   "metadata": {},
   "outputs": [
    {
     "data": {
      "text/plain": [
       "15.0"
      ]
     },
     "execution_count": 40,
     "metadata": {},
     "output_type": "execute_result"
    }
   ],
   "source": [
    "#посчитаем долю участников теста из Евросоюза от всех новых пользователей из этого региона\n",
    "round(users_group['user_id'].nunique()/(users.query('region ==\"EU\"').query('first_date >= \"2020-12-07\"').query('first_date <= \"2020-12-21\"')['user_id'].nunique()/100), 2)"
   ]
  },
  {
   "attachments": {},
   "cell_type": "markdown",
   "metadata": {},
   "source": [
    "<div class=\"alert alert-info\"> <b></b> Доля пользователей, учавствующих в тесте 15% от всех новых пользователей из EU </div>"
   ]
  },
  {
   "cell_type": "code",
   "execution_count": 41,
   "metadata": {},
   "outputs": [
    {
     "name": "stdout",
     "output_type": "stream",
     "text": [
      "Количество участников в группе А: 3824\n",
      "Количество участников в группе В: 2877\n",
      "Количество пользователей, попавших в обе группы: 0\n"
     ]
    }
   ],
   "source": [
    "group_A = groups_2.query('group == \"A\"')\n",
    "group_B = groups_2.query('group == \"B\"')\n",
    "d=group_A.merge(group_B, how='inner', indicator = False, on=['user_id'])\n",
    "print(\"Количество участников в группе А:\", group_A['user_id'].nunique())\n",
    "print(\"Количество участников в группе В:\", group_B['user_id'].nunique())\n",
    "print(\"Количество пользователей, попавших в обе группы:\", d['user_id'].count())"
   ]
  },
  {
   "attachments": {},
   "cell_type": "markdown",
   "metadata": {},
   "source": [
    "Выводы по разделу: \n",
    "* Дата окончания теста не совпадает с указанной в ТЗ.\n",
    "* Дата остановки набора новых пользователей не совпадает с указанной в ТЗ (на 2 дня дольше набирали)\n",
    "* Больше всего новых пользователей пришло из Евросоюза (46270), доля от этих пользователей в тесте - 13.73%.\n",
    "* Количество участников теста recommender_system_test - 6351 пользователь из региона EU\n",
    "* В группе A почти на 1000 участников больше, чем в группе В. Распределение по группам такое: 60 на 40, это допустимо"
   ]
  },
  {
   "attachments": {},
   "cell_type": "markdown",
   "metadata": {},
   "source": [
    "## Исследовательский анализ "
   ]
  },
  {
   "attachments": {},
   "cell_type": "markdown",
   "metadata": {},
   "source": [
    "Ответим на вопрос одинаково ли распределены количества событий на пользователя в выборках?\n",
    "\n"
   ]
  },
  {
   "cell_type": "code",
   "execution_count": 42,
   "metadata": {
    "scrolled": true
   },
   "outputs": [
    {
     "name": "stdout",
     "output_type": "stream",
     "text": [
      "3675\n"
     ]
    }
   ],
   "source": [
    "#Соединим датасет с группами пользователей с датасетом событий\n",
    "events_users_groups = events.merge(users_groups, how='left')\n",
    "events_users_groups = events_users_groups[events_users_groups['group'].notna()]\n",
    "events_users_group_A = events_users_groups.query('group == \"A\"')\n",
    "events_users_group_B = events_users_groups.query('group == \"B\"')\n",
    "print(events_users_groups['user_id'].nunique())"
   ]
  },
  {
   "attachments": {},
   "cell_type": "markdown",
   "metadata": {},
   "source": [
    "После соединения c events, осталось 3481 уникальных пользователей из тестовых групп"
   ]
  },
  {
   "cell_type": "code",
   "execution_count": 43,
   "metadata": {
    "scrolled": true
   },
   "outputs": [
    {
     "name": "stdout",
     "output_type": "stream",
     "text": [
      "user_id       3026\n",
      "group         3026\n",
      "ab_test       3026\n",
      "first_date    3026\n",
      "region        3026\n",
      "device        3026\n",
      "dtype: int64\n"
     ]
    }
   ],
   "source": [
    "#посмотрим сколько пользователей не имеют ни одного события\n",
    "missing_ids = ~users_groups['user_id'].isin(events_users_groups['user_id'])\n",
    "print(users_groups[missing_ids].count())"
   ]
  },
  {
   "attachments": {},
   "cell_type": "markdown",
   "metadata": {},
   "source": [
    "У 2870 пользователей из тестовых групп нет ни одного события. Скорее всего по причине того, что некоторые вновь зарегистрировавшиеся были отобраны в тестовую группу, но не совершили ни одного события.\n",
    "пользователя выбрали, но сайтом "
   ]
  },
  {
   "cell_type": "code",
   "execution_count": 44,
   "metadata": {},
   "outputs": [
    {
     "name": "stdout",
     "output_type": "stream",
     "text": [
      "Empty DataFrame\n",
      "Columns: [user_id, event_dt, event_name, details, date]\n",
      "Index: []\n",
      "            user_id group                  ab_test\n",
      "4  482F14783456D21B     B  recommender_system_test\n",
      "               user_id first_date region device\n",
      "7596  482F14783456D21B 2020-12-14     EU     PC\n"
     ]
    }
   ],
   "source": [
    "#убелимся, что этих польщователей нет в events на примере одного пользователя\n",
    "print(events.query('user_id == \"482F14783456D21B\"'))\n",
    "print(groups.query('user_id ==\"482F14783456D21B\"'))\n",
    "print(users.query('user_id ==\"482F14783456D21B\"'))"
   ]
  },
  {
   "cell_type": "code",
   "execution_count": 45,
   "metadata": {
    "scrolled": true
   },
   "outputs": [
    {
     "name": "stdout",
     "output_type": "stream",
     "text": [
      "Количество пользователей без событий: 0\n"
     ]
    }
   ],
   "source": [
    "#проверим, у всех ли оставшихся пользователей были события\n",
    "events_0 = events_users_groups.groupby('user_id')['event_name'].count().reset_index().rename(columns = {'event_name':'count'})\n",
    "print(\"Количество пользователей без событий:\", events_0.query('count==0')['user_id'].nunique())"
   ]
  },
  {
   "cell_type": "code",
   "execution_count": 46,
   "metadata": {},
   "outputs": [
    {
     "name": "stdout",
     "output_type": "stream",
     "text": [
      "Оставшееся количество событий с учётом лайфтайма событий: 24070\n",
      "Потеряли событий: 592\n",
      "Всего осталось пользователей: 3675\n"
     ]
    }
   ],
   "source": [
    "#подсчитаем лайфтайм для каждого события\n",
    "events_users_groups['lifetime'] = (events_users_groups['event_dt'] - events_users_groups['first_date']).dt.days\n",
    "#зададим момент горизонта анализа 14 дней\n",
    "events_users_groups = events_users_groups.query('lifetime <= 14')\n",
    "print(\"Оставшееся количество событий с учётом лайфтайма событий:\", events_users_groups['lifetime'].count())\n",
    "print(\"Потеряли событий:\", 23420 - 22828)\n",
    "print(\"Всего осталось пользователей:\", events_users_groups['user_id'].nunique())"
   ]
  },
  {
   "cell_type": "code",
   "execution_count": 47,
   "metadata": {},
   "outputs": [
    {
     "name": "stdout",
     "output_type": "stream",
     "text": [
      "                    user_id\n",
      "group first_event          \n",
      "A     purchase          872\n",
      "      product_page      806\n",
      "      product_cart      557\n",
      "      login             512\n",
      "B     product_page      267\n",
      "      purchase          256\n",
      "      login             228\n",
      "      product_cart      177\n"
     ]
    }
   ],
   "source": [
    "#посмотрим первые событие пользователей из теста\n",
    "first_event = events_users_groups.groupby('user_id').agg({'event_name':'first'}).reset_index().rename(columns={'event_name':'first_event'})\n",
    "events_users_groups = first_event.merge(events_users_groups,  on='user_id', how='left')\n",
    "first_events = events_users_groups.groupby(['group','first_event']).agg({'user_id':'nunique'}).sort_values(by='user_id',ascending=False)\n",
    "print(first_events)"
   ]
  },
  {
   "cell_type": "code",
   "execution_count": 48,
   "metadata": {},
   "outputs": [
    {
     "data": {
      "image/png": "[encoded data removed]",
      "text/plain": [
       "<Figure size 864x504 with 1 Axes>"
      ]
     },
     "metadata": {
      "needs_background": "light"
     },
     "output_type": "display_data"
    }
   ],
   "source": [
    "#Построим график количества первых событий пользователей из группы А и группы В и сравним\n",
    "# создание объекта осей\n",
    "plt.rcParams[\"figure.figsize\"] = (12,7)\n",
    "ax = plt.subplot(1, 1, 1)\n",
    "\n",
    "# построение грфика для группы A\n",
    "first_events['user_id']['A'].plot(kind='bar', ax=ax, position=0, width=0.4, color='blue', label='A', grid=True)\n",
    "\n",
    "# построение графика для группы B\n",
    "first_events['user_id']['B'].plot(kind='bar', ax=ax, position=1, width=0.4, color='red', label='B', grid=True)\n",
    "\n",
    "# настройка осей и подписей к графикам\n",
    "plt.xlabel('Тип события')\n",
    "plt.ylabel('Количество пользователей')\n",
    "plt.title('Распределение пользователей по типу события и группам')\n",
    "plt.legend(title='Группа', bbox_to_anchor=(1, 1))\n",
    "plt.show()\n"
   ]
  },
  {
   "attachments": {},
   "cell_type": "markdown",
   "metadata": {},
   "source": [
    "* Больше всего первым событием у пользователей из теста было purchase, то есть 833 пользователя из группы A и 249 пользователей из группы В сразу совершали покупку, скорее всего у приложения есть покупка в один клик\n",
    "\n",
    "* Из группы В покупку сделали на 584 пользователя меньше, чем из группы А. То есть после внедрения \"улучшенной\" рекомендательной системы покупателей стало меньше"
   ]
  },
  {
   "cell_type": "code",
   "execution_count": 49,
   "metadata": {},
   "outputs": [
    {
     "data": {
      "image/png": "[encoded data removed]",
      "text/plain": [
       "<Figure size 864x504 with 1 Axes>"
      ]
     },
     "metadata": {
      "needs_background": "light"
     },
     "output_type": "display_data"
    }
   ],
   "source": [
    "#Количество событий на пользователя одинаково распределены в выборках?\n",
    "plt.hist(events_users_group_A.groupby('user_id')['event_name'].count(), bins=100, alpha=0.5)\n",
    "plt.hist(events_users_group_B.groupby('user_id')['event_name'].count(), bins=100, alpha=0.5)\n",
    "plt.xlabel('Количество событий')\n",
    "plt.ylabel('Количество пользователей')\n",
    "plt.title('Количество событий у пользователей')\n",
    "plt.grid(True)\n",
    "\n",
    "plt.show()"
   ]
  },
  {
   "cell_type": "code",
   "execution_count": 50,
   "metadata": {
    "scrolled": true
   },
   "outputs": [
    {
     "name": "stdout",
     "output_type": "stream",
     "text": [
      "Итого пользователей в группе A: 2747\n",
      "Итого пользователей в группе В: 928\n"
     ]
    }
   ],
   "source": [
    "print(\"Итого пользователей в группе A:\", events_users_group_A['user_id'].nunique())\n",
    "print(\"Итого пользователей в группе В:\", events_users_group_B['user_id'].nunique())"
   ]
  },
  {
   "attachments": {},
   "cell_type": "markdown",
   "metadata": {},
   "source": [
    "Теперь количество пользователей в группе А на 1727 больше, чем в группе В"
   ]
  },
  {
   "cell_type": "code",
   "execution_count": 51,
   "metadata": {},
   "outputs": [
    {
     "data": {
      "image/png": "[encoded data removed]",
      "text/plain": [
       "<Figure size 864x504 with 1 Axes>"
      ]
     },
     "metadata": {
      "needs_background": "light"
     },
     "output_type": "display_data"
    }
   ],
   "source": [
    "#посмотрим, какими устройствами пользуются клиенты\n",
    "events_users_groups.groupby(['group','device'])['user_id'].nunique().sort_values(ascending=False).plot(kind='bar',grid=True)\n",
    "plt.xlabel('Группа, тип устройства')\n",
    "plt.ylabel('Количество пользователей')\n",
    "plt.title('Распределение пользователей по устройствам и группам')\n",
    "plt.xticks(rotation=0)\n",
    "plt.legend(title='Группа', bbox_to_anchor=(1, 1))\n",
    "plt.show()"
   ]
  },
  {
   "attachments": {},
   "cell_type": "markdown",
   "metadata": {},
   "source": [
    "В обеих группах больше всего пользователей Android, меньше всего пользователей Mac"
   ]
  },
  {
   "cell_type": "code",
   "execution_count": 52,
   "metadata": {
    "scrolled": false
   },
   "outputs": [
    {
     "data": {
      "image/png": "[encoded data removed]",
      "text/plain": [
       "<Figure size 864x504 with 1 Axes>"
      ]
     },
     "metadata": {
      "needs_background": "light"
     },
     "output_type": "display_data"
    }
   ],
   "source": [
    "#Посмотрим как количество событий на пользователя распределены в выборках\n",
    "# в группе А\n",
    "events_users_group_A.groupby('user_id')['event_name'].count().hist(bins=100)\n",
    "plt.xlabel('Количество событий')\n",
    "plt.ylabel('Количество пользователей')\n",
    "plt.title('Количество событий у пользователей группы А')\n",
    "plt.xticks(rotation=0)\n",
    "plt.show()"
   ]
  },
  {
   "cell_type": "code",
   "execution_count": 53,
   "metadata": {
    "scrolled": true
   },
   "outputs": [
    {
     "data": {
      "image/png": "[encoded data removed]",
      "text/plain": [
       "<Figure size 864x504 with 1 Axes>"
      ]
     },
     "metadata": {
      "needs_background": "light"
     },
     "output_type": "display_data"
    }
   ],
   "source": [
    "# в группе В\n",
    "events_users_group_B.groupby('user_id')['event_name'].count().hist(bins=100)\n",
    "plt.xlabel('Количество событий')\n",
    "plt.ylabel('Количество пользователей')\n",
    "plt.title('Количество событий у пользователей из группы В')\n",
    "plt.xticks(rotation=0)\n",
    "plt.show()"
   ]
  },
  {
   "attachments": {},
   "cell_type": "markdown",
   "metadata": {},
   "source": [
    "Количество событий на пользователя распределено между группами примерно одинаково: например, больше всего пользователей в обеих группах сделали 6 событий, а вот 7 событий почти никто не делал"
   ]
  },
  {
   "cell_type": "code",
   "execution_count": 54,
   "metadata": {},
   "outputs": [
    {
     "data": {
      "image/png": "[encoded data removed]",
      "text/plain": [
       "<Figure size 864x504 with 1 Axes>"
      ]
     },
     "metadata": {
      "needs_background": "light"
     },
     "output_type": "display_data"
    }
   ],
   "source": [
    "#Уберём пользователей, которые не входят в требуемый лайфтайм и посмотрим распределние оставшихся событий\n",
    "e = events_users_groups.query('first_date < \"2020-12-17\"')\n",
    "e.groupby('event_name')['event_dt'].nunique().sort_values(ascending=False).plot(kind='bar', grid=True)\n",
    "plt.xlabel('Названия событий')\n",
    "plt.ylabel('Количество пользователей')\n",
    "plt.title('Распределение пользователей по событиям')\n",
    "plt.xticks(rotation=0)\n",
    "plt.show()"
   ]
  },
  {
   "cell_type": "code",
   "execution_count": 55,
   "metadata": {
    "scrolled": true
   },
   "outputs": [
    {
     "data": {
      "image/png": "[encoded data removed]",
      "text/plain": [
       "<Figure size 864x504 with 1 Axes>"
      ]
     },
     "metadata": {
      "needs_background": "light"
     },
     "output_type": "display_data"
    }
   ],
   "source": [
    "#посмотрим сколько событий было сделано всего\n",
    "events_users_groups.groupby('event_name')['event_dt'].nunique().sort_values(ascending=False).plot(kind='bar', grid=True)\n",
    "plt.xlabel('Названия событий')\n",
    "plt.ylabel('Количество пользователей')\n",
    "plt.title('Распределение пользователей по событиям')\n",
    "plt.xticks(rotation=0)\n",
    "plt.show()"
   ]
  },
  {
   "attachments": {},
   "cell_type": "markdown",
   "metadata": {},
   "source": [
    "Пользователи, которые имеют лайфтайм менее, чем в 14 дней, не искажают пропорции воронки событий, поэтому мы их оставим"
   ]
  },
  {
   "cell_type": "code",
   "execution_count": 56,
   "metadata": {
    "scrolled": true
   },
   "outputs": [
    {
     "data": {
      "image/png": "[encoded data removed]",
      "text/plain": [
       "<Figure size 864x504 with 1 Axes>"
      ]
     },
     "metadata": {
      "needs_background": "light"
     },
     "output_type": "display_data"
    }
   ],
   "source": [
    "#Как число событий в выборках распределено по дням?\n",
    "#для группы А\n",
    "events_users_group_A.groupby('date')['event_name'].count().plot(kind='bar', grid=True)\n",
    "plt.xlabel('Дата')\n",
    "plt.ylabel('Количество пользователей')\n",
    "plt.title('Распределение событий по дням')\n",
    "plt.show()"
   ]
  },
  {
   "cell_type": "code",
   "execution_count": 57,
   "metadata": {
    "scrolled": false
   },
   "outputs": [
    {
     "data": {
      "image/png": "[encoded data removed]",
      "text/plain": [
       "<Figure size 864x504 with 1 Axes>"
      ]
     },
     "metadata": {
      "needs_background": "light"
     },
     "output_type": "display_data"
    }
   ],
   "source": [
    "#Для группы В\n",
    "events_users_group_B.groupby('date')['event_name'].count().plot(kind='bar', grid=True)\n",
    "plt.xlabel('Дата')\n",
    "plt.ylabel('Количество пользователей')\n",
    "plt.title('Распределение событий по дням')\n",
    "plt.show()"
   ]
  },
  {
   "attachments": {},
   "cell_type": "markdown",
   "metadata": {},
   "source": [
    "* Динамика количества событий различается в группах. В группе А значительно больше событий, чем в группе В\n",
    "* Первые 7 дней в группе А равномерно небольшое количество событий, затем количество событий стало увеличиваться; в группе В с первого дня теста количество событий резко колеблется\n",
    "* В обеих группах больше всего событий 2020-12-21\n",
    "* После 2020-12-21 количество событий с каждым днём в обеих группах стало падать"
   ]
  },
  {
   "attachments": {},
   "cell_type": "markdown",
   "metadata": {},
   "source": [
    "<div class=\"alert alert-info\"> <b></b> Невозможно точно определить причину скачка в количестве событий. \n",
    "    \n",
    "    Возможные причины:\n",
    "* Рекламная кампания: Если группа А участвует в рекламной кампании, то скачок может быть связан с ее запуском или повышенным бюджетом в определенный день.\n",
    "* Технические проблемы: Скачок может быть вызван техническими проблемами с сайтом, приложением или другой технической причиной, которая привела к более высокой активности пользователей в определенный день. \n",
    "* Праздник или событие: Скачок может быть связан с праздником, мероприятием или другим событием, которое мотивировало пользователей к более активному поведению.\n",
    "\n",
    "Рекламных компаний в это время не было. Значит, либо 1ая, либо 2ая причина</div>"
   ]
  },
  {
   "cell_type": "code",
   "execution_count": 58,
   "metadata": {
    "scrolled": false
   },
   "outputs": [
    {
     "data": {
      "image/png": "[encoded data removed]",
      "text/plain": [
       "<Figure size 864x504 with 1 Axes>"
      ]
     },
     "metadata": {
      "needs_background": "light"
     },
     "output_type": "display_data"
    }
   ],
   "source": [
    "users.query('region ==\"EU\"').query('first_date <= \"2020-12-21\"').groupby('first_date')['user_id'].nunique().plot(kind='bar',grid=True)\n",
    "plt.xlabel('Дата')\n",
    "plt.ylabel('Количество пользователей')\n",
    "plt.title('Рапределение пользователей по дням регистрации')\n",
    "plt.show()"
   ]
  },
  {
   "cell_type": "code",
   "execution_count": 59,
   "metadata": {
    "scrolled": false
   },
   "outputs": [
    {
     "data": {
      "image/png": "[encoded data removed]",
      "text/plain": [
       "<Figure size 864x504 with 1 Axes>"
      ]
     },
     "metadata": {
      "needs_background": "light"
     },
     "output_type": "display_data"
    }
   ],
   "source": [
    "#и по дням недели\n",
    "users['weekday'] = pd.to_datetime(users['first_date']).dt.day_name()\n",
    "users.query('region ==\"EU\"').query('first_date <= \"2020-12-21\"').groupby('weekday')['user_id'].nunique().plot(kind='bar',grid=True)\n",
    "plt.xlabel('Дата')\n",
    "plt.ylabel('Количество пользователей')\n",
    "plt.title('Рапределение пользователей по дням регистрации')\n",
    "plt.show()"
   ]
  },
  {
   "attachments": {},
   "cell_type": "markdown",
   "metadata": {},
   "source": [
    "<div class=\"alert alert-info\"> <b></b> В разные дни приходило разное количество пользователей. Больше всего пользователей пришло в понедельник, меньше всего в среду.</div>"
   ]
  },
  {
   "cell_type": "code",
   "execution_count": 60,
   "metadata": {
    "scrolled": false
   },
   "outputs": [
    {
     "data": {
      "application/vnd.plotly.v1+json": {
       "config": {
        "plotlyServerURL": "https://plot.ly"
       },
       "data": [
        {
         "name": "A",
         "orientation": "h",
         "textinfo": "value+percent initial",
         "type": "funnel",
         "x": [
          2747,
          1780,
          872,
          824
         ],
         "y": [
          "login",
          "product_page\t",
          "product_cart",
          "purchase"
         ]
        },
        {
         "name": "B",
         "orientation": "h",
         "textinfo": "value+percent initial",
         "type": "funnel",
         "x": [
          927,
          523,
          256,
          255
         ],
         "y": [
          "login",
          "product_page\t",
          "product_cart",
          "purchase"
         ]
        }
       ],
       "layout": {
        "template": {
         "data": {
          "bar": [
           {
            "error_x": {
             "color": "#2a3f5f"
            },
            "error_y": {
             "color": "#2a3f5f"
            },
            "marker": {
             "line": {
              "color": "#E5ECF6",
              "width": 0.5
             },
             "pattern": {
              "fillmode": "overlay",
              "size": 10,
              "solidity": 0.2
             }
            },
            "type": "bar"
           }
          ],
          "barpolar": [
           {
            "marker": {
             "line": {
              "color": "#E5ECF6",
              "width": 0.5
             },
             "pattern": {
              "fillmode": "overlay",
              "size": 10,
              "solidity": 0.2
             }
            },
            "type": "barpolar"
           }
          ],
          "carpet": [
           {
            "aaxis": {
             "endlinecolor": "#2a3f5f",
             "gridcolor": "white",
             "linecolor": "white",
             "minorgridcolor": "white",
             "startlinecolor": "#2a3f5f"
            },
            "baxis": {
             "endlinecolor": "#2a3f5f",
             "gridcolor": "white",
             "linecolor": "white",
             "minorgridcolor": "white",
             "startlinecolor": "#2a3f5f"
            },
            "type": "carpet"
           }
          ],
          "choropleth": [
           {
            "colorbar": {
             "outlinewidth": 0,
             "ticks": ""
            },
            "type": "choropleth"
           }
          ],
          "contour": [
           {
            "colorbar": {
             "outlinewidth": 0,
             "ticks": ""
            },
            "colorscale": [
             [
              0,
              "#0d0887"
             ],
             [
              0.1111111111111111,
              "#46039f"
             ],
             [
              0.2222222222222222,
              "#7201a8"
             ],
             [
              0.3333333333333333,
              "#9c179e"
             ],
             [
              0.4444444444444444,
              "#bd3786"
             ],
             [
              0.5555555555555556,
              "#d8576b"
             ],
             [
              0.6666666666666666,
              "#ed7953"
             ],
             [
              0.7777777777777778,
              "#fb9f3a"
             ],
             [
              0.8888888888888888,
              "#fdca26"
             ],
             [
              1,
              "#f0f921"
             ]
            ],
            "type": "contour"
           }
          ],
          "contourcarpet": [
           {
            "colorbar": {
             "outlinewidth": 0,
             "ticks": ""
            },
            "type": "contourcarpet"
           }
          ],
          "heatmap": [
           {
            "colorbar": {
             "outlinewidth": 0,
             "ticks": ""
            },
            "colorscale": [
             [
              0,
              "#0d0887"
             ],
             [
              0.1111111111111111,
              "#46039f"
             ],
             [
              0.2222222222222222,
              "#7201a8"
             ],
             [
              0.3333333333333333,
              "#9c179e"
             ],
             [
              0.4444444444444444,
              "#bd3786"
             ],
             [
              0.5555555555555556,
              "#d8576b"
             ],
             [
              0.6666666666666666,
              "#ed7953"
             ],
             [
              0.7777777777777778,
              "#fb9f3a"
             ],
             [
              0.8888888888888888,
              "#fdca26"
             ],
             [
              1,
              "#f0f921"
             ]
            ],
            "type": "heatmap"
           }
          ],
          "heatmapgl": [
           {
            "colorbar": {
             "outlinewidth": 0,
             "ticks": ""
            },
            "colorscale": [
             [
              0,
              "#0d0887"
             ],
             [
              0.1111111111111111,
              "#46039f"
             ],
             [
              0.2222222222222222,
              "#7201a8"
             ],
             [
              0.3333333333333333,
              "#9c179e"
             ],
             [
              0.4444444444444444,
              "#bd3786"
             ],
             [
              0.5555555555555556,
              "#d8576b"
             ],
             [
              0.6666666666666666,
              "#ed7953"
             ],
             [
              0.7777777777777778,
              "#fb9f3a"
             ],
             [
              0.8888888888888888,
              "#fdca26"
             ],
             [
              1,
              "#f0f921"
             ]
            ],
            "type": "heatmapgl"
           }
          ],
          "histogram": [
           {
            "marker": {
             "pattern": {
              "fillmode": "overlay",
              "size": 10,
              "solidity": 0.2
             }
            },
            "type": "histogram"
           }
          ],
          "histogram2d": [
           {
            "colorbar": {
             "outlinewidth": 0,
             "ticks": ""
            },
            "colorscale": [
             [
              0,
              "#0d0887"
             ],
             [
              0.1111111111111111,
              "#46039f"
             ],
             [
              0.2222222222222222,
              "#7201a8"
             ],
             [
              0.3333333333333333,
              "#9c179e"
             ],
             [
              0.4444444444444444,
              "#bd3786"
             ],
             [
              0.5555555555555556,
              "#d8576b"
             ],
             [
              0.6666666666666666,
              "#ed7953"
             ],
             [
              0.7777777777777778,
              "#fb9f3a"
             ],
             [
              0.8888888888888888,
              "#fdca26"
             ],
             [
              1,
              "#f0f921"
             ]
            ],
            "type": "histogram2d"
           }
          ],
          "histogram2dcontour": [
           {
            "colorbar": {
             "outlinewidth": 0,
             "ticks": ""
            },
            "colorscale": [
             [
              0,
              "#0d0887"
             ],
             [
              0.1111111111111111,
              "#46039f"
             ],
             [
              0.2222222222222222,
              "#7201a8"
             ],
             [
              0.3333333333333333,
              "#9c179e"
             ],
             [
              0.4444444444444444,
              "#bd3786"
             ],
             [
              0.5555555555555556,
              "#d8576b"
             ],
             [
              0.6666666666666666,
              "#ed7953"
             ],
             [
              0.7777777777777778,
              "#fb9f3a"
             ],
             [
              0.8888888888888888,
              "#fdca26"
             ],
             [
              1,
              "#f0f921"
             ]
            ],
            "type": "histogram2dcontour"
           }
          ],
          "mesh3d": [
           {
            "colorbar": {
             "outlinewidth": 0,
             "ticks": ""
            },
            "type": "mesh3d"
           }
          ],
          "parcoords": [
           {
            "line": {
             "colorbar": {
              "outlinewidth": 0,
              "ticks": ""
             }
            },
            "type": "parcoords"
           }
          ],
          "pie": [
           {
            "automargin": true,
            "type": "pie"
           }
          ],
          "scatter": [
           {
            "marker": {
             "colorbar": {
              "outlinewidth": 0,
              "ticks": ""
             }
            },
            "type": "scatter"
           }
          ],
          "scatter3d": [
           {
            "line": {
             "colorbar": {
              "outlinewidth": 0,
              "ticks": ""
             }
            },
            "marker": {
             "colorbar": {
              "outlinewidth": 0,
              "ticks": ""
             }
            },
            "type": "scatter3d"
           }
          ],
          "scattercarpet": [
           {
            "marker": {
             "colorbar": {
              "outlinewidth": 0,
              "ticks": ""
             }
            },
            "type": "scattercarpet"
           }
          ],
          "scattergeo": [
           {
            "marker": {
             "colorbar": {
              "outlinewidth": 0,
              "ticks": ""
             }
            },
            "type": "scattergeo"
           }
          ],
          "scattergl": [
           {
            "marker": {
             "colorbar": {
              "outlinewidth": 0,
              "ticks": ""
             }
            },
            "type": "scattergl"
           }
          ],
          "scattermapbox": [
           {
            "marker": {
             "colorbar": {
              "outlinewidth": 0,
              "ticks": ""
             }
            },
            "type": "scattermapbox"
           }
          ],
          "scatterpolar": [
           {
            "marker": {
             "colorbar": {
              "outlinewidth": 0,
              "ticks": ""
             }
            },
            "type": "scatterpolar"
           }
          ],
          "scatterpolargl": [
           {
            "marker": {
             "colorbar": {
              "outlinewidth": 0,
              "ticks": ""
             }
            },
            "type": "scatterpolargl"
           }
          ],
          "scatterternary": [
           {
            "marker": {
             "colorbar": {
              "outlinewidth": 0,
              "ticks": ""
             }
            },
            "type": "scatterternary"
           }
          ],
          "surface": [
           {
            "colorbar": {
             "outlinewidth": 0,
             "ticks": ""
            },
            "colorscale": [
             [
              0,
              "#0d0887"
             ],
             [
              0.1111111111111111,
              "#46039f"
             ],
             [
              0.2222222222222222,
              "#7201a8"
             ],
             [
              0.3333333333333333,
              "#9c179e"
             ],
             [
              0.4444444444444444,
              "#bd3786"
             ],
             [
              0.5555555555555556,
              "#d8576b"
             ],
             [
              0.6666666666666666,
              "#ed7953"
             ],
             [
              0.7777777777777778,
              "#fb9f3a"
             ],
             [
              0.8888888888888888,
              "#fdca26"
             ],
             [
              1,
              "#f0f921"
             ]
            ],
            "type": "surface"
           }
          ],
          "table": [
           {
            "cells": {
             "fill": {
              "color": "#EBF0F8"
             },
             "line": {
              "color": "white"
             }
            },
            "header": {
             "fill": {
              "color": "#C8D4E3"
             },
             "line": {
              "color": "white"
             }
            },
            "type": "table"
           }
          ]
         },
         "layout": {
          "annotationdefaults": {
           "arrowcolor": "#2a3f5f",
           "arrowhead": 0,
           "arrowwidth": 1
          },
          "autotypenumbers": "strict",
          "coloraxis": {
           "colorbar": {
            "outlinewidth": 0,
            "ticks": ""
           }
          },
          "colorscale": {
           "diverging": [
            [
             0,
             "#8e0152"
            ],
            [
             0.1,
             "#c51b7d"
            ],
            [
             0.2,
             "#de77ae"
            ],
            [
             0.3,
             "#f1b6da"
            ],
            [
             0.4,
             "#fde0ef"
            ],
            [
             0.5,
             "#f7f7f7"
            ],
            [
             0.6,
             "#e6f5d0"
            ],
            [
             0.7,
             "#b8e186"
            ],
            [
             0.8,
             "#7fbc41"
            ],
            [
             0.9,
             "#4d9221"
            ],
            [
             1,
             "#276419"
            ]
           ],
           "sequential": [
            [
             0,
             "#0d0887"
            ],
            [
             0.1111111111111111,
             "#46039f"
            ],
            [
             0.2222222222222222,
             "#7201a8"
            ],
            [
             0.3333333333333333,
             "#9c179e"
            ],
            [
             0.4444444444444444,
             "#bd3786"
            ],
            [
             0.5555555555555556,
             "#d8576b"
            ],
            [
             0.6666666666666666,
             "#ed7953"
            ],
            [
             0.7777777777777778,
             "#fb9f3a"
            ],
            [
             0.8888888888888888,
             "#fdca26"
            ],
            [
             1,
             "#f0f921"
            ]
           ],
           "sequentialminus": [
            [
             0,
             "#0d0887"
            ],
            [
             0.1111111111111111,
             "#46039f"
            ],
            [
             0.2222222222222222,
             "#7201a8"
            ],
            [
             0.3333333333333333,
             "#9c179e"
            ],
            [
             0.4444444444444444,
             "#bd3786"
            ],
            [
             0.5555555555555556,
             "#d8576b"
            ],
            [
             0.6666666666666666,
             "#ed7953"
            ],
            [
             0.7777777777777778,
             "#fb9f3a"
            ],
            [
             0.8888888888888888,
             "#fdca26"
            ],
            [
             1,
             "#f0f921"
            ]
           ]
          },
          "colorway": [
           "#636efa",
           "#EF553B",
           "#00cc96",
           "#ab63fa",
           "#FFA15A",
           "#19d3f3",
           "#FF6692",
           "#B6E880",
           "#FF97FF",
           "#FECB52"
          ],
          "font": {
           "color": "#2a3f5f"
          },
          "geo": {
           "bgcolor": "white",
           "lakecolor": "white",
           "landcolor": "#E5ECF6",
           "showlakes": true,
           "showland": true,
           "subunitcolor": "white"
          },
          "hoverlabel": {
           "align": "left"
          },
          "hovermode": "closest",
          "mapbox": {
           "style": "light"
          },
          "paper_bgcolor": "white",
          "plot_bgcolor": "#E5ECF6",
          "polar": {
           "angularaxis": {
            "gridcolor": "white",
            "linecolor": "white",
            "ticks": ""
           },
           "bgcolor": "#E5ECF6",
           "radialaxis": {
            "gridcolor": "white",
            "linecolor": "white",
            "ticks": ""
           }
          },
          "scene": {
           "xaxis": {
            "backgroundcolor": "#E5ECF6",
            "gridcolor": "white",
            "gridwidth": 2,
            "linecolor": "white",
            "showbackground": true,
            "ticks": "",
            "zerolinecolor": "white"
           },
           "yaxis": {
            "backgroundcolor": "#E5ECF6",
            "gridcolor": "white",
            "gridwidth": 2,
            "linecolor": "white",
            "showbackground": true,
            "ticks": "",
            "zerolinecolor": "white"
           },
           "zaxis": {
            "backgroundcolor": "#E5ECF6",
            "gridcolor": "white",
            "gridwidth": 2,
            "linecolor": "white",
            "showbackground": true,
            "ticks": "",
            "zerolinecolor": "white"
           }
          },
          "shapedefaults": {
           "line": {
            "color": "#2a3f5f"
           }
          },
          "ternary": {
           "aaxis": {
            "gridcolor": "white",
            "linecolor": "white",
            "ticks": ""
           },
           "baxis": {
            "gridcolor": "white",
            "linecolor": "white",
            "ticks": ""
           },
           "bgcolor": "#E5ECF6",
           "caxis": {
            "gridcolor": "white",
            "linecolor": "white",
            "ticks": ""
           }
          },
          "title": {
           "x": 0.05
          },
          "xaxis": {
           "automargin": true,
           "gridcolor": "white",
           "linecolor": "white",
           "ticks": "",
           "title": {
            "standoff": 15
           },
           "zerolinecolor": "white",
           "zerolinewidth": 2
          },
          "yaxis": {
           "automargin": true,
           "gridcolor": "white",
           "linecolor": "white",
           "ticks": "",
           "title": {
            "standoff": 15
           },
           "zerolinecolor": "white",
           "zerolinewidth": 2
          }
         }
        },
        "title": {
         "text": "Воронка событий по группам"
        }
       }
      }
     },
     "metadata": {},
     "output_type": "display_data"
    }
   ],
   "source": [
    "#Посмотрим, как события распределены внутри групп\n",
    "events_users_groups_count = events_users_groups.groupby(['group','event_name']).agg({'user_id':'nunique'}).sort_values('user_id', ascending=False)\n",
    "#построим воронку событий\n",
    "new_index = ['login', 'product_page\t','product_cart','purchase']\n",
    "fig = go.Figure() \n",
    "for group in [\"A\",\"B\"]:\n",
    "    funnel = events_users_groups_count.query('group == @group')\n",
    "    fig.add_trace(go.Funnel(name = group, y =new_index, x = funnel['user_id'], orientation = \"h\", textinfo = \"value+percent initial\"))\n",
    "    fig.update_layout(title='Воронка событий по группам')\n",
    "fig.show()"
   ]
  },
  {
   "attachments": {},
   "cell_type": "markdown",
   "metadata": {},
   "source": [
    "* Событий в группе А больше по сравнению с группой В, но это не столь важно, потому что нас интересует процентное соотношение\n",
    "* В группе В на кажом шаге меньше процент пользователей, которые перешли на каждое следующее событие, чем в группе А"
   ]
  },
  {
   "attachments": {},
   "cell_type": "markdown",
   "metadata": {},
   "source": [
    "На всех шагах конверсия выше у группы А. \n",
    "* конверсия в просмотр карточек товаров — product_page - выше в группе А(65%); а в группе В - 56%\n",
    "* конверсии в просмотры корзины — product_cart в группе А 32%, а в группе В 28%\n",
    "* конверсия в покупку на данной воронке отображается некорректно"
   ]
  },
  {
   "cell_type": "code",
   "execution_count": 61,
   "metadata": {},
   "outputs": [
    {
     "data": {
      "text/plain": [
       "8.68"
      ]
     },
     "execution_count": 61,
     "metadata": {},
     "output_type": "execute_result"
    }
   ],
   "source": [
    "# посмотрим, сколько % пользователей из Евросоюза \n",
    "round(events_users_groups['user_id'].nunique()/(users.query('region ==\"EU\"').query('first_date <= \"2020-12-21\"')['user_id'].nunique()/100),2)"
   ]
  },
  {
   "attachments": {},
   "cell_type": "markdown",
   "metadata": {},
   "source": [
    "1. По итогу получилось не 15% пользователей из EU, а 8.68%\n",
    "2. Тест остановили на 5 дней раньше, чем указано в ТЗ\n",
    "3. В событии purchase смешаны события покупок из корзины и события покупок в один клик\n",
    "4. 2870 пользователей из тестовых групп не имеют событий"
   ]
  },
  {
   "attachments": {},
   "cell_type": "markdown",
   "metadata": {},
   "source": [
    "Выводы по разделу:\n",
    "* В тестовой группе конверсия стала хуже, по сравнению с контрольной группой\n",
    "* У 2870 пользователей из тестовых групп нет ни одного события, их пришлось откинуть, осталось 3481\n",
    "* В группе А в несколько раз больше событий, чем в группе В\n",
    "* Первые события у пользователей из тестовых групп были разные, больше всего первым событием была покупка, меньше всего просмотры корзины \n",
    "* Количество событий на пользователя распределено неравномерно\n",
    "* Пользователи, которые имеют лайфтайм менее, чем в 14 дней, не искажают пропорции воронки событий, поэтому мы их оставим\n",
    "* В динамике количества событий по дням прослеживается закономерность: до 2020-12-21 количество событий растёт, после 2020-12-21 падает"
   ]
  },
  {
   "attachments": {},
   "cell_type": "markdown",
   "metadata": {},
   "source": [
    "## Оценка результатов А/В-теста "
   ]
  },
  {
   "cell_type": "code",
   "execution_count": 62,
   "metadata": {},
   "outputs": [],
   "source": [
    "# создадим датафреймы с количеством событий по группам\n",
    "conversion_A = pd.DataFrame({\n",
    "    'event_name': ['login', 'product_page', 'product_cart', 'purchase'],\n",
    "    'count_users': [2604, 1685, 782, 833]})\n",
    "\n",
    "conversion_B = pd.DataFrame({\n",
    "    'event_name': ['login', 'product_page', 'product_cart', 'purchase'],\n",
    "    'count_users': [877, 493, 244, 249]})"
   ]
  },
  {
   "cell_type": "code",
   "execution_count": 63,
   "metadata": {},
   "outputs": [],
   "source": [
    "#Рассчитаем конверсию для каждого события в каждой группе и сравним\n",
    "pd.options.mode.chained_assignment = None\n",
    "def calculate_conversion(df):\n",
    "    # создать новый столбец для хранения значения конверсии\n",
    "    df['conversion'] = 0.0\n",
    "\n",
    "    # рассчитать конверсию для каждого события\n",
    "    for i in range(len(df)):\n",
    "        if i == 0:\n",
    "            df['conversion'][i] = 100\n",
    "        else:\n",
    "            first_event_users = df['count_users'][0]\n",
    "            next_event_users = df['count_users'][i]\n",
    "            conversion = next_event_users / first_event_users\n",
    "            df['conversion'][i] = conversion*100\n",
    "\n",
    "    # вернуть датафрейм с посчитанными значениями конверсии\n",
    "    return df\n"
   ]
  },
  {
   "cell_type": "code",
   "execution_count": 64,
   "metadata": {
    "scrolled": false
   },
   "outputs": [
    {
     "data": {
      "text/html": [
       "<div>\n",
       "<style scoped>\n",
       "    .dataframe tbody tr th:only-of-type {\n",
       "        vertical-align: middle;\n",
       "    }\n",
       "\n",
       "    .dataframe tbody tr th {\n",
       "        vertical-align: top;\n",
       "    }\n",
       "\n",
       "    .dataframe thead th {\n",
       "        text-align: right;\n",
       "    }\n",
       "</style>\n",
       "<table border=\"1\" class=\"dataframe\">\n",
       "  <thead>\n",
       "    <tr style=\"text-align: right;\">\n",
       "      <th></th>\n",
       "      <th>event_name</th>\n",
       "      <th>count_users</th>\n",
       "      <th>conversion</th>\n",
       "    </tr>\n",
       "  </thead>\n",
       "  <tbody>\n",
       "    <tr>\n",
       "      <th>0</th>\n",
       "      <td>login</td>\n",
       "      <td>2604</td>\n",
       "      <td>100.000000</td>\n",
       "    </tr>\n",
       "    <tr>\n",
       "      <th>1</th>\n",
       "      <td>product_page</td>\n",
       "      <td>1685</td>\n",
       "      <td>64.708141</td>\n",
       "    </tr>\n",
       "    <tr>\n",
       "      <th>2</th>\n",
       "      <td>product_cart</td>\n",
       "      <td>782</td>\n",
       "      <td>30.030722</td>\n",
       "    </tr>\n",
       "    <tr>\n",
       "      <th>3</th>\n",
       "      <td>purchase</td>\n",
       "      <td>833</td>\n",
       "      <td>31.989247</td>\n",
       "    </tr>\n",
       "  </tbody>\n",
       "</table>\n",
       "</div>"
      ],
      "text/plain": [
       "     event_name  count_users  conversion\n",
       "0         login         2604  100.000000\n",
       "1  product_page         1685   64.708141\n",
       "2  product_cart          782   30.030722\n",
       "3      purchase          833   31.989247"
      ]
     },
     "execution_count": 64,
     "metadata": {},
     "output_type": "execute_result"
    }
   ],
   "source": [
    "conversion_A = calculate_conversion(conversion_A)\n",
    "conversion_B = calculate_conversion(conversion_B)\n",
    "# конверсия группы А\n",
    "conversion_A"
   ]
  },
  {
   "cell_type": "code",
   "execution_count": 65,
   "metadata": {},
   "outputs": [
    {
     "data": {
      "text/html": [
       "<div>\n",
       "<style scoped>\n",
       "    .dataframe tbody tr th:only-of-type {\n",
       "        vertical-align: middle;\n",
       "    }\n",
       "\n",
       "    .dataframe tbody tr th {\n",
       "        vertical-align: top;\n",
       "    }\n",
       "\n",
       "    .dataframe thead th {\n",
       "        text-align: right;\n",
       "    }\n",
       "</style>\n",
       "<table border=\"1\" class=\"dataframe\">\n",
       "  <thead>\n",
       "    <tr style=\"text-align: right;\">\n",
       "      <th></th>\n",
       "      <th>event_name</th>\n",
       "      <th>count_users</th>\n",
       "      <th>conversion</th>\n",
       "    </tr>\n",
       "  </thead>\n",
       "  <tbody>\n",
       "    <tr>\n",
       "      <th>0</th>\n",
       "      <td>login</td>\n",
       "      <td>877</td>\n",
       "      <td>100.000000</td>\n",
       "    </tr>\n",
       "    <tr>\n",
       "      <th>1</th>\n",
       "      <td>product_page</td>\n",
       "      <td>493</td>\n",
       "      <td>56.214367</td>\n",
       "    </tr>\n",
       "    <tr>\n",
       "      <th>2</th>\n",
       "      <td>product_cart</td>\n",
       "      <td>244</td>\n",
       "      <td>27.822121</td>\n",
       "    </tr>\n",
       "    <tr>\n",
       "      <th>3</th>\n",
       "      <td>purchase</td>\n",
       "      <td>249</td>\n",
       "      <td>28.392246</td>\n",
       "    </tr>\n",
       "  </tbody>\n",
       "</table>\n",
       "</div>"
      ],
      "text/plain": [
       "     event_name  count_users  conversion\n",
       "0         login          877  100.000000\n",
       "1  product_page          493   56.214367\n",
       "2  product_cart          244   27.822121\n",
       "3      purchase          249   28.392246"
      ]
     },
     "execution_count": 65,
     "metadata": {},
     "output_type": "execute_result"
    }
   ],
   "source": [
    "# конверсия группы В\n",
    "conversion_B"
   ]
  },
  {
   "cell_type": "code",
   "execution_count": 66,
   "metadata": {
    "scrolled": false
   },
   "outputs": [
    {
     "data": {
      "image/png": "[encoded data removed]",
      "text/plain": [
       "<Figure size 864x504 with 1 Axes>"
      ]
     },
     "metadata": {
      "needs_background": "light"
     },
     "output_type": "display_data"
    }
   ],
   "source": [
    "#построим график для сравнения конверсий\n",
    "# создание объекта осей\n",
    "ax = plt.subplot(1, 1, 1)\n",
    "\n",
    "# построение графика для группы A\n",
    "conversion_A.plot(x='event_name', y='conversion', kind='bar', ax=ax, position=0, width=0.4, color='blue', label='A', grid=True)\n",
    "\n",
    "# построение графика для группы B\n",
    "conversion_B.plot(x='event_name', y='conversion', kind='bar', ax=ax, position=1, width=0.4, color='red', label='B', grid=True)\n",
    "\n",
    "# настройка осей и подписей к графикам\n",
    "plt.xlabel('Тип события')\n",
    "plt.ylabel('Количество пользователей')\n",
    "plt.title('Распределение пользователей по типу события и группам')\n",
    "plt.xticks(rotation=0)\n",
    "plt.legend(title='Группа', bbox_to_anchor=(1, 1))\n",
    "plt.show()\n",
    "\n",
    "plt.show()"
   ]
  },
  {
   "attachments": {},
   "cell_type": "markdown",
   "metadata": {},
   "source": [
    "Сравнили конверсию на каждом шаге, конверсия группы А на каждом шаге выше"
   ]
  },
  {
   "cell_type": "code",
   "execution_count": 67,
   "metadata": {
    "scrolled": true
   },
   "outputs": [],
   "source": [
    "# соединим конверсии групп в один датафрейм\n",
    "merged_df = conversion_A.merge(conversion_B, on='event_name', suffixes=('_A', '_B'))"
   ]
  },
  {
   "cell_type": "code",
   "execution_count": 68,
   "metadata": {
    "scrolled": true
   },
   "outputs": [
    {
     "data": {
      "text/html": [
       "<div>\n",
       "<style scoped>\n",
       "    .dataframe tbody tr th:only-of-type {\n",
       "        vertical-align: middle;\n",
       "    }\n",
       "\n",
       "    .dataframe tbody tr th {\n",
       "        vertical-align: top;\n",
       "    }\n",
       "\n",
       "    .dataframe thead th {\n",
       "        text-align: right;\n",
       "    }\n",
       "</style>\n",
       "<table border=\"1\" class=\"dataframe\">\n",
       "  <thead>\n",
       "    <tr style=\"text-align: right;\">\n",
       "      <th></th>\n",
       "      <th>event_name</th>\n",
       "      <th>count_users_A</th>\n",
       "      <th>conversion_A</th>\n",
       "      <th>count_users_B</th>\n",
       "      <th>conversion_B</th>\n",
       "      <th>diff</th>\n",
       "    </tr>\n",
       "  </thead>\n",
       "  <tbody>\n",
       "    <tr>\n",
       "      <th>0</th>\n",
       "      <td>login</td>\n",
       "      <td>2604</td>\n",
       "      <td>100.000000</td>\n",
       "      <td>877</td>\n",
       "      <td>100.000000</td>\n",
       "      <td>0.000000</td>\n",
       "    </tr>\n",
       "    <tr>\n",
       "      <th>1</th>\n",
       "      <td>product_page</td>\n",
       "      <td>1685</td>\n",
       "      <td>64.708141</td>\n",
       "      <td>493</td>\n",
       "      <td>56.214367</td>\n",
       "      <td>-8.493774</td>\n",
       "    </tr>\n",
       "    <tr>\n",
       "      <th>2</th>\n",
       "      <td>product_cart</td>\n",
       "      <td>782</td>\n",
       "      <td>30.030722</td>\n",
       "      <td>244</td>\n",
       "      <td>27.822121</td>\n",
       "      <td>-2.208601</td>\n",
       "    </tr>\n",
       "    <tr>\n",
       "      <th>3</th>\n",
       "      <td>purchase</td>\n",
       "      <td>833</td>\n",
       "      <td>31.989247</td>\n",
       "      <td>249</td>\n",
       "      <td>28.392246</td>\n",
       "      <td>-3.597001</td>\n",
       "    </tr>\n",
       "  </tbody>\n",
       "</table>\n",
       "</div>"
      ],
      "text/plain": [
       "     event_name  count_users_A  conversion_A  count_users_B  conversion_B  \\\n",
       "0         login           2604    100.000000            877    100.000000   \n",
       "1  product_page           1685     64.708141            493     56.214367   \n",
       "2  product_cart            782     30.030722            244     27.822121   \n",
       "3      purchase            833     31.989247            249     28.392246   \n",
       "\n",
       "       diff  \n",
       "0  0.000000  \n",
       "1 -8.493774  \n",
       "2 -2.208601  \n",
       "3 -3.597001  "
      ]
     },
     "execution_count": 68,
     "metadata": {},
     "output_type": "execute_result"
    }
   ],
   "source": [
    "#найдём разницу между конверсией группы А и группы В\n",
    "merged_df['diff'] = merged_df.apply(lambda row: row['conversion_B'] - row['conversion_A'], axis=1)\n",
    "merged_df"
   ]
  },
  {
   "attachments": {},
   "cell_type": "markdown",
   "metadata": {},
   "source": [
    "На каждом шаге конверсия в группе В понижалась"
   ]
  },
  {
   "cell_type": "markdown",
   "metadata": {},
   "source": [
    "## Проверка гипотез"
   ]
  },
  {
   "attachments": {},
   "cell_type": "markdown",
   "metadata": {},
   "source": [
    "Есть 3 гипотезы:\n",
    "\n",
    "1. Группы демонстрируют разную конверсию в просмотр карточек товаров — product_page\n",
    "\n",
    "H0: группы демонстрируют одинаковую конверсию в просмотры контактов\n",
    "\n",
    "H1: группы демонстрируют разную конверсию в просмотры контактов\n",
    "\n",
    "2. Группы демонстрируют разную конверсию в просмотр корзины — product_cart\n",
    "\n",
    "H0: группы демонстрируют одинаковую конверсию в просмотры контактов\n",
    "\n",
    "H1: группы демонстрируют разную конверсию в просмотры контактов\n",
    "\n",
    "3. Группы демонстрируют разную конверсию в просмотр корзины — purchase\n",
    "\n",
    "H0: группы демонстрируют одинаковую конверсию в просмотры контактов\n",
    "\n",
    "H1: группы демонстрируют разную конверсию в просмотры контактов"
   ]
  },
  {
   "cell_type": "code",
   "execution_count": 69,
   "metadata": {},
   "outputs": [],
   "source": [
    "def z_test(successes, trials):  \n",
    "    alpha = 0.05 # стандартный уровень значимости\n",
    "    n = 3 # число сравнений\n",
    "    alpha_corr = alpha/n # скорректированный уровень значимости\n",
    "\n",
    "    # пропорция успехов в первой группе:\n",
    "    p1 = successes[0]/trials[0]\n",
    "\n",
    "    # пропорция успехов во второй группе:\n",
    "    p2 = successes[1]/trials[1]\n",
    "    \n",
    "    print(successes[0], successes[1], trials[0],trials[1])\n",
    "\n",
    "    # пропорция успехов в комбинированном датасете:\n",
    "    p_combined = (successes[0] + successes[1]) / (trials[0] + trials[1])\n",
    "\n",
    "    # разница пропорций в датасетах\n",
    "    difference = p1 - p2\n",
    "\n",
    "    # считаем статистику в ст.отклонениях стандартного нормального распределения\n",
    "    z_value = difference / mth.sqrt(p_combined * (1 - p_combined) * (1/trials[0] + 1/trials[1]))\n",
    "\n",
    "    # задаем стандартное нормальное распределение (среднее 0, ст.отклонение 1)\n",
    "    distr = st.norm(0, 1) \n",
    "\n",
    "    p_value = (1 - distr.cdf(abs(z_value))) * 2\n",
    "\n",
    "    print('p-значение: ', p_value)\n",
    "\n",
    "    if p_value < alpha_corr:\n",
    "        print('Отвергаем нулевую гипотезу: между долями есть значимая разница')\n",
    "    else:\n",
    "        print('Не получилось отвергнуть нулевую гипотезу, нет оснований считать доли разными')\n"
   ]
  },
  {
   "cell_type": "code",
   "execution_count": 70,
   "metadata": {},
   "outputs": [
    {
     "name": "stdout",
     "output_type": "stream",
     "text": [
      "1685 493 2604 877\n",
      "p-значение:  6.942739359416805e-06\n",
      "Отвергаем нулевую гипотезу: между долями есть значимая разница\n",
      "782 244 2604 877\n",
      "p-значение:  0.21469192029582396\n",
      "Не получилось отвергнуть нулевую гипотезу, нет оснований считать доли разными\n",
      "833 249 2604 877\n",
      "p-значение:  0.04652482738393027\n",
      "Не получилось отвергнуть нулевую гипотезу, нет оснований считать доли разными\n"
     ]
    }
   ],
   "source": [
    "#создадим цикл для подстановки переменных\n",
    "# список индексов для цикла\n",
    "indexes = [1, 2, 3]\n",
    "\n",
    "# цикл для вычисления Z-критерия для каждой пары групп\n",
    "for i in indexes:\n",
    "    successes = merged_df['count_users_A'][i], merged_df['count_users_B'][i]\n",
    "    trials = merged_df['count_users_A'][0], merged_df['count_users_B'][0]\n",
    "    z_test(successes, trials)\n"
   ]
  },
  {
   "cell_type": "code",
   "execution_count": 71,
   "metadata": {
    "scrolled": false
   },
   "outputs": [
    {
     "data": {
      "image/png": "[encoded data removed]",
      "text/plain": [
       "<Figure size 864x504 with 1 Axes>"
      ]
     },
     "metadata": {
      "needs_background": "light"
     },
     "output_type": "display_data"
    },
    {
     "data": {
      "text/plain": [
       "<Figure size 864x504 with 0 Axes>"
      ]
     },
     "metadata": {},
     "output_type": "display_data"
    }
   ],
   "source": [
    "successes = [833, 249]\n",
    "trials =[782, 244]\n",
    "group_names = ['Group A', 'Group B']\n",
    "\n",
    "fig, ax = plt.subplots()\n",
    "\n",
    "ax.bar(group_names, successes, width=0.4, label='Successes', color='blue')\n",
    "ax.bar([i + 0.4 for i in range(len(group_names))], trials, width=0.4, label='Trials', color='gray')\n",
    "\n",
    "# добавляем метки над каждым столбцом\n",
    "for i, v in enumerate(successes):\n",
    "    ax.text(i-0.1, v+20, str(v)+'\\n({:.1f}%)'.format(v/trials[i]*100), color='black', fontsize=10, ha='center')\n",
    "for i, v in enumerate(trials):\n",
    "    ax.text(i+0.3, v-40, str(v)+'\\n({:.1f}%)'.format((v-successes[i])/v*100), color='black', fontsize=10, ha='center')\n",
    "\n",
    "ax.set_ylabel('Count')\n",
    "ax.set_title('Comparison of Successes and Trials')\n",
    "ax.legend()\n",
    "\n",
    "plt.show()\n",
    "plt.savefig('my_plot.png', bbox_inches='tight')\n"
   ]
  },
  {
   "attachments": {},
   "cell_type": "markdown",
   "metadata": {},
   "source": [
    "Конверсию в покупки не смогли сравнить, так как у приложения есть опция \"покупка в один клик\" и эти события смешиваются с событиями о покупках из корзины. В группе А доля пользователей, сделавших покупку выше, чем в группе В на 4.5%"
   ]
  },
  {
   "attachments": {},
   "cell_type": "markdown",
   "metadata": {},
   "source": [
    "## Выводы"
   ]
  },
  {
   "attachments": {},
   "cell_type": "markdown",
   "metadata": {},
   "source": [
    "* В ходе работы, мы сделали предобработку данных, провели исследовательский анализ, оценили корректность проведения А/В-теста и оценили его результаты.\n",
    "* Дата окончания теста не совпадает с указанной в ТЗ.\n",
    "* В целом, тест проведён некорректно\n",
    "* По итогу получилось не 15% пользователей из EU, а 5.93%\n",
    "* После обработки данных, в тестовых группах осталось 3481 уникальных пользователей\n",
    "* 2870 пользователей из тестовых групп не имеют событий\n",
    "* В группе А в несколько раз больше пользователей и событий, чем в группе В\n",
    "* В событии purchase смешаны события покупок из корзины и события покупок в один клик\n",
    "* Первые события у пользователей из тестовых групп были разные, больше всего первым событием была покупка, меньше всего просмотры корзины\n",
    "* Среднее количество событий на пользователя - 7.\n",
    "* Внедрение улучшенной рекомендательной системы не привело к ожидаемому результату, напротив, конверсия в тестовой группе понижалась на каждом шаге относительно контрольной группы"
   ]
  },
  {
   "attachments": {},
   "cell_type": "markdown",
   "metadata": {},
   "source": [
    "<div class=\"alert alert-info\"> <b></b> Новая рекомендательная система оказалась не эффективной, вместо повышения конверсии, получили её понижение. \n",
    "    \n",
    "Нужно учитывать, что тест проведён не совсем корректно: \n",
    "    \n",
    "    1. наша тестовая группа пересекалась с другой тестовой группой(о которой мы ничего не знаем), \n",
    "    2. Тест проводился меньшее количество дней, чем было запланировано \n",
    "    3. В событии purchase смешаны события покупок из корзины и события покупок в один клик.\n",
    "    4. Вместо 15% пользователей из EU, получилось 8%\n",
    "\n",
    "По этим причинам, первая рекомендация - провести корректный тест; вторая рекомендация - искать новые пути повышения конверсии</div>"
   ]
  }
 ],
 "metadata": {
  "ExecuteTimeLog": [
   {
    "duration": 412,
    "start_time": "2023-02-19T10:38:00.508Z"
   },
   {
    "duration": 75,
    "start_time": "2023-02-19T10:40:29.952Z"
   },
   {
    "duration": 268,
    "start_time": "2023-02-19T10:41:23.797Z"
   },
   {
    "duration": 812,
    "start_time": "2023-02-19T10:43:04.000Z"
   },
   {
    "duration": 16,
    "start_time": "2023-02-19T10:43:33.136Z"
   },
   {
    "duration": 34,
    "start_time": "2023-02-19T10:44:17.534Z"
   },
   {
    "duration": 27,
    "start_time": "2023-02-19T10:45:35.904Z"
   },
   {
    "duration": 633,
    "start_time": "2023-02-19T10:45:57.039Z"
   },
   {
    "duration": 24,
    "start_time": "2023-02-19T10:46:03.295Z"
   },
   {
    "duration": 116,
    "start_time": "2023-02-19T10:48:33.424Z"
   },
   {
    "duration": 96,
    "start_time": "2023-02-19T10:48:46.852Z"
   },
   {
    "duration": 95,
    "start_time": "2023-02-19T10:48:52.615Z"
   },
   {
    "duration": 99,
    "start_time": "2023-02-19T10:49:09.633Z"
   },
   {
    "duration": 93,
    "start_time": "2023-02-19T10:53:02.516Z"
   },
   {
    "duration": 112,
    "start_time": "2023-02-19T10:53:13.462Z"
   },
   {
    "duration": 425,
    "start_time": "2023-02-19T10:53:55.030Z"
   },
   {
    "duration": 34,
    "start_time": "2023-02-19T10:58:52.309Z"
   },
   {
    "duration": 59,
    "start_time": "2023-02-19T10:59:04.388Z"
   },
   {
    "duration": 59,
    "start_time": "2023-02-19T10:59:17.687Z"
   },
   {
    "duration": 1266,
    "start_time": "2023-02-19T11:01:04.448Z"
   },
   {
    "duration": 69,
    "start_time": "2023-02-19T11:01:21.646Z"
   },
   {
    "duration": 67,
    "start_time": "2023-02-19T11:02:18.502Z"
   },
   {
    "duration": 71,
    "start_time": "2023-02-19T11:02:51.023Z"
   },
   {
    "duration": 86,
    "start_time": "2023-02-19T11:05:10.030Z"
   },
   {
    "duration": 81,
    "start_time": "2023-02-19T11:05:29.575Z"
   },
   {
    "duration": 68,
    "start_time": "2023-02-19T11:05:34.774Z"
   },
   {
    "duration": 86,
    "start_time": "2023-02-19T11:12:29.750Z"
   },
   {
    "duration": 71,
    "start_time": "2023-02-19T11:12:41.998Z"
   },
   {
    "duration": 94,
    "start_time": "2023-02-19T11:13:40.190Z"
   },
   {
    "duration": 51,
    "start_time": "2023-02-19T11:16:11.997Z"
   },
   {
    "duration": 60,
    "start_time": "2023-02-19T11:16:22.708Z"
   },
   {
    "duration": 1246,
    "start_time": "2023-02-19T11:17:28.621Z"
   },
   {
    "duration": 1225,
    "start_time": "2023-02-19T11:17:59.693Z"
   },
   {
    "duration": 78,
    "start_time": "2023-02-19T11:18:17.030Z"
   },
   {
    "duration": 1175,
    "start_time": "2023-02-19T11:18:21.838Z"
   },
   {
    "duration": 32,
    "start_time": "2023-02-19T11:18:34.327Z"
   },
   {
    "duration": 42,
    "start_time": "2023-02-19T11:18:59.756Z"
   },
   {
    "duration": 39,
    "start_time": "2023-02-19T11:19:13.824Z"
   },
   {
    "duration": 38,
    "start_time": "2023-02-19T11:19:25.988Z"
   },
   {
    "duration": 123,
    "start_time": "2023-02-19T11:19:33.133Z"
   },
   {
    "duration": 76,
    "start_time": "2023-02-19T11:21:56.933Z"
   },
   {
    "duration": 39,
    "start_time": "2023-02-19T11:23:39.086Z"
   },
   {
    "duration": 40,
    "start_time": "2023-02-19T11:23:49.364Z"
   },
   {
    "duration": 35,
    "start_time": "2023-02-19T11:24:08.227Z"
   },
   {
    "duration": 39,
    "start_time": "2023-02-19T11:24:17.630Z"
   },
   {
    "duration": 44,
    "start_time": "2023-02-19T11:24:26.892Z"
   },
   {
    "duration": 15,
    "start_time": "2023-02-19T11:24:47.037Z"
   },
   {
    "duration": 9,
    "start_time": "2023-02-19T11:25:39.145Z"
   },
   {
    "duration": 9,
    "start_time": "2023-02-19T11:25:44.523Z"
   },
   {
    "duration": 8,
    "start_time": "2023-02-19T11:26:00.653Z"
   },
   {
    "duration": 8,
    "start_time": "2023-02-19T11:26:03.595Z"
   },
   {
    "duration": 13,
    "start_time": "2023-02-19T11:26:17.518Z"
   },
   {
    "duration": 12,
    "start_time": "2023-02-19T11:26:30.523Z"
   },
   {
    "duration": 9,
    "start_time": "2023-02-19T11:26:40.627Z"
   },
   {
    "duration": 45,
    "start_time": "2023-02-19T11:32:47.692Z"
   },
   {
    "duration": 10,
    "start_time": "2023-02-19T11:37:25.138Z"
   },
   {
    "duration": 10,
    "start_time": "2023-02-19T11:38:33.049Z"
   },
   {
    "duration": 10,
    "start_time": "2023-02-19T11:38:53.225Z"
   },
   {
    "duration": 12,
    "start_time": "2023-02-19T11:42:17.698Z"
   },
   {
    "duration": 5,
    "start_time": "2023-02-19T11:42:38.855Z"
   },
   {
    "duration": 9,
    "start_time": "2023-02-19T11:43:27.762Z"
   },
   {
    "duration": 7,
    "start_time": "2023-02-19T11:43:49.178Z"
   },
   {
    "duration": 9,
    "start_time": "2023-02-19T11:44:43.264Z"
   },
   {
    "duration": 11,
    "start_time": "2023-02-19T11:44:52.489Z"
   },
   {
    "duration": 35,
    "start_time": "2023-02-19T11:47:12.770Z"
   },
   {
    "duration": 40,
    "start_time": "2023-02-19T11:47:31.496Z"
   },
   {
    "duration": 38,
    "start_time": "2023-02-19T11:47:56.610Z"
   },
   {
    "duration": 135,
    "start_time": "2023-02-19T11:58:57.383Z"
   },
   {
    "duration": 73,
    "start_time": "2023-02-19T11:59:08.815Z"
   },
   {
    "duration": 10,
    "start_time": "2023-02-19T12:03:49.279Z"
   },
   {
    "duration": 15,
    "start_time": "2023-02-19T12:05:01.438Z"
   },
   {
    "duration": 16,
    "start_time": "2023-02-19T12:05:10.495Z"
   },
   {
    "duration": 15,
    "start_time": "2023-02-19T12:05:19.353Z"
   },
   {
    "duration": 15,
    "start_time": "2023-02-19T12:05:52.902Z"
   },
   {
    "duration": 24,
    "start_time": "2023-02-19T12:07:22.103Z"
   },
   {
    "duration": 21,
    "start_time": "2023-02-19T12:26:17.648Z"
   },
   {
    "duration": 26,
    "start_time": "2023-02-19T12:26:21.791Z"
   },
   {
    "duration": 18,
    "start_time": "2023-02-19T12:33:27.300Z"
   },
   {
    "duration": 36,
    "start_time": "2023-02-19T12:36:00.318Z"
   },
   {
    "duration": 15,
    "start_time": "2023-02-19T15:33:44.096Z"
   },
   {
    "duration": 3,
    "start_time": "2023-02-19T15:33:52.495Z"
   },
   {
    "duration": 4,
    "start_time": "2023-02-19T15:34:05.628Z"
   },
   {
    "duration": 4,
    "start_time": "2023-02-19T15:34:10.411Z"
   },
   {
    "duration": 69,
    "start_time": "2023-02-19T15:35:58.546Z"
   },
   {
    "duration": 4,
    "start_time": "2023-02-19T15:36:01.619Z"
   },
   {
    "duration": 4,
    "start_time": "2023-02-19T15:36:44.528Z"
   },
   {
    "duration": 4,
    "start_time": "2023-02-19T15:37:03.169Z"
   },
   {
    "duration": 4,
    "start_time": "2023-02-19T15:38:24.429Z"
   },
   {
    "duration": 4,
    "start_time": "2023-02-19T15:38:50.173Z"
   },
   {
    "duration": 46,
    "start_time": "2023-02-19T15:46:10.081Z"
   },
   {
    "duration": 379,
    "start_time": "2023-02-19T15:46:14.894Z"
   },
   {
    "duration": 1071,
    "start_time": "2023-02-19T15:46:16.225Z"
   },
   {
    "duration": 26,
    "start_time": "2023-02-19T15:46:17.298Z"
   },
   {
    "duration": 449,
    "start_time": "2023-02-19T15:46:17.326Z"
   },
   {
    "duration": 93,
    "start_time": "2023-02-19T15:46:17.777Z"
   },
   {
    "duration": 14,
    "start_time": "2023-02-19T15:46:17.872Z"
   },
   {
    "duration": 3,
    "start_time": "2023-02-19T15:46:17.888Z"
   },
   {
    "duration": 6,
    "start_time": "2023-02-19T15:46:17.966Z"
   },
   {
    "duration": 20,
    "start_time": "2023-02-19T15:46:18.069Z"
   },
   {
    "duration": 38,
    "start_time": "2023-02-19T15:46:18.481Z"
   },
   {
    "duration": 4,
    "start_time": "2023-02-19T15:46:18.683Z"
   },
   {
    "duration": 5,
    "start_time": "2023-02-19T15:46:19.094Z"
   },
   {
    "duration": 20,
    "start_time": "2023-02-19T15:46:19.215Z"
   },
   {
    "duration": 5,
    "start_time": "2023-02-19T15:46:20.117Z"
   },
   {
    "duration": 213,
    "start_time": "2023-02-19T15:46:59.747Z"
   },
   {
    "duration": 3,
    "start_time": "2023-02-19T15:48:22.910Z"
   },
   {
    "duration": 377,
    "start_time": "2023-02-19T15:48:25.897Z"
   },
   {
    "duration": 657,
    "start_time": "2023-02-19T15:48:27.500Z"
   },
   {
    "duration": 30,
    "start_time": "2023-02-19T15:48:28.159Z"
   },
   {
    "duration": 443,
    "start_time": "2023-02-19T15:48:28.190Z"
   },
   {
    "duration": 77,
    "start_time": "2023-02-19T15:48:28.640Z"
   },
   {
    "duration": 11,
    "start_time": "2023-02-19T15:48:28.854Z"
   },
   {
    "duration": 3,
    "start_time": "2023-02-19T15:48:29.250Z"
   },
   {
    "duration": 5,
    "start_time": "2023-02-19T15:48:29.455Z"
   },
   {
    "duration": 19,
    "start_time": "2023-02-19T15:48:29.657Z"
   },
   {
    "duration": 39,
    "start_time": "2023-02-19T15:48:29.964Z"
   },
   {
    "duration": 4,
    "start_time": "2023-02-19T15:48:30.167Z"
   },
   {
    "duration": 3,
    "start_time": "2023-02-19T15:48:30.472Z"
   },
   {
    "duration": 17,
    "start_time": "2023-02-19T15:48:30.678Z"
   },
   {
    "duration": 2,
    "start_time": "2023-02-19T15:48:34.414Z"
   },
   {
    "duration": 59,
    "start_time": "2023-02-19T15:53:22.110Z"
   },
   {
    "duration": 71,
    "start_time": "2023-02-19T15:54:01.749Z"
   },
   {
    "duration": 19,
    "start_time": "2023-02-19T15:56:03.903Z"
   },
   {
    "duration": 192,
    "start_time": "2023-02-19T15:57:09.505Z"
   },
   {
    "duration": 207,
    "start_time": "2023-02-19T15:57:22.956Z"
   },
   {
    "duration": 206,
    "start_time": "2023-02-19T15:57:32.377Z"
   },
   {
    "duration": 209,
    "start_time": "2023-02-19T15:57:46.012Z"
   },
   {
    "duration": 39,
    "start_time": "2023-02-19T15:58:03.814Z"
   },
   {
    "duration": 198,
    "start_time": "2023-02-19T15:58:25.732Z"
   },
   {
    "duration": 202,
    "start_time": "2023-02-19T15:58:42.316Z"
   },
   {
    "duration": 198,
    "start_time": "2023-02-19T15:58:56.448Z"
   },
   {
    "duration": 40,
    "start_time": "2023-02-19T15:59:31.264Z"
   },
   {
    "duration": 200,
    "start_time": "2023-02-19T16:00:02.908Z"
   },
   {
    "duration": 391,
    "start_time": "2023-02-19T16:00:12.736Z"
   },
   {
    "duration": 211,
    "start_time": "2023-02-19T16:00:22.771Z"
   },
   {
    "duration": 299,
    "start_time": "2023-02-19T16:01:08.136Z"
   },
   {
    "duration": 202,
    "start_time": "2023-02-19T16:01:17.843Z"
   },
   {
    "duration": 149,
    "start_time": "2023-02-19T16:01:23.804Z"
   },
   {
    "duration": 161,
    "start_time": "2023-02-19T16:02:01.268Z"
   },
   {
    "duration": 152,
    "start_time": "2023-02-19T16:02:34.253Z"
   },
   {
    "duration": 170,
    "start_time": "2023-02-19T16:02:44.231Z"
   },
   {
    "duration": 173,
    "start_time": "2023-02-19T16:03:51.975Z"
   },
   {
    "duration": 3,
    "start_time": "2023-02-19T16:03:56.085Z"
   },
   {
    "duration": 621,
    "start_time": "2023-02-19T16:03:56.089Z"
   },
   {
    "duration": 32,
    "start_time": "2023-02-19T16:03:56.713Z"
   },
   {
    "duration": 436,
    "start_time": "2023-02-19T16:03:56.747Z"
   },
   {
    "duration": 94,
    "start_time": "2023-02-19T16:03:57.185Z"
   },
   {
    "duration": 9,
    "start_time": "2023-02-19T16:03:57.281Z"
   },
   {
    "duration": 19,
    "start_time": "2023-02-19T16:03:57.292Z"
   },
   {
    "duration": 16,
    "start_time": "2023-02-19T16:03:57.313Z"
   },
   {
    "duration": 26,
    "start_time": "2023-02-19T16:03:57.330Z"
   },
   {
    "duration": 192,
    "start_time": "2023-02-19T16:03:57.357Z"
   },
   {
    "duration": 4,
    "start_time": "2023-02-19T16:03:57.552Z"
   },
   {
    "duration": 11,
    "start_time": "2023-02-19T16:03:57.557Z"
   },
   {
    "duration": 25,
    "start_time": "2023-02-19T16:03:57.570Z"
   },
   {
    "duration": 65,
    "start_time": "2023-02-19T16:03:57.597Z"
   },
   {
    "duration": 11,
    "start_time": "2023-02-19T16:03:57.664Z"
   },
   {
    "duration": 0,
    "start_time": "2023-02-19T16:03:57.677Z"
   },
   {
    "duration": 0,
    "start_time": "2023-02-19T16:03:57.678Z"
   },
   {
    "duration": 0,
    "start_time": "2023-02-19T16:03:57.679Z"
   },
   {
    "duration": 0,
    "start_time": "2023-02-19T16:03:57.681Z"
   },
   {
    "duration": 0,
    "start_time": "2023-02-19T16:03:57.682Z"
   },
   {
    "duration": 0,
    "start_time": "2023-02-19T16:03:57.683Z"
   },
   {
    "duration": 0,
    "start_time": "2023-02-19T16:03:57.684Z"
   },
   {
    "duration": 53,
    "start_time": "2023-02-19T16:04:28.328Z"
   },
   {
    "duration": 46,
    "start_time": "2023-02-19T16:06:44.428Z"
   },
   {
    "duration": 48,
    "start_time": "2023-02-19T16:07:10.633Z"
   },
   {
    "duration": 65,
    "start_time": "2023-02-19T16:09:49.124Z"
   },
   {
    "duration": 201,
    "start_time": "2023-02-19T16:10:21.610Z"
   },
   {
    "duration": 52,
    "start_time": "2023-02-19T16:11:05.028Z"
   },
   {
    "duration": 44,
    "start_time": "2023-02-19T16:11:23.561Z"
   },
   {
    "duration": 47,
    "start_time": "2023-02-19T16:11:45.683Z"
   },
   {
    "duration": 49,
    "start_time": "2023-02-19T16:11:52.646Z"
   },
   {
    "duration": 45,
    "start_time": "2023-02-19T16:12:12.713Z"
   },
   {
    "duration": 14,
    "start_time": "2023-02-19T16:13:08.833Z"
   },
   {
    "duration": 3,
    "start_time": "2023-02-19T16:13:17.635Z"
   },
   {
    "duration": 627,
    "start_time": "2023-02-19T16:13:18.405Z"
   },
   {
    "duration": 35,
    "start_time": "2023-02-19T16:13:19.034Z"
   },
   {
    "duration": 475,
    "start_time": "2023-02-19T16:13:19.274Z"
   },
   {
    "duration": 86,
    "start_time": "2023-02-19T16:13:20.196Z"
   },
   {
    "duration": 10,
    "start_time": "2023-02-19T16:13:20.502Z"
   },
   {
    "duration": 3,
    "start_time": "2023-02-19T16:13:20.912Z"
   },
   {
    "duration": 5,
    "start_time": "2023-02-19T16:13:21.117Z"
   },
   {
    "duration": 19,
    "start_time": "2023-02-19T16:13:21.238Z"
   },
   {
    "duration": 215,
    "start_time": "2023-02-19T16:13:21.629Z"
   },
   {
    "duration": 45,
    "start_time": "2023-02-19T16:13:21.846Z"
   },
   {
    "duration": 4,
    "start_time": "2023-02-19T16:13:21.936Z"
   },
   {
    "duration": 3,
    "start_time": "2023-02-19T16:13:28.596Z"
   },
   {
    "duration": 19,
    "start_time": "2023-02-19T16:13:28.806Z"
   },
   {
    "duration": 52,
    "start_time": "2023-02-19T16:13:30.129Z"
   },
   {
    "duration": 10,
    "start_time": "2023-02-19T16:13:31.050Z"
   },
   {
    "duration": 244,
    "start_time": "2023-02-19T16:14:05.151Z"
   },
   {
    "duration": 152,
    "start_time": "2023-02-19T16:19:41.228Z"
   },
   {
    "duration": 189,
    "start_time": "2023-02-19T16:19:53.004Z"
   },
   {
    "duration": 9,
    "start_time": "2023-02-19T16:20:43.692Z"
   },
   {
    "duration": 14,
    "start_time": "2023-02-19T16:21:13.593Z"
   },
   {
    "duration": 20,
    "start_time": "2023-02-19T16:25:38.557Z"
   },
   {
    "duration": 191,
    "start_time": "2023-02-19T16:28:10.261Z"
   },
   {
    "duration": 211,
    "start_time": "2023-02-19T16:28:16.508Z"
   },
   {
    "duration": 183,
    "start_time": "2023-02-19T16:28:20.501Z"
   },
   {
    "duration": 10,
    "start_time": "2023-02-19T16:29:14.613Z"
   },
   {
    "duration": 192,
    "start_time": "2023-02-19T16:29:23.354Z"
   },
   {
    "duration": 81,
    "start_time": "2023-02-19T16:29:23.747Z"
   },
   {
    "duration": 11,
    "start_time": "2023-02-19T16:29:24.193Z"
   },
   {
    "duration": 3,
    "start_time": "2023-02-19T16:29:24.501Z"
   },
   {
    "duration": 6,
    "start_time": "2023-02-19T16:29:24.697Z"
   },
   {
    "duration": 19,
    "start_time": "2023-02-19T16:29:24.812Z"
   },
   {
    "duration": 372,
    "start_time": "2023-02-19T16:29:25.218Z"
   },
   {
    "duration": 58,
    "start_time": "2023-02-19T16:29:25.593Z"
   },
   {
    "duration": 4,
    "start_time": "2023-02-19T16:29:25.653Z"
   },
   {
    "duration": 2,
    "start_time": "2023-02-19T16:29:25.876Z"
   },
   {
    "duration": 17,
    "start_time": "2023-02-19T16:29:26.064Z"
   },
   {
    "duration": 54,
    "start_time": "2023-02-19T16:29:27.062Z"
   },
   {
    "duration": 275,
    "start_time": "2023-02-19T16:29:27.165Z"
   },
   {
    "duration": 17,
    "start_time": "2023-02-19T16:29:27.442Z"
   },
   {
    "duration": 14,
    "start_time": "2023-02-19T16:29:27.683Z"
   },
   {
    "duration": 2,
    "start_time": "2023-02-19T16:29:27.881Z"
   },
   {
    "duration": 551,
    "start_time": "2023-02-19T16:29:41.249Z"
   },
   {
    "duration": 234,
    "start_time": "2023-02-19T16:31:54.006Z"
   },
   {
    "duration": 223,
    "start_time": "2023-02-19T16:32:17.253Z"
   },
   {
    "duration": 304,
    "start_time": "2023-02-19T16:32:38.857Z"
   },
   {
    "duration": 236,
    "start_time": "2023-02-19T16:33:01.795Z"
   },
   {
    "duration": 19,
    "start_time": "2023-02-19T16:39:46.896Z"
   },
   {
    "duration": 465,
    "start_time": "2023-02-19T16:44:55.210Z"
   },
   {
    "duration": 600,
    "start_time": "2023-02-19T16:54:29.686Z"
   },
   {
    "duration": 26,
    "start_time": "2023-02-19T16:54:30.288Z"
   },
   {
    "duration": 419,
    "start_time": "2023-02-19T16:54:30.403Z"
   },
   {
    "duration": 216,
    "start_time": "2023-02-19T16:54:30.824Z"
   },
   {
    "duration": 84,
    "start_time": "2023-02-19T16:54:31.107Z"
   },
   {
    "duration": 15,
    "start_time": "2023-02-19T16:54:31.449Z"
   },
   {
    "duration": 2,
    "start_time": "2023-02-19T16:54:31.850Z"
   },
   {
    "duration": 6,
    "start_time": "2023-02-19T16:54:32.052Z"
   },
   {
    "duration": 20,
    "start_time": "2023-02-19T16:54:32.152Z"
   },
   {
    "duration": 350,
    "start_time": "2023-02-19T16:54:32.555Z"
   },
   {
    "duration": 48,
    "start_time": "2023-02-19T16:54:32.907Z"
   },
   {
    "duration": 5,
    "start_time": "2023-02-19T16:54:35.215Z"
   },
   {
    "duration": 2,
    "start_time": "2023-02-19T16:54:35.625Z"
   },
   {
    "duration": 19,
    "start_time": "2023-02-19T16:54:35.829Z"
   },
   {
    "duration": 57,
    "start_time": "2023-02-19T16:54:37.059Z"
   },
   {
    "duration": 251,
    "start_time": "2023-02-19T16:54:37.263Z"
   },
   {
    "duration": 21,
    "start_time": "2023-02-19T16:54:37.571Z"
   },
   {
    "duration": 246,
    "start_time": "2023-02-19T16:54:37.980Z"
   },
   {
    "duration": 266,
    "start_time": "2023-02-19T16:54:38.229Z"
   },
   {
    "duration": 249,
    "start_time": "2023-02-19T16:54:38.497Z"
   },
   {
    "duration": 2,
    "start_time": "2023-02-19T16:54:38.748Z"
   },
   {
    "duration": 20,
    "start_time": "2023-02-19T16:54:39.619Z"
   },
   {
    "duration": 663,
    "start_time": "2023-02-19T17:25:45.065Z"
   },
   {
    "duration": 27,
    "start_time": "2023-02-19T17:25:45.765Z"
   },
   {
    "duration": 211,
    "start_time": "2023-02-19T17:26:12.082Z"
   },
   {
    "duration": 78,
    "start_time": "2023-02-19T17:29:45.894Z"
   },
   {
    "duration": 162,
    "start_time": "2023-02-19T17:38:03.873Z"
   },
   {
    "duration": 237,
    "start_time": "2023-02-19T17:38:27.216Z"
   },
   {
    "duration": 324,
    "start_time": "2023-02-19T17:38:36.019Z"
   },
   {
    "duration": 26,
    "start_time": "2023-02-19T17:38:38.692Z"
   },
   {
    "duration": 34,
    "start_time": "2023-02-19T17:39:27.737Z"
   },
   {
    "duration": 28,
    "start_time": "2023-02-19T17:40:34.002Z"
   },
   {
    "duration": 288,
    "start_time": "2023-02-19T17:40:55.901Z"
   },
   {
    "duration": 30,
    "start_time": "2023-02-19T17:40:56.515Z"
   },
   {
    "duration": 664,
    "start_time": "2023-02-19T17:41:29.899Z"
   },
   {
    "duration": 26,
    "start_time": "2023-02-19T17:41:49.764Z"
   },
   {
    "duration": 26,
    "start_time": "2023-02-19T17:42:33.212Z"
   },
   {
    "duration": 50,
    "start_time": "2023-02-19T17:50:17.674Z"
   },
   {
    "duration": 17,
    "start_time": "2023-02-19T17:50:26.681Z"
   },
   {
    "duration": 16,
    "start_time": "2023-02-19T17:50:44.703Z"
   },
   {
    "duration": 15,
    "start_time": "2023-02-19T17:50:57.606Z"
   },
   {
    "duration": 17,
    "start_time": "2023-02-19T17:52:03.469Z"
   },
   {
    "duration": 11,
    "start_time": "2023-02-19T17:52:03.966Z"
   },
   {
    "duration": 4,
    "start_time": "2023-02-19T17:52:05.924Z"
   },
   {
    "duration": 7,
    "start_time": "2023-02-19T17:52:06.316Z"
   },
   {
    "duration": 30,
    "start_time": "2023-02-19T17:52:07.136Z"
   },
   {
    "duration": 344,
    "start_time": "2023-02-19T17:52:08.896Z"
   },
   {
    "duration": 52,
    "start_time": "2023-02-19T17:52:09.390Z"
   },
   {
    "duration": 4,
    "start_time": "2023-02-19T17:52:13.177Z"
   },
   {
    "duration": 3,
    "start_time": "2023-02-19T17:52:14.508Z"
   },
   {
    "duration": 26,
    "start_time": "2023-02-19T17:52:14.929Z"
   },
   {
    "duration": 9,
    "start_time": "2023-02-19T17:52:28.537Z"
   },
   {
    "duration": 11,
    "start_time": "2023-02-19T17:52:29.356Z"
   },
   {
    "duration": 3,
    "start_time": "2023-02-19T17:52:29.672Z"
   },
   {
    "duration": 8,
    "start_time": "2023-02-19T17:52:29.869Z"
   },
   {
    "duration": 22,
    "start_time": "2023-02-19T17:52:30.073Z"
   },
   {
    "duration": 271,
    "start_time": "2023-02-19T17:52:30.790Z"
   },
   {
    "duration": 28,
    "start_time": "2023-02-19T17:52:31.370Z"
   },
   {
    "duration": 4,
    "start_time": "2023-02-19T17:52:33.026Z"
   },
   {
    "duration": 2,
    "start_time": "2023-02-19T17:52:34.170Z"
   },
   {
    "duration": 25,
    "start_time": "2023-02-19T17:52:34.785Z"
   },
   {
    "duration": 60,
    "start_time": "2023-02-19T17:52:39.291Z"
   },
   {
    "duration": 191,
    "start_time": "2023-02-19T17:52:40.232Z"
   },
   {
    "duration": 11,
    "start_time": "2023-02-19T17:52:40.620Z"
   },
   {
    "duration": 307,
    "start_time": "2023-02-19T17:52:40.947Z"
   },
   {
    "duration": 4,
    "start_time": "2023-02-19T17:53:04.959Z"
   },
   {
    "duration": 3,
    "start_time": "2023-02-19T17:53:23.220Z"
   },
   {
    "duration": 14,
    "start_time": "2023-02-19T17:53:23.526Z"
   },
   {
    "duration": 3,
    "start_time": "2023-02-19T17:53:24.166Z"
   },
   {
    "duration": 6,
    "start_time": "2023-02-19T17:53:24.654Z"
   },
   {
    "duration": 21,
    "start_time": "2023-02-19T17:53:25.401Z"
   },
   {
    "duration": 256,
    "start_time": "2023-02-19T17:53:26.598Z"
   },
   {
    "duration": 33,
    "start_time": "2023-02-19T17:53:27.111Z"
   },
   {
    "duration": 5,
    "start_time": "2023-02-19T17:53:29.159Z"
   },
   {
    "duration": 6,
    "start_time": "2023-02-19T17:53:33.877Z"
   },
   {
    "duration": 4,
    "start_time": "2023-02-19T17:53:47.183Z"
   },
   {
    "duration": 607,
    "start_time": "2023-02-19T17:53:47.190Z"
   },
   {
    "duration": 29,
    "start_time": "2023-02-19T17:53:47.800Z"
   },
   {
    "duration": 441,
    "start_time": "2023-02-19T17:53:47.840Z"
   },
   {
    "duration": 313,
    "start_time": "2023-02-19T17:53:48.284Z"
   },
   {
    "duration": 26,
    "start_time": "2023-02-19T17:53:48.598Z"
   },
   {
    "duration": 13,
    "start_time": "2023-02-19T17:53:48.640Z"
   },
   {
    "duration": 14,
    "start_time": "2023-02-19T17:53:48.655Z"
   },
   {
    "duration": 6,
    "start_time": "2023-02-19T17:53:48.671Z"
   },
   {
    "duration": 9,
    "start_time": "2023-02-19T17:53:48.679Z"
   },
   {
    "duration": 29,
    "start_time": "2023-02-19T17:53:48.689Z"
   },
   {
    "duration": 363,
    "start_time": "2023-02-19T17:53:48.720Z"
   },
   {
    "duration": 45,
    "start_time": "2023-02-19T17:53:49.087Z"
   },
   {
    "duration": 6,
    "start_time": "2023-02-19T17:53:49.157Z"
   },
   {
    "duration": 22,
    "start_time": "2023-02-19T17:53:49.166Z"
   },
   {
    "duration": 48,
    "start_time": "2023-02-19T17:53:49.190Z"
   },
   {
    "duration": 71,
    "start_time": "2023-02-19T17:53:49.240Z"
   },
   {
    "duration": 257,
    "start_time": "2023-02-19T17:53:49.314Z"
   },
   {
    "duration": 11,
    "start_time": "2023-02-19T17:53:49.573Z"
   },
   {
    "duration": 274,
    "start_time": "2023-02-19T17:53:49.585Z"
   },
   {
    "duration": 290,
    "start_time": "2023-02-19T17:53:49.860Z"
   },
   {
    "duration": 262,
    "start_time": "2023-02-19T17:53:50.153Z"
   },
   {
    "duration": 3,
    "start_time": "2023-02-19T17:53:50.416Z"
   },
   {
    "duration": 38,
    "start_time": "2023-02-19T17:53:50.421Z"
   },
   {
    "duration": 5,
    "start_time": "2023-02-19T17:53:50.461Z"
   },
   {
    "duration": 6,
    "start_time": "2023-02-19T17:53:50.468Z"
   },
   {
    "duration": 20,
    "start_time": "2023-02-19T17:53:50.476Z"
   },
   {
    "duration": 5,
    "start_time": "2023-02-19T17:53:50.498Z"
   },
   {
    "duration": 3,
    "start_time": "2023-02-19T17:53:52.502Z"
   },
   {
    "duration": 628,
    "start_time": "2023-02-19T17:53:53.340Z"
   },
   {
    "duration": 25,
    "start_time": "2023-02-19T17:53:53.970Z"
   },
   {
    "duration": 433,
    "start_time": "2023-02-19T17:53:53.997Z"
   },
   {
    "duration": 323,
    "start_time": "2023-02-19T17:53:54.432Z"
   },
   {
    "duration": 34,
    "start_time": "2023-02-19T17:53:54.758Z"
   },
   {
    "duration": 3,
    "start_time": "2023-02-19T17:53:54.863Z"
   },
   {
    "duration": 11,
    "start_time": "2023-02-19T17:53:54.972Z"
   },
   {
    "duration": 3,
    "start_time": "2023-02-19T17:53:55.987Z"
   },
   {
    "duration": 5,
    "start_time": "2023-02-19T17:53:56.192Z"
   },
   {
    "duration": 21,
    "start_time": "2023-02-19T17:53:57.319Z"
   },
   {
    "duration": 367,
    "start_time": "2023-02-19T17:53:57.937Z"
   },
   {
    "duration": 40,
    "start_time": "2023-02-19T17:53:58.357Z"
   },
   {
    "duration": 8,
    "start_time": "2023-02-19T17:54:17.696Z"
   },
   {
    "duration": 10,
    "start_time": "2023-02-19T17:54:18.004Z"
   },
   {
    "duration": 3,
    "start_time": "2023-02-19T17:54:18.516Z"
   },
   {
    "duration": 5,
    "start_time": "2023-02-19T17:54:18.914Z"
   },
   {
    "duration": 34,
    "start_time": "2023-02-19T17:54:19.335Z"
   },
   {
    "duration": 301,
    "start_time": "2023-02-19T17:54:20.004Z"
   },
   {
    "duration": 45,
    "start_time": "2023-02-19T17:54:20.308Z"
   },
   {
    "duration": 6,
    "start_time": "2023-02-19T17:54:56.198Z"
   },
   {
    "duration": 20,
    "start_time": "2023-02-19T17:56:53.964Z"
   },
   {
    "duration": 28,
    "start_time": "2023-02-19T17:57:33.713Z"
   },
   {
    "duration": 35,
    "start_time": "2023-02-19T17:57:47.735Z"
   },
   {
    "duration": 32,
    "start_time": "2023-02-19T17:58:10.366Z"
   },
   {
    "duration": 6,
    "start_time": "2023-02-19T17:58:12.603Z"
   },
   {
    "duration": 4,
    "start_time": "2023-02-19T17:58:13.422Z"
   },
   {
    "duration": 35,
    "start_time": "2023-02-19T17:58:37.998Z"
   },
   {
    "duration": 6,
    "start_time": "2023-02-19T17:58:39.863Z"
   },
   {
    "duration": 6,
    "start_time": "2023-02-19T17:58:40.574Z"
   },
   {
    "duration": 4,
    "start_time": "2023-02-19T17:58:48.238Z"
   },
   {
    "duration": 11,
    "start_time": "2023-02-19T17:58:48.563Z"
   },
   {
    "duration": 3,
    "start_time": "2023-02-19T17:58:49.165Z"
   },
   {
    "duration": 6,
    "start_time": "2023-02-19T17:58:49.467Z"
   },
   {
    "duration": 19,
    "start_time": "2023-02-19T17:58:49.774Z"
   },
   {
    "duration": 262,
    "start_time": "2023-02-19T17:58:50.696Z"
   },
   {
    "duration": 52,
    "start_time": "2023-02-19T17:58:50.961Z"
   },
   {
    "duration": 75,
    "start_time": "2023-02-19T17:58:51.016Z"
   },
   {
    "duration": 4,
    "start_time": "2023-02-19T17:58:52.232Z"
   },
   {
    "duration": 3,
    "start_time": "2023-02-19T17:58:56.767Z"
   },
   {
    "duration": 622,
    "start_time": "2023-02-19T17:58:56.773Z"
   },
   {
    "duration": 31,
    "start_time": "2023-02-19T17:58:57.397Z"
   },
   {
    "duration": 429,
    "start_time": "2023-02-19T17:58:57.444Z"
   },
   {
    "duration": 344,
    "start_time": "2023-02-19T17:58:57.875Z"
   },
   {
    "duration": 40,
    "start_time": "2023-02-19T17:58:58.221Z"
   },
   {
    "duration": 3,
    "start_time": "2023-02-19T17:58:58.263Z"
   },
   {
    "duration": 20,
    "start_time": "2023-02-19T17:58:58.268Z"
   },
   {
    "duration": 19,
    "start_time": "2023-02-19T17:58:58.290Z"
   },
   {
    "duration": 13,
    "start_time": "2023-02-19T17:58:58.312Z"
   },
   {
    "duration": 29,
    "start_time": "2023-02-19T17:58:58.327Z"
   },
   {
    "duration": 328,
    "start_time": "2023-02-19T17:58:58.359Z"
   },
   {
    "duration": 65,
    "start_time": "2023-02-19T17:58:58.690Z"
   },
   {
    "duration": 6,
    "start_time": "2023-02-19T17:58:58.758Z"
   },
   {
    "duration": 29,
    "start_time": "2023-02-19T17:58:58.766Z"
   },
   {
    "duration": 3,
    "start_time": "2023-02-19T17:58:58.797Z"
   },
   {
    "duration": 21,
    "start_time": "2023-02-19T17:58:58.801Z"
   },
   {
    "duration": 64,
    "start_time": "2023-02-19T17:58:58.824Z"
   },
   {
    "duration": 245,
    "start_time": "2023-02-19T17:58:58.890Z"
   },
   {
    "duration": 16,
    "start_time": "2023-02-19T17:58:59.141Z"
   },
   {
    "duration": 331,
    "start_time": "2023-02-19T17:58:59.163Z"
   },
   {
    "duration": 271,
    "start_time": "2023-02-19T17:58:59.496Z"
   },
   {
    "duration": 264,
    "start_time": "2023-02-19T17:58:59.769Z"
   },
   {
    "duration": 10,
    "start_time": "2023-02-19T17:59:00.035Z"
   },
   {
    "duration": 75,
    "start_time": "2023-02-19T17:59:00.046Z"
   },
   {
    "duration": 37,
    "start_time": "2023-02-19T17:59:00.124Z"
   },
   {
    "duration": 18,
    "start_time": "2023-02-19T17:59:00.163Z"
   },
   {
    "duration": 35,
    "start_time": "2023-02-19T17:59:00.183Z"
   },
   {
    "duration": 42,
    "start_time": "2023-02-19T17:59:00.219Z"
   },
   {
    "duration": 65,
    "start_time": "2023-02-19T17:59:13.532Z"
   },
   {
    "duration": 5,
    "start_time": "2023-02-19T17:59:13.823Z"
   },
   {
    "duration": 14,
    "start_time": "2023-02-19T17:59:39.335Z"
   },
   {
    "duration": 40,
    "start_time": "2023-02-19T17:59:48.475Z"
   },
   {
    "duration": 6,
    "start_time": "2023-02-19T17:59:49.271Z"
   },
   {
    "duration": 9,
    "start_time": "2023-02-19T18:00:13.434Z"
   },
   {
    "duration": 10,
    "start_time": "2023-02-19T18:00:13.664Z"
   },
   {
    "duration": 3,
    "start_time": "2023-02-19T18:00:14.064Z"
   },
   {
    "duration": 5,
    "start_time": "2023-02-19T18:00:14.267Z"
   },
   {
    "duration": 19,
    "start_time": "2023-02-19T18:00:14.365Z"
   },
   {
    "duration": 241,
    "start_time": "2023-02-19T18:00:14.771Z"
   },
   {
    "duration": 46,
    "start_time": "2023-02-19T18:00:15.014Z"
   },
   {
    "duration": 6,
    "start_time": "2023-02-19T18:00:15.280Z"
   },
   {
    "duration": 2,
    "start_time": "2023-02-19T18:00:35.869Z"
   },
   {
    "duration": 3,
    "start_time": "2023-02-19T18:00:40.992Z"
   },
   {
    "duration": 599,
    "start_time": "2023-02-19T18:00:40.998Z"
   },
   {
    "duration": 38,
    "start_time": "2023-02-19T18:00:41.598Z"
   },
   {
    "duration": 414,
    "start_time": "2023-02-19T18:00:41.639Z"
   },
   {
    "duration": 301,
    "start_time": "2023-02-19T18:00:42.055Z"
   },
   {
    "duration": 25,
    "start_time": "2023-02-19T18:00:42.358Z"
   },
   {
    "duration": 3,
    "start_time": "2023-02-19T18:00:42.385Z"
   },
   {
    "duration": 24,
    "start_time": "2023-02-19T18:00:42.390Z"
   },
   {
    "duration": 10,
    "start_time": "2023-02-19T18:00:42.416Z"
   },
   {
    "duration": 18,
    "start_time": "2023-02-19T18:00:42.429Z"
   },
   {
    "duration": 34,
    "start_time": "2023-02-19T18:00:42.449Z"
   },
   {
    "duration": 317,
    "start_time": "2023-02-19T18:00:42.485Z"
   },
   {
    "duration": 52,
    "start_time": "2023-02-19T18:00:42.804Z"
   },
   {
    "duration": 6,
    "start_time": "2023-02-19T18:00:42.858Z"
   },
   {
    "duration": 10,
    "start_time": "2023-02-19T18:00:42.866Z"
   },
   {
    "duration": 5,
    "start_time": "2023-02-19T18:00:42.878Z"
   },
   {
    "duration": 32,
    "start_time": "2023-02-19T18:00:42.885Z"
   },
   {
    "duration": 68,
    "start_time": "2023-02-19T18:00:42.919Z"
   },
   {
    "duration": 231,
    "start_time": "2023-02-19T18:00:42.989Z"
   },
   {
    "duration": 12,
    "start_time": "2023-02-19T18:00:43.222Z"
   },
   {
    "duration": 269,
    "start_time": "2023-02-19T18:00:43.235Z"
   },
   {
    "duration": 384,
    "start_time": "2023-02-19T18:00:43.505Z"
   },
   {
    "duration": 260,
    "start_time": "2023-02-19T18:00:43.891Z"
   },
   {
    "duration": 3,
    "start_time": "2023-02-19T18:00:44.154Z"
   },
   {
    "duration": 35,
    "start_time": "2023-02-19T18:00:44.159Z"
   },
   {
    "duration": 8,
    "start_time": "2023-02-19T18:00:44.195Z"
   },
   {
    "duration": 8,
    "start_time": "2023-02-19T18:00:44.205Z"
   },
   {
    "duration": 6,
    "start_time": "2023-02-19T18:00:44.216Z"
   },
   {
    "duration": 26,
    "start_time": "2023-02-19T18:00:44.224Z"
   },
   {
    "duration": 4,
    "start_time": "2023-02-19T18:00:44.967Z"
   },
   {
    "duration": 617,
    "start_time": "2023-02-19T18:00:45.764Z"
   },
   {
    "duration": 28,
    "start_time": "2023-02-19T18:00:46.384Z"
   },
   {
    "duration": 399,
    "start_time": "2023-02-19T18:00:46.415Z"
   },
   {
    "duration": 325,
    "start_time": "2023-02-19T18:00:46.816Z"
   },
   {
    "duration": 26,
    "start_time": "2023-02-19T18:00:47.144Z"
   },
   {
    "duration": 2,
    "start_time": "2023-02-19T18:00:47.173Z"
   },
   {
    "duration": 18,
    "start_time": "2023-02-19T18:00:47.332Z"
   },
   {
    "duration": 2,
    "start_time": "2023-02-19T18:00:47.665Z"
   },
   {
    "duration": 5,
    "start_time": "2023-02-19T18:00:47.864Z"
   },
   {
    "duration": 22,
    "start_time": "2023-02-19T18:00:48.067Z"
   },
   {
    "duration": 284,
    "start_time": "2023-02-19T18:00:48.466Z"
   },
   {
    "duration": 45,
    "start_time": "2023-02-19T18:00:48.753Z"
   },
   {
    "duration": 5,
    "start_time": "2023-02-19T18:00:48.800Z"
   },
   {
    "duration": 4,
    "start_time": "2023-02-19T18:00:48.968Z"
   },
   {
    "duration": 8,
    "start_time": "2023-02-19T18:01:25.629Z"
   },
   {
    "duration": 13,
    "start_time": "2023-02-19T18:01:25.937Z"
   },
   {
    "duration": 75,
    "start_time": "2023-02-19T18:01:41.910Z"
   },
   {
    "duration": 8,
    "start_time": "2023-02-19T18:01:46.889Z"
   },
   {
    "duration": 3,
    "start_time": "2023-02-19T18:09:44.199Z"
   },
   {
    "duration": 41,
    "start_time": "2023-02-19T18:27:49.458Z"
   },
   {
    "duration": 11,
    "start_time": "2023-02-19T18:30:17.961Z"
   },
   {
    "duration": 4,
    "start_time": "2023-02-19T18:31:15.177Z"
   },
   {
    "duration": 12,
    "start_time": "2023-02-19T18:33:00.954Z"
   },
   {
    "duration": 9,
    "start_time": "2023-02-19T18:34:01.783Z"
   },
   {
    "duration": 11,
    "start_time": "2023-02-19T18:34:19.073Z"
   },
   {
    "duration": 19,
    "start_time": "2023-02-19T18:34:25.408Z"
   },
   {
    "duration": 24,
    "start_time": "2023-02-19T18:34:57.913Z"
   },
   {
    "duration": 12,
    "start_time": "2023-02-19T18:35:06.965Z"
   },
   {
    "duration": 18,
    "start_time": "2023-02-19T18:35:24.997Z"
   },
   {
    "duration": 173,
    "start_time": "2023-02-19T18:38:43.877Z"
   },
   {
    "duration": 25,
    "start_time": "2023-02-19T18:38:46.156Z"
   },
   {
    "duration": 6,
    "start_time": "2023-02-19T18:38:50.382Z"
   },
   {
    "duration": 21,
    "start_time": "2023-02-19T18:39:16.682Z"
   },
   {
    "duration": 351,
    "start_time": "2023-02-19T18:40:27.530Z"
   },
   {
    "duration": 32,
    "start_time": "2023-02-19T18:40:27.884Z"
   },
   {
    "duration": 14,
    "start_time": "2023-02-19T18:40:28.177Z"
   },
   {
    "duration": 24,
    "start_time": "2023-02-19T18:40:28.478Z"
   },
   {
    "duration": 50,
    "start_time": "2023-02-19T18:40:28.915Z"
   },
   {
    "duration": 18,
    "start_time": "2023-02-19T18:40:29.080Z"
   },
   {
    "duration": 11,
    "start_time": "2023-02-19T18:40:29.264Z"
   },
   {
    "duration": 6,
    "start_time": "2023-02-19T18:40:34.201Z"
   },
   {
    "duration": 25,
    "start_time": "2023-02-19T18:40:34.620Z"
   },
   {
    "duration": 3,
    "start_time": "2023-02-19T18:41:02.361Z"
   },
   {
    "duration": 1146,
    "start_time": "2023-02-20T08:29:43.718Z"
   },
   {
    "duration": 1100,
    "start_time": "2023-02-20T08:29:49.199Z"
   },
   {
    "duration": 34,
    "start_time": "2023-02-20T08:29:50.301Z"
   },
   {
    "duration": 440,
    "start_time": "2023-02-20T08:29:50.337Z"
   },
   {
    "duration": 313,
    "start_time": "2023-02-20T08:29:50.780Z"
   },
   {
    "duration": 335,
    "start_time": "2023-02-20T08:29:51.095Z"
   },
   {
    "duration": 29,
    "start_time": "2023-02-20T08:29:51.433Z"
   },
   {
    "duration": 11,
    "start_time": "2023-02-20T08:29:51.465Z"
   },
   {
    "duration": 22,
    "start_time": "2023-02-20T08:29:51.477Z"
   },
   {
    "duration": 37,
    "start_time": "2023-02-20T08:29:52.069Z"
   },
   {
    "duration": 12,
    "start_time": "2023-02-20T08:29:52.278Z"
   },
   {
    "duration": 8,
    "start_time": "2023-02-20T08:29:52.510Z"
   },
   {
    "duration": 4,
    "start_time": "2023-02-20T08:29:52.901Z"
   },
   {
    "duration": 16,
    "start_time": "2023-02-20T08:29:53.302Z"
   },
   {
    "duration": 101,
    "start_time": "2023-02-20T08:29:54.901Z"
   },
   {
    "duration": 89,
    "start_time": "2023-02-20T08:29:55.146Z"
   },
   {
    "duration": 32,
    "start_time": "2023-02-20T08:30:10.487Z"
   },
   {
    "duration": 235,
    "start_time": "2023-02-20T08:30:43.976Z"
   },
   {
    "duration": 210,
    "start_time": "2023-02-20T08:30:57.623Z"
   },
   {
    "duration": 197,
    "start_time": "2023-02-20T08:31:02.281Z"
   },
   {
    "duration": 104,
    "start_time": "2023-02-20T08:31:02.481Z"
   },
   {
    "duration": 337,
    "start_time": "2023-02-20T08:31:02.607Z"
   },
   {
    "duration": 251,
    "start_time": "2023-02-20T08:31:02.946Z"
   },
   {
    "duration": 262,
    "start_time": "2023-02-20T08:31:03.199Z"
   },
   {
    "duration": 19,
    "start_time": "2023-02-20T08:31:03.463Z"
   },
   {
    "duration": 22,
    "start_time": "2023-02-20T08:31:03.483Z"
   },
   {
    "duration": 3,
    "start_time": "2023-02-20T08:31:03.567Z"
   },
   {
    "duration": 21,
    "start_time": "2023-02-20T08:31:12.751Z"
   },
   {
    "duration": 24,
    "start_time": "2023-02-20T08:32:28.886Z"
   },
   {
    "duration": 14,
    "start_time": "2023-02-20T08:33:00.069Z"
   },
   {
    "duration": 10,
    "start_time": "2023-02-20T08:33:34.830Z"
   },
   {
    "duration": 5,
    "start_time": "2023-02-20T08:34:02.062Z"
   },
   {
    "duration": 47,
    "start_time": "2023-02-20T08:34:07.254Z"
   },
   {
    "duration": 180,
    "start_time": "2023-02-20T08:34:16.511Z"
   },
   {
    "duration": 20,
    "start_time": "2023-02-20T08:34:31.630Z"
   },
   {
    "duration": 12,
    "start_time": "2023-02-20T08:35:00.022Z"
   },
   {
    "duration": 19,
    "start_time": "2023-02-20T08:36:35.926Z"
   },
   {
    "duration": 154,
    "start_time": "2023-02-20T08:37:30.598Z"
   },
   {
    "duration": 161,
    "start_time": "2023-02-20T08:37:47.910Z"
   },
   {
    "duration": 153,
    "start_time": "2023-02-20T08:38:23.456Z"
   },
   {
    "duration": 157,
    "start_time": "2023-02-20T08:38:58.861Z"
   },
   {
    "duration": 201,
    "start_time": "2023-02-20T08:39:05.059Z"
   },
   {
    "duration": 8,
    "start_time": "2023-02-20T08:47:04.668Z"
   },
   {
    "duration": 4,
    "start_time": "2023-02-20T08:47:05.002Z"
   },
   {
    "duration": 17,
    "start_time": "2023-02-20T08:47:05.315Z"
   },
   {
    "duration": 178,
    "start_time": "2023-02-20T08:47:06.056Z"
   },
   {
    "duration": 93,
    "start_time": "2023-02-20T08:47:06.236Z"
   },
   {
    "duration": 309,
    "start_time": "2023-02-20T08:47:06.426Z"
   },
   {
    "duration": 244,
    "start_time": "2023-02-20T08:47:06.740Z"
   },
   {
    "duration": 296,
    "start_time": "2023-02-20T08:47:06.986Z"
   },
   {
    "duration": 150,
    "start_time": "2023-02-20T08:47:07.285Z"
   },
   {
    "duration": 18,
    "start_time": "2023-02-20T08:47:07.464Z"
   },
   {
    "duration": 16,
    "start_time": "2023-02-20T08:48:10.168Z"
   },
   {
    "duration": 16,
    "start_time": "2023-02-20T08:48:29.280Z"
   },
   {
    "duration": 39,
    "start_time": "2023-02-20T08:48:53.106Z"
   },
   {
    "duration": 12,
    "start_time": "2023-02-20T08:48:54.219Z"
   },
   {
    "duration": 9,
    "start_time": "2023-02-20T08:48:54.671Z"
   },
   {
    "duration": 4,
    "start_time": "2023-02-20T08:48:59.291Z"
   },
   {
    "duration": 17,
    "start_time": "2023-02-20T08:49:00.071Z"
   },
   {
    "duration": 8,
    "start_time": "2023-02-20T08:49:24.984Z"
   },
   {
    "duration": 4,
    "start_time": "2023-02-20T08:49:25.372Z"
   },
   {
    "duration": 16,
    "start_time": "2023-02-20T08:49:25.747Z"
   },
   {
    "duration": 200,
    "start_time": "2023-02-20T08:49:28.789Z"
   },
   {
    "duration": 13,
    "start_time": "2023-02-20T09:34:51.651Z"
   },
   {
    "duration": 246,
    "start_time": "2023-02-20T09:39:21.076Z"
   },
   {
    "duration": 253,
    "start_time": "2023-02-20T09:39:49.349Z"
   },
   {
    "duration": 11,
    "start_time": "2023-02-20T09:40:05.758Z"
   },
   {
    "duration": 9,
    "start_time": "2023-02-20T09:40:05.946Z"
   },
   {
    "duration": 19,
    "start_time": "2023-02-20T09:41:31.300Z"
   },
   {
    "duration": 21,
    "start_time": "2023-02-20T09:41:55.567Z"
   },
   {
    "duration": 11,
    "start_time": "2023-02-20T09:42:17.366Z"
   },
   {
    "duration": 8,
    "start_time": "2023-02-20T09:42:37.468Z"
   },
   {
    "duration": 12,
    "start_time": "2023-02-20T09:43:05.125Z"
   },
   {
    "duration": 9,
    "start_time": "2023-02-20T09:43:19.067Z"
   },
   {
    "duration": 18,
    "start_time": "2023-02-20T09:43:26.759Z"
   },
   {
    "duration": 230,
    "start_time": "2023-02-20T09:43:45.923Z"
   },
   {
    "duration": 205,
    "start_time": "2023-02-20T09:44:01.099Z"
   },
   {
    "duration": 15,
    "start_time": "2023-02-20T09:44:41.726Z"
   },
   {
    "duration": 8,
    "start_time": "2023-02-20T09:44:42.017Z"
   },
   {
    "duration": 17,
    "start_time": "2023-02-20T09:44:49.068Z"
   },
   {
    "duration": 6,
    "start_time": "2023-02-20T09:45:18.269Z"
   },
   {
    "duration": 45,
    "start_time": "2023-02-20T09:45:26.155Z"
   },
   {
    "duration": 6,
    "start_time": "2023-02-20T09:45:31.594Z"
   },
   {
    "duration": 16,
    "start_time": "2023-02-20T09:45:33.168Z"
   },
   {
    "duration": 14,
    "start_time": "2023-02-20T09:45:39.827Z"
   },
   {
    "duration": 9,
    "start_time": "2023-02-20T09:45:43.394Z"
   },
   {
    "duration": 4,
    "start_time": "2023-02-20T09:45:44.915Z"
   },
   {
    "duration": 20,
    "start_time": "2023-02-20T09:45:48.810Z"
   },
   {
    "duration": 3,
    "start_time": "2023-02-20T09:45:54.771Z"
   },
   {
    "duration": 9,
    "start_time": "2023-02-20T09:46:00.870Z"
   },
   {
    "duration": 217,
    "start_time": "2023-02-20T09:46:06.115Z"
   },
   {
    "duration": 234,
    "start_time": "2023-02-20T09:46:15.266Z"
   },
   {
    "duration": 108,
    "start_time": "2023-02-20T09:46:51.482Z"
   },
   {
    "duration": 103,
    "start_time": "2023-02-20T09:47:29.802Z"
   },
   {
    "duration": 237,
    "start_time": "2023-02-20T09:47:33.060Z"
   },
   {
    "duration": 245,
    "start_time": "2023-02-20T09:47:33.610Z"
   },
   {
    "duration": 13,
    "start_time": "2023-02-20T09:47:34.170Z"
   },
   {
    "duration": 14,
    "start_time": "2023-02-20T09:47:35.764Z"
   },
   {
    "duration": 17,
    "start_time": "2023-02-20T09:47:36.894Z"
   },
   {
    "duration": 43,
    "start_time": "2023-02-20T09:48:01.091Z"
   },
   {
    "duration": 15,
    "start_time": "2023-02-20T09:48:01.626Z"
   },
   {
    "duration": 14,
    "start_time": "2023-02-20T09:48:07.586Z"
   },
   {
    "duration": 8,
    "start_time": "2023-02-20T09:48:07.827Z"
   },
   {
    "duration": 4,
    "start_time": "2023-02-20T09:48:08.563Z"
   },
   {
    "duration": 22,
    "start_time": "2023-02-20T09:48:09.593Z"
   },
   {
    "duration": 2,
    "start_time": "2023-02-20T09:48:36.186Z"
   },
   {
    "duration": 199,
    "start_time": "2023-02-20T09:48:36.777Z"
   },
   {
    "duration": 117,
    "start_time": "2023-02-20T09:48:38.010Z"
   },
   {
    "duration": 8,
    "start_time": "2023-02-20T09:49:49.290Z"
   },
   {
    "duration": 16,
    "start_time": "2023-02-20T09:50:41.201Z"
   },
   {
    "duration": 15,
    "start_time": "2023-02-20T09:51:02.017Z"
   },
   {
    "duration": 15,
    "start_time": "2023-02-20T09:51:16.916Z"
   },
   {
    "duration": 17,
    "start_time": "2023-02-20T09:51:44.855Z"
   },
   {
    "duration": 18,
    "start_time": "2023-02-20T09:51:53.052Z"
   },
   {
    "duration": 18,
    "start_time": "2023-02-20T09:53:13.569Z"
   },
   {
    "duration": 16,
    "start_time": "2023-02-20T09:53:43.512Z"
   },
   {
    "duration": 19,
    "start_time": "2023-02-20T09:54:25.121Z"
   },
   {
    "duration": 20,
    "start_time": "2023-02-20T09:55:08.841Z"
   },
   {
    "duration": 13,
    "start_time": "2023-02-20T09:56:07.065Z"
   },
   {
    "duration": 70,
    "start_time": "2023-02-20T09:58:29.145Z"
   },
   {
    "duration": 7,
    "start_time": "2023-02-20T10:54:30.953Z"
   },
   {
    "duration": 25,
    "start_time": "2023-02-20T10:55:05.457Z"
   },
   {
    "duration": 10,
    "start_time": "2023-02-20T10:55:32.841Z"
   },
   {
    "duration": 116,
    "start_time": "2023-02-20T10:55:57.366Z"
   },
   {
    "duration": 17,
    "start_time": "2023-02-20T10:56:19.798Z"
   },
   {
    "duration": 15,
    "start_time": "2023-02-20T10:56:20.070Z"
   },
   {
    "duration": 27,
    "start_time": "2023-02-20T10:56:59.301Z"
   },
   {
    "duration": 6,
    "start_time": "2023-02-20T10:57:31.806Z"
   },
   {
    "duration": 6,
    "start_time": "2023-02-20T10:57:45.753Z"
   },
   {
    "duration": 218,
    "start_time": "2023-02-20T10:57:53.829Z"
   },
   {
    "duration": 10,
    "start_time": "2023-02-20T10:57:54.049Z"
   },
   {
    "duration": 245,
    "start_time": "2023-02-20T10:57:56.710Z"
   },
   {
    "duration": 6,
    "start_time": "2023-02-20T10:57:56.957Z"
   },
   {
    "duration": 25,
    "start_time": "2023-02-20T10:58:34.548Z"
   },
   {
    "duration": 30,
    "start_time": "2023-02-20T10:58:37.030Z"
   },
   {
    "duration": 10,
    "start_time": "2023-02-20T10:58:39.573Z"
   },
   {
    "duration": 20,
    "start_time": "2023-02-20T10:58:39.957Z"
   },
   {
    "duration": 47,
    "start_time": "2023-02-20T10:58:40.309Z"
   },
   {
    "duration": 15,
    "start_time": "2023-02-20T10:58:40.486Z"
   },
   {
    "duration": 9,
    "start_time": "2023-02-20T10:58:40.703Z"
   },
   {
    "duration": 4,
    "start_time": "2023-02-20T10:58:41.454Z"
   },
   {
    "duration": 20,
    "start_time": "2023-02-20T10:58:41.916Z"
   },
   {
    "duration": 220,
    "start_time": "2023-02-20T10:58:43.031Z"
   },
   {
    "duration": 7,
    "start_time": "2023-02-20T10:58:43.253Z"
   },
   {
    "duration": 206,
    "start_time": "2023-02-20T10:59:40.390Z"
   },
   {
    "duration": 6,
    "start_time": "2023-02-20T10:59:40.910Z"
   },
   {
    "duration": 15,
    "start_time": "2023-02-20T10:59:44.973Z"
   },
   {
    "duration": 8,
    "start_time": "2023-02-20T10:59:48.685Z"
   },
   {
    "duration": 136,
    "start_time": "2023-02-20T10:59:49.318Z"
   },
   {
    "duration": 265,
    "start_time": "2023-02-20T10:59:54.007Z"
   },
   {
    "duration": 367,
    "start_time": "2023-02-20T10:59:54.285Z"
   },
   {
    "duration": 10,
    "start_time": "2023-02-20T10:59:54.655Z"
   },
   {
    "duration": 12,
    "start_time": "2023-02-20T10:59:55.589Z"
   },
   {
    "duration": 18,
    "start_time": "2023-02-20T10:59:56.454Z"
   },
   {
    "duration": 4,
    "start_time": "2023-02-20T11:00:38.593Z"
   },
   {
    "duration": 667,
    "start_time": "2023-02-20T11:00:38.600Z"
   },
   {
    "duration": 29,
    "start_time": "2023-02-20T11:00:39.269Z"
   },
   {
    "duration": 419,
    "start_time": "2023-02-20T11:00:39.307Z"
   },
   {
    "duration": 335,
    "start_time": "2023-02-20T11:00:39.728Z"
   },
   {
    "duration": 328,
    "start_time": "2023-02-20T11:00:40.066Z"
   },
   {
    "duration": 21,
    "start_time": "2023-02-20T11:00:40.396Z"
   },
   {
    "duration": 47,
    "start_time": "2023-02-20T11:00:40.420Z"
   },
   {
    "duration": 10,
    "start_time": "2023-02-20T11:00:40.470Z"
   },
   {
    "duration": 23,
    "start_time": "2023-02-20T11:00:40.482Z"
   },
   {
    "duration": 75,
    "start_time": "2023-02-20T11:00:40.507Z"
   },
   {
    "duration": 16,
    "start_time": "2023-02-20T11:00:40.584Z"
   },
   {
    "duration": 8,
    "start_time": "2023-02-20T11:00:40.602Z"
   },
   {
    "duration": 5,
    "start_time": "2023-02-20T11:00:40.611Z"
   },
   {
    "duration": 25,
    "start_time": "2023-02-20T11:00:40.641Z"
   },
   {
    "duration": 197,
    "start_time": "2023-02-20T11:00:40.667Z"
   },
   {
    "duration": 5,
    "start_time": "2023-02-20T11:00:40.866Z"
   },
   {
    "duration": 16,
    "start_time": "2023-02-20T11:00:40.873Z"
   },
   {
    "duration": 7,
    "start_time": "2023-02-20T11:00:40.891Z"
   },
   {
    "duration": 109,
    "start_time": "2023-02-20T11:00:40.899Z"
   },
   {
    "duration": 279,
    "start_time": "2023-02-20T11:00:41.010Z"
   },
   {
    "duration": 282,
    "start_time": "2023-02-20T11:00:41.291Z"
   },
   {
    "duration": 9,
    "start_time": "2023-02-20T11:00:41.574Z"
   },
   {
    "duration": 13,
    "start_time": "2023-02-20T11:00:41.586Z"
   },
   {
    "duration": 18,
    "start_time": "2023-02-20T11:00:41.600Z"
   },
   {
    "duration": 19,
    "start_time": "2023-02-20T11:00:41.653Z"
   },
   {
    "duration": 8,
    "start_time": "2023-02-20T11:00:41.674Z"
   },
   {
    "duration": 13,
    "start_time": "2023-02-20T11:00:41.684Z"
   },
   {
    "duration": 9,
    "start_time": "2023-02-20T11:00:41.699Z"
   },
   {
    "duration": 3,
    "start_time": "2023-02-20T11:00:43.256Z"
   },
   {
    "duration": 594,
    "start_time": "2023-02-20T11:00:44.093Z"
   },
   {
    "duration": 27,
    "start_time": "2023-02-20T11:00:44.689Z"
   },
   {
    "duration": 418,
    "start_time": "2023-02-20T11:00:44.718Z"
   },
   {
    "duration": 316,
    "start_time": "2023-02-20T11:00:45.140Z"
   },
   {
    "duration": 315,
    "start_time": "2023-02-20T11:00:45.458Z"
   },
   {
    "duration": 22,
    "start_time": "2023-02-20T11:00:45.776Z"
   },
   {
    "duration": 40,
    "start_time": "2023-02-20T11:00:45.799Z"
   },
   {
    "duration": 36,
    "start_time": "2023-02-20T11:01:07.917Z"
   },
   {
    "duration": 27,
    "start_time": "2023-02-20T11:01:40.670Z"
   },
   {
    "duration": 26,
    "start_time": "2023-02-20T11:01:41.182Z"
   },
   {
    "duration": 10,
    "start_time": "2023-02-20T11:01:41.581Z"
   },
   {
    "duration": 22,
    "start_time": "2023-02-20T11:01:41.974Z"
   },
   {
    "duration": 41,
    "start_time": "2023-02-20T11:01:42.454Z"
   },
   {
    "duration": 16,
    "start_time": "2023-02-20T11:01:42.677Z"
   },
   {
    "duration": 10,
    "start_time": "2023-02-20T11:01:43.468Z"
   },
   {
    "duration": 4,
    "start_time": "2023-02-20T11:01:44.733Z"
   },
   {
    "duration": 19,
    "start_time": "2023-02-20T11:01:45.877Z"
   },
   {
    "duration": 193,
    "start_time": "2023-02-20T11:01:47.437Z"
   },
   {
    "duration": 6,
    "start_time": "2023-02-20T11:01:47.861Z"
   },
   {
    "duration": 16,
    "start_time": "2023-02-20T11:01:48.275Z"
   },
   {
    "duration": 9,
    "start_time": "2023-02-20T11:01:49.154Z"
   },
   {
    "duration": 101,
    "start_time": "2023-02-20T11:01:49.685Z"
   },
   {
    "duration": 269,
    "start_time": "2023-02-20T11:01:50.703Z"
   },
   {
    "duration": 264,
    "start_time": "2023-02-20T11:01:51.353Z"
   },
   {
    "duration": 11,
    "start_time": "2023-02-20T11:01:54.069Z"
   },
   {
    "duration": 12,
    "start_time": "2023-02-20T11:01:55.421Z"
   },
   {
    "duration": 19,
    "start_time": "2023-02-20T11:01:56.655Z"
   },
   {
    "duration": 193,
    "start_time": "2023-02-20T11:02:42.988Z"
   },
   {
    "duration": 208,
    "start_time": "2023-02-20T11:02:50.660Z"
   },
   {
    "duration": 190,
    "start_time": "2023-02-20T11:02:58.716Z"
   },
   {
    "duration": 230,
    "start_time": "2023-02-20T11:03:20.782Z"
   },
   {
    "duration": 6,
    "start_time": "2023-02-20T11:03:21.180Z"
   },
   {
    "duration": 190,
    "start_time": "2023-02-20T11:03:36.766Z"
   },
   {
    "duration": 176,
    "start_time": "2023-02-20T11:03:48.212Z"
   },
   {
    "duration": 8,
    "start_time": "2023-02-20T11:04:34.363Z"
   },
   {
    "duration": 619,
    "start_time": "2023-02-20T11:05:01.476Z"
   },
   {
    "duration": 208,
    "start_time": "2023-02-20T11:05:08.405Z"
   },
   {
    "duration": 6,
    "start_time": "2023-02-20T11:05:17.869Z"
   },
   {
    "duration": 191,
    "start_time": "2023-02-20T11:06:03.163Z"
   },
   {
    "duration": 193,
    "start_time": "2023-02-20T11:06:43.628Z"
   },
   {
    "duration": 13,
    "start_time": "2023-02-20T11:06:57.760Z"
   },
   {
    "duration": 238,
    "start_time": "2023-02-20T11:07:12.932Z"
   },
   {
    "duration": 7,
    "start_time": "2023-02-20T11:07:28.884Z"
   },
   {
    "duration": 221,
    "start_time": "2023-02-20T11:07:45.909Z"
   },
   {
    "duration": 15,
    "start_time": "2023-02-20T11:07:55.075Z"
   },
   {
    "duration": 218,
    "start_time": "2023-02-20T11:08:27.804Z"
   },
   {
    "duration": 9,
    "start_time": "2023-02-20T11:08:32.364Z"
   },
   {
    "duration": 210,
    "start_time": "2023-02-20T11:08:45.213Z"
   },
   {
    "duration": 6,
    "start_time": "2023-02-20T11:08:47.684Z"
   },
   {
    "duration": 218,
    "start_time": "2023-02-20T11:09:52.117Z"
   },
   {
    "duration": 6,
    "start_time": "2023-02-20T11:09:52.466Z"
   },
   {
    "duration": 27,
    "start_time": "2023-02-20T11:09:54.522Z"
   },
   {
    "duration": 213,
    "start_time": "2023-02-20T11:10:25.865Z"
   },
   {
    "duration": 6,
    "start_time": "2023-02-20T11:10:28.499Z"
   },
   {
    "duration": 548,
    "start_time": "2023-02-20T11:10:50.283Z"
   },
   {
    "duration": 196,
    "start_time": "2023-02-20T11:11:36.787Z"
   },
   {
    "duration": 6,
    "start_time": "2023-02-20T11:11:38.969Z"
   },
   {
    "duration": 215,
    "start_time": "2023-02-20T11:12:03.755Z"
   },
   {
    "duration": 9,
    "start_time": "2023-02-20T11:12:04.955Z"
   },
   {
    "duration": 18,
    "start_time": "2023-02-20T11:12:33.931Z"
   },
   {
    "duration": 9,
    "start_time": "2023-02-20T11:12:50.315Z"
   },
   {
    "duration": 202,
    "start_time": "2023-02-20T11:12:53.381Z"
   },
   {
    "duration": 211,
    "start_time": "2023-02-20T11:13:30.338Z"
   },
   {
    "duration": 7,
    "start_time": "2023-02-20T11:13:34.163Z"
   },
   {
    "duration": 212,
    "start_time": "2023-02-20T11:13:57.854Z"
   },
   {
    "duration": 6,
    "start_time": "2023-02-20T11:13:58.761Z"
   },
   {
    "duration": 149,
    "start_time": "2023-02-20T11:14:24.854Z"
   },
   {
    "duration": 7,
    "start_time": "2023-02-20T11:14:29.259Z"
   },
   {
    "duration": 166,
    "start_time": "2023-02-20T11:14:45.001Z"
   },
   {
    "duration": 47,
    "start_time": "2023-02-20T11:15:33.226Z"
   },
   {
    "duration": 26,
    "start_time": "2023-02-20T11:16:21.129Z"
   },
   {
    "duration": 491,
    "start_time": "2023-02-20T11:17:15.625Z"
   },
   {
    "duration": 149,
    "start_time": "2023-02-20T11:17:41.361Z"
   },
   {
    "duration": 7,
    "start_time": "2023-02-20T11:17:54.469Z"
   },
   {
    "duration": 26,
    "start_time": "2023-02-20T11:17:55.154Z"
   },
   {
    "duration": 241,
    "start_time": "2023-02-20T11:18:40.460Z"
   },
   {
    "duration": 264,
    "start_time": "2023-02-20T11:18:52.705Z"
   },
   {
    "duration": 356,
    "start_time": "2023-02-20T11:19:58.521Z"
   },
   {
    "duration": 175,
    "start_time": "2023-02-20T11:20:10.408Z"
   },
   {
    "duration": 8,
    "start_time": "2023-02-20T11:20:11.560Z"
   },
   {
    "duration": 19,
    "start_time": "2023-02-20T11:20:12.465Z"
   },
   {
    "duration": 358,
    "start_time": "2023-02-20T11:20:42.032Z"
   },
   {
    "duration": 155,
    "start_time": "2023-02-20T11:20:44.863Z"
   },
   {
    "duration": 369,
    "start_time": "2023-02-20T11:21:03.025Z"
   },
   {
    "duration": 340,
    "start_time": "2023-02-20T11:21:11.393Z"
   },
   {
    "duration": 180,
    "start_time": "2023-02-20T11:21:16.601Z"
   },
   {
    "duration": 8,
    "start_time": "2023-02-20T11:21:48.871Z"
   },
   {
    "duration": 7,
    "start_time": "2023-02-20T11:21:51.984Z"
   },
   {
    "duration": 25,
    "start_time": "2023-02-20T11:24:18.896Z"
   },
   {
    "duration": 10,
    "start_time": "2023-02-20T11:24:19.280Z"
   },
   {
    "duration": 21,
    "start_time": "2023-02-20T11:24:20.016Z"
   },
   {
    "duration": 52,
    "start_time": "2023-02-20T11:24:20.415Z"
   },
   {
    "duration": 17,
    "start_time": "2023-02-20T11:24:20.657Z"
   },
   {
    "duration": 10,
    "start_time": "2023-02-20T11:24:29.784Z"
   },
   {
    "duration": 5,
    "start_time": "2023-02-20T11:24:30.607Z"
   },
   {
    "duration": 18,
    "start_time": "2023-02-20T11:24:31.392Z"
   },
   {
    "duration": 147,
    "start_time": "2023-02-20T11:24:37.168Z"
   },
   {
    "duration": 6,
    "start_time": "2023-02-20T11:24:38.384Z"
   },
   {
    "duration": 20,
    "start_time": "2023-02-20T11:24:39.566Z"
   },
   {
    "duration": 154,
    "start_time": "2023-02-20T11:25:08.165Z"
   },
   {
    "duration": 122,
    "start_time": "2023-02-20T11:25:42.232Z"
   },
   {
    "duration": 214,
    "start_time": "2023-02-20T11:25:52.016Z"
   },
   {
    "duration": 8,
    "start_time": "2023-02-20T11:26:00.061Z"
   },
   {
    "duration": 3,
    "start_time": "2023-02-20T11:26:03.017Z"
   },
   {
    "duration": 647,
    "start_time": "2023-02-20T11:26:03.022Z"
   },
   {
    "duration": 25,
    "start_time": "2023-02-20T11:26:03.671Z"
   },
   {
    "duration": 459,
    "start_time": "2023-02-20T11:26:03.698Z"
   },
   {
    "duration": 307,
    "start_time": "2023-02-20T11:26:04.159Z"
   },
   {
    "duration": 293,
    "start_time": "2023-02-20T11:26:04.468Z"
   },
   {
    "duration": 34,
    "start_time": "2023-02-20T11:26:04.763Z"
   },
   {
    "duration": 13,
    "start_time": "2023-02-20T11:26:04.799Z"
   },
   {
    "duration": 52,
    "start_time": "2023-02-20T11:26:04.814Z"
   },
   {
    "duration": 42,
    "start_time": "2023-02-20T11:26:04.870Z"
   },
   {
    "duration": 42,
    "start_time": "2023-02-20T11:26:04.913Z"
   },
   {
    "duration": 8,
    "start_time": "2023-02-20T11:26:04.957Z"
   },
   {
    "duration": 10,
    "start_time": "2023-02-20T11:26:04.967Z"
   },
   {
    "duration": 38,
    "start_time": "2023-02-20T11:26:04.979Z"
   },
   {
    "duration": 180,
    "start_time": "2023-02-20T11:26:05.019Z"
   },
   {
    "duration": 6,
    "start_time": "2023-02-20T11:26:05.201Z"
   },
   {
    "duration": 47,
    "start_time": "2023-02-20T11:26:05.209Z"
   },
   {
    "duration": 203,
    "start_time": "2023-02-20T11:26:05.258Z"
   },
   {
    "duration": 10,
    "start_time": "2023-02-20T11:26:05.463Z"
   },
   {
    "duration": 103,
    "start_time": "2023-02-20T11:26:05.475Z"
   },
   {
    "duration": 265,
    "start_time": "2023-02-20T11:26:05.580Z"
   },
   {
    "duration": 315,
    "start_time": "2023-02-20T11:26:05.848Z"
   },
   {
    "duration": 12,
    "start_time": "2023-02-20T11:26:06.165Z"
   },
   {
    "duration": 13,
    "start_time": "2023-02-20T11:26:06.179Z"
   },
   {
    "duration": 57,
    "start_time": "2023-02-20T11:26:06.194Z"
   },
   {
    "duration": 3,
    "start_time": "2023-02-20T11:26:06.254Z"
   },
   {
    "duration": 9,
    "start_time": "2023-02-20T11:26:06.259Z"
   },
   {
    "duration": 14,
    "start_time": "2023-02-20T11:26:06.271Z"
   },
   {
    "duration": 6,
    "start_time": "2023-02-20T11:26:06.287Z"
   },
   {
    "duration": 184,
    "start_time": "2023-02-20T11:26:17.832Z"
   },
   {
    "duration": 179,
    "start_time": "2023-02-20T11:26:26.208Z"
   },
   {
    "duration": 178,
    "start_time": "2023-02-20T11:26:36.712Z"
   },
   {
    "duration": 8,
    "start_time": "2023-02-20T11:26:39.177Z"
   },
   {
    "duration": 6,
    "start_time": "2023-02-20T11:27:12.624Z"
   },
   {
    "duration": 8,
    "start_time": "2023-02-20T11:27:37.071Z"
   },
   {
    "duration": 30,
    "start_time": "2023-02-20T11:27:44.365Z"
   },
   {
    "duration": 8,
    "start_time": "2023-02-20T11:27:59.925Z"
   },
   {
    "duration": 8,
    "start_time": "2023-02-20T11:28:12.103Z"
   },
   {
    "duration": 8,
    "start_time": "2023-02-20T11:28:18.567Z"
   },
   {
    "duration": 9,
    "start_time": "2023-02-20T11:28:23.383Z"
   },
   {
    "duration": 32,
    "start_time": "2023-02-20T11:28:28.017Z"
   },
   {
    "duration": 20,
    "start_time": "2023-02-20T11:28:34.120Z"
   },
   {
    "duration": 154,
    "start_time": "2023-02-20T11:33:31.679Z"
   },
   {
    "duration": 11,
    "start_time": "2023-02-20T11:33:53.051Z"
   },
   {
    "duration": 11,
    "start_time": "2023-02-20T11:34:20.637Z"
   },
   {
    "duration": 22,
    "start_time": "2023-02-20T11:34:21.047Z"
   },
   {
    "duration": 143,
    "start_time": "2023-02-20T11:34:38.422Z"
   },
   {
    "duration": 14,
    "start_time": "2023-02-20T11:34:39.199Z"
   },
   {
    "duration": 23,
    "start_time": "2023-02-20T11:34:39.812Z"
   },
   {
    "duration": 7,
    "start_time": "2023-02-20T11:34:57.918Z"
   },
   {
    "duration": 144,
    "start_time": "2023-02-20T11:37:37.213Z"
   },
   {
    "duration": 6,
    "start_time": "2023-02-20T11:37:39.157Z"
   },
   {
    "duration": 61,
    "start_time": "2023-02-20T11:38:41.053Z"
   },
   {
    "duration": 1194,
    "start_time": "2023-02-20T11:38:46.953Z"
   },
   {
    "duration": 1143,
    "start_time": "2023-02-20T11:38:48.150Z"
   },
   {
    "duration": 31,
    "start_time": "2023-02-20T11:38:49.295Z"
   },
   {
    "duration": 448,
    "start_time": "2023-02-20T11:38:49.328Z"
   },
   {
    "duration": 329,
    "start_time": "2023-02-20T11:38:49.778Z"
   },
   {
    "duration": 339,
    "start_time": "2023-02-20T11:38:50.109Z"
   },
   {
    "duration": 25,
    "start_time": "2023-02-20T11:38:50.451Z"
   },
   {
    "duration": 11,
    "start_time": "2023-02-20T11:38:50.478Z"
   },
   {
    "duration": 22,
    "start_time": "2023-02-20T11:38:50.491Z"
   },
   {
    "duration": 65,
    "start_time": "2023-02-20T11:38:50.515Z"
   },
   {
    "duration": 15,
    "start_time": "2023-02-20T11:38:50.582Z"
   },
   {
    "duration": 8,
    "start_time": "2023-02-20T11:38:50.599Z"
   },
   {
    "duration": 33,
    "start_time": "2023-02-20T11:38:50.608Z"
   },
   {
    "duration": 17,
    "start_time": "2023-02-20T11:38:50.644Z"
   },
   {
    "duration": 60,
    "start_time": "2023-02-20T11:38:55.880Z"
   },
   {
    "duration": 7,
    "start_time": "2023-02-20T11:38:56.778Z"
   },
   {
    "duration": 8,
    "start_time": "2023-02-20T11:38:57.060Z"
   },
   {
    "duration": 8,
    "start_time": "2023-02-20T11:38:57.371Z"
   },
   {
    "duration": 6,
    "start_time": "2023-02-20T11:38:57.516Z"
   },
   {
    "duration": 1297,
    "start_time": "2023-02-20T11:39:03.988Z"
   },
   {
    "duration": 1107,
    "start_time": "2023-02-20T11:39:05.287Z"
   },
   {
    "duration": 29,
    "start_time": "2023-02-20T11:39:06.396Z"
   },
   {
    "duration": 473,
    "start_time": "2023-02-20T11:39:06.426Z"
   },
   {
    "duration": 344,
    "start_time": "2023-02-20T11:39:06.901Z"
   },
   {
    "duration": 328,
    "start_time": "2023-02-20T11:39:07.552Z"
   },
   {
    "duration": 28,
    "start_time": "2023-02-20T11:39:07.899Z"
   },
   {
    "duration": 11,
    "start_time": "2023-02-20T11:39:08.524Z"
   },
   {
    "duration": 26,
    "start_time": "2023-02-20T11:39:08.854Z"
   },
   {
    "duration": 41,
    "start_time": "2023-02-20T11:39:09.172Z"
   },
   {
    "duration": 14,
    "start_time": "2023-02-20T11:39:09.334Z"
   },
   {
    "duration": 8,
    "start_time": "2023-02-20T11:39:09.508Z"
   },
   {
    "duration": 3,
    "start_time": "2023-02-20T11:39:09.856Z"
   },
   {
    "duration": 16,
    "start_time": "2023-02-20T11:39:10.197Z"
   },
   {
    "duration": 54,
    "start_time": "2023-02-20T11:41:44.603Z"
   },
   {
    "duration": 7,
    "start_time": "2023-02-20T11:42:30.315Z"
   },
   {
    "duration": 1212,
    "start_time": "2023-02-20T11:42:38.356Z"
   },
   {
    "duration": 1010,
    "start_time": "2023-02-20T11:42:39.570Z"
   },
   {
    "duration": 28,
    "start_time": "2023-02-20T11:42:40.582Z"
   },
   {
    "duration": 437,
    "start_time": "2023-02-20T11:42:40.612Z"
   },
   {
    "duration": 304,
    "start_time": "2023-02-20T11:42:41.052Z"
   },
   {
    "duration": 306,
    "start_time": "2023-02-20T11:42:41.358Z"
   },
   {
    "duration": 23,
    "start_time": "2023-02-20T11:42:41.665Z"
   },
   {
    "duration": 11,
    "start_time": "2023-02-20T11:42:41.690Z"
   },
   {
    "duration": 38,
    "start_time": "2023-02-20T11:42:41.702Z"
   },
   {
    "duration": 41,
    "start_time": "2023-02-20T11:42:41.741Z"
   },
   {
    "duration": 14,
    "start_time": "2023-02-20T11:42:41.785Z"
   },
   {
    "duration": 8,
    "start_time": "2023-02-20T11:42:41.801Z"
   },
   {
    "duration": 5,
    "start_time": "2023-02-20T11:42:41.839Z"
   },
   {
    "duration": 18,
    "start_time": "2023-02-20T11:42:41.847Z"
   },
   {
    "duration": 98,
    "start_time": "2023-02-20T11:42:41.867Z"
   },
   {
    "duration": 49,
    "start_time": "2023-02-20T11:42:47.010Z"
   },
   {
    "duration": 0,
    "start_time": "2023-02-20T11:42:47.061Z"
   },
   {
    "duration": 0,
    "start_time": "2023-02-20T11:42:47.062Z"
   },
   {
    "duration": 0,
    "start_time": "2023-02-20T11:42:47.064Z"
   },
   {
    "duration": 0,
    "start_time": "2023-02-20T11:42:47.065Z"
   },
   {
    "duration": 7,
    "start_time": "2023-02-20T11:42:47.581Z"
   },
   {
    "duration": 8,
    "start_time": "2023-02-20T11:42:48.203Z"
   },
   {
    "duration": 7,
    "start_time": "2023-02-20T11:42:54.730Z"
   },
   {
    "duration": 7,
    "start_time": "2023-02-20T11:42:58.633Z"
   },
   {
    "duration": 1280,
    "start_time": "2023-02-20T11:43:01.827Z"
   },
   {
    "duration": 1045,
    "start_time": "2023-02-20T11:43:03.109Z"
   },
   {
    "duration": 30,
    "start_time": "2023-02-20T11:43:04.156Z"
   },
   {
    "duration": 424,
    "start_time": "2023-02-20T11:43:04.189Z"
   },
   {
    "duration": 314,
    "start_time": "2023-02-20T11:43:04.615Z"
   },
   {
    "duration": 308,
    "start_time": "2023-02-20T11:43:05.252Z"
   },
   {
    "duration": 25,
    "start_time": "2023-02-20T11:43:05.619Z"
   },
   {
    "duration": 12,
    "start_time": "2023-02-20T11:43:05.969Z"
   },
   {
    "duration": 18,
    "start_time": "2023-02-20T11:43:06.331Z"
   },
   {
    "duration": 46,
    "start_time": "2023-02-20T11:43:06.685Z"
   },
   {
    "duration": 16,
    "start_time": "2023-02-20T11:43:06.875Z"
   },
   {
    "duration": 9,
    "start_time": "2023-02-20T11:43:07.461Z"
   },
   {
    "duration": 3,
    "start_time": "2023-02-20T11:43:08.571Z"
   },
   {
    "duration": 17,
    "start_time": "2023-02-20T11:43:09.109Z"
   },
   {
    "duration": 68,
    "start_time": "2023-02-20T11:43:09.632Z"
   },
   {
    "duration": 303,
    "start_time": "2023-02-20T11:48:09.785Z"
   },
   {
    "duration": 23,
    "start_time": "2023-02-20T11:48:17.593Z"
   },
   {
    "duration": 354,
    "start_time": "2023-02-20T11:51:08.826Z"
   },
   {
    "duration": 172,
    "start_time": "2023-02-20T11:53:54.240Z"
   },
   {
    "duration": 11,
    "start_time": "2023-02-20T11:54:42.633Z"
   },
   {
    "duration": 8,
    "start_time": "2023-02-20T11:55:11.608Z"
   },
   {
    "duration": 366,
    "start_time": "2023-02-20T11:55:42.208Z"
   },
   {
    "duration": 609,
    "start_time": "2023-02-20T11:56:13.089Z"
   },
   {
    "duration": 25,
    "start_time": "2023-02-20T11:56:13.700Z"
   },
   {
    "duration": 397,
    "start_time": "2023-02-20T11:56:13.727Z"
   },
   {
    "duration": 312,
    "start_time": "2023-02-20T11:56:15.751Z"
   },
   {
    "duration": 302,
    "start_time": "2023-02-20T11:56:16.065Z"
   },
   {
    "duration": 289,
    "start_time": "2023-02-20T11:56:35.407Z"
   },
   {
    "duration": 24,
    "start_time": "2023-02-20T11:56:40.888Z"
   },
   {
    "duration": 10,
    "start_time": "2023-02-20T11:56:43.479Z"
   },
   {
    "duration": 22,
    "start_time": "2023-02-20T11:57:04.939Z"
   },
   {
    "duration": 52,
    "start_time": "2023-02-20T11:58:02.918Z"
   },
   {
    "duration": 46,
    "start_time": "2023-02-20T11:58:25.847Z"
   },
   {
    "duration": 50,
    "start_time": "2023-02-20T11:58:50.071Z"
   },
   {
    "duration": 15,
    "start_time": "2023-02-20T11:58:54.424Z"
   },
   {
    "duration": 10,
    "start_time": "2023-02-20T11:58:55.208Z"
   },
   {
    "duration": 5,
    "start_time": "2023-02-20T11:58:56.127Z"
   },
   {
    "duration": 18,
    "start_time": "2023-02-20T11:58:56.983Z"
   },
   {
    "duration": 170,
    "start_time": "2023-02-20T11:58:57.806Z"
   },
   {
    "duration": 389,
    "start_time": "2023-02-20T11:58:59.463Z"
   },
   {
    "duration": 12,
    "start_time": "2023-02-20T11:59:01.103Z"
   },
   {
    "duration": 43,
    "start_time": "2023-02-20T11:59:16.208Z"
   },
   {
    "duration": 51,
    "start_time": "2023-02-20T12:02:49.542Z"
   },
   {
    "duration": 19,
    "start_time": "2023-02-20T12:03:02.582Z"
   },
   {
    "duration": 1243,
    "start_time": "2023-02-20T12:03:44.582Z"
   },
   {
    "duration": 13,
    "start_time": "2023-02-20T12:03:55.615Z"
   },
   {
    "duration": 229,
    "start_time": "2023-02-20T12:04:42.134Z"
   },
   {
    "duration": 34,
    "start_time": "2023-02-20T12:05:09.006Z"
   },
   {
    "duration": 25,
    "start_time": "2023-02-20T12:09:34.203Z"
   },
   {
    "duration": 1264,
    "start_time": "2023-02-20T12:20:39.512Z"
   },
   {
    "duration": 595,
    "start_time": "2023-02-20T12:20:40.779Z"
   },
   {
    "duration": 32,
    "start_time": "2023-02-20T12:20:41.376Z"
   },
   {
    "duration": 430,
    "start_time": "2023-02-20T12:20:41.410Z"
   },
   {
    "duration": 302,
    "start_time": "2023-02-20T12:20:41.842Z"
   },
   {
    "duration": 312,
    "start_time": "2023-02-20T12:20:42.145Z"
   },
   {
    "duration": 24,
    "start_time": "2023-02-20T12:20:42.459Z"
   },
   {
    "duration": 10,
    "start_time": "2023-02-20T12:20:42.485Z"
   },
   {
    "duration": 18,
    "start_time": "2023-02-20T12:20:42.496Z"
   },
   {
    "duration": 41,
    "start_time": "2023-02-20T12:20:42.540Z"
   },
   {
    "duration": 14,
    "start_time": "2023-02-20T12:20:42.583Z"
   },
   {
    "duration": 7,
    "start_time": "2023-02-20T12:20:42.599Z"
   },
   {
    "duration": 33,
    "start_time": "2023-02-20T12:20:42.608Z"
   },
   {
    "duration": 17,
    "start_time": "2023-02-20T12:20:42.644Z"
   },
   {
    "duration": 177,
    "start_time": "2023-02-20T12:20:42.663Z"
   },
   {
    "duration": 383,
    "start_time": "2023-02-20T12:20:42.841Z"
   },
   {
    "duration": 16,
    "start_time": "2023-02-20T12:20:43.226Z"
   },
   {
    "duration": 66,
    "start_time": "2023-02-20T12:20:43.244Z"
   },
   {
    "duration": 33,
    "start_time": "2023-02-20T12:20:43.311Z"
   },
   {
    "duration": 179,
    "start_time": "2023-02-20T12:20:43.345Z"
   },
   {
    "duration": 16,
    "start_time": "2023-02-20T12:20:43.525Z"
   },
   {
    "duration": 104,
    "start_time": "2023-02-20T12:20:43.542Z"
   },
   {
    "duration": 111,
    "start_time": "2023-02-20T12:20:43.648Z"
   },
   {
    "duration": 0,
    "start_time": "2023-02-20T12:20:43.760Z"
   },
   {
    "duration": 0,
    "start_time": "2023-02-20T12:20:43.761Z"
   },
   {
    "duration": 0,
    "start_time": "2023-02-20T12:20:43.762Z"
   },
   {
    "duration": 0,
    "start_time": "2023-02-20T12:20:43.764Z"
   },
   {
    "duration": 0,
    "start_time": "2023-02-20T12:20:43.765Z"
   },
   {
    "duration": 0,
    "start_time": "2023-02-20T12:20:43.766Z"
   },
   {
    "duration": 0,
    "start_time": "2023-02-20T12:20:43.767Z"
   },
   {
    "duration": 0,
    "start_time": "2023-02-20T12:20:43.768Z"
   },
   {
    "duration": 4,
    "start_time": "2023-02-20T12:21:04.571Z"
   },
   {
    "duration": 591,
    "start_time": "2023-02-20T12:21:05.522Z"
   },
   {
    "duration": 27,
    "start_time": "2023-02-20T12:21:06.115Z"
   },
   {
    "duration": 375,
    "start_time": "2023-02-20T12:21:12.393Z"
   },
   {
    "duration": 287,
    "start_time": "2023-02-20T12:21:12.790Z"
   },
   {
    "duration": 286,
    "start_time": "2023-02-20T12:21:13.079Z"
   },
   {
    "duration": 145,
    "start_time": "2023-02-20T12:21:56.748Z"
   },
   {
    "duration": 262,
    "start_time": "2023-02-20T12:21:57.352Z"
   },
   {
    "duration": 25,
    "start_time": "2023-02-20T12:21:57.955Z"
   },
   {
    "duration": 10,
    "start_time": "2023-02-20T12:21:58.301Z"
   },
   {
    "duration": 21,
    "start_time": "2023-02-20T12:21:58.610Z"
   },
   {
    "duration": 56,
    "start_time": "2023-02-20T12:21:58.974Z"
   },
   {
    "duration": 16,
    "start_time": "2023-02-20T12:21:59.210Z"
   },
   {
    "duration": 8,
    "start_time": "2023-02-20T12:21:59.451Z"
   },
   {
    "duration": 4,
    "start_time": "2023-02-20T12:21:59.779Z"
   },
   {
    "duration": 17,
    "start_time": "2023-02-20T12:22:00.209Z"
   },
   {
    "duration": 162,
    "start_time": "2023-02-20T12:22:00.728Z"
   },
   {
    "duration": 378,
    "start_time": "2023-02-20T12:22:43.672Z"
   },
   {
    "duration": 14,
    "start_time": "2023-02-20T12:22:45.857Z"
   },
   {
    "duration": 52,
    "start_time": "2023-02-20T12:22:46.566Z"
   },
   {
    "duration": 17,
    "start_time": "2023-02-20T12:22:48.682Z"
   },
   {
    "duration": 186,
    "start_time": "2023-02-20T12:22:49.606Z"
   },
   {
    "duration": 10,
    "start_time": "2023-02-20T12:22:58.256Z"
   },
   {
    "duration": 91,
    "start_time": "2023-02-20T12:22:58.416Z"
   },
   {
    "duration": 260,
    "start_time": "2023-02-20T12:22:58.575Z"
   },
   {
    "duration": 251,
    "start_time": "2023-02-20T12:23:01.504Z"
   },
   {
    "duration": 10,
    "start_time": "2023-02-20T12:23:01.757Z"
   },
   {
    "duration": 217,
    "start_time": "2023-02-20T12:23:28.128Z"
   },
   {
    "duration": 207,
    "start_time": "2023-02-20T12:23:40.666Z"
   },
   {
    "duration": 194,
    "start_time": "2023-02-20T12:23:50.065Z"
   },
   {
    "duration": 387,
    "start_time": "2023-02-20T12:23:57.792Z"
   },
   {
    "duration": 267,
    "start_time": "2023-02-20T12:23:58.216Z"
   },
   {
    "duration": 12,
    "start_time": "2023-02-20T12:23:58.586Z"
   },
   {
    "duration": 13,
    "start_time": "2023-02-20T12:24:00.039Z"
   },
   {
    "duration": 3,
    "start_time": "2023-02-20T12:24:24.909Z"
   },
   {
    "duration": 231,
    "start_time": "2023-02-20T12:24:25.480Z"
   },
   {
    "duration": 19,
    "start_time": "2023-02-20T12:24:42.490Z"
   },
   {
    "duration": 11,
    "start_time": "2023-02-20T12:25:27.971Z"
   },
   {
    "duration": 7,
    "start_time": "2023-02-20T12:26:01.952Z"
   },
   {
    "duration": 4,
    "start_time": "2023-02-20T12:26:07.070Z"
   },
   {
    "duration": 627,
    "start_time": "2023-02-20T12:26:07.077Z"
   },
   {
    "duration": 38,
    "start_time": "2023-02-20T12:26:07.706Z"
   },
   {
    "duration": 452,
    "start_time": "2023-02-20T12:26:07.747Z"
   },
   {
    "duration": 301,
    "start_time": "2023-02-20T12:26:08.201Z"
   },
   {
    "duration": 319,
    "start_time": "2023-02-20T12:26:08.504Z"
   },
   {
    "duration": 30,
    "start_time": "2023-02-20T12:26:08.825Z"
   },
   {
    "duration": 10,
    "start_time": "2023-02-20T12:26:08.857Z"
   },
   {
    "duration": 46,
    "start_time": "2023-02-20T12:26:08.868Z"
   },
   {
    "duration": 68,
    "start_time": "2023-02-20T12:26:08.916Z"
   },
   {
    "duration": 20,
    "start_time": "2023-02-20T12:26:08.986Z"
   },
   {
    "duration": 36,
    "start_time": "2023-02-20T12:26:09.009Z"
   },
   {
    "duration": 8,
    "start_time": "2023-02-20T12:26:09.049Z"
   },
   {
    "duration": 34,
    "start_time": "2023-02-20T12:26:09.059Z"
   },
   {
    "duration": 217,
    "start_time": "2023-02-20T12:26:09.096Z"
   },
   {
    "duration": 393,
    "start_time": "2023-02-20T12:26:09.315Z"
   },
   {
    "duration": 13,
    "start_time": "2023-02-20T12:26:09.709Z"
   },
   {
    "duration": 76,
    "start_time": "2023-02-20T12:26:09.723Z"
   },
   {
    "duration": 19,
    "start_time": "2023-02-20T12:26:09.800Z"
   },
   {
    "duration": 23,
    "start_time": "2023-02-20T12:26:09.821Z"
   },
   {
    "duration": 13,
    "start_time": "2023-02-20T12:26:09.846Z"
   },
   {
    "duration": 3,
    "start_time": "2023-02-20T12:26:09.860Z"
   },
   {
    "duration": 234,
    "start_time": "2023-02-20T12:26:09.864Z"
   },
   {
    "duration": 258,
    "start_time": "2023-02-20T12:26:10.100Z"
   },
   {
    "duration": 287,
    "start_time": "2023-02-20T12:26:10.360Z"
   },
   {
    "duration": 13,
    "start_time": "2023-02-20T12:26:10.648Z"
   },
   {
    "duration": 16,
    "start_time": "2023-02-20T12:26:10.663Z"
   },
   {
    "duration": 18,
    "start_time": "2023-02-20T12:26:10.680Z"
   },
   {
    "duration": 3,
    "start_time": "2023-02-20T12:26:10.700Z"
   },
   {
    "duration": 6,
    "start_time": "2023-02-20T12:26:10.705Z"
   },
   {
    "duration": 3,
    "start_time": "2023-02-20T12:26:10.740Z"
   },
   {
    "duration": 5,
    "start_time": "2023-02-20T12:26:10.745Z"
   },
   {
    "duration": 3,
    "start_time": "2023-02-20T12:26:13.093Z"
   },
   {
    "duration": 594,
    "start_time": "2023-02-20T12:26:13.982Z"
   },
   {
    "duration": 26,
    "start_time": "2023-02-20T12:26:14.578Z"
   },
   {
    "duration": 441,
    "start_time": "2023-02-20T12:26:14.606Z"
   },
   {
    "duration": 300,
    "start_time": "2023-02-20T12:26:15.049Z"
   },
   {
    "duration": 304,
    "start_time": "2023-02-20T12:26:15.351Z"
   },
   {
    "duration": 29,
    "start_time": "2023-02-20T12:26:15.657Z"
   },
   {
    "duration": 17,
    "start_time": "2023-02-20T12:26:15.688Z"
   },
   {
    "duration": 25,
    "start_time": "2023-02-20T12:26:16.025Z"
   },
   {
    "duration": 47,
    "start_time": "2023-02-20T12:26:16.720Z"
   },
   {
    "duration": 15,
    "start_time": "2023-02-20T12:26:16.769Z"
   },
   {
    "duration": 8,
    "start_time": "2023-02-20T12:26:16.786Z"
   },
   {
    "duration": 5,
    "start_time": "2023-02-20T12:26:17.049Z"
   },
   {
    "duration": 17,
    "start_time": "2023-02-20T12:26:17.381Z"
   },
   {
    "duration": 175,
    "start_time": "2023-02-20T12:26:18.124Z"
   },
   {
    "duration": 362,
    "start_time": "2023-02-20T12:26:18.353Z"
   },
   {
    "duration": 13,
    "start_time": "2023-02-20T12:26:20.190Z"
   },
   {
    "duration": 54,
    "start_time": "2023-02-20T12:26:20.957Z"
   },
   {
    "duration": 18,
    "start_time": "2023-02-20T12:26:21.757Z"
   },
   {
    "duration": 10,
    "start_time": "2023-02-20T12:26:22.061Z"
   },
   {
    "duration": 14,
    "start_time": "2023-02-20T12:26:22.213Z"
   },
   {
    "duration": 3,
    "start_time": "2023-02-20T12:26:22.374Z"
   },
   {
    "duration": 189,
    "start_time": "2023-02-20T12:27:09.445Z"
   },
   {
    "duration": 17,
    "start_time": "2023-02-20T12:27:17.263Z"
   },
   {
    "duration": 130,
    "start_time": "2023-02-20T12:29:34.578Z"
   },
   {
    "duration": 125,
    "start_time": "2023-02-20T12:29:53.258Z"
   },
   {
    "duration": 11,
    "start_time": "2023-02-20T12:37:14.025Z"
   },
   {
    "duration": 232,
    "start_time": "2023-02-20T12:59:47.532Z"
   },
   {
    "duration": 209,
    "start_time": "2023-02-20T13:00:20.022Z"
   },
   {
    "duration": 14,
    "start_time": "2023-02-20T13:01:03.196Z"
   },
   {
    "duration": 161,
    "start_time": "2023-02-20T13:01:11.908Z"
   },
   {
    "duration": 178,
    "start_time": "2023-02-20T13:01:17.718Z"
   },
   {
    "duration": 201,
    "start_time": "2023-02-20T13:01:23.278Z"
   },
   {
    "duration": 274,
    "start_time": "2023-02-20T13:01:47.017Z"
   },
   {
    "duration": 14,
    "start_time": "2023-02-20T13:02:57.348Z"
   },
   {
    "duration": 10,
    "start_time": "2023-02-20T13:03:03.394Z"
   },
   {
    "duration": 435,
    "start_time": "2023-02-20T13:03:19.373Z"
   },
   {
    "duration": 11,
    "start_time": "2023-02-20T13:03:19.837Z"
   },
   {
    "duration": 27,
    "start_time": "2023-02-20T13:03:20.198Z"
   },
   {
    "duration": 19,
    "start_time": "2023-02-20T13:03:21.286Z"
   },
   {
    "duration": 11,
    "start_time": "2023-02-20T13:03:21.912Z"
   },
   {
    "duration": 263,
    "start_time": "2023-02-20T13:03:25.193Z"
   },
   {
    "duration": 10,
    "start_time": "2023-02-20T13:03:30.949Z"
   },
   {
    "duration": 240,
    "start_time": "2023-02-20T13:03:36.658Z"
   },
   {
    "duration": 238,
    "start_time": "2023-02-20T13:05:38.065Z"
   },
   {
    "duration": 125,
    "start_time": "2023-02-20T13:05:38.484Z"
   },
   {
    "duration": 251,
    "start_time": "2023-02-20T13:05:39.467Z"
   },
   {
    "duration": 247,
    "start_time": "2023-02-20T13:05:49.454Z"
   },
   {
    "duration": 14,
    "start_time": "2023-02-20T13:05:51.642Z"
   },
   {
    "duration": 18,
    "start_time": "2023-02-20T13:05:53.306Z"
   },
   {
    "duration": 20,
    "start_time": "2023-02-20T13:05:53.823Z"
   },
   {
    "duration": 16,
    "start_time": "2023-02-20T13:18:44.200Z"
   },
   {
    "duration": 153,
    "start_time": "2023-02-20T13:18:52.541Z"
   },
   {
    "duration": 188,
    "start_time": "2023-02-20T13:19:09.102Z"
   },
   {
    "duration": 238,
    "start_time": "2023-02-20T13:19:47.424Z"
   },
   {
    "duration": 265,
    "start_time": "2023-02-20T13:19:47.664Z"
   },
   {
    "duration": 152,
    "start_time": "2023-02-20T13:19:47.931Z"
   },
   {
    "duration": 126,
    "start_time": "2023-02-20T13:19:48.085Z"
   },
   {
    "duration": 256,
    "start_time": "2023-02-20T13:19:50.538Z"
   },
   {
    "duration": 258,
    "start_time": "2023-02-20T13:19:50.796Z"
   },
   {
    "duration": 13,
    "start_time": "2023-02-20T13:19:51.133Z"
   },
   {
    "duration": 17,
    "start_time": "2023-02-20T13:19:51.764Z"
   },
   {
    "duration": 141,
    "start_time": "2023-02-20T13:19:52.237Z"
   },
   {
    "duration": 392,
    "start_time": "2023-02-20T13:25:30.857Z"
   },
   {
    "duration": 402,
    "start_time": "2023-02-20T13:25:44.241Z"
   },
   {
    "duration": 5,
    "start_time": "2023-02-20T13:26:10.056Z"
   },
   {
    "duration": 6,
    "start_time": "2023-02-20T13:26:22.020Z"
   },
   {
    "duration": 388,
    "start_time": "2023-02-20T13:26:50.597Z"
   },
   {
    "duration": 384,
    "start_time": "2023-02-20T13:27:30.588Z"
   },
   {
    "duration": 402,
    "start_time": "2023-02-20T13:28:00.908Z"
   },
   {
    "duration": 387,
    "start_time": "2023-02-20T13:28:24.361Z"
   },
   {
    "duration": 470,
    "start_time": "2023-02-20T13:28:49.278Z"
   },
   {
    "duration": 67,
    "start_time": "2023-02-20T13:29:20.630Z"
   },
   {
    "duration": 469,
    "start_time": "2023-02-20T13:29:29.577Z"
   },
   {
    "duration": 392,
    "start_time": "2023-02-20T13:29:57.137Z"
   },
   {
    "duration": 422,
    "start_time": "2023-02-20T13:30:05.020Z"
   },
   {
    "duration": 12,
    "start_time": "2023-02-20T13:30:06.580Z"
   },
   {
    "duration": 26,
    "start_time": "2023-02-20T13:42:22.769Z"
   },
   {
    "duration": 79,
    "start_time": "2023-02-20T13:43:48.998Z"
   },
   {
    "duration": 11,
    "start_time": "2023-02-20T13:44:11.390Z"
   },
   {
    "duration": 26,
    "start_time": "2023-02-20T13:44:34.997Z"
   },
   {
    "duration": 10,
    "start_time": "2023-02-20T13:44:54.232Z"
   },
   {
    "duration": 24,
    "start_time": "2023-02-20T13:44:56.084Z"
   },
   {
    "duration": 395,
    "start_time": "2023-02-20T13:49:38.810Z"
   },
   {
    "duration": 12,
    "start_time": "2023-02-20T13:49:40.061Z"
   },
   {
    "duration": 141,
    "start_time": "2023-02-20T13:52:01.949Z"
   },
   {
    "duration": 139,
    "start_time": "2023-02-20T13:52:11.160Z"
   },
   {
    "duration": 141,
    "start_time": "2023-02-20T13:52:13.328Z"
   },
   {
    "duration": 260,
    "start_time": "2023-02-20T13:52:13.730Z"
   },
   {
    "duration": 288,
    "start_time": "2023-02-20T13:52:13.992Z"
   },
   {
    "duration": 14,
    "start_time": "2023-02-20T13:52:14.281Z"
   },
   {
    "duration": 15,
    "start_time": "2023-02-20T13:52:17.662Z"
   },
   {
    "duration": 21,
    "start_time": "2023-02-20T13:52:18.540Z"
   },
   {
    "duration": 456,
    "start_time": "2023-02-20T13:57:05.017Z"
   },
   {
    "duration": 16,
    "start_time": "2023-02-20T14:00:45.003Z"
   },
   {
    "duration": 145,
    "start_time": "2023-02-20T14:01:12.193Z"
   },
   {
    "duration": 20,
    "start_time": "2023-02-20T14:01:22.932Z"
   },
   {
    "duration": 125,
    "start_time": "2023-02-20T14:01:33.957Z"
   },
   {
    "duration": 137,
    "start_time": "2023-02-20T14:02:13.766Z"
   },
   {
    "duration": 109,
    "start_time": "2023-02-20T14:02:21.407Z"
   },
   {
    "duration": 123,
    "start_time": "2023-02-20T14:02:39.665Z"
   },
   {
    "duration": 9,
    "start_time": "2023-02-20T14:02:53.658Z"
   },
   {
    "duration": 4,
    "start_time": "2023-02-20T14:03:02.368Z"
   },
   {
    "duration": 14,
    "start_time": "2023-02-20T14:03:24.369Z"
   },
   {
    "duration": 15,
    "start_time": "2023-02-20T14:03:29.076Z"
   },
   {
    "duration": 88,
    "start_time": "2023-02-20T14:44:22.912Z"
   },
   {
    "duration": 83,
    "start_time": "2023-02-20T14:44:34.911Z"
   },
   {
    "duration": 91,
    "start_time": "2023-02-20T14:44:43.200Z"
   },
   {
    "duration": 14,
    "start_time": "2023-02-20T14:44:48.084Z"
   },
   {
    "duration": 1464,
    "start_time": "2023-02-20T14:45:09.923Z"
   },
   {
    "duration": 15,
    "start_time": "2023-02-20T14:45:52.064Z"
   },
   {
    "duration": 14,
    "start_time": "2023-02-20T14:45:56.699Z"
   },
   {
    "duration": 15,
    "start_time": "2023-02-20T14:46:57.181Z"
   },
   {
    "duration": 15,
    "start_time": "2023-02-20T14:47:04.593Z"
   },
   {
    "duration": 39,
    "start_time": "2023-02-20T14:47:56.147Z"
   },
   {
    "duration": 25,
    "start_time": "2023-02-20T14:48:03.824Z"
   },
   {
    "duration": 17,
    "start_time": "2023-02-20T14:48:26.076Z"
   },
   {
    "duration": 21,
    "start_time": "2023-02-20T14:48:32.867Z"
   },
   {
    "duration": 9,
    "start_time": "2023-02-20T14:50:26.299Z"
   },
   {
    "duration": 15,
    "start_time": "2023-02-20T14:50:56.673Z"
   },
   {
    "duration": 6,
    "start_time": "2023-02-20T14:51:07.911Z"
   },
   {
    "duration": 3,
    "start_time": "2023-02-20T14:51:43.818Z"
   },
   {
    "duration": 5,
    "start_time": "2023-02-20T14:51:51.589Z"
   },
   {
    "duration": 12,
    "start_time": "2023-02-20T14:53:49.114Z"
   },
   {
    "duration": 4,
    "start_time": "2023-02-20T14:56:40.018Z"
   },
   {
    "duration": 4,
    "start_time": "2023-02-20T14:57:46.503Z"
   },
   {
    "duration": 5,
    "start_time": "2023-02-20T14:58:23.768Z"
   },
   {
    "duration": 5,
    "start_time": "2023-02-20T14:58:38.522Z"
   },
   {
    "duration": 6,
    "start_time": "2023-02-20T14:59:32.199Z"
   },
   {
    "duration": 10,
    "start_time": "2023-02-20T14:59:44.362Z"
   },
   {
    "duration": 8,
    "start_time": "2023-02-20T15:02:30.667Z"
   },
   {
    "duration": 12,
    "start_time": "2023-02-20T15:02:37.906Z"
   },
   {
    "duration": 10,
    "start_time": "2023-02-20T15:05:34.863Z"
   },
   {
    "duration": 10,
    "start_time": "2023-02-20T15:05:44.271Z"
   },
   {
    "duration": 24,
    "start_time": "2023-02-20T15:05:49.561Z"
   },
   {
    "duration": 12,
    "start_time": "2023-02-20T15:06:16.283Z"
   },
   {
    "duration": 13,
    "start_time": "2023-02-20T15:06:23.195Z"
   },
   {
    "duration": 5,
    "start_time": "2023-02-20T15:08:02.938Z"
   },
   {
    "duration": 11,
    "start_time": "2023-02-20T15:08:07.725Z"
   },
   {
    "duration": 71,
    "start_time": "2023-02-20T15:10:43.616Z"
   },
   {
    "duration": 11,
    "start_time": "2023-02-20T15:10:47.109Z"
   },
   {
    "duration": 14,
    "start_time": "2023-02-20T15:10:59.300Z"
   },
   {
    "duration": 5,
    "start_time": "2023-02-20T15:11:06.976Z"
   },
   {
    "duration": 5,
    "start_time": "2023-02-20T15:11:09.942Z"
   },
   {
    "duration": 11,
    "start_time": "2023-02-20T15:11:17.425Z"
   },
   {
    "duration": 11,
    "start_time": "2023-02-20T15:12:16.105Z"
   },
   {
    "duration": 5,
    "start_time": "2023-02-20T15:12:30.936Z"
   },
   {
    "duration": 12,
    "start_time": "2023-02-20T15:12:35.592Z"
   },
   {
    "duration": 7,
    "start_time": "2023-02-20T15:13:48.185Z"
   },
   {
    "duration": 1127,
    "start_time": "2023-02-20T15:13:56.055Z"
   },
   {
    "duration": 1220,
    "start_time": "2023-02-20T15:14:06.287Z"
   },
   {
    "duration": 1169,
    "start_time": "2023-02-20T15:14:10.063Z"
   },
   {
    "duration": 1136,
    "start_time": "2023-02-20T15:14:25.463Z"
   },
   {
    "duration": 4,
    "start_time": "2023-02-20T15:14:45.093Z"
   },
   {
    "duration": 628,
    "start_time": "2023-02-20T15:14:45.099Z"
   },
   {
    "duration": 28,
    "start_time": "2023-02-20T15:14:45.729Z"
   },
   {
    "duration": 510,
    "start_time": "2023-02-20T15:14:45.760Z"
   },
   {
    "duration": 311,
    "start_time": "2023-02-20T15:14:46.272Z"
   },
   {
    "duration": 317,
    "start_time": "2023-02-20T15:14:46.585Z"
   },
   {
    "duration": 11,
    "start_time": "2023-02-20T15:14:46.904Z"
   },
   {
    "duration": 42,
    "start_time": "2023-02-20T15:14:46.917Z"
   },
   {
    "duration": 14,
    "start_time": "2023-02-20T15:14:46.961Z"
   },
   {
    "duration": 37,
    "start_time": "2023-02-20T15:14:46.977Z"
   },
   {
    "duration": 72,
    "start_time": "2023-02-20T15:14:47.016Z"
   },
   {
    "duration": 17,
    "start_time": "2023-02-20T15:14:47.091Z"
   },
   {
    "duration": 35,
    "start_time": "2023-02-20T15:14:47.110Z"
   },
   {
    "duration": 9,
    "start_time": "2023-02-20T15:14:47.148Z"
   },
   {
    "duration": 21,
    "start_time": "2023-02-20T15:14:47.159Z"
   },
   {
    "duration": 380,
    "start_time": "2023-02-20T15:14:47.182Z"
   },
   {
    "duration": 10,
    "start_time": "2023-02-20T15:14:47.565Z"
   },
   {
    "duration": 75,
    "start_time": "2023-02-20T15:14:47.577Z"
   },
   {
    "duration": 19,
    "start_time": "2023-02-20T15:14:47.654Z"
   },
   {
    "duration": 203,
    "start_time": "2023-02-20T15:14:47.674Z"
   },
   {
    "duration": 281,
    "start_time": "2023-02-20T15:14:47.879Z"
   },
   {
    "duration": 251,
    "start_time": "2023-02-20T15:14:48.162Z"
   },
   {
    "duration": 141,
    "start_time": "2023-02-20T15:14:48.415Z"
   },
   {
    "duration": 152,
    "start_time": "2023-02-20T15:14:48.561Z"
   },
   {
    "duration": 285,
    "start_time": "2023-02-20T15:14:48.715Z"
   },
   {
    "duration": 477,
    "start_time": "2023-02-20T15:14:49.003Z"
   },
   {
    "duration": 23,
    "start_time": "2023-02-20T15:14:49.483Z"
   },
   {
    "duration": 35,
    "start_time": "2023-02-20T15:14:49.509Z"
   },
   {
    "duration": 23,
    "start_time": "2023-02-20T15:14:49.546Z"
   },
   {
    "duration": 21,
    "start_time": "2023-02-20T15:14:49.572Z"
   },
   {
    "duration": 27,
    "start_time": "2023-02-20T15:14:49.596Z"
   },
   {
    "duration": 8,
    "start_time": "2023-02-20T15:14:49.626Z"
   },
   {
    "duration": 4,
    "start_time": "2023-02-20T15:14:50.056Z"
   },
   {
    "duration": 604,
    "start_time": "2023-02-20T15:14:51.344Z"
   },
   {
    "duration": 27,
    "start_time": "2023-02-20T15:14:51.950Z"
   },
   {
    "duration": 435,
    "start_time": "2023-02-20T15:14:51.979Z"
   },
   {
    "duration": 304,
    "start_time": "2023-02-20T15:14:52.416Z"
   },
   {
    "duration": 297,
    "start_time": "2023-02-20T15:14:52.722Z"
   },
   {
    "duration": 23,
    "start_time": "2023-02-20T15:14:53.022Z"
   },
   {
    "duration": 34,
    "start_time": "2023-02-20T15:14:53.048Z"
   },
   {
    "duration": 11,
    "start_time": "2023-02-20T15:14:53.083Z"
   },
   {
    "duration": 20,
    "start_time": "2023-02-20T15:14:53.280Z"
   },
   {
    "duration": 47,
    "start_time": "2023-02-20T15:14:53.567Z"
   },
   {
    "duration": 21,
    "start_time": "2023-02-20T15:14:53.769Z"
   },
   {
    "duration": 12,
    "start_time": "2023-02-20T15:14:53.964Z"
   },
   {
    "duration": 5,
    "start_time": "2023-02-20T15:14:54.357Z"
   },
   {
    "duration": 27,
    "start_time": "2023-02-20T15:14:54.760Z"
   },
   {
    "duration": 313,
    "start_time": "2023-02-20T15:14:55.493Z"
   },
   {
    "duration": 12,
    "start_time": "2023-02-20T15:14:55.906Z"
   },
   {
    "duration": 54,
    "start_time": "2023-02-20T15:14:56.169Z"
   },
   {
    "duration": 27,
    "start_time": "2023-02-20T15:14:56.501Z"
   },
   {
    "duration": 161,
    "start_time": "2023-02-20T15:14:58.109Z"
   },
   {
    "duration": 253,
    "start_time": "2023-02-20T15:14:58.357Z"
   },
   {
    "duration": 254,
    "start_time": "2023-02-20T15:14:58.614Z"
   },
   {
    "duration": 208,
    "start_time": "2023-02-20T15:14:58.894Z"
   },
   {
    "duration": 166,
    "start_time": "2023-02-20T15:14:59.184Z"
   },
   {
    "duration": 249,
    "start_time": "2023-02-20T15:14:59.508Z"
   },
   {
    "duration": 283,
    "start_time": "2023-02-20T15:14:59.760Z"
   },
   {
    "duration": 17,
    "start_time": "2023-02-20T15:15:00.446Z"
   },
   {
    "duration": 19,
    "start_time": "2023-02-20T15:15:00.556Z"
   },
   {
    "duration": 6,
    "start_time": "2023-02-20T15:15:02.744Z"
   },
   {
    "duration": 14,
    "start_time": "2023-02-20T15:15:03.255Z"
   },
   {
    "duration": 5,
    "start_time": "2023-02-20T15:15:04.080Z"
   },
   {
    "duration": 17,
    "start_time": "2023-02-20T15:15:15.901Z"
   },
   {
    "duration": 1166,
    "start_time": "2023-02-20T15:18:26.695Z"
   },
   {
    "duration": 8,
    "start_time": "2023-02-20T15:18:31.926Z"
   },
   {
    "duration": 1155,
    "start_time": "2023-02-20T15:18:32.094Z"
   },
   {
    "duration": 4,
    "start_time": "2023-02-20T15:18:39.109Z"
   },
   {
    "duration": 786,
    "start_time": "2023-02-20T15:18:39.116Z"
   },
   {
    "duration": 41,
    "start_time": "2023-02-20T15:18:39.905Z"
   },
   {
    "duration": 498,
    "start_time": "2023-02-20T15:18:39.948Z"
   },
   {
    "duration": 348,
    "start_time": "2023-02-20T15:18:40.448Z"
   },
   {
    "duration": 336,
    "start_time": "2023-02-20T15:18:40.799Z"
   },
   {
    "duration": 12,
    "start_time": "2023-02-20T15:18:41.137Z"
   },
   {
    "duration": 30,
    "start_time": "2023-02-20T15:18:41.152Z"
   },
   {
    "duration": 11,
    "start_time": "2023-02-20T15:18:41.186Z"
   },
   {
    "duration": 52,
    "start_time": "2023-02-20T15:18:41.199Z"
   },
   {
    "duration": 52,
    "start_time": "2023-02-20T15:18:41.254Z"
   },
   {
    "duration": 34,
    "start_time": "2023-02-20T15:18:41.308Z"
   },
   {
    "duration": 11,
    "start_time": "2023-02-20T15:18:41.344Z"
   },
   {
    "duration": 8,
    "start_time": "2023-02-20T15:18:41.358Z"
   },
   {
    "duration": 24,
    "start_time": "2023-02-20T15:18:41.369Z"
   },
   {
    "duration": 422,
    "start_time": "2023-02-20T15:18:41.395Z"
   },
   {
    "duration": 25,
    "start_time": "2023-02-20T15:18:41.819Z"
   },
   {
    "duration": 84,
    "start_time": "2023-02-20T15:18:41.847Z"
   },
   {
    "duration": 30,
    "start_time": "2023-02-20T15:18:41.933Z"
   },
   {
    "duration": 268,
    "start_time": "2023-02-20T15:18:41.965Z"
   },
   {
    "duration": 301,
    "start_time": "2023-02-20T15:18:42.245Z"
   },
   {
    "duration": 282,
    "start_time": "2023-02-20T15:18:42.548Z"
   },
   {
    "duration": 152,
    "start_time": "2023-02-20T15:18:42.840Z"
   },
   {
    "duration": 151,
    "start_time": "2023-02-20T15:18:42.997Z"
   },
   {
    "duration": 300,
    "start_time": "2023-02-20T15:18:43.151Z"
   },
   {
    "duration": 529,
    "start_time": "2023-02-20T15:18:43.453Z"
   },
   {
    "duration": 17,
    "start_time": "2023-02-20T15:18:43.984Z"
   },
   {
    "duration": 37,
    "start_time": "2023-02-20T15:18:44.003Z"
   },
   {
    "duration": 7,
    "start_time": "2023-02-20T15:18:44.043Z"
   },
   {
    "duration": 1259,
    "start_time": "2023-02-20T15:18:44.052Z"
   },
   {
    "duration": 0,
    "start_time": "2023-02-20T15:18:45.313Z"
   },
   {
    "duration": 0,
    "start_time": "2023-02-20T15:18:45.317Z"
   },
   {
    "duration": 15,
    "start_time": "2023-02-20T15:19:05.594Z"
   },
   {
    "duration": 13,
    "start_time": "2023-02-20T15:19:28.064Z"
   },
   {
    "duration": 14,
    "start_time": "2023-02-20T15:22:28.739Z"
   },
   {
    "duration": 5,
    "start_time": "2023-02-20T15:24:53.188Z"
   },
   {
    "duration": 29,
    "start_time": "2023-02-20T15:24:55.359Z"
   },
   {
    "duration": 10,
    "start_time": "2023-02-20T15:25:32.260Z"
   },
   {
    "duration": 9,
    "start_time": "2023-02-20T15:25:40.616Z"
   },
   {
    "duration": 3,
    "start_time": "2023-02-20T15:25:46.024Z"
   },
   {
    "duration": 618,
    "start_time": "2023-02-20T15:25:46.029Z"
   },
   {
    "duration": 29,
    "start_time": "2023-02-20T15:25:46.649Z"
   },
   {
    "duration": 493,
    "start_time": "2023-02-20T15:25:46.681Z"
   },
   {
    "duration": 305,
    "start_time": "2023-02-20T15:25:47.176Z"
   },
   {
    "duration": 306,
    "start_time": "2023-02-20T15:25:47.482Z"
   },
   {
    "duration": 12,
    "start_time": "2023-02-20T15:25:47.790Z"
   },
   {
    "duration": 45,
    "start_time": "2023-02-20T15:25:47.804Z"
   },
   {
    "duration": 12,
    "start_time": "2023-02-20T15:25:47.852Z"
   },
   {
    "duration": 51,
    "start_time": "2023-02-20T15:25:47.866Z"
   },
   {
    "duration": 65,
    "start_time": "2023-02-20T15:25:47.919Z"
   },
   {
    "duration": 16,
    "start_time": "2023-02-20T15:25:47.986Z"
   },
   {
    "duration": 10,
    "start_time": "2023-02-20T15:25:48.004Z"
   },
   {
    "duration": 5,
    "start_time": "2023-02-20T15:25:48.040Z"
   },
   {
    "duration": 23,
    "start_time": "2023-02-20T15:25:48.047Z"
   },
   {
    "duration": 384,
    "start_time": "2023-02-20T15:25:48.072Z"
   },
   {
    "duration": 10,
    "start_time": "2023-02-20T15:25:48.458Z"
   },
   {
    "duration": 74,
    "start_time": "2023-02-20T15:25:48.469Z"
   },
   {
    "duration": 17,
    "start_time": "2023-02-20T15:25:48.545Z"
   },
   {
    "duration": 188,
    "start_time": "2023-02-20T15:25:48.564Z"
   },
   {
    "duration": 266,
    "start_time": "2023-02-20T15:25:48.754Z"
   },
   {
    "duration": 351,
    "start_time": "2023-02-20T15:25:49.023Z"
   },
   {
    "duration": 141,
    "start_time": "2023-02-20T15:25:49.376Z"
   },
   {
    "duration": 140,
    "start_time": "2023-02-20T15:25:49.520Z"
   },
   {
    "duration": 264,
    "start_time": "2023-02-20T15:25:49.662Z"
   },
   {
    "duration": 279,
    "start_time": "2023-02-20T15:25:49.928Z"
   },
   {
    "duration": 41,
    "start_time": "2023-02-20T15:25:50.209Z"
   },
   {
    "duration": 16,
    "start_time": "2023-02-20T15:25:50.252Z"
   },
   {
    "duration": 8,
    "start_time": "2023-02-20T15:25:50.270Z"
   },
   {
    "duration": 12,
    "start_time": "2023-02-20T15:25:50.280Z"
   },
   {
    "duration": 0,
    "start_time": "2023-02-20T15:25:50.294Z"
   },
   {
    "duration": 0,
    "start_time": "2023-02-20T15:25:50.295Z"
   },
   {
    "duration": 0,
    "start_time": "2023-02-20T15:25:50.296Z"
   },
   {
    "duration": 607,
    "start_time": "2023-02-20T15:25:50.671Z"
   },
   {
    "duration": 28,
    "start_time": "2023-02-20T15:25:51.280Z"
   },
   {
    "duration": 451,
    "start_time": "2023-02-20T15:25:51.310Z"
   },
   {
    "duration": 319,
    "start_time": "2023-02-20T15:25:51.764Z"
   },
   {
    "duration": 338,
    "start_time": "2023-02-20T15:25:52.085Z"
   },
   {
    "duration": 16,
    "start_time": "2023-02-20T15:25:52.425Z"
   },
   {
    "duration": 31,
    "start_time": "2023-02-20T15:25:52.443Z"
   },
   {
    "duration": 11,
    "start_time": "2023-02-20T15:25:52.476Z"
   },
   {
    "duration": 56,
    "start_time": "2023-02-20T15:25:52.490Z"
   },
   {
    "duration": 56,
    "start_time": "2023-02-20T15:25:52.548Z"
   },
   {
    "duration": 29,
    "start_time": "2023-02-20T15:25:52.614Z"
   },
   {
    "duration": 10,
    "start_time": "2023-02-20T15:25:52.784Z"
   },
   {
    "duration": 4,
    "start_time": "2023-02-20T15:25:53.317Z"
   },
   {
    "duration": 17,
    "start_time": "2023-02-20T15:25:53.682Z"
   },
   {
    "duration": 355,
    "start_time": "2023-02-20T15:25:55.400Z"
   },
   {
    "duration": 13,
    "start_time": "2023-02-20T15:25:55.758Z"
   },
   {
    "duration": 85,
    "start_time": "2023-02-20T15:25:55.773Z"
   },
   {
    "duration": 24,
    "start_time": "2023-02-20T15:25:56.017Z"
   },
   {
    "duration": 161,
    "start_time": "2023-02-20T15:25:56.213Z"
   },
   {
    "duration": 245,
    "start_time": "2023-02-20T15:25:56.589Z"
   },
   {
    "duration": 282,
    "start_time": "2023-02-20T15:25:56.842Z"
   },
   {
    "duration": 167,
    "start_time": "2023-02-20T15:25:57.126Z"
   },
   {
    "duration": 186,
    "start_time": "2023-02-20T15:25:57.296Z"
   },
   {
    "duration": 247,
    "start_time": "2023-02-20T15:25:57.968Z"
   },
   {
    "duration": 271,
    "start_time": "2023-02-20T15:25:58.217Z"
   },
   {
    "duration": 17,
    "start_time": "2023-02-20T15:25:58.541Z"
   },
   {
    "duration": 16,
    "start_time": "2023-02-20T15:25:58.717Z"
   },
   {
    "duration": 7,
    "start_time": "2023-02-20T15:25:59.767Z"
   },
   {
    "duration": 12,
    "start_time": "2023-02-20T15:25:59.967Z"
   },
   {
    "duration": 5,
    "start_time": "2023-02-20T15:26:00.163Z"
   },
   {
    "duration": 18,
    "start_time": "2023-02-20T15:27:08.125Z"
   },
   {
    "duration": 19,
    "start_time": "2023-02-20T15:27:20.816Z"
   },
   {
    "duration": 10,
    "start_time": "2023-02-20T15:28:00.194Z"
   },
   {
    "duration": 17,
    "start_time": "2023-02-20T15:28:02.683Z"
   },
   {
    "duration": 16,
    "start_time": "2023-02-20T15:28:13.261Z"
   },
   {
    "duration": 21,
    "start_time": "2023-02-20T15:28:30.140Z"
   },
   {
    "duration": 1256,
    "start_time": "2023-02-20T15:31:14.704Z"
   },
   {
    "duration": 1192,
    "start_time": "2023-02-20T15:31:27.989Z"
   },
   {
    "duration": 1180,
    "start_time": "2023-02-20T15:31:32.874Z"
   },
   {
    "duration": 1202,
    "start_time": "2023-02-20T15:31:44.596Z"
   },
   {
    "duration": 5,
    "start_time": "2023-02-20T15:31:49.302Z"
   },
   {
    "duration": 641,
    "start_time": "2023-02-20T15:31:49.309Z"
   },
   {
    "duration": 26,
    "start_time": "2023-02-20T15:31:49.952Z"
   },
   {
    "duration": 430,
    "start_time": "2023-02-20T15:31:49.980Z"
   },
   {
    "duration": 320,
    "start_time": "2023-02-20T15:31:50.412Z"
   },
   {
    "duration": 297,
    "start_time": "2023-02-20T15:31:50.734Z"
   },
   {
    "duration": 13,
    "start_time": "2023-02-20T15:31:51.034Z"
   },
   {
    "duration": 27,
    "start_time": "2023-02-20T15:31:51.049Z"
   },
   {
    "duration": 10,
    "start_time": "2023-02-20T15:31:51.079Z"
   },
   {
    "duration": 23,
    "start_time": "2023-02-20T15:31:51.090Z"
   },
   {
    "duration": 45,
    "start_time": "2023-02-20T15:31:51.140Z"
   },
   {
    "duration": 14,
    "start_time": "2023-02-20T15:31:51.186Z"
   },
   {
    "duration": 8,
    "start_time": "2023-02-20T15:31:51.201Z"
   },
   {
    "duration": 32,
    "start_time": "2023-02-20T15:31:51.211Z"
   },
   {
    "duration": 37,
    "start_time": "2023-02-20T15:31:51.245Z"
   },
   {
    "duration": 387,
    "start_time": "2023-02-20T15:31:51.284Z"
   },
   {
    "duration": 12,
    "start_time": "2023-02-20T15:31:51.673Z"
   },
   {
    "duration": 75,
    "start_time": "2023-02-20T15:31:51.687Z"
   },
   {
    "duration": 17,
    "start_time": "2023-02-20T15:31:51.764Z"
   },
   {
    "duration": 186,
    "start_time": "2023-02-20T15:31:51.783Z"
   },
   {
    "duration": 251,
    "start_time": "2023-02-20T15:31:51.971Z"
   },
   {
    "duration": 536,
    "start_time": "2023-02-20T15:31:52.224Z"
   },
   {
    "duration": 139,
    "start_time": "2023-02-20T15:31:52.762Z"
   },
   {
    "duration": 142,
    "start_time": "2023-02-20T15:31:52.904Z"
   },
   {
    "duration": 272,
    "start_time": "2023-02-20T15:31:53.048Z"
   },
   {
    "duration": 263,
    "start_time": "2023-02-20T15:31:53.322Z"
   },
   {
    "duration": 17,
    "start_time": "2023-02-20T15:31:53.586Z"
   },
   {
    "duration": 35,
    "start_time": "2023-02-20T15:31:53.605Z"
   },
   {
    "duration": 27,
    "start_time": "2023-02-20T15:31:53.642Z"
   },
   {
    "duration": 0,
    "start_time": "2023-02-20T15:31:53.670Z"
   },
   {
    "duration": 0,
    "start_time": "2023-02-20T15:31:53.672Z"
   },
   {
    "duration": 0,
    "start_time": "2023-02-20T15:31:53.673Z"
   },
   {
    "duration": 12,
    "start_time": "2023-02-20T15:32:03.159Z"
   },
   {
    "duration": 1160,
    "start_time": "2023-02-20T15:32:59.301Z"
   },
   {
    "duration": 3,
    "start_time": "2023-02-20T15:33:10.181Z"
   },
   {
    "duration": 561,
    "start_time": "2023-02-20T15:33:10.187Z"
   },
   {
    "duration": 27,
    "start_time": "2023-02-20T15:33:10.750Z"
   },
   {
    "duration": 437,
    "start_time": "2023-02-20T15:33:10.780Z"
   },
   {
    "duration": 302,
    "start_time": "2023-02-20T15:33:11.219Z"
   },
   {
    "duration": 299,
    "start_time": "2023-02-20T15:33:11.522Z"
   },
   {
    "duration": 18,
    "start_time": "2023-02-20T15:33:11.823Z"
   },
   {
    "duration": 26,
    "start_time": "2023-02-20T15:33:11.843Z"
   },
   {
    "duration": 13,
    "start_time": "2023-02-20T15:33:11.873Z"
   },
   {
    "duration": 52,
    "start_time": "2023-02-20T15:33:11.888Z"
   },
   {
    "duration": 46,
    "start_time": "2023-02-20T15:33:11.942Z"
   },
   {
    "duration": 17,
    "start_time": "2023-02-20T15:33:11.989Z"
   },
   {
    "duration": 36,
    "start_time": "2023-02-20T15:33:12.008Z"
   },
   {
    "duration": 4,
    "start_time": "2023-02-20T15:33:12.046Z"
   },
   {
    "duration": 21,
    "start_time": "2023-02-20T15:33:12.052Z"
   },
   {
    "duration": 365,
    "start_time": "2023-02-20T15:33:12.075Z"
   },
   {
    "duration": 11,
    "start_time": "2023-02-20T15:33:12.442Z"
   },
   {
    "duration": 87,
    "start_time": "2023-02-20T15:33:12.455Z"
   },
   {
    "duration": 17,
    "start_time": "2023-02-20T15:33:12.544Z"
   },
   {
    "duration": 164,
    "start_time": "2023-02-20T15:33:12.564Z"
   },
   {
    "duration": 251,
    "start_time": "2023-02-20T15:33:12.730Z"
   },
   {
    "duration": 258,
    "start_time": "2023-02-20T15:33:12.983Z"
   },
   {
    "duration": 147,
    "start_time": "2023-02-20T15:33:13.243Z"
   },
   {
    "duration": 140,
    "start_time": "2023-02-20T15:33:13.393Z"
   },
   {
    "duration": 267,
    "start_time": "2023-02-20T15:33:13.534Z"
   },
   {
    "duration": 270,
    "start_time": "2023-02-20T15:33:13.803Z"
   },
   {
    "duration": 17,
    "start_time": "2023-02-20T15:33:14.075Z"
   },
   {
    "duration": 15,
    "start_time": "2023-02-20T15:33:14.095Z"
   },
   {
    "duration": 43,
    "start_time": "2023-02-20T15:33:14.112Z"
   },
   {
    "duration": 0,
    "start_time": "2023-02-20T15:33:14.157Z"
   },
   {
    "duration": 0,
    "start_time": "2023-02-20T15:33:14.158Z"
   },
   {
    "duration": 0,
    "start_time": "2023-02-20T15:33:14.159Z"
   },
   {
    "duration": 11,
    "start_time": "2023-02-20T15:33:19.541Z"
   },
   {
    "duration": 8,
    "start_time": "2023-02-20T15:33:38.241Z"
   },
   {
    "duration": 6,
    "start_time": "2023-02-20T15:33:49.292Z"
   },
   {
    "duration": 9,
    "start_time": "2023-02-20T15:33:49.530Z"
   },
   {
    "duration": 14,
    "start_time": "2023-02-20T15:33:58.045Z"
   },
   {
    "duration": 10,
    "start_time": "2023-02-20T15:34:08.968Z"
   },
   {
    "duration": 11,
    "start_time": "2023-02-20T15:37:06.145Z"
   },
   {
    "duration": 13,
    "start_time": "2023-02-20T15:37:17.922Z"
   },
   {
    "duration": 10,
    "start_time": "2023-02-20T15:37:58.316Z"
   },
   {
    "duration": 10,
    "start_time": "2023-02-20T15:38:29.581Z"
   },
   {
    "duration": 5,
    "start_time": "2023-02-20T15:41:30.675Z"
   },
   {
    "duration": 16,
    "start_time": "2023-02-20T15:41:54.020Z"
   },
   {
    "duration": 4,
    "start_time": "2023-02-20T15:42:05.259Z"
   },
   {
    "duration": 7,
    "start_time": "2023-02-20T15:42:05.523Z"
   },
   {
    "duration": 13,
    "start_time": "2023-02-20T15:46:54.357Z"
   },
   {
    "duration": 33,
    "start_time": "2023-02-20T15:49:47.129Z"
   },
   {
    "duration": 7,
    "start_time": "2023-02-20T15:50:58.470Z"
   },
   {
    "duration": 29,
    "start_time": "2023-02-20T15:51:03.048Z"
   },
   {
    "duration": 28,
    "start_time": "2023-02-20T15:52:42.655Z"
   },
   {
    "duration": 9,
    "start_time": "2023-02-20T15:52:54.629Z"
   },
   {
    "duration": 28,
    "start_time": "2023-02-20T15:53:10.264Z"
   },
   {
    "duration": 10,
    "start_time": "2023-02-20T15:59:41.865Z"
   },
   {
    "duration": 31,
    "start_time": "2023-02-20T16:02:30.800Z"
   },
   {
    "duration": 31,
    "start_time": "2023-02-20T16:02:37.555Z"
   },
   {
    "duration": 33,
    "start_time": "2023-02-20T16:02:54.121Z"
   },
   {
    "duration": 3,
    "start_time": "2023-02-20T16:03:10.482Z"
   },
   {
    "duration": 569,
    "start_time": "2023-02-20T16:03:10.488Z"
   },
   {
    "duration": 28,
    "start_time": "2023-02-20T16:03:11.059Z"
   },
   {
    "duration": 448,
    "start_time": "2023-02-20T16:03:11.089Z"
   },
   {
    "duration": 295,
    "start_time": "2023-02-20T16:03:11.539Z"
   },
   {
    "duration": 297,
    "start_time": "2023-02-20T16:03:11.836Z"
   },
   {
    "duration": 13,
    "start_time": "2023-02-20T16:03:12.135Z"
   },
   {
    "duration": 25,
    "start_time": "2023-02-20T16:03:12.150Z"
   },
   {
    "duration": 10,
    "start_time": "2023-02-20T16:03:12.177Z"
   },
   {
    "duration": 23,
    "start_time": "2023-02-20T16:03:12.189Z"
   },
   {
    "duration": 46,
    "start_time": "2023-02-20T16:03:12.241Z"
   },
   {
    "duration": 16,
    "start_time": "2023-02-20T16:03:12.288Z"
   },
   {
    "duration": 7,
    "start_time": "2023-02-20T16:03:12.305Z"
   },
   {
    "duration": 27,
    "start_time": "2023-02-20T16:03:12.314Z"
   },
   {
    "duration": 25,
    "start_time": "2023-02-20T16:03:12.343Z"
   },
   {
    "duration": 371,
    "start_time": "2023-02-20T16:03:12.370Z"
   },
   {
    "duration": 12,
    "start_time": "2023-02-20T16:03:12.743Z"
   },
   {
    "duration": 69,
    "start_time": "2023-02-20T16:03:12.757Z"
   },
   {
    "duration": 25,
    "start_time": "2023-02-20T16:03:12.828Z"
   },
   {
    "duration": 157,
    "start_time": "2023-02-20T16:03:12.855Z"
   },
   {
    "duration": 260,
    "start_time": "2023-02-20T16:03:13.014Z"
   },
   {
    "duration": 271,
    "start_time": "2023-02-20T16:03:13.276Z"
   },
   {
    "duration": 138,
    "start_time": "2023-02-20T16:03:13.548Z"
   },
   {
    "duration": 132,
    "start_time": "2023-02-20T16:03:13.687Z"
   },
   {
    "duration": 250,
    "start_time": "2023-02-20T16:03:13.821Z"
   },
   {
    "duration": 269,
    "start_time": "2023-02-20T16:03:14.073Z"
   },
   {
    "duration": 17,
    "start_time": "2023-02-20T16:03:14.343Z"
   },
   {
    "duration": 15,
    "start_time": "2023-02-20T16:03:14.362Z"
   },
   {
    "duration": 12,
    "start_time": "2023-02-20T16:03:14.380Z"
   },
   {
    "duration": 8,
    "start_time": "2023-02-20T16:03:14.393Z"
   },
   {
    "duration": 10,
    "start_time": "2023-02-20T16:03:14.402Z"
   },
   {
    "duration": 15,
    "start_time": "2023-02-20T16:04:15.566Z"
   },
   {
    "duration": 12,
    "start_time": "2023-02-20T16:06:08.617Z"
   },
   {
    "duration": 14,
    "start_time": "2023-02-20T16:07:01.054Z"
   },
   {
    "duration": 12,
    "start_time": "2023-02-20T16:07:22.323Z"
   },
   {
    "duration": 13,
    "start_time": "2023-02-20T16:07:30.802Z"
   },
   {
    "duration": 12,
    "start_time": "2023-02-20T16:07:39.560Z"
   },
   {
    "duration": 15,
    "start_time": "2023-02-20T16:08:21.962Z"
   },
   {
    "duration": 1182,
    "start_time": "2023-02-20T16:12:42.262Z"
   },
   {
    "duration": 1172,
    "start_time": "2023-02-20T16:13:08.939Z"
   },
   {
    "duration": 15,
    "start_time": "2023-02-20T16:13:18.471Z"
   },
   {
    "duration": 1168,
    "start_time": "2023-02-20T16:13:18.855Z"
   },
   {
    "duration": 10,
    "start_time": "2023-02-20T16:13:37.521Z"
   },
   {
    "duration": 11,
    "start_time": "2023-02-20T16:14:03.446Z"
   },
   {
    "duration": 21,
    "start_time": "2023-02-20T16:15:30.904Z"
   },
   {
    "duration": 12,
    "start_time": "2023-02-20T16:17:08.094Z"
   },
   {
    "duration": 12,
    "start_time": "2023-02-20T16:19:07.800Z"
   },
   {
    "duration": 9,
    "start_time": "2023-02-20T16:19:15.068Z"
   },
   {
    "duration": 12,
    "start_time": "2023-02-20T16:44:31.816Z"
   },
   {
    "duration": 14,
    "start_time": "2023-02-20T16:45:16.070Z"
   },
   {
    "duration": 11,
    "start_time": "2023-02-20T16:45:54.457Z"
   },
   {
    "duration": 12,
    "start_time": "2023-02-20T16:46:13.320Z"
   },
   {
    "duration": 11,
    "start_time": "2023-02-20T16:46:13.970Z"
   },
   {
    "duration": 19,
    "start_time": "2023-02-20T16:52:52.598Z"
   },
   {
    "duration": 9,
    "start_time": "2023-02-20T16:56:22.571Z"
   },
   {
    "duration": 12,
    "start_time": "2023-02-20T16:57:21.577Z"
   },
   {
    "duration": 10,
    "start_time": "2023-02-20T16:57:54.903Z"
   },
   {
    "duration": 8,
    "start_time": "2023-02-20T16:58:06.395Z"
   },
   {
    "duration": 14,
    "start_time": "2023-02-20T16:58:12.520Z"
   },
   {
    "duration": 15,
    "start_time": "2023-02-20T17:00:15.126Z"
   },
   {
    "duration": 10,
    "start_time": "2023-02-20T17:01:44.572Z"
   },
   {
    "duration": 6,
    "start_time": "2023-02-20T17:01:54.287Z"
   },
   {
    "duration": 8,
    "start_time": "2023-02-20T17:02:00.300Z"
   },
   {
    "duration": 8,
    "start_time": "2023-02-20T17:02:16.456Z"
   },
   {
    "duration": 7,
    "start_time": "2023-02-20T17:04:01.584Z"
   },
   {
    "duration": 9,
    "start_time": "2023-02-20T17:04:50.229Z"
   },
   {
    "duration": 17,
    "start_time": "2023-02-20T17:04:59.260Z"
   },
   {
    "duration": 13,
    "start_time": "2023-02-20T17:05:28.662Z"
   },
   {
    "duration": 12,
    "start_time": "2023-02-20T17:05:38.367Z"
   },
   {
    "duration": 11,
    "start_time": "2023-02-20T17:06:00.303Z"
   },
   {
    "duration": 11,
    "start_time": "2023-02-20T17:06:13.123Z"
   },
   {
    "duration": 14,
    "start_time": "2023-02-20T17:06:17.772Z"
   },
   {
    "duration": 7,
    "start_time": "2023-02-20T17:06:24.484Z"
   },
   {
    "duration": 12,
    "start_time": "2023-02-20T17:06:28.368Z"
   },
   {
    "duration": 3,
    "start_time": "2023-02-20T17:06:34.901Z"
   },
   {
    "duration": 611,
    "start_time": "2023-02-20T17:06:34.906Z"
   },
   {
    "duration": 29,
    "start_time": "2023-02-20T17:06:35.519Z"
   },
   {
    "duration": 430,
    "start_time": "2023-02-20T17:06:35.551Z"
   },
   {
    "duration": 318,
    "start_time": "2023-02-20T17:06:35.982Z"
   },
   {
    "duration": 303,
    "start_time": "2023-02-20T17:06:36.302Z"
   },
   {
    "duration": 9,
    "start_time": "2023-02-20T17:06:36.607Z"
   },
   {
    "duration": 43,
    "start_time": "2023-02-20T17:06:36.618Z"
   },
   {
    "duration": 10,
    "start_time": "2023-02-20T17:06:36.664Z"
   },
   {
    "duration": 44,
    "start_time": "2023-02-20T17:06:36.676Z"
   },
   {
    "duration": 74,
    "start_time": "2023-02-20T17:06:36.722Z"
   },
   {
    "duration": 17,
    "start_time": "2023-02-20T17:06:36.798Z"
   },
   {
    "duration": 26,
    "start_time": "2023-02-20T17:06:36.817Z"
   },
   {
    "duration": 5,
    "start_time": "2023-02-20T17:06:36.844Z"
   },
   {
    "duration": 19,
    "start_time": "2023-02-20T17:06:36.851Z"
   },
   {
    "duration": 385,
    "start_time": "2023-02-20T17:06:36.872Z"
   },
   {
    "duration": 10,
    "start_time": "2023-02-20T17:06:37.259Z"
   },
   {
    "duration": 82,
    "start_time": "2023-02-20T17:06:37.271Z"
   },
   {
    "duration": 18,
    "start_time": "2023-02-20T17:06:37.355Z"
   },
   {
    "duration": 178,
    "start_time": "2023-02-20T17:06:37.375Z"
   },
   {
    "duration": 590,
    "start_time": "2023-02-20T17:06:37.555Z"
   },
   {
    "duration": 254,
    "start_time": "2023-02-20T17:06:38.147Z"
   },
   {
    "duration": 139,
    "start_time": "2023-02-20T17:06:38.403Z"
   },
   {
    "duration": 132,
    "start_time": "2023-02-20T17:06:38.545Z"
   },
   {
    "duration": 287,
    "start_time": "2023-02-20T17:06:38.679Z"
   },
   {
    "duration": 291,
    "start_time": "2023-02-20T17:06:38.968Z"
   },
   {
    "duration": 16,
    "start_time": "2023-02-20T17:06:39.261Z"
   },
   {
    "duration": 15,
    "start_time": "2023-02-20T17:06:39.279Z"
   },
   {
    "duration": 15,
    "start_time": "2023-02-20T17:06:39.295Z"
   },
   {
    "duration": 38,
    "start_time": "2023-02-20T17:06:39.311Z"
   },
   {
    "duration": 23,
    "start_time": "2023-02-20T17:06:39.350Z"
   },
   {
    "duration": 13,
    "start_time": "2023-02-20T17:06:39.375Z"
   },
   {
    "duration": 16,
    "start_time": "2023-02-20T17:06:39.390Z"
   },
   {
    "duration": 12,
    "start_time": "2023-02-20T17:06:39.409Z"
   },
   {
    "duration": 6,
    "start_time": "2023-02-20T17:06:39.423Z"
   },
   {
    "duration": 12,
    "start_time": "2023-02-20T17:07:07.791Z"
   },
   {
    "duration": 11,
    "start_time": "2023-02-20T17:07:16.864Z"
   },
   {
    "duration": 14,
    "start_time": "2023-02-20T17:07:29.084Z"
   },
   {
    "duration": 11,
    "start_time": "2023-02-20T17:07:33.084Z"
   },
   {
    "duration": 3,
    "start_time": "2023-02-20T17:08:45.984Z"
   },
   {
    "duration": 8,
    "start_time": "2023-02-20T17:09:16.119Z"
   },
   {
    "duration": 88,
    "start_time": "2023-02-20T17:12:39.761Z"
   },
   {
    "duration": 71,
    "start_time": "2023-02-20T17:12:53.164Z"
   },
   {
    "duration": 7,
    "start_time": "2023-02-20T17:13:11.492Z"
   },
   {
    "duration": 12,
    "start_time": "2023-02-20T17:13:39.488Z"
   },
   {
    "duration": 7,
    "start_time": "2023-02-20T17:14:10.434Z"
   },
   {
    "duration": 12,
    "start_time": "2023-02-20T17:14:20.189Z"
   },
   {
    "duration": 7,
    "start_time": "2023-02-20T17:15:25.130Z"
   },
   {
    "duration": 1173,
    "start_time": "2023-02-20T17:15:25.372Z"
   },
   {
    "duration": 12,
    "start_time": "2023-02-20T17:15:31.865Z"
   },
   {
    "duration": 11,
    "start_time": "2023-02-20T17:15:32.139Z"
   },
   {
    "duration": 7,
    "start_time": "2023-02-20T17:15:32.401Z"
   },
   {
    "duration": 13,
    "start_time": "2023-02-20T17:15:32.812Z"
   },
   {
    "duration": 3,
    "start_time": "2023-02-20T17:15:32.989Z"
   },
   {
    "duration": 14,
    "start_time": "2023-02-20T17:16:24.864Z"
   },
   {
    "duration": 13,
    "start_time": "2023-02-20T17:16:46.020Z"
   },
   {
    "duration": 11,
    "start_time": "2023-02-20T17:17:06.420Z"
   },
   {
    "duration": 10,
    "start_time": "2023-02-20T17:17:44.211Z"
   },
   {
    "duration": 11,
    "start_time": "2023-02-20T17:17:44.844Z"
   },
   {
    "duration": 6,
    "start_time": "2023-02-20T17:17:55.668Z"
   },
   {
    "duration": 8,
    "start_time": "2023-02-20T17:18:33.656Z"
   },
   {
    "duration": 8,
    "start_time": "2023-02-20T17:18:41.068Z"
   },
   {
    "duration": 15,
    "start_time": "2023-02-20T17:19:02.886Z"
   },
   {
    "duration": 7,
    "start_time": "2023-02-20T17:19:08.481Z"
   },
   {
    "duration": 16,
    "start_time": "2023-02-20T17:19:08.952Z"
   },
   {
    "duration": 4,
    "start_time": "2023-02-20T17:48:22.874Z"
   },
   {
    "duration": 708,
    "start_time": "2023-02-20T17:48:22.880Z"
   },
   {
    "duration": 49,
    "start_time": "2023-02-20T17:48:23.591Z"
   },
   {
    "duration": 474,
    "start_time": "2023-02-20T17:48:23.643Z"
   },
   {
    "duration": 323,
    "start_time": "2023-02-20T17:48:24.119Z"
   },
   {
    "duration": 283,
    "start_time": "2023-02-20T17:48:24.444Z"
   },
   {
    "duration": 15,
    "start_time": "2023-02-20T17:48:24.729Z"
   },
   {
    "duration": 35,
    "start_time": "2023-02-20T17:48:24.746Z"
   },
   {
    "duration": 9,
    "start_time": "2023-02-20T17:48:24.785Z"
   },
   {
    "duration": 25,
    "start_time": "2023-02-20T17:48:24.795Z"
   },
   {
    "duration": 49,
    "start_time": "2023-02-20T17:48:24.841Z"
   },
   {
    "duration": 16,
    "start_time": "2023-02-20T17:48:24.892Z"
   },
   {
    "duration": 30,
    "start_time": "2023-02-20T17:48:24.910Z"
   },
   {
    "duration": 5,
    "start_time": "2023-02-20T17:48:24.942Z"
   },
   {
    "duration": 21,
    "start_time": "2023-02-20T17:48:24.949Z"
   },
   {
    "duration": 345,
    "start_time": "2023-02-20T17:48:24.972Z"
   },
   {
    "duration": 23,
    "start_time": "2023-02-20T17:48:25.318Z"
   },
   {
    "duration": 53,
    "start_time": "2023-02-20T17:48:25.343Z"
   },
   {
    "duration": 16,
    "start_time": "2023-02-20T17:48:25.398Z"
   },
   {
    "duration": 195,
    "start_time": "2023-02-20T17:48:25.416Z"
   },
   {
    "duration": 271,
    "start_time": "2023-02-20T17:48:25.613Z"
   },
   {
    "duration": 291,
    "start_time": "2023-02-20T17:48:25.886Z"
   },
   {
    "duration": 167,
    "start_time": "2023-02-20T17:48:26.178Z"
   },
   {
    "duration": 132,
    "start_time": "2023-02-20T17:48:26.348Z"
   },
   {
    "duration": 312,
    "start_time": "2023-02-20T17:48:26.481Z"
   },
   {
    "duration": 419,
    "start_time": "2023-02-20T17:48:26.795Z"
   },
   {
    "duration": 18,
    "start_time": "2023-02-20T17:48:27.216Z"
   },
   {
    "duration": 17,
    "start_time": "2023-02-20T17:48:27.240Z"
   },
   {
    "duration": 10,
    "start_time": "2023-02-20T17:48:27.259Z"
   },
   {
    "duration": 10,
    "start_time": "2023-02-20T17:48:27.271Z"
   },
   {
    "duration": 49,
    "start_time": "2023-02-20T17:48:27.284Z"
   },
   {
    "duration": 19,
    "start_time": "2023-02-20T17:48:27.336Z"
   },
   {
    "duration": 18,
    "start_time": "2023-02-20T17:48:27.358Z"
   },
   {
    "duration": 5,
    "start_time": "2023-02-20T17:48:27.379Z"
   },
   {
    "duration": 1344,
    "start_time": "2023-02-21T08:08:06.114Z"
   },
   {
    "duration": 1921,
    "start_time": "2023-02-21T08:08:08.673Z"
   },
   {
    "duration": 27,
    "start_time": "2023-02-21T08:08:10.596Z"
   },
   {
    "duration": 402,
    "start_time": "2023-02-21T08:08:11.762Z"
   },
   {
    "duration": 307,
    "start_time": "2023-02-21T08:08:12.165Z"
   },
   {
    "duration": 296,
    "start_time": "2023-02-21T08:08:12.474Z"
   },
   {
    "duration": 11,
    "start_time": "2023-02-21T08:08:12.771Z"
   },
   {
    "duration": 24,
    "start_time": "2023-02-21T08:08:12.949Z"
   },
   {
    "duration": 10,
    "start_time": "2023-02-21T08:08:13.124Z"
   },
   {
    "duration": 18,
    "start_time": "2023-02-21T08:08:13.532Z"
   },
   {
    "duration": 35,
    "start_time": "2023-02-21T08:08:13.815Z"
   },
   {
    "duration": 14,
    "start_time": "2023-02-21T08:08:14.001Z"
   },
   {
    "duration": 9,
    "start_time": "2023-02-21T08:08:14.179Z"
   },
   {
    "duration": 4,
    "start_time": "2023-02-21T08:08:14.729Z"
   },
   {
    "duration": 17,
    "start_time": "2023-02-21T08:08:15.077Z"
   },
   {
    "duration": 342,
    "start_time": "2023-02-21T08:08:16.021Z"
   },
   {
    "duration": 9,
    "start_time": "2023-02-21T08:08:16.365Z"
   },
   {
    "duration": 61,
    "start_time": "2023-02-21T08:08:16.410Z"
   },
   {
    "duration": 23,
    "start_time": "2023-02-21T08:08:16.862Z"
   },
   {
    "duration": 219,
    "start_time": "2023-02-21T08:08:17.045Z"
   },
   {
    "duration": 240,
    "start_time": "2023-02-21T08:08:17.470Z"
   },
   {
    "duration": 234,
    "start_time": "2023-02-21T08:08:18.014Z"
   },
   {
    "duration": 132,
    "start_time": "2023-02-21T08:08:18.403Z"
   },
   {
    "duration": 113,
    "start_time": "2023-02-21T08:08:18.595Z"
   },
   {
    "duration": 233,
    "start_time": "2023-02-21T08:08:19.275Z"
   },
   {
    "duration": 252,
    "start_time": "2023-02-21T08:08:19.510Z"
   },
   {
    "duration": 16,
    "start_time": "2023-02-21T08:08:19.851Z"
   },
   {
    "duration": 247,
    "start_time": "2023-02-21T08:08:20.094Z"
   },
   {
    "duration": 8,
    "start_time": "2023-02-21T08:08:21.610Z"
   },
   {
    "duration": 5,
    "start_time": "2023-02-21T08:08:21.802Z"
   },
   {
    "duration": 13,
    "start_time": "2023-02-21T08:08:22.005Z"
   },
   {
    "duration": 7,
    "start_time": "2023-02-21T08:08:22.187Z"
   },
   {
    "duration": 11,
    "start_time": "2023-02-21T08:08:22.383Z"
   },
   {
    "duration": 2,
    "start_time": "2023-02-21T08:08:22.747Z"
   },
   {
    "duration": 12,
    "start_time": "2023-02-21T08:11:50.309Z"
   },
   {
    "duration": 6,
    "start_time": "2023-02-21T08:11:54.321Z"
   },
   {
    "duration": 11,
    "start_time": "2023-02-21T08:11:54.504Z"
   },
   {
    "duration": 8,
    "start_time": "2023-02-21T08:19:55.084Z"
   },
   {
    "duration": 13,
    "start_time": "2023-02-21T08:19:55.562Z"
   },
   {
    "duration": 8,
    "start_time": "2023-02-21T08:20:39.345Z"
   },
   {
    "duration": 6,
    "start_time": "2023-02-21T08:20:40.130Z"
   },
   {
    "duration": 12,
    "start_time": "2023-02-21T08:20:42.211Z"
   },
   {
    "duration": 12,
    "start_time": "2023-02-21T08:22:02.423Z"
   },
   {
    "duration": 123,
    "start_time": "2023-02-21T08:22:20.622Z"
   },
   {
    "duration": 121,
    "start_time": "2023-02-21T08:22:26.442Z"
   },
   {
    "duration": 114,
    "start_time": "2023-02-21T08:22:36.514Z"
   },
   {
    "duration": 126,
    "start_time": "2023-02-21T08:23:03.094Z"
   },
   {
    "duration": 76,
    "start_time": "2023-02-21T08:23:32.997Z"
   },
   {
    "duration": 122,
    "start_time": "2023-02-21T08:23:38.108Z"
   },
   {
    "duration": 115,
    "start_time": "2023-02-21T08:23:55.651Z"
   },
   {
    "duration": 106,
    "start_time": "2023-02-21T08:24:05.809Z"
   },
   {
    "duration": 106,
    "start_time": "2023-02-21T08:24:23.603Z"
   },
   {
    "duration": 105,
    "start_time": "2023-02-21T08:24:31.702Z"
   },
   {
    "duration": 104,
    "start_time": "2023-02-21T08:24:38.077Z"
   },
   {
    "duration": 3,
    "start_time": "2023-02-21T08:24:39.691Z"
   },
   {
    "duration": 537,
    "start_time": "2023-02-21T08:24:39.696Z"
   },
   {
    "duration": 25,
    "start_time": "2023-02-21T08:24:40.234Z"
   },
   {
    "duration": 338,
    "start_time": "2023-02-21T08:24:40.261Z"
   },
   {
    "duration": 264,
    "start_time": "2023-02-21T08:24:40.603Z"
   },
   {
    "duration": 263,
    "start_time": "2023-02-21T08:24:40.869Z"
   },
   {
    "duration": 11,
    "start_time": "2023-02-21T08:24:41.134Z"
   },
   {
    "duration": 25,
    "start_time": "2023-02-21T08:24:41.146Z"
   },
   {
    "duration": 12,
    "start_time": "2023-02-21T08:24:41.173Z"
   },
   {
    "duration": 19,
    "start_time": "2023-02-21T08:24:41.204Z"
   },
   {
    "duration": 37,
    "start_time": "2023-02-21T08:24:41.224Z"
   },
   {
    "duration": 13,
    "start_time": "2023-02-21T08:24:41.263Z"
   },
   {
    "duration": 33,
    "start_time": "2023-02-21T08:24:41.277Z"
   },
   {
    "duration": 4,
    "start_time": "2023-02-21T08:24:41.312Z"
   },
   {
    "duration": 16,
    "start_time": "2023-02-21T08:24:41.317Z"
   },
   {
    "duration": 336,
    "start_time": "2023-02-21T08:24:41.335Z"
   },
   {
    "duration": 9,
    "start_time": "2023-02-21T08:24:41.672Z"
   },
   {
    "duration": 61,
    "start_time": "2023-02-21T08:24:41.682Z"
   },
   {
    "duration": 14,
    "start_time": "2023-02-21T08:24:41.744Z"
   },
   {
    "duration": 157,
    "start_time": "2023-02-21T08:24:41.759Z"
   },
   {
    "duration": 307,
    "start_time": "2023-02-21T08:24:41.918Z"
   },
   {
    "duration": 227,
    "start_time": "2023-02-21T08:24:42.226Z"
   },
   {
    "duration": 119,
    "start_time": "2023-02-21T08:24:42.455Z"
   },
   {
    "duration": 118,
    "start_time": "2023-02-21T08:24:42.575Z"
   },
   {
    "duration": 224,
    "start_time": "2023-02-21T08:24:42.695Z"
   },
   {
    "duration": 228,
    "start_time": "2023-02-21T08:24:42.921Z"
   },
   {
    "duration": 15,
    "start_time": "2023-02-21T08:24:43.151Z"
   },
   {
    "duration": 15,
    "start_time": "2023-02-21T08:24:43.168Z"
   },
   {
    "duration": 20,
    "start_time": "2023-02-21T08:24:43.184Z"
   },
   {
    "duration": 6,
    "start_time": "2023-02-21T08:24:43.206Z"
   },
   {
    "duration": 118,
    "start_time": "2023-02-21T08:24:43.213Z"
   },
   {
    "duration": 6,
    "start_time": "2023-02-21T08:24:43.332Z"
   },
   {
    "duration": 14,
    "start_time": "2023-02-21T08:24:43.340Z"
   },
   {
    "duration": 4,
    "start_time": "2023-02-21T08:24:43.355Z"
   },
   {
    "duration": 209,
    "start_time": "2023-02-21T08:24:59.103Z"
   },
   {
    "duration": 127,
    "start_time": "2023-02-21T08:25:11.105Z"
   },
   {
    "duration": 122,
    "start_time": "2023-02-21T08:25:37.308Z"
   },
   {
    "duration": 199,
    "start_time": "2023-02-21T08:25:55.867Z"
   },
   {
    "duration": 30,
    "start_time": "2023-02-21T08:26:56.335Z"
   },
   {
    "duration": 28,
    "start_time": "2023-02-21T08:27:43.778Z"
   },
   {
    "duration": 866,
    "start_time": "2023-02-21T08:27:58.424Z"
   },
   {
    "duration": 142,
    "start_time": "2023-02-21T08:28:46.918Z"
   },
   {
    "duration": 95,
    "start_time": "2023-02-21T09:28:00.471Z"
   },
   {
    "duration": 114,
    "start_time": "2023-02-21T09:28:15.410Z"
   },
   {
    "duration": 118,
    "start_time": "2023-02-21T09:28:33.262Z"
   },
   {
    "duration": 7,
    "start_time": "2023-02-21T09:28:40.865Z"
   },
   {
    "duration": 239,
    "start_time": "2023-02-21T09:28:54.649Z"
   },
   {
    "duration": 239,
    "start_time": "2023-02-21T09:29:07.805Z"
   },
   {
    "duration": 12,
    "start_time": "2023-02-21T10:11:31.275Z"
   },
   {
    "duration": 3,
    "start_time": "2023-02-21T10:12:08.805Z"
   },
   {
    "duration": 11,
    "start_time": "2023-02-21T10:12:12.908Z"
   },
   {
    "duration": 3,
    "start_time": "2023-02-21T10:12:21.377Z"
   },
   {
    "duration": 7,
    "start_time": "2023-02-21T10:12:24.851Z"
   },
   {
    "duration": 12,
    "start_time": "2023-02-21T10:14:21.805Z"
   },
   {
    "duration": 8,
    "start_time": "2023-02-21T10:15:02.241Z"
   },
   {
    "duration": 4,
    "start_time": "2023-02-21T10:41:38.546Z"
   },
   {
    "duration": 7,
    "start_time": "2023-02-21T10:41:39.808Z"
   },
   {
    "duration": 6,
    "start_time": "2023-02-21T11:00:55.697Z"
   },
   {
    "duration": 7,
    "start_time": "2023-02-21T11:00:56.278Z"
   },
   {
    "duration": 5,
    "start_time": "2023-02-21T11:00:56.802Z"
   },
   {
    "duration": 5,
    "start_time": "2023-02-21T11:01:55.233Z"
   },
   {
    "duration": 12,
    "start_time": "2023-02-21T11:02:52.128Z"
   },
   {
    "duration": 4,
    "start_time": "2023-02-21T11:02:56.478Z"
   },
   {
    "duration": 13,
    "start_time": "2023-02-21T11:02:57.308Z"
   },
   {
    "duration": 1235,
    "start_time": "2023-02-21T19:43:21.425Z"
   },
   {
    "duration": 1859,
    "start_time": "2023-02-21T19:43:22.662Z"
   },
   {
    "duration": 25,
    "start_time": "2023-02-21T19:43:24.523Z"
   },
   {
    "duration": 414,
    "start_time": "2023-02-21T19:43:24.550Z"
   },
   {
    "duration": 307,
    "start_time": "2023-02-21T19:43:24.967Z"
   },
   {
    "duration": 298,
    "start_time": "2023-02-21T19:43:25.275Z"
   },
   {
    "duration": 11,
    "start_time": "2023-02-21T19:43:25.574Z"
   },
   {
    "duration": 34,
    "start_time": "2023-02-21T19:43:25.587Z"
   },
   {
    "duration": 8,
    "start_time": "2023-02-21T19:43:25.623Z"
   },
   {
    "duration": 18,
    "start_time": "2023-02-21T19:43:25.633Z"
   },
   {
    "duration": 52,
    "start_time": "2023-02-21T19:43:25.652Z"
   },
   {
    "duration": 14,
    "start_time": "2023-02-21T19:43:25.706Z"
   },
   {
    "duration": 7,
    "start_time": "2023-02-21T19:43:25.721Z"
   },
   {
    "duration": 4,
    "start_time": "2023-02-21T19:43:25.731Z"
   },
   {
    "duration": 15,
    "start_time": "2023-02-21T19:43:25.736Z"
   },
   {
    "duration": 363,
    "start_time": "2023-02-21T19:43:25.753Z"
   },
   {
    "duration": 9,
    "start_time": "2023-02-21T19:43:26.118Z"
   },
   {
    "duration": 82,
    "start_time": "2023-02-21T19:43:26.129Z"
   },
   {
    "duration": 17,
    "start_time": "2023-02-21T19:43:26.213Z"
   },
   {
    "duration": 172,
    "start_time": "2023-02-21T19:43:26.231Z"
   },
   {
    "duration": 232,
    "start_time": "2023-02-21T19:43:26.405Z"
   },
   {
    "duration": 234,
    "start_time": "2023-02-21T19:43:26.638Z"
   },
   {
    "duration": 133,
    "start_time": "2023-02-21T19:43:26.873Z"
   },
   {
    "duration": 158,
    "start_time": "2023-02-21T19:43:27.008Z"
   },
   {
    "duration": 252,
    "start_time": "2023-02-21T19:43:27.168Z"
   },
   {
    "duration": 238,
    "start_time": "2023-02-21T19:43:27.422Z"
   },
   {
    "duration": 16,
    "start_time": "2023-02-21T19:43:27.662Z"
   },
   {
    "duration": 239,
    "start_time": "2023-02-21T19:43:27.680Z"
   },
   {
    "duration": 8,
    "start_time": "2023-02-21T19:43:27.920Z"
   },
   {
    "duration": 7,
    "start_time": "2023-02-21T19:43:27.929Z"
   },
   {
    "duration": 11,
    "start_time": "2023-02-21T19:43:27.937Z"
   },
   {
    "duration": 327,
    "start_time": "2023-02-21T19:43:27.949Z"
   },
   {
    "duration": 6,
    "start_time": "2023-02-21T19:43:28.277Z"
   },
   {
    "duration": 23,
    "start_time": "2023-02-21T19:43:28.284Z"
   },
   {
    "duration": 5,
    "start_time": "2023-02-21T19:43:28.308Z"
   },
   {
    "duration": 107,
    "start_time": "2023-02-21T19:43:28.315Z"
   },
   {
    "duration": 0,
    "start_time": "2023-02-21T19:43:28.424Z"
   },
   {
    "duration": 0,
    "start_time": "2023-02-21T19:43:28.425Z"
   },
   {
    "duration": 6,
    "start_time": "2023-02-21T19:44:33.599Z"
   },
   {
    "duration": 12,
    "start_time": "2023-02-21T19:44:36.740Z"
   },
   {
    "duration": 9,
    "start_time": "2023-02-21T19:44:38.186Z"
   },
   {
    "duration": 2,
    "start_time": "2023-02-21T19:45:00.877Z"
   },
   {
    "duration": 636,
    "start_time": "2023-02-21T19:45:00.881Z"
   },
   {
    "duration": 23,
    "start_time": "2023-02-21T19:45:01.519Z"
   },
   {
    "duration": 363,
    "start_time": "2023-02-21T19:45:01.544Z"
   },
   {
    "duration": 281,
    "start_time": "2023-02-21T19:45:01.909Z"
   },
   {
    "duration": 252,
    "start_time": "2023-02-21T19:45:02.192Z"
   },
   {
    "duration": 10,
    "start_time": "2023-02-21T19:45:02.445Z"
   },
   {
    "duration": 60,
    "start_time": "2023-02-21T19:45:02.457Z"
   },
   {
    "duration": 18,
    "start_time": "2023-02-21T19:45:02.519Z"
   },
   {
    "duration": 40,
    "start_time": "2023-02-21T19:45:02.539Z"
   },
   {
    "duration": 41,
    "start_time": "2023-02-21T19:45:02.581Z"
   },
   {
    "duration": 14,
    "start_time": "2023-02-21T19:45:02.624Z"
   },
   {
    "duration": 9,
    "start_time": "2023-02-21T19:45:02.639Z"
   },
   {
    "duration": 29,
    "start_time": "2023-02-21T19:45:02.649Z"
   },
   {
    "duration": 31,
    "start_time": "2023-02-21T19:45:02.680Z"
   },
   {
    "duration": 365,
    "start_time": "2023-02-21T19:45:02.712Z"
   },
   {
    "duration": 9,
    "start_time": "2023-02-21T19:45:03.079Z"
   },
   {
    "duration": 63,
    "start_time": "2023-02-21T19:45:03.089Z"
   },
   {
    "duration": 14,
    "start_time": "2023-02-21T19:45:03.154Z"
   },
   {
    "duration": 149,
    "start_time": "2023-02-21T19:45:03.170Z"
   },
   {
    "duration": 227,
    "start_time": "2023-02-21T19:45:03.320Z"
   },
   {
    "duration": 235,
    "start_time": "2023-02-21T19:45:03.549Z"
   },
   {
    "duration": 129,
    "start_time": "2023-02-21T19:45:03.785Z"
   },
   {
    "duration": 116,
    "start_time": "2023-02-21T19:45:03.916Z"
   },
   {
    "duration": 311,
    "start_time": "2023-02-21T19:45:04.033Z"
   },
   {
    "duration": 237,
    "start_time": "2023-02-21T19:45:04.346Z"
   },
   {
    "duration": 23,
    "start_time": "2023-02-21T19:45:04.585Z"
   },
   {
    "duration": 13,
    "start_time": "2023-02-21T19:45:04.609Z"
   },
   {
    "duration": 7,
    "start_time": "2023-02-21T19:45:04.625Z"
   },
   {
    "duration": 8,
    "start_time": "2023-02-21T19:45:04.633Z"
   },
   {
    "duration": 24,
    "start_time": "2023-02-21T19:45:04.643Z"
   },
   {
    "duration": 247,
    "start_time": "2023-02-21T19:45:04.668Z"
   },
   {
    "duration": 7,
    "start_time": "2023-02-21T19:45:04.916Z"
   },
   {
    "duration": 12,
    "start_time": "2023-02-21T19:45:04.924Z"
   },
   {
    "duration": 5,
    "start_time": "2023-02-21T19:45:04.938Z"
   },
   {
    "duration": 12,
    "start_time": "2023-02-21T19:45:04.945Z"
   },
   {
    "duration": 0,
    "start_time": "2023-02-21T19:45:04.959Z"
   },
   {
    "duration": 0,
    "start_time": "2023-02-21T19:45:04.961Z"
   },
   {
    "duration": 3,
    "start_time": "2023-02-21T19:45:13.727Z"
   },
   {
    "duration": 520,
    "start_time": "2023-02-21T19:45:14.471Z"
   },
   {
    "duration": 24,
    "start_time": "2023-02-21T19:45:14.993Z"
   },
   {
    "duration": 385,
    "start_time": "2023-02-21T19:45:15.019Z"
   },
   {
    "duration": 269,
    "start_time": "2023-02-21T19:45:15.405Z"
   },
   {
    "duration": 252,
    "start_time": "2023-02-21T19:45:15.676Z"
   },
   {
    "duration": 10,
    "start_time": "2023-02-21T19:45:16.075Z"
   },
   {
    "duration": 23,
    "start_time": "2023-02-21T19:45:16.586Z"
   },
   {
    "duration": 14,
    "start_time": "2023-02-21T19:45:16.929Z"
   },
   {
    "duration": 18,
    "start_time": "2023-02-21T19:45:17.420Z"
   },
   {
    "duration": 37,
    "start_time": "2023-02-21T19:45:17.921Z"
   },
   {
    "duration": 13,
    "start_time": "2023-02-21T19:45:18.112Z"
   },
   {
    "duration": 8,
    "start_time": "2023-02-21T19:45:18.443Z"
   },
   {
    "duration": 4,
    "start_time": "2023-02-21T19:45:18.715Z"
   },
   {
    "duration": 16,
    "start_time": "2023-02-21T19:45:19.135Z"
   },
   {
    "duration": 325,
    "start_time": "2023-02-21T19:45:20.383Z"
   },
   {
    "duration": 10,
    "start_time": "2023-02-21T19:45:20.710Z"
   },
   {
    "duration": 49,
    "start_time": "2023-02-21T19:45:20.873Z"
   },
   {
    "duration": 17,
    "start_time": "2023-02-21T19:45:21.429Z"
   },
   {
    "duration": 141,
    "start_time": "2023-02-21T19:45:21.851Z"
   },
   {
    "duration": 224,
    "start_time": "2023-02-21T19:45:22.222Z"
   },
   {
    "duration": 221,
    "start_time": "2023-02-21T19:45:22.510Z"
   },
   {
    "duration": 123,
    "start_time": "2023-02-21T19:45:23.089Z"
   },
   {
    "duration": 115,
    "start_time": "2023-02-21T19:45:23.365Z"
   },
   {
    "duration": 320,
    "start_time": "2023-02-21T19:45:23.990Z"
   },
   {
    "duration": 240,
    "start_time": "2023-02-21T19:45:24.312Z"
   },
   {
    "duration": 16,
    "start_time": "2023-02-21T19:45:24.823Z"
   },
   {
    "duration": 15,
    "start_time": "2023-02-21T19:45:25.085Z"
   },
   {
    "duration": 7,
    "start_time": "2023-02-21T19:45:26.709Z"
   },
   {
    "duration": 7,
    "start_time": "2023-02-21T19:45:27.028Z"
   },
   {
    "duration": 9,
    "start_time": "2023-02-21T19:45:27.574Z"
   },
   {
    "duration": 228,
    "start_time": "2023-02-21T19:45:27.949Z"
   },
   {
    "duration": 5,
    "start_time": "2023-02-21T19:45:28.223Z"
   },
   {
    "duration": 11,
    "start_time": "2023-02-21T19:45:28.581Z"
   },
   {
    "duration": 5,
    "start_time": "2023-02-21T19:45:29.232Z"
   },
   {
    "duration": 9,
    "start_time": "2023-02-21T19:45:29.576Z"
   },
   {
    "duration": 9,
    "start_time": "2023-02-21T19:45:29.971Z"
   },
   {
    "duration": 10,
    "start_time": "2023-02-21T19:45:30.992Z"
   },
   {
    "duration": 6,
    "start_time": "2023-02-21T19:45:39.122Z"
   },
   {
    "duration": 10,
    "start_time": "2023-02-21T19:45:40.022Z"
   },
   {
    "duration": 5,
    "start_time": "2023-02-21T19:45:58.237Z"
   },
   {
    "duration": 9,
    "start_time": "2023-02-21T19:45:59.040Z"
   },
   {
    "duration": 5,
    "start_time": "2023-02-21T19:46:06.449Z"
   },
   {
    "duration": 8,
    "start_time": "2023-02-21T19:46:06.935Z"
   },
   {
    "duration": 5,
    "start_time": "2023-02-21T19:47:06.262Z"
   },
   {
    "duration": 8,
    "start_time": "2023-02-21T19:47:08.520Z"
   },
   {
    "duration": 8,
    "start_time": "2023-02-21T19:47:09.720Z"
   },
   {
    "duration": 6,
    "start_time": "2023-02-21T19:47:21.139Z"
   },
   {
    "duration": 12,
    "start_time": "2023-02-21T19:47:22.106Z"
   },
   {
    "duration": 1277,
    "start_time": "2023-02-22T09:15:35.046Z"
   },
   {
    "duration": 1015,
    "start_time": "2023-02-22T09:15:36.325Z"
   },
   {
    "duration": 26,
    "start_time": "2023-02-22T09:15:37.342Z"
   },
   {
    "duration": 390,
    "start_time": "2023-02-22T09:15:37.370Z"
   },
   {
    "duration": 288,
    "start_time": "2023-02-22T09:15:37.762Z"
   },
   {
    "duration": 292,
    "start_time": "2023-02-22T09:15:38.052Z"
   },
   {
    "duration": 10,
    "start_time": "2023-02-22T09:15:38.345Z"
   },
   {
    "duration": 41,
    "start_time": "2023-02-22T09:15:38.406Z"
   },
   {
    "duration": 12,
    "start_time": "2023-02-22T09:15:38.449Z"
   },
   {
    "duration": 17,
    "start_time": "2023-02-22T09:15:53.301Z"
   },
   {
    "duration": 35,
    "start_time": "2023-02-22T09:15:58.883Z"
   },
   {
    "duration": 18,
    "start_time": "2023-02-22T09:15:59.047Z"
   },
   {
    "duration": 10,
    "start_time": "2023-02-22T09:15:59.197Z"
   },
   {
    "duration": 5,
    "start_time": "2023-02-22T09:15:59.583Z"
   },
   {
    "duration": 15,
    "start_time": "2023-02-22T09:16:00.846Z"
   },
   {
    "duration": 326,
    "start_time": "2023-02-22T09:16:26.664Z"
   },
   {
    "duration": 11,
    "start_time": "2023-02-22T09:16:27.293Z"
   },
   {
    "duration": 59,
    "start_time": "2023-02-22T09:17:05.788Z"
   },
   {
    "duration": 26,
    "start_time": "2023-02-22T09:17:09.748Z"
   },
   {
    "duration": 386,
    "start_time": "2023-02-22T09:17:55.773Z"
   },
   {
    "duration": 10,
    "start_time": "2023-02-22T09:17:56.248Z"
   },
   {
    "duration": 30,
    "start_time": "2023-02-22T09:18:05.070Z"
   },
   {
    "duration": 20,
    "start_time": "2023-02-22T09:18:43.053Z"
   },
   {
    "duration": 21,
    "start_time": "2023-02-22T09:18:58.832Z"
   },
   {
    "duration": 16,
    "start_time": "2023-02-22T09:19:11.220Z"
   },
   {
    "duration": 19,
    "start_time": "2023-02-22T09:19:23.710Z"
   },
   {
    "duration": 21,
    "start_time": "2023-02-22T09:20:00.654Z"
   },
   {
    "duration": 14,
    "start_time": "2023-02-22T09:30:58.505Z"
   },
   {
    "duration": 11,
    "start_time": "2023-02-22T09:31:10.252Z"
   },
   {
    "duration": 18,
    "start_time": "2023-02-22T09:31:15.668Z"
   },
   {
    "duration": 12,
    "start_time": "2023-02-22T09:31:26.042Z"
   },
   {
    "duration": 14,
    "start_time": "2023-02-22T09:33:55.545Z"
   },
   {
    "duration": 10,
    "start_time": "2023-02-22T09:34:14.444Z"
   },
   {
    "duration": 12,
    "start_time": "2023-02-22T09:34:24.945Z"
   },
   {
    "duration": 95,
    "start_time": "2023-02-22T09:34:36.146Z"
   },
   {
    "duration": 19,
    "start_time": "2023-02-22T09:34:41.683Z"
   },
   {
    "duration": 13,
    "start_time": "2023-02-22T09:35:07.638Z"
   },
   {
    "duration": 11,
    "start_time": "2023-02-22T09:35:42.504Z"
   },
   {
    "duration": 10,
    "start_time": "2023-02-22T09:36:04.650Z"
   },
   {
    "duration": 15,
    "start_time": "2023-02-22T09:37:31.760Z"
   },
   {
    "duration": 16,
    "start_time": "2023-02-22T09:41:13.701Z"
   },
   {
    "duration": 14,
    "start_time": "2023-02-22T09:45:54.857Z"
   },
   {
    "duration": 16,
    "start_time": "2023-02-22T09:46:05.598Z"
   },
   {
    "duration": 16,
    "start_time": "2023-02-22T09:46:13.620Z"
   },
   {
    "duration": 10,
    "start_time": "2023-02-22T09:46:26.072Z"
   },
   {
    "duration": 10,
    "start_time": "2023-02-22T09:47:02.685Z"
   },
   {
    "duration": 16,
    "start_time": "2023-02-22T09:48:10.722Z"
   },
   {
    "duration": 16,
    "start_time": "2023-02-22T09:48:26.061Z"
   },
   {
    "duration": 3,
    "start_time": "2023-02-22T09:49:07.285Z"
   },
   {
    "duration": 535,
    "start_time": "2023-02-22T09:49:07.290Z"
   },
   {
    "duration": 26,
    "start_time": "2023-02-22T09:49:07.827Z"
   },
   {
    "duration": 352,
    "start_time": "2023-02-22T09:49:07.856Z"
   },
   {
    "duration": 269,
    "start_time": "2023-02-22T09:49:08.209Z"
   },
   {
    "duration": 256,
    "start_time": "2023-02-22T09:49:08.486Z"
   },
   {
    "duration": 24,
    "start_time": "2023-02-22T09:49:08.744Z"
   },
   {
    "duration": 24,
    "start_time": "2023-02-22T09:49:08.769Z"
   },
   {
    "duration": 19,
    "start_time": "2023-02-22T09:49:08.796Z"
   },
   {
    "duration": 76,
    "start_time": "2023-02-22T09:49:08.817Z"
   },
   {
    "duration": 16,
    "start_time": "2023-02-22T09:49:08.895Z"
   },
   {
    "duration": 6,
    "start_time": "2023-02-22T09:49:08.913Z"
   },
   {
    "duration": 17,
    "start_time": "2023-02-22T09:49:08.921Z"
   },
   {
    "duration": 29,
    "start_time": "2023-02-22T09:49:08.940Z"
   },
   {
    "duration": 309,
    "start_time": "2023-02-22T09:49:08.971Z"
   },
   {
    "duration": 9,
    "start_time": "2023-02-22T09:49:09.286Z"
   },
   {
    "duration": 63,
    "start_time": "2023-02-22T09:49:09.298Z"
   },
   {
    "duration": 22,
    "start_time": "2023-02-22T09:49:09.363Z"
   },
   {
    "duration": 18,
    "start_time": "2023-02-22T09:49:09.387Z"
   },
   {
    "duration": 17,
    "start_time": "2023-02-22T09:49:09.406Z"
   },
   {
    "duration": 13,
    "start_time": "2023-02-22T09:49:09.424Z"
   },
   {
    "duration": 0,
    "start_time": "2023-02-22T09:49:09.439Z"
   },
   {
    "duration": 0,
    "start_time": "2023-02-22T09:49:09.440Z"
   },
   {
    "duration": 0,
    "start_time": "2023-02-22T09:49:09.441Z"
   },
   {
    "duration": 0,
    "start_time": "2023-02-22T09:49:09.443Z"
   },
   {
    "duration": 0,
    "start_time": "2023-02-22T09:49:09.451Z"
   },
   {
    "duration": 0,
    "start_time": "2023-02-22T09:49:09.453Z"
   },
   {
    "duration": 0,
    "start_time": "2023-02-22T09:49:09.455Z"
   },
   {
    "duration": 0,
    "start_time": "2023-02-22T09:49:09.489Z"
   },
   {
    "duration": 0,
    "start_time": "2023-02-22T09:49:09.490Z"
   },
   {
    "duration": 0,
    "start_time": "2023-02-22T09:49:09.493Z"
   },
   {
    "duration": 0,
    "start_time": "2023-02-22T09:49:09.493Z"
   },
   {
    "duration": 0,
    "start_time": "2023-02-22T09:49:09.494Z"
   },
   {
    "duration": 0,
    "start_time": "2023-02-22T09:49:09.496Z"
   },
   {
    "duration": 0,
    "start_time": "2023-02-22T09:49:09.497Z"
   },
   {
    "duration": 0,
    "start_time": "2023-02-22T09:49:09.498Z"
   },
   {
    "duration": 0,
    "start_time": "2023-02-22T09:49:09.499Z"
   },
   {
    "duration": 0,
    "start_time": "2023-02-22T09:49:09.501Z"
   },
   {
    "duration": 0,
    "start_time": "2023-02-22T09:49:09.502Z"
   },
   {
    "duration": 0,
    "start_time": "2023-02-22T09:49:09.504Z"
   },
   {
    "duration": 0,
    "start_time": "2023-02-22T09:49:09.505Z"
   },
   {
    "duration": 16,
    "start_time": "2023-02-22T09:49:27.568Z"
   },
   {
    "duration": 13,
    "start_time": "2023-02-22T09:49:50.182Z"
   },
   {
    "duration": 19,
    "start_time": "2023-02-22T09:50:49.936Z"
   },
   {
    "duration": 13,
    "start_time": "2023-02-22T09:51:10.388Z"
   },
   {
    "duration": 17,
    "start_time": "2023-02-22T09:51:21.188Z"
   },
   {
    "duration": 15,
    "start_time": "2023-02-22T09:51:33.952Z"
   },
   {
    "duration": 13,
    "start_time": "2023-02-22T09:51:44.138Z"
   },
   {
    "duration": 16,
    "start_time": "2023-02-22T09:51:59.873Z"
   },
   {
    "duration": 1770,
    "start_time": "2023-02-22T09:52:48.431Z"
   },
   {
    "duration": 1911,
    "start_time": "2023-02-22T09:53:12.997Z"
   },
   {
    "duration": 233,
    "start_time": "2023-02-22T09:54:47.323Z"
   },
   {
    "duration": 378,
    "start_time": "2023-02-22T09:54:51.363Z"
   },
   {
    "duration": 11,
    "start_time": "2023-02-22T09:54:51.743Z"
   },
   {
    "duration": 58,
    "start_time": "2023-02-22T09:54:51.853Z"
   },
   {
    "duration": 22,
    "start_time": "2023-02-22T09:54:52.222Z"
   },
   {
    "duration": 28,
    "start_time": "2023-02-22T09:54:52.540Z"
   },
   {
    "duration": 27,
    "start_time": "2023-02-22T09:54:52.819Z"
   },
   {
    "duration": 12,
    "start_time": "2023-02-22T09:55:22.416Z"
   },
   {
    "duration": 9,
    "start_time": "2023-02-22T09:55:31.221Z"
   },
   {
    "duration": 312,
    "start_time": "2023-02-22T09:55:42.922Z"
   },
   {
    "duration": 364,
    "start_time": "2023-02-22T09:55:43.688Z"
   },
   {
    "duration": 16,
    "start_time": "2023-02-22T09:56:37.337Z"
   },
   {
    "duration": 13,
    "start_time": "2023-02-22T09:56:43.144Z"
   },
   {
    "duration": 16,
    "start_time": "2023-02-22T09:56:54.547Z"
   },
   {
    "duration": 339,
    "start_time": "2023-02-22T09:57:04.555Z"
   },
   {
    "duration": 8,
    "start_time": "2023-02-22T09:57:04.897Z"
   },
   {
    "duration": 23,
    "start_time": "2023-02-22T09:57:05.084Z"
   },
   {
    "duration": 15,
    "start_time": "2023-02-22T09:57:05.401Z"
   },
   {
    "duration": 23,
    "start_time": "2023-02-22T09:57:05.555Z"
   },
   {
    "duration": 10,
    "start_time": "2023-02-22T09:57:06.058Z"
   },
   {
    "duration": 47,
    "start_time": "2023-02-22T09:57:14.027Z"
   },
   {
    "duration": 68,
    "start_time": "2023-02-22T09:57:43.424Z"
   },
   {
    "duration": 23,
    "start_time": "2023-02-22T09:57:58.526Z"
   },
   {
    "duration": 13,
    "start_time": "2023-02-22T09:58:08.689Z"
   },
   {
    "duration": 5,
    "start_time": "2023-02-22T09:58:28.293Z"
   },
   {
    "duration": 171,
    "start_time": "2023-02-22T09:59:15.985Z"
   },
   {
    "duration": 7,
    "start_time": "2023-02-22T09:59:24.308Z"
   },
   {
    "duration": 52,
    "start_time": "2023-02-22T09:59:35.994Z"
   },
   {
    "duration": 5,
    "start_time": "2023-02-22T09:59:36.770Z"
   },
   {
    "duration": 197,
    "start_time": "2023-02-22T09:59:44.712Z"
   },
   {
    "duration": 5,
    "start_time": "2023-02-22T09:59:45.484Z"
   },
   {
    "duration": 13,
    "start_time": "2023-02-22T09:59:58.823Z"
   },
   {
    "duration": 50,
    "start_time": "2023-02-22T10:00:10.974Z"
   },
   {
    "duration": 6,
    "start_time": "2023-02-22T10:00:11.435Z"
   },
   {
    "duration": 18,
    "start_time": "2023-02-22T10:00:17.724Z"
   },
   {
    "duration": 19,
    "start_time": "2023-02-22T10:00:37.208Z"
   },
   {
    "duration": 1302,
    "start_time": "2023-02-22T10:00:59.904Z"
   },
   {
    "duration": 17,
    "start_time": "2023-02-22T10:01:05.189Z"
   },
   {
    "duration": 7,
    "start_time": "2023-02-22T10:01:05.669Z"
   },
   {
    "duration": 5,
    "start_time": "2023-02-22T10:01:30.397Z"
   },
   {
    "duration": 22,
    "start_time": "2023-02-22T10:01:39.716Z"
   },
   {
    "duration": 18,
    "start_time": "2023-02-22T10:01:53.307Z"
   },
   {
    "duration": 14,
    "start_time": "2023-02-22T10:02:03.713Z"
   },
   {
    "duration": 8,
    "start_time": "2023-02-22T10:02:04.057Z"
   },
   {
    "duration": 18,
    "start_time": "2023-02-22T10:02:17.818Z"
   },
   {
    "duration": 12,
    "start_time": "2023-02-22T10:03:02.755Z"
   },
   {
    "duration": 20,
    "start_time": "2023-02-22T10:03:35.880Z"
   },
   {
    "duration": 14,
    "start_time": "2023-02-22T10:03:47.562Z"
   },
   {
    "duration": 10,
    "start_time": "2023-02-22T10:03:55.326Z"
   },
   {
    "duration": 42,
    "start_time": "2023-02-22T10:04:33.755Z"
   },
   {
    "duration": 39,
    "start_time": "2023-02-22T10:04:58.527Z"
   },
   {
    "duration": 4,
    "start_time": "2023-02-22T10:05:03.182Z"
   },
   {
    "duration": 523,
    "start_time": "2023-02-22T10:05:03.188Z"
   },
   {
    "duration": 23,
    "start_time": "2023-02-22T10:05:03.712Z"
   },
   {
    "duration": 349,
    "start_time": "2023-02-22T10:05:03.737Z"
   },
   {
    "duration": 272,
    "start_time": "2023-02-22T10:05:04.088Z"
   },
   {
    "duration": 254,
    "start_time": "2023-02-22T10:05:04.361Z"
   },
   {
    "duration": 21,
    "start_time": "2023-02-22T10:05:04.617Z"
   },
   {
    "duration": 11,
    "start_time": "2023-02-22T10:05:04.639Z"
   },
   {
    "duration": 36,
    "start_time": "2023-02-22T10:05:04.653Z"
   },
   {
    "duration": 33,
    "start_time": "2023-02-22T10:05:04.691Z"
   },
   {
    "duration": 13,
    "start_time": "2023-02-22T10:05:04.726Z"
   },
   {
    "duration": 6,
    "start_time": "2023-02-22T10:05:04.741Z"
   },
   {
    "duration": 10,
    "start_time": "2023-02-22T10:05:04.748Z"
   },
   {
    "duration": 34,
    "start_time": "2023-02-22T10:05:04.759Z"
   },
   {
    "duration": 307,
    "start_time": "2023-02-22T10:05:04.795Z"
   },
   {
    "duration": 8,
    "start_time": "2023-02-22T10:05:05.104Z"
   },
   {
    "duration": 69,
    "start_time": "2023-02-22T10:05:05.114Z"
   },
   {
    "duration": 15,
    "start_time": "2023-02-22T10:05:05.185Z"
   },
   {
    "duration": 51,
    "start_time": "2023-02-22T10:05:05.202Z"
   },
   {
    "duration": 12,
    "start_time": "2023-02-22T10:05:05.255Z"
   },
   {
    "duration": 41,
    "start_time": "2023-02-22T10:05:05.269Z"
   },
   {
    "duration": 13,
    "start_time": "2023-02-22T10:05:05.311Z"
   },
   {
    "duration": 22,
    "start_time": "2023-02-22T10:05:05.326Z"
   },
   {
    "duration": 171,
    "start_time": "2023-02-22T10:05:05.351Z"
   },
   {
    "duration": 286,
    "start_time": "2023-02-22T10:05:05.524Z"
   },
   {
    "duration": 225,
    "start_time": "2023-02-22T10:05:05.812Z"
   },
   {
    "duration": 123,
    "start_time": "2023-02-22T10:05:06.038Z"
   },
   {
    "duration": 113,
    "start_time": "2023-02-22T10:05:06.163Z"
   },
   {
    "duration": 228,
    "start_time": "2023-02-22T10:05:06.277Z"
   },
   {
    "duration": 294,
    "start_time": "2023-02-22T10:05:06.506Z"
   },
   {
    "duration": 15,
    "start_time": "2023-02-22T10:05:06.802Z"
   },
   {
    "duration": 166,
    "start_time": "2023-02-22T10:05:06.819Z"
   },
   {
    "duration": 8,
    "start_time": "2023-02-22T10:05:06.987Z"
   },
   {
    "duration": 17,
    "start_time": "2023-02-22T10:05:06.997Z"
   },
   {
    "duration": 14,
    "start_time": "2023-02-22T10:05:07.016Z"
   },
   {
    "duration": 313,
    "start_time": "2023-02-22T10:05:07.032Z"
   },
   {
    "duration": 7,
    "start_time": "2023-02-22T10:05:07.347Z"
   },
   {
    "duration": 27,
    "start_time": "2023-02-22T10:05:07.356Z"
   },
   {
    "duration": 5,
    "start_time": "2023-02-22T10:05:07.385Z"
   },
   {
    "duration": 8,
    "start_time": "2023-02-22T10:05:07.391Z"
   },
   {
    "duration": 11,
    "start_time": "2023-02-22T10:05:07.400Z"
   },
   {
    "duration": 23,
    "start_time": "2023-02-22T10:05:07.412Z"
   },
   {
    "duration": 21,
    "start_time": "2023-02-22T10:05:21.764Z"
   },
   {
    "duration": 13,
    "start_time": "2023-02-22T10:05:43.859Z"
   },
   {
    "duration": 12,
    "start_time": "2023-02-22T10:05:56.480Z"
   },
   {
    "duration": 13,
    "start_time": "2023-02-22T10:06:13.260Z"
   },
   {
    "duration": 16,
    "start_time": "2023-02-22T10:06:34.727Z"
   },
   {
    "duration": 155,
    "start_time": "2023-02-22T10:06:46.534Z"
   },
   {
    "duration": 151,
    "start_time": "2023-02-22T10:06:53.621Z"
   },
   {
    "duration": 11,
    "start_time": "2023-02-22T10:12:01.853Z"
   },
   {
    "duration": 13,
    "start_time": "2023-02-22T10:12:16.669Z"
   },
   {
    "duration": 145,
    "start_time": "2023-02-22T10:12:59.484Z"
   },
   {
    "duration": 289,
    "start_time": "2023-02-22T10:13:09.663Z"
   },
   {
    "duration": 160,
    "start_time": "2023-02-22T10:14:48.608Z"
   },
   {
    "duration": 169,
    "start_time": "2023-02-22T10:14:58.796Z"
   },
   {
    "duration": 196,
    "start_time": "2023-02-22T10:15:10.083Z"
   },
   {
    "duration": 112,
    "start_time": "2023-02-22T10:15:46.337Z"
   },
   {
    "duration": 1431,
    "start_time": "2023-02-22T10:16:00.832Z"
   },
   {
    "duration": 1127,
    "start_time": "2023-02-22T10:16:15.716Z"
   },
   {
    "duration": 1141,
    "start_time": "2023-02-22T10:16:26.207Z"
   },
   {
    "duration": 1128,
    "start_time": "2023-02-22T10:17:45.919Z"
   },
   {
    "duration": 1242,
    "start_time": "2023-02-22T10:18:24.628Z"
   },
   {
    "duration": 3,
    "start_time": "2023-02-22T10:18:33.136Z"
   },
   {
    "duration": 552,
    "start_time": "2023-02-22T10:18:33.141Z"
   },
   {
    "duration": 24,
    "start_time": "2023-02-22T10:18:33.695Z"
   },
   {
    "duration": 382,
    "start_time": "2023-02-22T10:18:33.721Z"
   },
   {
    "duration": 271,
    "start_time": "2023-02-22T10:18:34.105Z"
   },
   {
    "duration": 285,
    "start_time": "2023-02-22T10:18:34.377Z"
   },
   {
    "duration": 28,
    "start_time": "2023-02-22T10:18:34.664Z"
   },
   {
    "duration": 9,
    "start_time": "2023-02-22T10:18:34.694Z"
   },
   {
    "duration": 25,
    "start_time": "2023-02-22T10:18:34.705Z"
   },
   {
    "duration": 61,
    "start_time": "2023-02-22T10:18:34.732Z"
   },
   {
    "duration": 14,
    "start_time": "2023-02-22T10:18:34.796Z"
   },
   {
    "duration": 8,
    "start_time": "2023-02-22T10:18:34.811Z"
   },
   {
    "duration": 29,
    "start_time": "2023-02-22T10:18:34.821Z"
   },
   {
    "duration": 36,
    "start_time": "2023-02-22T10:18:34.852Z"
   },
   {
    "duration": 345,
    "start_time": "2023-02-22T10:18:34.889Z"
   },
   {
    "duration": 10,
    "start_time": "2023-02-22T10:18:35.235Z"
   },
   {
    "duration": 62,
    "start_time": "2023-02-22T10:18:35.247Z"
   },
   {
    "duration": 18,
    "start_time": "2023-02-22T10:18:35.311Z"
   },
   {
    "duration": 21,
    "start_time": "2023-02-22T10:18:35.330Z"
   },
   {
    "duration": 36,
    "start_time": "2023-02-22T10:18:35.353Z"
   },
   {
    "duration": 23,
    "start_time": "2023-02-22T10:18:35.391Z"
   },
   {
    "duration": 1246,
    "start_time": "2023-02-22T10:18:35.416Z"
   },
   {
    "duration": 0,
    "start_time": "2023-02-22T10:18:36.665Z"
   },
   {
    "duration": 0,
    "start_time": "2023-02-22T10:18:36.666Z"
   },
   {
    "duration": 0,
    "start_time": "2023-02-22T10:18:36.667Z"
   },
   {
    "duration": 0,
    "start_time": "2023-02-22T10:18:36.668Z"
   },
   {
    "duration": 0,
    "start_time": "2023-02-22T10:18:36.669Z"
   },
   {
    "duration": 0,
    "start_time": "2023-02-22T10:18:36.670Z"
   },
   {
    "duration": 0,
    "start_time": "2023-02-22T10:18:36.672Z"
   },
   {
    "duration": 0,
    "start_time": "2023-02-22T10:18:36.673Z"
   },
   {
    "duration": 0,
    "start_time": "2023-02-22T10:18:36.674Z"
   },
   {
    "duration": 0,
    "start_time": "2023-02-22T10:18:36.675Z"
   },
   {
    "duration": 0,
    "start_time": "2023-02-22T10:18:36.676Z"
   },
   {
    "duration": 0,
    "start_time": "2023-02-22T10:18:36.677Z"
   },
   {
    "duration": 0,
    "start_time": "2023-02-22T10:18:36.679Z"
   },
   {
    "duration": 0,
    "start_time": "2023-02-22T10:18:36.680Z"
   },
   {
    "duration": 0,
    "start_time": "2023-02-22T10:18:36.681Z"
   },
   {
    "duration": 0,
    "start_time": "2023-02-22T10:18:36.683Z"
   },
   {
    "duration": 0,
    "start_time": "2023-02-22T10:18:36.684Z"
   },
   {
    "duration": 0,
    "start_time": "2023-02-22T10:18:36.685Z"
   },
   {
    "duration": 0,
    "start_time": "2023-02-22T10:18:36.686Z"
   },
   {
    "duration": 0,
    "start_time": "2023-02-22T10:18:36.687Z"
   },
   {
    "duration": 1158,
    "start_time": "2023-02-22T10:18:50.404Z"
   },
   {
    "duration": 1179,
    "start_time": "2023-02-22T10:19:00.207Z"
   },
   {
    "duration": 1156,
    "start_time": "2023-02-22T10:19:20.200Z"
   },
   {
    "duration": 1111,
    "start_time": "2023-02-22T10:19:33.218Z"
   },
   {
    "duration": 118,
    "start_time": "2023-02-22T10:19:48.541Z"
   },
   {
    "duration": 108,
    "start_time": "2023-02-22T10:20:27.242Z"
   },
   {
    "duration": 155,
    "start_time": "2023-02-22T10:21:02.050Z"
   },
   {
    "duration": 17,
    "start_time": "2023-02-22T10:21:15.718Z"
   },
   {
    "duration": 18,
    "start_time": "2023-02-22T10:21:22.450Z"
   },
   {
    "duration": 15,
    "start_time": "2023-02-22T10:21:48.204Z"
   },
   {
    "duration": 15,
    "start_time": "2023-02-22T10:22:46.105Z"
   },
   {
    "duration": 18,
    "start_time": "2023-02-22T10:22:55.076Z"
   },
   {
    "duration": 27,
    "start_time": "2023-02-22T10:26:42.205Z"
   },
   {
    "duration": 22,
    "start_time": "2023-02-22T10:26:51.265Z"
   },
   {
    "duration": 21,
    "start_time": "2023-02-22T10:26:58.730Z"
   },
   {
    "duration": 146,
    "start_time": "2023-02-22T10:27:11.552Z"
   },
   {
    "duration": 157,
    "start_time": "2023-02-22T10:27:44.356Z"
   },
   {
    "duration": 181,
    "start_time": "2023-02-22T10:30:27.158Z"
   },
   {
    "duration": 111,
    "start_time": "2023-02-22T10:31:50.308Z"
   },
   {
    "duration": 181,
    "start_time": "2023-02-22T10:32:20.275Z"
   },
   {
    "duration": 14,
    "start_time": "2023-02-22T10:32:53.267Z"
   },
   {
    "duration": 27,
    "start_time": "2023-02-22T10:50:54.924Z"
   },
   {
    "duration": 19,
    "start_time": "2023-02-22T10:51:09.381Z"
   },
   {
    "duration": 40,
    "start_time": "2023-02-22T10:51:10.383Z"
   },
   {
    "duration": 13,
    "start_time": "2023-02-22T10:51:10.620Z"
   },
   {
    "duration": 185,
    "start_time": "2023-02-22T10:51:10.867Z"
   },
   {
    "duration": 15,
    "start_time": "2023-02-22T10:51:20.612Z"
   },
   {
    "duration": 27,
    "start_time": "2023-02-22T10:51:22.855Z"
   },
   {
    "duration": 15,
    "start_time": "2023-02-22T10:51:23.459Z"
   },
   {
    "duration": 29,
    "start_time": "2023-02-22T10:51:49.084Z"
   },
   {
    "duration": 191,
    "start_time": "2023-02-22T10:51:56.939Z"
   },
   {
    "duration": 16,
    "start_time": "2023-02-22T10:53:53.341Z"
   },
   {
    "duration": 144,
    "start_time": "2023-02-22T10:53:53.736Z"
   },
   {
    "duration": 338,
    "start_time": "2023-02-22T10:53:54.322Z"
   },
   {
    "duration": 242,
    "start_time": "2023-02-22T10:53:54.662Z"
   },
   {
    "duration": 131,
    "start_time": "2023-02-22T10:53:54.906Z"
   },
   {
    "duration": 132,
    "start_time": "2023-02-22T10:53:55.333Z"
   },
   {
    "duration": 259,
    "start_time": "2023-02-22T10:53:55.697Z"
   },
   {
    "duration": 244,
    "start_time": "2023-02-22T10:53:55.958Z"
   },
   {
    "duration": 13,
    "start_time": "2023-02-22T10:53:56.230Z"
   },
   {
    "duration": 14,
    "start_time": "2023-02-22T10:53:56.439Z"
   },
   {
    "duration": 8,
    "start_time": "2023-02-22T10:53:57.540Z"
   },
   {
    "duration": 6,
    "start_time": "2023-02-22T10:53:57.723Z"
   },
   {
    "duration": 9,
    "start_time": "2023-02-22T10:53:58.173Z"
   },
   {
    "duration": 247,
    "start_time": "2023-02-22T10:53:58.348Z"
   },
   {
    "duration": 11,
    "start_time": "2023-02-22T10:53:58.597Z"
   },
   {
    "duration": 12,
    "start_time": "2023-02-22T10:53:58.755Z"
   },
   {
    "duration": 5,
    "start_time": "2023-02-22T10:53:59.236Z"
   },
   {
    "duration": 5,
    "start_time": "2023-02-22T10:53:59.411Z"
   },
   {
    "duration": 6,
    "start_time": "2023-02-22T10:53:59.623Z"
   },
   {
    "duration": 13,
    "start_time": "2023-02-22T10:53:59.827Z"
   },
   {
    "duration": 60,
    "start_time": "2023-02-22T10:58:55.173Z"
   },
   {
    "duration": 52,
    "start_time": "2023-02-22T10:59:01.880Z"
   },
   {
    "duration": 168,
    "start_time": "2023-02-22T10:59:06.105Z"
   },
   {
    "duration": 12,
    "start_time": "2023-02-22T11:05:20.236Z"
   },
   {
    "duration": 15,
    "start_time": "2023-02-22T12:34:56.153Z"
   },
   {
    "duration": 4,
    "start_time": "2023-02-22T12:35:14.216Z"
   },
   {
    "duration": 12,
    "start_time": "2023-02-22T12:35:14.668Z"
   },
   {
    "duration": 258,
    "start_time": "2023-02-22T12:35:18.178Z"
   },
   {
    "duration": 8,
    "start_time": "2023-02-22T12:35:48.228Z"
   },
   {
    "duration": 4,
    "start_time": "2023-02-22T12:35:48.664Z"
   },
   {
    "duration": 33,
    "start_time": "2023-02-22T12:35:48.992Z"
   },
   {
    "duration": 255,
    "start_time": "2023-02-22T12:35:50.916Z"
   },
   {
    "duration": 8,
    "start_time": "2023-02-22T12:36:16.210Z"
   },
   {
    "duration": 3,
    "start_time": "2023-02-22T12:37:10.355Z"
   },
   {
    "duration": 5,
    "start_time": "2023-02-22T12:37:10.631Z"
   },
   {
    "duration": 14,
    "start_time": "2023-02-22T12:37:12.304Z"
   },
   {
    "duration": 250,
    "start_time": "2023-02-22T12:37:14.770Z"
   },
   {
    "duration": 6,
    "start_time": "2023-02-22T12:37:25.604Z"
   },
   {
    "duration": 15,
    "start_time": "2023-02-22T12:38:51.626Z"
   },
   {
    "duration": 2375,
    "start_time": "2023-02-22T12:38:51.850Z"
   },
   {
    "duration": 304,
    "start_time": "2023-02-22T12:39:20.022Z"
   },
   {
    "duration": 1545,
    "start_time": "2023-02-22T12:40:27.379Z"
   },
   {
    "duration": 7,
    "start_time": "2023-02-22T12:40:48.250Z"
   },
   {
    "duration": 208,
    "start_time": "2023-02-22T12:42:26.720Z"
   },
   {
    "duration": 6,
    "start_time": "2023-02-22T12:44:12.257Z"
   },
   {
    "duration": 11,
    "start_time": "2023-02-22T12:44:12.625Z"
   },
   {
    "duration": 8,
    "start_time": "2023-02-22T12:44:15.981Z"
   },
   {
    "duration": 12,
    "start_time": "2023-02-22T12:44:16.799Z"
   },
   {
    "duration": 5,
    "start_time": "2023-02-22T12:44:17.925Z"
   },
   {
    "duration": 12,
    "start_time": "2023-02-22T12:44:18.558Z"
   },
   {
    "duration": 4,
    "start_time": "2023-02-22T12:45:19.709Z"
   },
   {
    "duration": 1086,
    "start_time": "2023-02-22T12:45:32.070Z"
   },
   {
    "duration": 24,
    "start_time": "2023-02-22T12:45:46.615Z"
   },
   {
    "duration": 371,
    "start_time": "2023-02-22T12:45:47.127Z"
   },
   {
    "duration": 372,
    "start_time": "2023-02-22T12:46:05.106Z"
   },
   {
    "duration": 347,
    "start_time": "2023-02-22T12:46:05.480Z"
   },
   {
    "duration": 31,
    "start_time": "2023-02-22T12:46:10.965Z"
   },
   {
    "duration": 11,
    "start_time": "2023-02-22T12:49:15.769Z"
   },
   {
    "duration": 20,
    "start_time": "2023-02-22T12:49:23.655Z"
   },
   {
    "duration": 13,
    "start_time": "2023-02-22T13:22:54.803Z"
   },
   {
    "duration": 4,
    "start_time": "2023-02-22T13:23:35.517Z"
   },
   {
    "duration": 14,
    "start_time": "2023-02-22T13:26:37.985Z"
   },
   {
    "duration": 50,
    "start_time": "2023-02-22T14:01:03.510Z"
   },
   {
    "duration": 21,
    "start_time": "2023-02-22T14:01:21.258Z"
   },
   {
    "duration": 50,
    "start_time": "2023-02-22T14:29:26.729Z"
   },
   {
    "duration": 67,
    "start_time": "2023-02-22T14:29:32.889Z"
   },
   {
    "duration": 3,
    "start_time": "2023-02-22T18:56:38.388Z"
   },
   {
    "duration": 522,
    "start_time": "2023-02-22T18:56:39.880Z"
   },
   {
    "duration": 22,
    "start_time": "2023-02-22T18:56:40.404Z"
   },
   {
    "duration": 361,
    "start_time": "2023-02-22T18:56:40.427Z"
   },
   {
    "duration": 263,
    "start_time": "2023-02-22T18:56:40.791Z"
   },
   {
    "duration": 249,
    "start_time": "2023-02-22T18:56:41.056Z"
   },
   {
    "duration": 24,
    "start_time": "2023-02-22T18:56:41.312Z"
   },
   {
    "duration": 9,
    "start_time": "2023-02-22T18:56:42.235Z"
   },
   {
    "duration": 19,
    "start_time": "2023-02-22T18:56:43.703Z"
   },
   {
    "duration": 42,
    "start_time": "2023-02-22T18:57:19.937Z"
   },
   {
    "duration": 14,
    "start_time": "2023-02-22T18:57:20.746Z"
   },
   {
    "duration": 8,
    "start_time": "2023-02-22T18:57:21.181Z"
   },
   {
    "duration": 4,
    "start_time": "2023-02-22T18:57:21.813Z"
   },
   {
    "duration": 17,
    "start_time": "2023-02-22T18:57:22.181Z"
   },
   {
    "duration": 308,
    "start_time": "2023-02-22T18:57:23.461Z"
   },
   {
    "duration": 8,
    "start_time": "2023-02-22T18:57:23.771Z"
   },
   {
    "duration": 44,
    "start_time": "2023-02-22T18:57:24.090Z"
   },
   {
    "duration": 24,
    "start_time": "2023-02-22T18:57:38.467Z"
   },
   {
    "duration": 18,
    "start_time": "2023-02-22T18:57:56.276Z"
   },
   {
    "duration": 14,
    "start_time": "2023-02-22T18:58:42.684Z"
   },
   {
    "duration": 43,
    "start_time": "2023-02-22T18:59:07.531Z"
   },
   {
    "duration": 43,
    "start_time": "2023-02-22T18:59:11.812Z"
   },
   {
    "duration": 182,
    "start_time": "2023-02-22T18:59:12.492Z"
   },
   {
    "duration": 44,
    "start_time": "2023-02-22T18:59:21.269Z"
   },
   {
    "duration": 14,
    "start_time": "2023-02-22T19:02:45.361Z"
   },
   {
    "duration": 50,
    "start_time": "2023-02-22T19:02:45.680Z"
   },
   {
    "duration": 60,
    "start_time": "2023-02-22T19:02:50.368Z"
   },
   {
    "duration": 3,
    "start_time": "2023-02-22T19:02:56.412Z"
   },
   {
    "duration": 533,
    "start_time": "2023-02-22T19:02:56.417Z"
   },
   {
    "duration": 26,
    "start_time": "2023-02-22T19:02:56.951Z"
   },
   {
    "duration": 418,
    "start_time": "2023-02-22T19:02:56.979Z"
   },
   {
    "duration": 270,
    "start_time": "2023-02-22T19:02:57.398Z"
   },
   {
    "duration": 276,
    "start_time": "2023-02-22T19:02:57.670Z"
   },
   {
    "duration": 22,
    "start_time": "2023-02-22T19:02:57.948Z"
   },
   {
    "duration": 9,
    "start_time": "2023-02-22T19:02:57.973Z"
   },
   {
    "duration": 39,
    "start_time": "2023-02-22T19:02:57.983Z"
   },
   {
    "duration": 36,
    "start_time": "2023-02-22T19:02:58.024Z"
   },
   {
    "duration": 14,
    "start_time": "2023-02-22T19:02:58.061Z"
   },
   {
    "duration": 9,
    "start_time": "2023-02-22T19:02:58.076Z"
   },
   {
    "duration": 35,
    "start_time": "2023-02-22T19:02:58.087Z"
   },
   {
    "duration": 22,
    "start_time": "2023-02-22T19:02:58.125Z"
   },
   {
    "duration": 361,
    "start_time": "2023-02-22T19:02:58.149Z"
   },
   {
    "duration": 14,
    "start_time": "2023-02-22T19:02:58.512Z"
   },
   {
    "duration": 48,
    "start_time": "2023-02-22T19:02:58.528Z"
   },
   {
    "duration": 44,
    "start_time": "2023-02-22T19:02:58.578Z"
   },
   {
    "duration": 42,
    "start_time": "2023-02-22T19:02:58.625Z"
   },
   {
    "duration": 183,
    "start_time": "2023-02-22T19:02:58.669Z"
   },
   {
    "duration": 18,
    "start_time": "2023-02-22T19:02:58.854Z"
   },
   {
    "duration": 156,
    "start_time": "2023-02-22T19:02:58.874Z"
   },
   {
    "duration": 242,
    "start_time": "2023-02-22T19:02:59.031Z"
   },
   {
    "duration": 242,
    "start_time": "2023-02-22T19:02:59.275Z"
   },
   {
    "duration": 235,
    "start_time": "2023-02-22T19:02:59.520Z"
   },
   {
    "duration": 132,
    "start_time": "2023-02-22T19:02:59.756Z"
   },
   {
    "duration": 279,
    "start_time": "2023-02-22T19:02:59.890Z"
   },
   {
    "duration": 244,
    "start_time": "2023-02-22T19:03:00.171Z"
   },
   {
    "duration": 13,
    "start_time": "2023-02-22T19:03:00.421Z"
   },
   {
    "duration": 47,
    "start_time": "2023-02-22T19:03:00.436Z"
   },
   {
    "duration": 43,
    "start_time": "2023-02-22T19:03:00.485Z"
   },
   {
    "duration": 35,
    "start_time": "2023-02-22T19:03:00.530Z"
   },
   {
    "duration": 17,
    "start_time": "2023-02-22T19:03:00.567Z"
   },
   {
    "duration": 57,
    "start_time": "2023-02-22T19:03:00.585Z"
   },
   {
    "duration": 0,
    "start_time": "2023-02-22T19:03:00.645Z"
   },
   {
    "duration": 0,
    "start_time": "2023-02-22T19:03:00.647Z"
   },
   {
    "duration": 0,
    "start_time": "2023-02-22T19:03:00.648Z"
   },
   {
    "duration": 0,
    "start_time": "2023-02-22T19:03:00.650Z"
   },
   {
    "duration": 0,
    "start_time": "2023-02-22T19:03:00.652Z"
   },
   {
    "duration": 0,
    "start_time": "2023-02-22T19:03:00.653Z"
   },
   {
    "duration": 0,
    "start_time": "2023-02-22T19:03:00.655Z"
   },
   {
    "duration": 0,
    "start_time": "2023-02-22T19:03:00.657Z"
   },
   {
    "duration": 3,
    "start_time": "2023-02-22T19:05:15.316Z"
   },
   {
    "duration": 554,
    "start_time": "2023-02-22T19:05:17.018Z"
   },
   {
    "duration": 25,
    "start_time": "2023-02-22T19:05:17.574Z"
   },
   {
    "duration": 403,
    "start_time": "2023-02-22T19:05:17.601Z"
   },
   {
    "duration": 309,
    "start_time": "2023-02-22T19:05:18.006Z"
   },
   {
    "duration": 281,
    "start_time": "2023-02-22T19:05:18.316Z"
   },
   {
    "duration": 35,
    "start_time": "2023-02-22T19:05:18.599Z"
   },
   {
    "duration": 9,
    "start_time": "2023-02-22T19:05:18.636Z"
   },
   {
    "duration": 19,
    "start_time": "2023-02-22T19:05:18.685Z"
   },
   {
    "duration": 40,
    "start_time": "2023-02-22T19:05:19.213Z"
   },
   {
    "duration": 15,
    "start_time": "2023-02-22T19:05:19.263Z"
   },
   {
    "duration": 9,
    "start_time": "2023-02-22T19:05:19.400Z"
   },
   {
    "duration": 20,
    "start_time": "2023-02-22T19:33:18.875Z"
   },
   {
    "duration": 40,
    "start_time": "2023-02-22T19:33:40.533Z"
   },
   {
    "duration": 14,
    "start_time": "2023-02-22T19:33:44.930Z"
   },
   {
    "duration": 9,
    "start_time": "2023-02-22T19:33:48.325Z"
   },
   {
    "duration": 4,
    "start_time": "2023-02-22T19:33:49.726Z"
   },
   {
    "duration": 15,
    "start_time": "2023-02-22T19:33:52.424Z"
   },
   {
    "duration": 327,
    "start_time": "2023-02-22T19:33:59.156Z"
   },
   {
    "duration": 10,
    "start_time": "2023-02-22T19:33:59.800Z"
   },
   {
    "duration": 161,
    "start_time": "2023-02-22T20:41:43.598Z"
   },
   {
    "duration": 193,
    "start_time": "2023-02-22T20:44:10.280Z"
   },
   {
    "duration": 246,
    "start_time": "2023-02-22T20:44:44.321Z"
   },
   {
    "duration": 4,
    "start_time": "2023-02-22T20:48:15.720Z"
   },
   {
    "duration": 14,
    "start_time": "2023-02-22T21:03:51.554Z"
   },
   {
    "duration": 14,
    "start_time": "2023-02-22T21:04:01.028Z"
   },
   {
    "duration": 228,
    "start_time": "2023-02-22T21:04:11.355Z"
   },
   {
    "duration": 15,
    "start_time": "2023-02-22T21:04:11.706Z"
   },
   {
    "duration": 151,
    "start_time": "2023-02-22T21:04:11.833Z"
   },
   {
    "duration": 155,
    "start_time": "2023-02-22T21:04:29.385Z"
   },
   {
    "duration": 225,
    "start_time": "2023-02-22T21:04:46.516Z"
   },
   {
    "duration": 352,
    "start_time": "2023-02-22T21:04:47.576Z"
   },
   {
    "duration": 53,
    "start_time": "2023-02-23T08:24:19.774Z"
   },
   {
    "duration": 9,
    "start_time": "2023-02-23T08:24:23.393Z"
   },
   {
    "duration": 9,
    "start_time": "2023-02-23T08:24:27.828Z"
   },
   {
    "duration": 1348,
    "start_time": "2023-02-23T08:24:31.877Z"
   },
   {
    "duration": 1251,
    "start_time": "2023-02-23T08:24:33.227Z"
   },
   {
    "duration": 31,
    "start_time": "2023-02-23T08:24:34.480Z"
   },
   {
    "duration": 403,
    "start_time": "2023-02-23T08:24:34.512Z"
   },
   {
    "duration": 335,
    "start_time": "2023-02-23T08:24:34.918Z"
   },
   {
    "duration": 373,
    "start_time": "2023-02-23T08:24:35.255Z"
   },
   {
    "duration": 43,
    "start_time": "2023-02-23T08:24:35.630Z"
   },
   {
    "duration": 13,
    "start_time": "2023-02-23T08:24:35.675Z"
   },
   {
    "duration": 38,
    "start_time": "2023-02-23T08:24:35.691Z"
   },
   {
    "duration": 52,
    "start_time": "2023-02-23T08:24:35.731Z"
   },
   {
    "duration": 19,
    "start_time": "2023-02-23T08:24:35.784Z"
   },
   {
    "duration": 8,
    "start_time": "2023-02-23T08:24:35.807Z"
   },
   {
    "duration": 16,
    "start_time": "2023-02-23T08:24:35.817Z"
   },
   {
    "duration": 22,
    "start_time": "2023-02-23T08:24:35.853Z"
   },
   {
    "duration": 407,
    "start_time": "2023-02-23T08:24:35.877Z"
   },
   {
    "duration": 10,
    "start_time": "2023-02-23T08:24:36.286Z"
   },
   {
    "duration": 77,
    "start_time": "2023-02-23T08:24:36.298Z"
   },
   {
    "duration": 23,
    "start_time": "2023-02-23T08:24:36.378Z"
   },
   {
    "duration": 69,
    "start_time": "2023-02-23T08:24:36.403Z"
   },
   {
    "duration": 244,
    "start_time": "2023-02-23T08:24:36.474Z"
   },
   {
    "duration": 18,
    "start_time": "2023-02-23T08:24:36.720Z"
   },
   {
    "duration": 204,
    "start_time": "2023-02-23T08:24:36.740Z"
   },
   {
    "duration": 316,
    "start_time": "2023-02-23T08:24:36.947Z"
   },
   {
    "duration": 354,
    "start_time": "2023-02-23T08:24:37.266Z"
   },
   {
    "duration": 166,
    "start_time": "2023-02-23T08:24:37.623Z"
   },
   {
    "duration": 164,
    "start_time": "2023-02-23T08:24:37.791Z"
   },
   {
    "duration": 267,
    "start_time": "2023-02-23T08:24:37.957Z"
   },
   {
    "duration": 350,
    "start_time": "2023-02-23T08:24:38.226Z"
   },
   {
    "duration": 14,
    "start_time": "2023-02-23T08:24:38.578Z"
   },
   {
    "duration": 5,
    "start_time": "2023-02-23T08:24:56.741Z"
   },
   {
    "duration": 681,
    "start_time": "2023-02-23T08:24:56.750Z"
   },
   {
    "duration": 39,
    "start_time": "2023-02-23T08:24:57.434Z"
   },
   {
    "duration": 548,
    "start_time": "2023-02-23T08:24:57.475Z"
   },
   {
    "duration": 369,
    "start_time": "2023-02-23T08:24:58.025Z"
   },
   {
    "duration": 314,
    "start_time": "2023-02-23T08:24:58.397Z"
   },
   {
    "duration": 25,
    "start_time": "2023-02-23T08:24:58.713Z"
   },
   {
    "duration": 27,
    "start_time": "2023-02-23T08:24:58.739Z"
   },
   {
    "duration": 26,
    "start_time": "2023-02-23T08:24:58.768Z"
   },
   {
    "duration": 72,
    "start_time": "2023-02-23T08:24:58.796Z"
   },
   {
    "duration": 19,
    "start_time": "2023-02-23T08:24:58.872Z"
   },
   {
    "duration": 8,
    "start_time": "2023-02-23T08:24:58.892Z"
   },
   {
    "duration": 11,
    "start_time": "2023-02-23T08:24:58.901Z"
   },
   {
    "duration": 43,
    "start_time": "2023-02-23T08:24:58.913Z"
   },
   {
    "duration": 331,
    "start_time": "2023-02-23T08:24:58.958Z"
   },
   {
    "duration": 11,
    "start_time": "2023-02-23T08:24:59.291Z"
   },
   {
    "duration": 61,
    "start_time": "2023-02-23T08:24:59.304Z"
   },
   {
    "duration": 16,
    "start_time": "2023-02-23T08:24:59.367Z"
   },
   {
    "duration": 76,
    "start_time": "2023-02-23T08:24:59.385Z"
   },
   {
    "duration": 259,
    "start_time": "2023-02-23T08:24:59.464Z"
   },
   {
    "duration": 17,
    "start_time": "2023-02-23T08:24:59.725Z"
   },
   {
    "duration": 270,
    "start_time": "2023-02-23T08:24:59.755Z"
   },
   {
    "duration": 326,
    "start_time": "2023-02-23T08:25:00.027Z"
   },
   {
    "duration": 298,
    "start_time": "2023-02-23T08:25:00.355Z"
   },
   {
    "duration": 212,
    "start_time": "2023-02-23T08:25:00.655Z"
   },
   {
    "duration": 208,
    "start_time": "2023-02-23T08:25:00.869Z"
   },
   {
    "duration": 419,
    "start_time": "2023-02-23T08:25:01.079Z"
   },
   {
    "duration": 301,
    "start_time": "2023-02-23T08:25:01.500Z"
   },
   {
    "duration": 16,
    "start_time": "2023-02-23T08:25:01.806Z"
   },
   {
    "duration": 29,
    "start_time": "2023-02-23T08:25:01.824Z"
   },
   {
    "duration": 9,
    "start_time": "2023-02-23T08:25:01.855Z"
   },
   {
    "duration": 6,
    "start_time": "2023-02-23T08:25:01.866Z"
   },
   {
    "duration": 8,
    "start_time": "2023-02-23T08:25:01.875Z"
   },
   {
    "duration": 30,
    "start_time": "2023-02-23T08:25:01.885Z"
   },
   {
    "duration": 0,
    "start_time": "2023-02-23T08:25:01.917Z"
   },
   {
    "duration": 0,
    "start_time": "2023-02-23T08:25:01.918Z"
   },
   {
    "duration": 0,
    "start_time": "2023-02-23T08:25:01.919Z"
   },
   {
    "duration": 0,
    "start_time": "2023-02-23T08:25:01.921Z"
   },
   {
    "duration": 0,
    "start_time": "2023-02-23T08:25:01.922Z"
   },
   {
    "duration": 0,
    "start_time": "2023-02-23T08:25:01.923Z"
   },
   {
    "duration": 0,
    "start_time": "2023-02-23T08:25:01.925Z"
   },
   {
    "duration": 0,
    "start_time": "2023-02-23T08:25:01.926Z"
   },
   {
    "duration": 364,
    "start_time": "2023-02-23T08:25:40.735Z"
   },
   {
    "duration": 10,
    "start_time": "2023-02-23T08:25:43.383Z"
   },
   {
    "duration": 25,
    "start_time": "2023-02-23T08:25:52.598Z"
   },
   {
    "duration": 18,
    "start_time": "2023-02-23T08:26:01.490Z"
   },
   {
    "duration": 43,
    "start_time": "2023-02-23T08:26:04.260Z"
   },
   {
    "duration": 45,
    "start_time": "2023-02-23T08:26:14.160Z"
   },
   {
    "duration": 44,
    "start_time": "2023-02-23T08:26:19.288Z"
   },
   {
    "duration": 229,
    "start_time": "2023-02-23T08:26:21.118Z"
   },
   {
    "duration": 18,
    "start_time": "2023-02-23T08:27:09.198Z"
   },
   {
    "duration": 11,
    "start_time": "2023-02-23T08:27:25.064Z"
   },
   {
    "duration": 176,
    "start_time": "2023-02-23T08:28:43.685Z"
   },
   {
    "duration": 188,
    "start_time": "2023-02-23T08:29:11.045Z"
   },
   {
    "duration": 18,
    "start_time": "2023-02-23T08:29:57.457Z"
   },
   {
    "duration": 19,
    "start_time": "2023-02-23T08:30:03.737Z"
   },
   {
    "duration": 170,
    "start_time": "2023-02-23T08:30:28.291Z"
   },
   {
    "duration": 154,
    "start_time": "2023-02-23T08:32:25.638Z"
   },
   {
    "duration": 159,
    "start_time": "2023-02-23T08:32:37.269Z"
   },
   {
    "duration": 152,
    "start_time": "2023-02-23T08:32:49.497Z"
   },
   {
    "duration": 304,
    "start_time": "2023-02-23T08:33:04.747Z"
   },
   {
    "duration": 294,
    "start_time": "2023-02-23T08:33:25.650Z"
   },
   {
    "duration": 14,
    "start_time": "2023-02-23T08:37:51.014Z"
   },
   {
    "duration": 20,
    "start_time": "2023-02-23T08:38:02.229Z"
   },
   {
    "duration": 17,
    "start_time": "2023-02-23T08:38:30.821Z"
   },
   {
    "duration": 28,
    "start_time": "2023-02-23T08:38:45.626Z"
   },
   {
    "duration": 29,
    "start_time": "2023-02-23T08:38:58.076Z"
   },
   {
    "duration": 8,
    "start_time": "2023-02-23T08:43:03.542Z"
   },
   {
    "duration": 3,
    "start_time": "2023-02-23T08:43:03.741Z"
   },
   {
    "duration": 6,
    "start_time": "2023-02-23T08:43:04.164Z"
   },
   {
    "duration": 9,
    "start_time": "2023-02-23T08:43:04.766Z"
   },
   {
    "duration": 9,
    "start_time": "2023-02-23T08:43:10.970Z"
   },
   {
    "duration": 12,
    "start_time": "2023-02-23T08:43:11.852Z"
   },
   {
    "duration": 84,
    "start_time": "2023-02-23T08:43:21.213Z"
   },
   {
    "duration": 6,
    "start_time": "2023-02-23T08:43:21.764Z"
   },
   {
    "duration": 11,
    "start_time": "2023-02-23T08:43:25.262Z"
   },
   {
    "duration": 79,
    "start_time": "2023-02-23T08:43:26.288Z"
   },
   {
    "duration": 6,
    "start_time": "2023-02-23T08:43:35.535Z"
   },
   {
    "duration": 5,
    "start_time": "2023-02-23T08:43:36.203Z"
   },
   {
    "duration": 13,
    "start_time": "2023-02-23T08:43:36.901Z"
   },
   {
    "duration": 7,
    "start_time": "2023-02-23T08:43:38.487Z"
   },
   {
    "duration": 30,
    "start_time": "2023-02-23T08:43:45.771Z"
   },
   {
    "duration": 27,
    "start_time": "2023-02-23T08:43:51.613Z"
   },
   {
    "duration": 200,
    "start_time": "2023-02-23T08:44:10.148Z"
   },
   {
    "duration": 200,
    "start_time": "2023-02-23T08:44:18.073Z"
   },
   {
    "duration": 350,
    "start_time": "2023-02-23T08:44:33.328Z"
   },
   {
    "duration": 200,
    "start_time": "2023-02-23T08:44:43.999Z"
   },
   {
    "duration": 13,
    "start_time": "2023-02-23T08:45:06.275Z"
   },
   {
    "duration": 9,
    "start_time": "2023-02-23T08:45:09.914Z"
   },
   {
    "duration": 224,
    "start_time": "2023-02-23T08:45:10.618Z"
   },
   {
    "duration": 8,
    "start_time": "2023-02-23T08:45:12.087Z"
   },
   {
    "duration": 11,
    "start_time": "2023-02-23T08:45:13.097Z"
   },
   {
    "duration": 12,
    "start_time": "2023-02-23T08:46:03.402Z"
   },
   {
    "duration": 9,
    "start_time": "2023-02-23T08:46:47.061Z"
   },
   {
    "duration": 9,
    "start_time": "2023-02-23T08:46:49.770Z"
   },
   {
    "duration": 6,
    "start_time": "2023-02-23T08:46:51.071Z"
   },
   {
    "duration": 26,
    "start_time": "2023-02-23T08:53:48.425Z"
   },
   {
    "duration": 28,
    "start_time": "2023-02-23T08:53:59.278Z"
   },
   {
    "duration": 3,
    "start_time": "2023-02-23T08:54:14.368Z"
   },
   {
    "duration": 662,
    "start_time": "2023-02-23T08:54:14.374Z"
   },
   {
    "duration": 35,
    "start_time": "2023-02-23T08:54:15.038Z"
   },
   {
    "duration": 469,
    "start_time": "2023-02-23T08:54:15.079Z"
   },
   {
    "duration": 324,
    "start_time": "2023-02-23T08:54:15.554Z"
   },
   {
    "duration": 338,
    "start_time": "2023-02-23T08:54:15.880Z"
   },
   {
    "duration": 37,
    "start_time": "2023-02-23T08:54:16.220Z"
   },
   {
    "duration": 17,
    "start_time": "2023-02-23T08:54:16.261Z"
   },
   {
    "duration": 33,
    "start_time": "2023-02-23T08:54:16.281Z"
   },
   {
    "duration": 81,
    "start_time": "2023-02-23T08:54:16.317Z"
   },
   {
    "duration": 19,
    "start_time": "2023-02-23T08:54:16.400Z"
   },
   {
    "duration": 39,
    "start_time": "2023-02-23T08:54:16.421Z"
   },
   {
    "duration": 22,
    "start_time": "2023-02-23T08:54:16.462Z"
   },
   {
    "duration": 29,
    "start_time": "2023-02-23T08:54:16.487Z"
   },
   {
    "duration": 408,
    "start_time": "2023-02-23T08:54:16.519Z"
   },
   {
    "duration": 11,
    "start_time": "2023-02-23T08:54:16.928Z"
   },
   {
    "duration": 85,
    "start_time": "2023-02-23T08:54:16.941Z"
   },
   {
    "duration": 18,
    "start_time": "2023-02-23T08:54:17.028Z"
   },
   {
    "duration": 64,
    "start_time": "2023-02-23T08:54:17.048Z"
   },
   {
    "duration": 262,
    "start_time": "2023-02-23T08:54:17.114Z"
   },
   {
    "duration": 11,
    "start_time": "2023-02-23T08:54:17.378Z"
   },
   {
    "duration": 244,
    "start_time": "2023-02-23T08:54:17.391Z"
   },
   {
    "duration": 401,
    "start_time": "2023-02-23T08:54:17.638Z"
   },
   {
    "duration": 323,
    "start_time": "2023-02-23T08:54:18.065Z"
   },
   {
    "duration": 296,
    "start_time": "2023-02-23T08:54:18.390Z"
   },
   {
    "duration": 234,
    "start_time": "2023-02-23T08:54:18.687Z"
   },
   {
    "duration": 344,
    "start_time": "2023-02-23T08:54:18.923Z"
   },
   {
    "duration": 336,
    "start_time": "2023-02-23T08:54:19.271Z"
   },
   {
    "duration": 212,
    "start_time": "2023-02-23T08:54:19.609Z"
   },
   {
    "duration": 11,
    "start_time": "2023-02-23T08:54:19.826Z"
   },
   {
    "duration": 55,
    "start_time": "2023-02-23T08:54:19.839Z"
   },
   {
    "duration": 11,
    "start_time": "2023-02-23T08:54:19.896Z"
   },
   {
    "duration": 20,
    "start_time": "2023-02-23T08:54:19.909Z"
   },
   {
    "duration": 32,
    "start_time": "2023-02-23T08:54:19.931Z"
   },
   {
    "duration": 275,
    "start_time": "2023-02-23T08:54:19.972Z"
   },
   {
    "duration": 14,
    "start_time": "2023-02-23T08:54:20.254Z"
   },
   {
    "duration": 54,
    "start_time": "2023-02-23T08:54:20.270Z"
   },
   {
    "duration": 46,
    "start_time": "2023-02-23T08:54:20.326Z"
   },
   {
    "duration": 14,
    "start_time": "2023-02-23T08:54:20.375Z"
   },
   {
    "duration": 14,
    "start_time": "2023-02-23T08:54:20.392Z"
   },
   {
    "duration": 38,
    "start_time": "2023-02-23T08:54:20.408Z"
   },
   {
    "duration": 33,
    "start_time": "2023-02-23T08:54:28.708Z"
   },
   {
    "duration": 3,
    "start_time": "2023-02-23T08:59:02.266Z"
   },
   {
    "duration": 37,
    "start_time": "2023-02-23T08:59:10.185Z"
   },
   {
    "duration": 1218,
    "start_time": "2023-02-23T08:59:16.055Z"
   },
   {
    "duration": 636,
    "start_time": "2023-02-23T08:59:17.276Z"
   },
   {
    "duration": 34,
    "start_time": "2023-02-23T08:59:17.913Z"
   },
   {
    "duration": 418,
    "start_time": "2023-02-23T08:59:17.956Z"
   },
   {
    "duration": 321,
    "start_time": "2023-02-23T08:59:18.378Z"
   },
   {
    "duration": 375,
    "start_time": "2023-02-23T08:59:18.701Z"
   },
   {
    "duration": 31,
    "start_time": "2023-02-23T08:59:19.079Z"
   },
   {
    "duration": 13,
    "start_time": "2023-02-23T08:59:19.112Z"
   },
   {
    "duration": 54,
    "start_time": "2023-02-23T08:59:19.127Z"
   },
   {
    "duration": 49,
    "start_time": "2023-02-23T08:59:19.183Z"
   },
   {
    "duration": 20,
    "start_time": "2023-02-23T08:59:19.234Z"
   },
   {
    "duration": 8,
    "start_time": "2023-02-23T08:59:19.255Z"
   },
   {
    "duration": 4,
    "start_time": "2023-02-23T08:59:19.265Z"
   },
   {
    "duration": 16,
    "start_time": "2023-02-23T08:59:19.272Z"
   },
   {
    "duration": 444,
    "start_time": "2023-02-23T08:59:19.290Z"
   },
   {
    "duration": 23,
    "start_time": "2023-02-23T08:59:19.736Z"
   },
   {
    "duration": 80,
    "start_time": "2023-02-23T08:59:19.762Z"
   },
   {
    "duration": 19,
    "start_time": "2023-02-23T08:59:19.844Z"
   },
   {
    "duration": 88,
    "start_time": "2023-02-23T08:59:19.866Z"
   },
   {
    "duration": 266,
    "start_time": "2023-02-23T08:59:19.956Z"
   },
   {
    "duration": 12,
    "start_time": "2023-02-23T08:59:20.224Z"
   },
   {
    "duration": 228,
    "start_time": "2023-02-23T08:59:20.238Z"
   },
   {
    "duration": 299,
    "start_time": "2023-02-23T08:59:20.468Z"
   },
   {
    "duration": 278,
    "start_time": "2023-02-23T08:59:20.770Z"
   },
   {
    "duration": 181,
    "start_time": "2023-02-23T08:59:21.053Z"
   },
   {
    "duration": 173,
    "start_time": "2023-02-23T08:59:21.235Z"
   },
   {
    "duration": 311,
    "start_time": "2023-02-23T08:59:21.410Z"
   },
   {
    "duration": 370,
    "start_time": "2023-02-23T08:59:21.723Z"
   },
   {
    "duration": 3,
    "start_time": "2023-02-23T09:00:10.586Z"
   },
   {
    "duration": 680,
    "start_time": "2023-02-23T09:00:10.593Z"
   },
   {
    "duration": 32,
    "start_time": "2023-02-23T09:00:11.274Z"
   },
   {
    "duration": 449,
    "start_time": "2023-02-23T09:00:11.308Z"
   },
   {
    "duration": 326,
    "start_time": "2023-02-23T09:00:11.766Z"
   },
   {
    "duration": 295,
    "start_time": "2023-02-23T09:00:12.094Z"
   },
   {
    "duration": 33,
    "start_time": "2023-02-23T09:00:12.391Z"
   },
   {
    "duration": 34,
    "start_time": "2023-02-23T09:00:12.426Z"
   },
   {
    "duration": 39,
    "start_time": "2023-02-23T09:00:12.461Z"
   },
   {
    "duration": 45,
    "start_time": "2023-02-23T09:00:12.503Z"
   },
   {
    "duration": 25,
    "start_time": "2023-02-23T09:00:12.556Z"
   },
   {
    "duration": 13,
    "start_time": "2023-02-23T09:00:12.583Z"
   },
   {
    "duration": 6,
    "start_time": "2023-02-23T09:00:12.599Z"
   },
   {
    "duration": 19,
    "start_time": "2023-02-23T09:00:12.609Z"
   },
   {
    "duration": 367,
    "start_time": "2023-02-23T09:00:12.654Z"
   },
   {
    "duration": 13,
    "start_time": "2023-02-23T09:00:13.024Z"
   },
   {
    "duration": 54,
    "start_time": "2023-02-23T09:00:13.058Z"
   },
   {
    "duration": 15,
    "start_time": "2023-02-23T09:00:13.114Z"
   },
   {
    "duration": 65,
    "start_time": "2023-02-23T09:00:13.130Z"
   },
   {
    "duration": 267,
    "start_time": "2023-02-23T09:00:13.197Z"
   },
   {
    "duration": 14,
    "start_time": "2023-02-23T09:00:13.473Z"
   },
   {
    "duration": 213,
    "start_time": "2023-02-23T09:00:13.490Z"
   },
   {
    "duration": 384,
    "start_time": "2023-02-23T09:00:13.705Z"
   },
   {
    "duration": 303,
    "start_time": "2023-02-23T09:00:14.090Z"
   },
   {
    "duration": 185,
    "start_time": "2023-02-23T09:00:14.395Z"
   },
   {
    "duration": 292,
    "start_time": "2023-02-23T09:00:14.582Z"
   },
   {
    "duration": 337,
    "start_time": "2023-02-23T09:00:14.875Z"
   },
   {
    "duration": 333,
    "start_time": "2023-02-23T09:00:15.214Z"
   },
   {
    "duration": 33,
    "start_time": "2023-02-23T09:00:15.556Z"
   },
   {
    "duration": 9,
    "start_time": "2023-02-23T09:00:15.590Z"
   },
   {
    "duration": 14,
    "start_time": "2023-02-23T09:00:15.601Z"
   },
   {
    "duration": 15,
    "start_time": "2023-02-23T09:00:15.617Z"
   },
   {
    "duration": 50,
    "start_time": "2023-02-23T09:00:15.634Z"
   },
   {
    "duration": 11,
    "start_time": "2023-02-23T09:00:15.686Z"
   },
   {
    "duration": 221,
    "start_time": "2023-02-23T09:00:15.698Z"
   },
   {
    "duration": 8,
    "start_time": "2023-02-23T09:00:15.921Z"
   },
   {
    "duration": 39,
    "start_time": "2023-02-23T09:00:15.931Z"
   },
   {
    "duration": 6,
    "start_time": "2023-02-23T09:00:15.972Z"
   },
   {
    "duration": 11,
    "start_time": "2023-02-23T09:00:15.980Z"
   },
   {
    "duration": 12,
    "start_time": "2023-02-23T09:00:15.993Z"
   },
   {
    "duration": 14,
    "start_time": "2023-02-23T09:00:16.009Z"
   },
   {
    "duration": 42,
    "start_time": "2023-02-23T09:00:29.109Z"
   },
   {
    "duration": 43,
    "start_time": "2023-02-23T09:01:15.181Z"
   },
   {
    "duration": 27,
    "start_time": "2023-02-23T09:02:10.499Z"
   },
   {
    "duration": 27,
    "start_time": "2023-02-23T09:03:19.004Z"
   },
   {
    "duration": 30,
    "start_time": "2023-02-23T09:03:21.835Z"
   },
   {
    "duration": 34,
    "start_time": "2023-02-23T09:03:30.993Z"
   },
   {
    "duration": 20,
    "start_time": "2023-02-23T09:03:40.489Z"
   },
   {
    "duration": 27,
    "start_time": "2023-02-23T09:03:47.542Z"
   },
   {
    "duration": 21,
    "start_time": "2023-02-23T09:03:55.143Z"
   },
   {
    "duration": 30,
    "start_time": "2023-02-23T09:03:59.278Z"
   },
   {
    "duration": 33,
    "start_time": "2023-02-23T09:11:35.852Z"
   },
   {
    "duration": 8,
    "start_time": "2023-02-23T09:13:49.374Z"
   },
   {
    "duration": 6,
    "start_time": "2023-02-23T09:14:57.367Z"
   },
   {
    "duration": 6,
    "start_time": "2023-02-23T09:14:57.534Z"
   },
   {
    "duration": 6,
    "start_time": "2023-02-23T09:14:57.738Z"
   },
   {
    "duration": 13,
    "start_time": "2023-02-23T09:14:57.879Z"
   },
   {
    "duration": 91,
    "start_time": "2023-02-23T09:51:31.301Z"
   },
   {
    "duration": 11,
    "start_time": "2023-02-23T09:51:36.522Z"
   },
   {
    "duration": 6,
    "start_time": "2023-02-23T09:52:16.500Z"
   },
   {
    "duration": 19,
    "start_time": "2023-02-23T09:52:39.539Z"
   },
   {
    "duration": 13,
    "start_time": "2023-02-23T09:53:26.575Z"
   },
   {
    "duration": 389,
    "start_time": "2023-02-23T09:55:26.810Z"
   },
   {
    "duration": 287,
    "start_time": "2023-02-23T09:55:36.052Z"
   },
   {
    "duration": 665,
    "start_time": "2023-02-23T09:55:46.055Z"
   },
   {
    "duration": 321,
    "start_time": "2023-02-23T09:56:01.074Z"
   },
   {
    "duration": 159,
    "start_time": "2023-02-23T09:56:18.634Z"
   },
   {
    "duration": 148,
    "start_time": "2023-02-23T09:56:20.516Z"
   },
   {
    "duration": 160,
    "start_time": "2023-02-23T09:56:35.344Z"
   },
   {
    "duration": 27,
    "start_time": "2023-02-23T09:57:07.818Z"
   },
   {
    "duration": 4,
    "start_time": "2023-02-23T10:01:36.739Z"
   },
   {
    "duration": 4,
    "start_time": "2023-02-23T10:02:00.861Z"
   },
   {
    "duration": 5,
    "start_time": "2023-02-23T10:02:15.849Z"
   },
   {
    "duration": 28,
    "start_time": "2023-02-23T10:15:57.946Z"
   },
   {
    "duration": 45,
    "start_time": "2023-02-23T10:16:09.071Z"
   },
   {
    "duration": 29,
    "start_time": "2023-02-23T10:16:13.714Z"
   },
   {
    "duration": 30,
    "start_time": "2023-02-23T10:16:20.647Z"
   },
   {
    "duration": 5,
    "start_time": "2023-02-23T10:16:25.071Z"
   },
   {
    "duration": 617,
    "start_time": "2023-02-23T10:16:25.078Z"
   },
   {
    "duration": 23,
    "start_time": "2023-02-23T10:16:25.697Z"
   },
   {
    "duration": 445,
    "start_time": "2023-02-23T10:16:25.722Z"
   },
   {
    "duration": 316,
    "start_time": "2023-02-23T10:16:26.170Z"
   },
   {
    "duration": 336,
    "start_time": "2023-02-23T10:16:26.489Z"
   },
   {
    "duration": 45,
    "start_time": "2023-02-23T10:16:26.827Z"
   },
   {
    "duration": 12,
    "start_time": "2023-02-23T10:16:26.874Z"
   },
   {
    "duration": 19,
    "start_time": "2023-02-23T10:16:26.889Z"
   },
   {
    "duration": 58,
    "start_time": "2023-02-23T10:16:26.910Z"
   },
   {
    "duration": 16,
    "start_time": "2023-02-23T10:16:26.969Z"
   },
   {
    "duration": 8,
    "start_time": "2023-02-23T10:16:26.987Z"
   },
   {
    "duration": 5,
    "start_time": "2023-02-23T10:16:26.996Z"
   },
   {
    "duration": 20,
    "start_time": "2023-02-23T10:16:27.002Z"
   },
   {
    "duration": 370,
    "start_time": "2023-02-23T10:16:27.058Z"
   },
   {
    "duration": 10,
    "start_time": "2023-02-23T10:16:27.430Z"
   },
   {
    "duration": 56,
    "start_time": "2023-02-23T10:16:27.455Z"
   },
   {
    "duration": 19,
    "start_time": "2023-02-23T10:16:27.513Z"
   },
   {
    "duration": 78,
    "start_time": "2023-02-23T10:16:27.535Z"
   },
   {
    "duration": 288,
    "start_time": "2023-02-23T10:16:27.616Z"
   },
   {
    "duration": 15,
    "start_time": "2023-02-23T10:16:27.906Z"
   },
   {
    "duration": 246,
    "start_time": "2023-02-23T10:16:27.923Z"
   },
   {
    "duration": 336,
    "start_time": "2023-02-23T10:16:28.174Z"
   },
   {
    "duration": 293,
    "start_time": "2023-02-23T10:16:28.514Z"
   },
   {
    "duration": 179,
    "start_time": "2023-02-23T10:16:28.809Z"
   },
   {
    "duration": 331,
    "start_time": "2023-02-23T10:16:28.989Z"
   },
   {
    "duration": 317,
    "start_time": "2023-02-23T10:16:29.322Z"
   },
   {
    "duration": 343,
    "start_time": "2023-02-23T10:16:29.642Z"
   },
   {
    "duration": 28,
    "start_time": "2023-02-23T10:16:29.987Z"
   },
   {
    "duration": 13,
    "start_time": "2023-02-23T10:16:30.017Z"
   },
   {
    "duration": 32,
    "start_time": "2023-02-23T10:16:30.032Z"
   },
   {
    "duration": 22,
    "start_time": "2023-02-23T10:16:30.066Z"
   },
   {
    "duration": 19,
    "start_time": "2023-02-23T10:16:30.090Z"
   },
   {
    "duration": 18,
    "start_time": "2023-02-23T10:16:30.111Z"
   },
   {
    "duration": 28,
    "start_time": "2023-02-23T10:16:30.130Z"
   },
   {
    "duration": 224,
    "start_time": "2023-02-23T10:16:30.163Z"
   },
   {
    "duration": 7,
    "start_time": "2023-02-23T10:16:30.389Z"
   },
   {
    "duration": 50,
    "start_time": "2023-02-23T10:16:30.398Z"
   },
   {
    "duration": 36,
    "start_time": "2023-02-23T10:16:30.450Z"
   },
   {
    "duration": 32,
    "start_time": "2023-02-23T10:16:30.487Z"
   },
   {
    "duration": 47,
    "start_time": "2023-02-23T10:16:30.521Z"
   },
   {
    "duration": 45,
    "start_time": "2023-02-23T10:16:30.571Z"
   },
   {
    "duration": 22,
    "start_time": "2023-02-23T10:16:54.572Z"
   },
   {
    "duration": 23,
    "start_time": "2023-02-23T10:16:56.769Z"
   },
   {
    "duration": 39,
    "start_time": "2023-02-23T10:17:03.226Z"
   },
   {
    "duration": 5,
    "start_time": "2023-02-23T10:17:07.207Z"
   },
   {
    "duration": 25,
    "start_time": "2023-02-23T10:27:01.587Z"
   },
   {
    "duration": 4,
    "start_time": "2023-02-23T10:27:04.221Z"
   },
   {
    "duration": 9,
    "start_time": "2023-02-23T11:12:40.358Z"
   },
   {
    "duration": 618,
    "start_time": "2023-02-23T11:12:40.370Z"
   },
   {
    "duration": 30,
    "start_time": "2023-02-23T11:12:40.990Z"
   },
   {
    "duration": 458,
    "start_time": "2023-02-23T11:12:41.023Z"
   },
   {
    "duration": 324,
    "start_time": "2023-02-23T11:12:41.484Z"
   },
   {
    "duration": 317,
    "start_time": "2023-02-23T11:12:41.810Z"
   },
   {
    "duration": 39,
    "start_time": "2023-02-23T11:12:42.129Z"
   },
   {
    "duration": 14,
    "start_time": "2023-02-23T11:12:42.170Z"
   },
   {
    "duration": 33,
    "start_time": "2023-02-23T11:12:42.186Z"
   },
   {
    "duration": 64,
    "start_time": "2023-02-23T11:12:42.221Z"
   },
   {
    "duration": 19,
    "start_time": "2023-02-23T11:12:42.287Z"
   },
   {
    "duration": 10,
    "start_time": "2023-02-23T11:12:42.308Z"
   },
   {
    "duration": 13,
    "start_time": "2023-02-23T11:12:42.320Z"
   },
   {
    "duration": 22,
    "start_time": "2023-02-23T11:12:42.354Z"
   },
   {
    "duration": 394,
    "start_time": "2023-02-23T11:12:42.378Z"
   },
   {
    "duration": 10,
    "start_time": "2023-02-23T11:12:42.774Z"
   },
   {
    "duration": 48,
    "start_time": "2023-02-23T11:12:42.786Z"
   },
   {
    "duration": 36,
    "start_time": "2023-02-23T11:12:42.835Z"
   },
   {
    "duration": 46,
    "start_time": "2023-02-23T11:12:42.873Z"
   },
   {
    "duration": 250,
    "start_time": "2023-02-23T11:12:42.921Z"
   },
   {
    "duration": 15,
    "start_time": "2023-02-23T11:12:43.174Z"
   },
   {
    "duration": 213,
    "start_time": "2023-02-23T11:12:43.191Z"
   },
   {
    "duration": 331,
    "start_time": "2023-02-23T11:12:43.406Z"
   },
   {
    "duration": 307,
    "start_time": "2023-02-23T11:12:43.739Z"
   },
   {
    "duration": 176,
    "start_time": "2023-02-23T11:12:44.048Z"
   },
   {
    "duration": 221,
    "start_time": "2023-02-23T11:12:44.226Z"
   },
   {
    "duration": 323,
    "start_time": "2023-02-23T11:12:44.453Z"
   },
   {
    "duration": 339,
    "start_time": "2023-02-23T11:12:44.778Z"
   },
   {
    "duration": 24,
    "start_time": "2023-02-23T11:12:45.119Z"
   },
   {
    "duration": 9,
    "start_time": "2023-02-23T11:12:45.154Z"
   },
   {
    "duration": 31,
    "start_time": "2023-02-23T11:12:45.165Z"
   },
   {
    "duration": 7,
    "start_time": "2023-02-23T11:12:45.198Z"
   },
   {
    "duration": 8,
    "start_time": "2023-02-23T11:12:45.206Z"
   },
   {
    "duration": 17,
    "start_time": "2023-02-23T11:12:45.215Z"
   },
   {
    "duration": 10,
    "start_time": "2023-02-23T11:12:45.234Z"
   },
   {
    "duration": 258,
    "start_time": "2023-02-23T11:12:45.260Z"
   },
   {
    "duration": 9,
    "start_time": "2023-02-23T11:12:45.521Z"
   },
   {
    "duration": 39,
    "start_time": "2023-02-23T11:12:45.532Z"
   },
   {
    "duration": 16,
    "start_time": "2023-02-23T11:12:45.573Z"
   },
   {
    "duration": 11,
    "start_time": "2023-02-23T11:12:45.592Z"
   },
   {
    "duration": 9,
    "start_time": "2023-02-23T11:12:45.606Z"
   },
   {
    "duration": 33,
    "start_time": "2023-02-23T11:12:45.617Z"
   },
   {
    "duration": 20,
    "start_time": "2023-02-23T11:24:58.487Z"
   },
   {
    "duration": 23,
    "start_time": "2023-02-23T11:25:15.087Z"
   },
   {
    "duration": 1413,
    "start_time": "2023-02-23T11:26:21.684Z"
   },
   {
    "duration": 4,
    "start_time": "2023-02-23T11:26:34.808Z"
   },
   {
    "duration": 629,
    "start_time": "2023-02-23T11:26:34.814Z"
   },
   {
    "duration": 40,
    "start_time": "2023-02-23T11:26:35.445Z"
   },
   {
    "duration": 494,
    "start_time": "2023-02-23T11:26:35.488Z"
   },
   {
    "duration": 360,
    "start_time": "2023-02-23T11:26:35.987Z"
   },
   {
    "duration": 351,
    "start_time": "2023-02-23T11:26:36.349Z"
   },
   {
    "duration": 27,
    "start_time": "2023-02-23T11:26:36.701Z"
   },
   {
    "duration": 49,
    "start_time": "2023-02-23T11:26:36.730Z"
   },
   {
    "duration": 23,
    "start_time": "2023-02-23T11:26:36.783Z"
   },
   {
    "duration": 41,
    "start_time": "2023-02-23T11:26:36.808Z"
   },
   {
    "duration": 31,
    "start_time": "2023-02-23T11:26:36.851Z"
   },
   {
    "duration": 16,
    "start_time": "2023-02-23T11:26:36.884Z"
   },
   {
    "duration": 16,
    "start_time": "2023-02-23T11:26:36.904Z"
   },
   {
    "duration": 17,
    "start_time": "2023-02-23T11:26:36.922Z"
   },
   {
    "duration": 1560,
    "start_time": "2023-02-23T11:26:36.941Z"
   },
   {
    "duration": 0,
    "start_time": "2023-02-23T11:26:38.503Z"
   },
   {
    "duration": 0,
    "start_time": "2023-02-23T11:26:38.505Z"
   },
   {
    "duration": 0,
    "start_time": "2023-02-23T11:26:38.506Z"
   },
   {
    "duration": 0,
    "start_time": "2023-02-23T11:26:38.507Z"
   },
   {
    "duration": 0,
    "start_time": "2023-02-23T11:26:38.508Z"
   },
   {
    "duration": 0,
    "start_time": "2023-02-23T11:26:38.511Z"
   },
   {
    "duration": 0,
    "start_time": "2023-02-23T11:26:38.513Z"
   },
   {
    "duration": 0,
    "start_time": "2023-02-23T11:26:38.514Z"
   },
   {
    "duration": 0,
    "start_time": "2023-02-23T11:26:38.515Z"
   },
   {
    "duration": 0,
    "start_time": "2023-02-23T11:26:38.516Z"
   },
   {
    "duration": 0,
    "start_time": "2023-02-23T11:26:38.517Z"
   },
   {
    "duration": 0,
    "start_time": "2023-02-23T11:26:38.518Z"
   },
   {
    "duration": 0,
    "start_time": "2023-02-23T11:26:38.520Z"
   },
   {
    "duration": 0,
    "start_time": "2023-02-23T11:26:38.521Z"
   },
   {
    "duration": 0,
    "start_time": "2023-02-23T11:26:38.523Z"
   },
   {
    "duration": 0,
    "start_time": "2023-02-23T11:26:38.524Z"
   },
   {
    "duration": 0,
    "start_time": "2023-02-23T11:26:38.525Z"
   },
   {
    "duration": 0,
    "start_time": "2023-02-23T11:26:38.527Z"
   },
   {
    "duration": 0,
    "start_time": "2023-02-23T11:26:38.527Z"
   },
   {
    "duration": 0,
    "start_time": "2023-02-23T11:26:38.528Z"
   },
   {
    "duration": 0,
    "start_time": "2023-02-23T11:26:38.529Z"
   },
   {
    "duration": 0,
    "start_time": "2023-02-23T11:26:38.530Z"
   },
   {
    "duration": 0,
    "start_time": "2023-02-23T11:26:38.531Z"
   },
   {
    "duration": 0,
    "start_time": "2023-02-23T11:26:38.532Z"
   },
   {
    "duration": 0,
    "start_time": "2023-02-23T11:26:38.534Z"
   },
   {
    "duration": 0,
    "start_time": "2023-02-23T11:26:38.535Z"
   },
   {
    "duration": 0,
    "start_time": "2023-02-23T11:26:38.536Z"
   },
   {
    "duration": 0,
    "start_time": "2023-02-23T11:26:38.537Z"
   },
   {
    "duration": 0,
    "start_time": "2023-02-23T11:26:38.538Z"
   },
   {
    "duration": 0,
    "start_time": "2023-02-23T11:26:38.539Z"
   },
   {
    "duration": 1359,
    "start_time": "2023-02-23T11:27:11.309Z"
   },
   {
    "duration": 16,
    "start_time": "2023-02-23T11:27:50.620Z"
   },
   {
    "duration": 35,
    "start_time": "2023-02-23T11:28:01.519Z"
   },
   {
    "duration": 14,
    "start_time": "2023-02-23T11:28:56.532Z"
   },
   {
    "duration": 8,
    "start_time": "2023-02-23T11:30:04.764Z"
   },
   {
    "duration": 21,
    "start_time": "2023-02-23T11:30:16.027Z"
   },
   {
    "duration": 17,
    "start_time": "2023-02-23T11:30:49.247Z"
   },
   {
    "duration": 5,
    "start_time": "2023-02-23T11:31:13.882Z"
   },
   {
    "duration": 6,
    "start_time": "2023-02-23T11:31:23.642Z"
   },
   {
    "duration": 21,
    "start_time": "2023-02-23T11:31:24.319Z"
   },
   {
    "duration": 26,
    "start_time": "2023-02-23T11:35:03.014Z"
   },
   {
    "duration": 366,
    "start_time": "2023-02-23T11:39:41.669Z"
   },
   {
    "duration": 14,
    "start_time": "2023-02-23T11:39:42.380Z"
   },
   {
    "duration": 52,
    "start_time": "2023-02-23T11:39:43.128Z"
   },
   {
    "duration": 23,
    "start_time": "2023-02-23T11:39:47.368Z"
   },
   {
    "duration": 58,
    "start_time": "2023-02-23T11:39:48.186Z"
   },
   {
    "duration": 223,
    "start_time": "2023-02-23T11:39:49.097Z"
   },
   {
    "duration": 12,
    "start_time": "2023-02-23T11:39:50.924Z"
   },
   {
    "duration": 193,
    "start_time": "2023-02-23T11:39:51.715Z"
   },
   {
    "duration": 486,
    "start_time": "2023-02-23T11:39:53.070Z"
   },
   {
    "duration": 284,
    "start_time": "2023-02-23T11:39:53.560Z"
   },
   {
    "duration": 177,
    "start_time": "2023-02-23T11:39:54.814Z"
   },
   {
    "duration": 187,
    "start_time": "2023-02-23T11:39:54.993Z"
   },
   {
    "duration": 305,
    "start_time": "2023-02-23T11:39:55.983Z"
   },
   {
    "duration": 7,
    "start_time": "2023-02-23T11:43:56.305Z"
   },
   {
    "duration": 28,
    "start_time": "2023-02-23T11:44:29.171Z"
   },
   {
    "duration": 20,
    "start_time": "2023-02-23T11:44:48.023Z"
   },
   {
    "duration": 13,
    "start_time": "2023-02-23T11:45:20.985Z"
   },
   {
    "duration": 13,
    "start_time": "2023-02-23T11:45:26.400Z"
   },
   {
    "duration": 3,
    "start_time": "2023-02-23T11:45:31.367Z"
   },
   {
    "duration": 629,
    "start_time": "2023-02-23T11:45:31.372Z"
   },
   {
    "duration": 34,
    "start_time": "2023-02-23T11:45:32.003Z"
   },
   {
    "duration": 464,
    "start_time": "2023-02-23T11:45:32.040Z"
   },
   {
    "duration": 428,
    "start_time": "2023-02-23T11:45:32.507Z"
   },
   {
    "duration": 386,
    "start_time": "2023-02-23T11:45:32.937Z"
   },
   {
    "duration": 34,
    "start_time": "2023-02-23T11:45:33.324Z"
   },
   {
    "duration": 28,
    "start_time": "2023-02-23T11:45:33.359Z"
   },
   {
    "duration": 28,
    "start_time": "2023-02-23T11:45:33.391Z"
   },
   {
    "duration": 78,
    "start_time": "2023-02-23T11:45:33.421Z"
   },
   {
    "duration": 20,
    "start_time": "2023-02-23T11:45:33.503Z"
   },
   {
    "duration": 23,
    "start_time": "2023-02-23T11:45:33.525Z"
   },
   {
    "duration": 7,
    "start_time": "2023-02-23T11:45:33.556Z"
   },
   {
    "duration": 36,
    "start_time": "2023-02-23T11:45:33.565Z"
   },
   {
    "duration": 447,
    "start_time": "2023-02-23T11:45:33.603Z"
   },
   {
    "duration": 24,
    "start_time": "2023-02-23T11:45:34.055Z"
   },
   {
    "duration": 24,
    "start_time": "2023-02-23T11:45:34.082Z"
   },
   {
    "duration": 13,
    "start_time": "2023-02-23T11:45:34.108Z"
   },
   {
    "duration": 67,
    "start_time": "2023-02-23T11:45:34.123Z"
   },
   {
    "duration": 15,
    "start_time": "2023-02-23T11:45:34.192Z"
   },
   {
    "duration": 67,
    "start_time": "2023-02-23T11:45:34.209Z"
   },
   {
    "duration": 246,
    "start_time": "2023-02-23T11:45:34.278Z"
   },
   {
    "duration": 12,
    "start_time": "2023-02-23T11:45:34.526Z"
   },
   {
    "duration": 198,
    "start_time": "2023-02-23T11:45:34.539Z"
   },
   {
    "duration": 290,
    "start_time": "2023-02-23T11:45:34.738Z"
   },
   {
    "duration": 296,
    "start_time": "2023-02-23T11:45:35.030Z"
   },
   {
    "duration": 201,
    "start_time": "2023-02-23T11:45:35.328Z"
   },
   {
    "duration": 164,
    "start_time": "2023-02-23T11:45:35.531Z"
   },
   {
    "duration": 305,
    "start_time": "2023-02-23T11:45:35.699Z"
   },
   {
    "duration": 306,
    "start_time": "2023-02-23T11:45:36.006Z"
   },
   {
    "duration": 6,
    "start_time": "2023-02-23T11:45:36.314Z"
   },
   {
    "duration": 45,
    "start_time": "2023-02-23T11:45:36.321Z"
   },
   {
    "duration": 25,
    "start_time": "2023-02-23T11:45:36.374Z"
   },
   {
    "duration": 12,
    "start_time": "2023-02-23T11:45:36.401Z"
   },
   {
    "duration": 13,
    "start_time": "2023-02-23T11:45:36.415Z"
   },
   {
    "duration": 11,
    "start_time": "2023-02-23T11:45:36.430Z"
   },
   {
    "duration": 7,
    "start_time": "2023-02-23T11:45:36.443Z"
   },
   {
    "duration": 37,
    "start_time": "2023-02-23T11:45:36.455Z"
   },
   {
    "duration": 26,
    "start_time": "2023-02-23T11:45:36.493Z"
   },
   {
    "duration": 209,
    "start_time": "2023-02-23T11:45:36.521Z"
   },
   {
    "duration": 6,
    "start_time": "2023-02-23T11:45:36.732Z"
   },
   {
    "duration": 53,
    "start_time": "2023-02-23T11:45:36.740Z"
   },
   {
    "duration": 16,
    "start_time": "2023-02-23T11:45:36.795Z"
   },
   {
    "duration": 14,
    "start_time": "2023-02-23T11:45:36.813Z"
   },
   {
    "duration": 16,
    "start_time": "2023-02-23T11:45:36.830Z"
   },
   {
    "duration": 39,
    "start_time": "2023-02-23T11:45:36.847Z"
   },
   {
    "duration": 17,
    "start_time": "2023-02-23T11:46:08.698Z"
   },
   {
    "duration": 13,
    "start_time": "2023-02-23T11:46:09.737Z"
   },
   {
    "duration": 12,
    "start_time": "2023-02-23T11:46:20.233Z"
   },
   {
    "duration": 4,
    "start_time": "2023-02-23T11:46:35.429Z"
   },
   {
    "duration": 23,
    "start_time": "2023-02-23T11:47:25.164Z"
   },
   {
    "duration": 3,
    "start_time": "2023-02-23T11:47:57.332Z"
   },
   {
    "duration": 10,
    "start_time": "2023-02-23T11:48:22.801Z"
   },
   {
    "duration": 21,
    "start_time": "2023-02-23T11:49:24.139Z"
   },
   {
    "duration": 16,
    "start_time": "2023-02-23T11:51:11.808Z"
   },
   {
    "duration": 29,
    "start_time": "2023-02-23T11:51:21.844Z"
   },
   {
    "duration": 19,
    "start_time": "2023-02-23T11:51:50.866Z"
   },
   {
    "duration": 11,
    "start_time": "2023-02-23T11:52:03.131Z"
   },
   {
    "duration": 14,
    "start_time": "2023-02-23T12:41:15.784Z"
   },
   {
    "duration": 9,
    "start_time": "2023-02-23T12:41:30.791Z"
   },
   {
    "duration": 428,
    "start_time": "2023-02-23T12:41:35.638Z"
   },
   {
    "duration": 3,
    "start_time": "2023-02-23T12:41:51.473Z"
   },
   {
    "duration": 577,
    "start_time": "2023-02-23T12:41:51.479Z"
   },
   {
    "duration": 25,
    "start_time": "2023-02-23T12:41:52.058Z"
   },
   {
    "duration": 403,
    "start_time": "2023-02-23T12:41:52.085Z"
   },
   {
    "duration": 290,
    "start_time": "2023-02-23T12:41:52.490Z"
   },
   {
    "duration": 278,
    "start_time": "2023-02-23T12:41:52.782Z"
   },
   {
    "duration": 23,
    "start_time": "2023-02-23T12:41:53.062Z"
   },
   {
    "duration": 11,
    "start_time": "2023-02-23T12:41:53.087Z"
   },
   {
    "duration": 19,
    "start_time": "2023-02-23T12:41:53.100Z"
   },
   {
    "duration": 65,
    "start_time": "2023-02-23T12:41:53.120Z"
   },
   {
    "duration": 14,
    "start_time": "2023-02-23T12:41:53.187Z"
   },
   {
    "duration": 9,
    "start_time": "2023-02-23T12:41:53.203Z"
   },
   {
    "duration": 5,
    "start_time": "2023-02-23T12:41:53.214Z"
   },
   {
    "duration": 45,
    "start_time": "2023-02-23T12:41:53.222Z"
   },
   {
    "duration": 351,
    "start_time": "2023-02-23T12:41:53.269Z"
   },
   {
    "duration": 15,
    "start_time": "2023-02-23T12:41:53.621Z"
   },
   {
    "duration": 22,
    "start_time": "2023-02-23T12:41:53.637Z"
   },
   {
    "duration": 62,
    "start_time": "2023-02-23T12:41:53.660Z"
   },
   {
    "duration": 29,
    "start_time": "2023-02-23T12:41:53.724Z"
   },
   {
    "duration": 13,
    "start_time": "2023-02-23T12:41:53.755Z"
   },
   {
    "duration": 18,
    "start_time": "2023-02-23T12:41:53.770Z"
   },
   {
    "duration": 232,
    "start_time": "2023-02-23T12:41:53.790Z"
   },
   {
    "duration": 13,
    "start_time": "2023-02-23T12:41:54.024Z"
   },
   {
    "duration": 191,
    "start_time": "2023-02-23T12:41:54.039Z"
   },
   {
    "duration": 279,
    "start_time": "2023-02-23T12:41:54.231Z"
   },
   {
    "duration": 484,
    "start_time": "2023-02-23T12:41:54.512Z"
   },
   {
    "duration": 173,
    "start_time": "2023-02-23T12:41:54.998Z"
   },
   {
    "duration": 172,
    "start_time": "2023-02-23T12:41:55.173Z"
   },
   {
    "duration": 309,
    "start_time": "2023-02-23T12:41:55.347Z"
   },
   {
    "duration": 298,
    "start_time": "2023-02-23T12:41:55.658Z"
   },
   {
    "duration": 16,
    "start_time": "2023-02-23T12:41:55.957Z"
   },
   {
    "duration": 4,
    "start_time": "2023-02-23T12:41:55.975Z"
   },
   {
    "duration": 14,
    "start_time": "2023-02-23T12:41:55.981Z"
   },
   {
    "duration": 7,
    "start_time": "2023-02-23T12:41:55.996Z"
   },
   {
    "duration": 8,
    "start_time": "2023-02-23T12:41:56.005Z"
   },
   {
    "duration": 42,
    "start_time": "2023-02-23T12:41:56.014Z"
   },
   {
    "duration": 7,
    "start_time": "2023-02-23T12:41:56.058Z"
   },
   {
    "duration": 211,
    "start_time": "2023-02-23T12:41:56.067Z"
   },
   {
    "duration": 8,
    "start_time": "2023-02-23T12:41:56.280Z"
   },
   {
    "duration": 18,
    "start_time": "2023-02-23T12:41:56.290Z"
   },
   {
    "duration": 5,
    "start_time": "2023-02-23T12:41:56.313Z"
   },
   {
    "duration": 10,
    "start_time": "2023-02-23T12:41:56.320Z"
   },
   {
    "duration": 25,
    "start_time": "2023-02-23T12:41:56.332Z"
   },
   {
    "duration": 19,
    "start_time": "2023-02-23T12:41:56.359Z"
   },
   {
    "duration": 9,
    "start_time": "2023-02-23T12:42:32.487Z"
   },
   {
    "duration": 4,
    "start_time": "2023-02-23T12:42:36.041Z"
   },
   {
    "duration": 614,
    "start_time": "2023-02-23T12:42:36.047Z"
   },
   {
    "duration": 26,
    "start_time": "2023-02-23T12:42:36.663Z"
   },
   {
    "duration": 459,
    "start_time": "2023-02-23T12:42:36.691Z"
   },
   {
    "duration": 293,
    "start_time": "2023-02-23T12:42:37.154Z"
   },
   {
    "duration": 360,
    "start_time": "2023-02-23T12:42:37.449Z"
   },
   {
    "duration": 50,
    "start_time": "2023-02-23T12:42:37.812Z"
   },
   {
    "duration": 17,
    "start_time": "2023-02-23T12:42:37.864Z"
   },
   {
    "duration": 31,
    "start_time": "2023-02-23T12:42:37.885Z"
   },
   {
    "duration": 77,
    "start_time": "2023-02-23T12:42:37.918Z"
   },
   {
    "duration": 16,
    "start_time": "2023-02-23T12:42:37.996Z"
   },
   {
    "duration": 18,
    "start_time": "2023-02-23T12:42:38.014Z"
   },
   {
    "duration": 22,
    "start_time": "2023-02-23T12:42:38.033Z"
   },
   {
    "duration": 23,
    "start_time": "2023-02-23T12:42:38.057Z"
   },
   {
    "duration": 362,
    "start_time": "2023-02-23T12:42:38.083Z"
   },
   {
    "duration": 19,
    "start_time": "2023-02-23T12:42:38.447Z"
   },
   {
    "duration": 12,
    "start_time": "2023-02-23T12:42:38.468Z"
   },
   {
    "duration": 70,
    "start_time": "2023-02-23T12:42:38.483Z"
   },
   {
    "duration": 17,
    "start_time": "2023-02-23T12:42:38.555Z"
   },
   {
    "duration": 15,
    "start_time": "2023-02-23T12:42:38.573Z"
   },
   {
    "duration": 87,
    "start_time": "2023-02-23T12:42:38.590Z"
   },
   {
    "duration": 230,
    "start_time": "2023-02-23T12:42:38.679Z"
   },
   {
    "duration": 13,
    "start_time": "2023-02-23T12:42:38.910Z"
   },
   {
    "duration": 183,
    "start_time": "2023-02-23T12:42:38.924Z"
   },
   {
    "duration": 271,
    "start_time": "2023-02-23T12:42:39.109Z"
   },
   {
    "duration": 294,
    "start_time": "2023-02-23T12:42:39.382Z"
   },
   {
    "duration": 180,
    "start_time": "2023-02-23T12:42:39.678Z"
   },
   {
    "duration": 155,
    "start_time": "2023-02-23T12:42:39.860Z"
   },
   {
    "duration": 281,
    "start_time": "2023-02-23T12:42:40.017Z"
   },
   {
    "duration": 300,
    "start_time": "2023-02-23T12:42:40.300Z"
   },
   {
    "duration": 24,
    "start_time": "2023-02-23T12:42:40.604Z"
   },
   {
    "duration": 4,
    "start_time": "2023-02-23T12:42:40.630Z"
   },
   {
    "duration": 27,
    "start_time": "2023-02-23T12:42:40.636Z"
   },
   {
    "duration": 9,
    "start_time": "2023-02-23T12:42:40.665Z"
   },
   {
    "duration": 9,
    "start_time": "2023-02-23T12:42:40.676Z"
   },
   {
    "duration": 32,
    "start_time": "2023-02-23T12:42:40.687Z"
   },
   {
    "duration": 27,
    "start_time": "2023-02-23T12:42:40.722Z"
   },
   {
    "duration": 212,
    "start_time": "2023-02-23T12:42:40.751Z"
   },
   {
    "duration": 6,
    "start_time": "2023-02-23T12:42:40.965Z"
   },
   {
    "duration": 16,
    "start_time": "2023-02-23T12:42:40.973Z"
   },
   {
    "duration": 7,
    "start_time": "2023-02-23T12:42:40.990Z"
   },
   {
    "duration": 12,
    "start_time": "2023-02-23T12:42:40.998Z"
   },
   {
    "duration": 8,
    "start_time": "2023-02-23T12:42:41.011Z"
   },
   {
    "duration": 42,
    "start_time": "2023-02-23T12:42:41.021Z"
   },
   {
    "duration": 47,
    "start_time": "2023-02-23T12:43:14.941Z"
   },
   {
    "duration": 16,
    "start_time": "2023-02-23T12:43:22.022Z"
   },
   {
    "duration": 45,
    "start_time": "2023-02-23T12:43:30.300Z"
   },
   {
    "duration": 49,
    "start_time": "2023-02-23T12:43:36.110Z"
   },
   {
    "duration": 186,
    "start_time": "2023-02-23T12:43:40.616Z"
   },
   {
    "duration": 10,
    "start_time": "2023-02-23T12:43:42.645Z"
   },
   {
    "duration": 163,
    "start_time": "2023-02-23T12:43:43.287Z"
   },
   {
    "duration": 247,
    "start_time": "2023-02-23T12:43:44.730Z"
   },
   {
    "duration": 292,
    "start_time": "2023-02-23T12:43:44.979Z"
   },
   {
    "duration": 181,
    "start_time": "2023-02-23T12:43:45.273Z"
   },
   {
    "duration": 444,
    "start_time": "2023-02-23T12:43:45.457Z"
   },
   {
    "duration": 331,
    "start_time": "2023-02-23T12:43:45.903Z"
   },
   {
    "duration": 311,
    "start_time": "2023-02-23T12:43:46.236Z"
   },
   {
    "duration": 33,
    "start_time": "2023-02-23T12:43:46.554Z"
   },
   {
    "duration": 4,
    "start_time": "2023-02-23T12:43:48.389Z"
   },
   {
    "duration": 8,
    "start_time": "2023-02-23T12:43:54.016Z"
   },
   {
    "duration": 5,
    "start_time": "2023-02-23T12:46:11.174Z"
   },
   {
    "duration": 6,
    "start_time": "2023-02-23T12:46:12.146Z"
   },
   {
    "duration": 6,
    "start_time": "2023-02-23T12:46:13.959Z"
   },
   {
    "duration": 3,
    "start_time": "2023-02-23T12:46:16.656Z"
   },
   {
    "duration": 7,
    "start_time": "2023-02-23T13:04:03.033Z"
   },
   {
    "duration": 6,
    "start_time": "2023-02-23T13:15:25.895Z"
   },
   {
    "duration": 198,
    "start_time": "2023-02-23T13:33:29.973Z"
   },
   {
    "duration": 206,
    "start_time": "2023-02-23T13:35:37.597Z"
   },
   {
    "duration": 407,
    "start_time": "2023-02-23T13:41:20.694Z"
   },
   {
    "duration": 265,
    "start_time": "2023-02-23T13:44:19.894Z"
   },
   {
    "duration": 323,
    "start_time": "2023-02-23T13:45:50.001Z"
   },
   {
    "duration": 353,
    "start_time": "2023-02-23T13:46:04.942Z"
   },
   {
    "duration": 391,
    "start_time": "2023-02-23T13:46:16.695Z"
   },
   {
    "duration": 1281,
    "start_time": "2023-02-23T16:04:19.245Z"
   },
   {
    "duration": 1039,
    "start_time": "2023-02-23T16:04:23.624Z"
   },
   {
    "duration": 37,
    "start_time": "2023-02-23T16:04:24.665Z"
   },
   {
    "duration": 413,
    "start_time": "2023-02-23T16:04:24.703Z"
   },
   {
    "duration": 340,
    "start_time": "2023-02-23T16:04:25.119Z"
   },
   {
    "duration": 309,
    "start_time": "2023-02-23T16:04:25.461Z"
   },
   {
    "duration": 25,
    "start_time": "2023-02-23T16:04:25.773Z"
   },
   {
    "duration": 13,
    "start_time": "2023-02-23T16:04:25.799Z"
   },
   {
    "duration": 19,
    "start_time": "2023-02-23T16:04:26.078Z"
   },
   {
    "duration": 55,
    "start_time": "2023-02-23T16:04:26.899Z"
   },
   {
    "duration": 17,
    "start_time": "2023-02-23T16:04:27.356Z"
   },
   {
    "duration": 10,
    "start_time": "2023-02-23T16:04:27.504Z"
   },
   {
    "duration": 4,
    "start_time": "2023-02-23T16:04:27.828Z"
   },
   {
    "duration": 18,
    "start_time": "2023-02-23T16:04:28.505Z"
   },
   {
    "duration": 312,
    "start_time": "2023-02-23T16:04:29.838Z"
   },
   {
    "duration": 18,
    "start_time": "2023-02-23T16:04:30.439Z"
   },
   {
    "duration": 12,
    "start_time": "2023-02-23T16:04:30.961Z"
   },
   {
    "duration": 51,
    "start_time": "2023-02-23T16:04:31.115Z"
   },
   {
    "duration": 1299,
    "start_time": "2023-02-23T16:14:59.453Z"
   },
   {
    "duration": 18,
    "start_time": "2023-02-23T16:15:07.154Z"
   },
   {
    "duration": 9,
    "start_time": "2023-02-23T16:15:24.754Z"
   },
   {
    "duration": 83,
    "start_time": "2023-02-23T16:16:13.112Z"
   },
   {
    "duration": 35,
    "start_time": "2023-02-23T16:17:53.757Z"
   },
   {
    "duration": 125,
    "start_time": "2023-02-23T16:19:09.592Z"
   },
   {
    "duration": 101,
    "start_time": "2023-02-23T16:19:29.171Z"
   },
   {
    "duration": 103,
    "start_time": "2023-02-23T16:19:44.768Z"
   },
   {
    "duration": 12,
    "start_time": "2023-02-23T16:19:45.655Z"
   },
   {
    "duration": 16,
    "start_time": "2023-02-23T16:19:48.114Z"
   },
   {
    "duration": 36,
    "start_time": "2023-02-23T16:19:51.557Z"
   },
   {
    "duration": 15,
    "start_time": "2023-02-23T16:19:51.723Z"
   },
   {
    "duration": 106,
    "start_time": "2023-02-23T16:24:06.911Z"
   },
   {
    "duration": 14,
    "start_time": "2023-02-23T16:24:12.515Z"
   },
   {
    "duration": 17,
    "start_time": "2023-02-23T16:24:29.082Z"
   },
   {
    "duration": 42,
    "start_time": "2023-02-23T16:24:36.234Z"
   },
   {
    "duration": 14,
    "start_time": "2023-02-23T16:24:46.612Z"
   },
   {
    "duration": 8,
    "start_time": "2023-02-23T16:24:46.916Z"
   },
   {
    "duration": 4,
    "start_time": "2023-02-23T16:24:47.752Z"
   },
   {
    "duration": 14,
    "start_time": "2023-02-23T16:24:56.297Z"
   },
   {
    "duration": 321,
    "start_time": "2023-02-23T16:25:07.803Z"
   },
   {
    "duration": 71,
    "start_time": "2023-02-23T16:25:45.095Z"
   },
   {
    "duration": 24,
    "start_time": "2023-02-23T16:26:03.482Z"
   },
   {
    "duration": 18,
    "start_time": "2023-02-23T16:27:10.047Z"
   },
   {
    "duration": 17,
    "start_time": "2023-02-23T16:27:17.652Z"
   },
   {
    "duration": 43,
    "start_time": "2023-02-23T16:27:27.025Z"
   },
   {
    "duration": 208,
    "start_time": "2023-02-23T16:27:29.987Z"
   },
   {
    "duration": 9,
    "start_time": "2023-02-23T16:27:43.853Z"
   },
   {
    "duration": 154,
    "start_time": "2023-02-23T16:27:43.983Z"
   },
   {
    "duration": 245,
    "start_time": "2023-02-23T16:27:44.445Z"
   },
   {
    "duration": 268,
    "start_time": "2023-02-23T16:27:44.692Z"
   },
   {
    "duration": 142,
    "start_time": "2023-02-23T16:27:45.329Z"
   },
   {
    "duration": 141,
    "start_time": "2023-02-23T16:27:45.816Z"
   },
   {
    "duration": 249,
    "start_time": "2023-02-23T16:27:47.164Z"
   },
   {
    "duration": 148,
    "start_time": "2023-02-23T16:28:31.456Z"
   },
   {
    "duration": 508,
    "start_time": "2023-02-23T16:41:02.475Z"
   },
   {
    "duration": 24,
    "start_time": "2023-02-23T16:41:32.004Z"
   },
   {
    "duration": 74,
    "start_time": "2023-02-23T16:41:38.593Z"
   },
   {
    "duration": 52,
    "start_time": "2023-02-23T16:42:01.699Z"
   },
   {
    "duration": 8,
    "start_time": "2023-02-23T16:42:15.923Z"
   },
   {
    "duration": 20,
    "start_time": "2023-02-23T16:42:27.356Z"
   },
   {
    "duration": 20,
    "start_time": "2023-02-23T16:42:31.889Z"
   },
   {
    "duration": 22,
    "start_time": "2023-02-23T16:43:23.559Z"
   },
   {
    "duration": 37,
    "start_time": "2023-02-23T16:44:33.912Z"
   },
   {
    "duration": 164,
    "start_time": "2023-02-23T16:45:17.692Z"
   },
   {
    "duration": 60,
    "start_time": "2023-02-23T16:45:45.896Z"
   },
   {
    "duration": 8,
    "start_time": "2023-02-23T16:45:50.896Z"
   },
   {
    "duration": 6,
    "start_time": "2023-02-23T16:45:57.288Z"
   },
   {
    "duration": 1122,
    "start_time": "2023-02-23T16:45:59.068Z"
   },
   {
    "duration": 597,
    "start_time": "2023-02-23T16:46:00.192Z"
   },
   {
    "duration": 29,
    "start_time": "2023-02-23T16:46:00.790Z"
   },
   {
    "duration": 428,
    "start_time": "2023-02-23T16:46:00.821Z"
   },
   {
    "duration": 304,
    "start_time": "2023-02-23T16:46:01.251Z"
   },
   {
    "duration": 301,
    "start_time": "2023-02-23T16:46:01.556Z"
   },
   {
    "duration": 138,
    "start_time": "2023-02-23T16:46:01.859Z"
   },
   {
    "duration": 14,
    "start_time": "2023-02-23T16:46:01.999Z"
   },
   {
    "duration": 80,
    "start_time": "2023-02-23T16:46:02.016Z"
   },
   {
    "duration": 70,
    "start_time": "2023-02-23T16:46:02.100Z"
   },
   {
    "duration": 14,
    "start_time": "2023-02-23T16:46:02.172Z"
   },
   {
    "duration": 7,
    "start_time": "2023-02-23T16:46:02.188Z"
   },
   {
    "duration": 27,
    "start_time": "2023-02-23T16:46:02.196Z"
   },
   {
    "duration": 46,
    "start_time": "2023-02-23T16:46:02.225Z"
   },
   {
    "duration": 383,
    "start_time": "2023-02-23T16:46:02.273Z"
   },
   {
    "duration": 17,
    "start_time": "2023-02-23T16:46:02.657Z"
   },
   {
    "duration": 89,
    "start_time": "2023-02-23T16:46:02.676Z"
   },
   {
    "duration": 24,
    "start_time": "2023-02-23T16:46:02.768Z"
   },
   {
    "duration": 25,
    "start_time": "2023-02-23T16:46:02.794Z"
   },
   {
    "duration": 70,
    "start_time": "2023-02-23T16:46:02.821Z"
   },
   {
    "duration": 230,
    "start_time": "2023-02-23T16:46:02.893Z"
   },
   {
    "duration": 20,
    "start_time": "2023-02-23T16:46:03.125Z"
   },
   {
    "duration": 163,
    "start_time": "2023-02-23T16:46:03.148Z"
   },
   {
    "duration": 257,
    "start_time": "2023-02-23T16:46:03.313Z"
   },
   {
    "duration": 259,
    "start_time": "2023-02-23T16:46:03.571Z"
   },
   {
    "duration": 184,
    "start_time": "2023-02-23T16:46:03.836Z"
   },
   {
    "duration": 147,
    "start_time": "2023-02-23T16:46:04.022Z"
   },
   {
    "duration": 261,
    "start_time": "2023-02-23T16:46:04.172Z"
   },
   {
    "duration": 334,
    "start_time": "2023-02-23T16:46:04.434Z"
   },
   {
    "duration": 35,
    "start_time": "2023-02-23T16:46:04.769Z"
   },
   {
    "duration": 7,
    "start_time": "2023-02-23T16:46:04.805Z"
   },
   {
    "duration": 6,
    "start_time": "2023-02-23T16:46:04.813Z"
   },
   {
    "duration": 19,
    "start_time": "2023-02-23T16:46:04.840Z"
   },
   {
    "duration": 7,
    "start_time": "2023-02-23T16:46:04.861Z"
   },
   {
    "duration": 7,
    "start_time": "2023-02-23T16:46:04.869Z"
   },
   {
    "duration": 17,
    "start_time": "2023-02-23T16:46:04.878Z"
   },
   {
    "duration": 11,
    "start_time": "2023-02-23T16:46:04.896Z"
   },
   {
    "duration": 190,
    "start_time": "2023-02-23T16:46:04.908Z"
   },
   {
    "duration": 7,
    "start_time": "2023-02-23T16:46:05.101Z"
   },
   {
    "duration": 20,
    "start_time": "2023-02-23T16:46:05.110Z"
   },
   {
    "duration": 6,
    "start_time": "2023-02-23T16:46:05.146Z"
   },
   {
    "duration": 9,
    "start_time": "2023-02-23T16:46:05.156Z"
   },
   {
    "duration": 10,
    "start_time": "2023-02-23T16:46:05.166Z"
   },
   {
    "duration": 7,
    "start_time": "2023-02-23T16:46:05.177Z"
   },
   {
    "duration": 269,
    "start_time": "2023-02-23T16:46:05.186Z"
   },
   {
    "duration": 79,
    "start_time": "2023-02-23T16:46:49.889Z"
   },
   {
    "duration": 266,
    "start_time": "2023-02-23T16:46:55.184Z"
   },
   {
    "duration": 27,
    "start_time": "2023-02-23T16:46:57.520Z"
   },
   {
    "duration": 27,
    "start_time": "2023-02-23T16:47:15.423Z"
   },
   {
    "duration": 26,
    "start_time": "2023-02-23T16:47:25.816Z"
   },
   {
    "duration": 35,
    "start_time": "2023-02-23T16:47:55.120Z"
   },
   {
    "duration": 16,
    "start_time": "2023-02-23T16:48:01.369Z"
   },
   {
    "duration": 22,
    "start_time": "2023-02-23T16:48:18.842Z"
   },
   {
    "duration": 25,
    "start_time": "2023-02-23T16:48:29.823Z"
   },
   {
    "duration": 11,
    "start_time": "2023-02-23T17:19:02.246Z"
   },
   {
    "duration": 9,
    "start_time": "2023-02-23T17:22:45.457Z"
   },
   {
    "duration": 31,
    "start_time": "2023-02-23T17:24:41.319Z"
   },
   {
    "duration": 318,
    "start_time": "2023-02-23T17:24:47.314Z"
   },
   {
    "duration": 25,
    "start_time": "2023-02-23T17:24:49.523Z"
   },
   {
    "duration": 19,
    "start_time": "2023-02-23T17:24:50.128Z"
   },
   {
    "duration": 108,
    "start_time": "2023-02-23T17:25:36.288Z"
   },
   {
    "duration": 20,
    "start_time": "2023-02-23T17:25:44.656Z"
   },
   {
    "duration": 62,
    "start_time": "2023-02-23T17:25:52.316Z"
   },
   {
    "duration": 42,
    "start_time": "2023-02-23T17:26:38.124Z"
   },
   {
    "duration": 25,
    "start_time": "2023-02-23T17:27:15.556Z"
   },
   {
    "duration": 1589,
    "start_time": "2023-02-23T17:28:31.379Z"
   },
   {
    "duration": 33,
    "start_time": "2023-02-23T17:28:42.466Z"
   },
   {
    "duration": 25,
    "start_time": "2023-02-23T17:29:45.579Z"
   },
   {
    "duration": 945,
    "start_time": "2023-02-23T17:30:53.080Z"
   },
   {
    "duration": 23,
    "start_time": "2023-02-23T17:31:05.557Z"
   },
   {
    "duration": 25,
    "start_time": "2023-02-23T17:31:09.880Z"
   },
   {
    "duration": 10,
    "start_time": "2023-02-23T17:31:35.622Z"
   },
   {
    "duration": 1361,
    "start_time": "2023-02-23T17:32:01.320Z"
   },
   {
    "duration": 656,
    "start_time": "2023-02-23T17:34:16.318Z"
   },
   {
    "duration": 30,
    "start_time": "2023-02-23T17:35:17.103Z"
   },
   {
    "duration": 23,
    "start_time": "2023-02-23T17:35:37.273Z"
   },
   {
    "duration": 12,
    "start_time": "2023-02-23T17:40:14.878Z"
   },
   {
    "duration": 27,
    "start_time": "2023-02-23T17:41:16.758Z"
   },
   {
    "duration": 360,
    "start_time": "2023-02-23T17:42:04.678Z"
   },
   {
    "duration": 338,
    "start_time": "2023-02-23T17:42:38.853Z"
   },
   {
    "duration": 308,
    "start_time": "2023-02-23T17:43:08.070Z"
   },
   {
    "duration": 25,
    "start_time": "2023-02-23T17:43:15.089Z"
   },
   {
    "duration": 383,
    "start_time": "2023-02-23T17:43:39.189Z"
   },
   {
    "duration": 353,
    "start_time": "2023-02-23T17:45:07.042Z"
   },
   {
    "duration": 395,
    "start_time": "2023-02-23T17:48:15.679Z"
   },
   {
    "duration": 353,
    "start_time": "2023-02-23T17:50:54.070Z"
   },
   {
    "duration": 326,
    "start_time": "2023-02-23T17:54:38.948Z"
   },
   {
    "duration": 10,
    "start_time": "2023-02-23T17:55:08.498Z"
   },
   {
    "duration": 75,
    "start_time": "2023-02-23T17:56:42.177Z"
   },
   {
    "duration": 70,
    "start_time": "2023-02-23T17:56:49.513Z"
   },
   {
    "duration": 41,
    "start_time": "2023-02-23T17:56:59.160Z"
   },
   {
    "duration": 36,
    "start_time": "2023-02-23T17:57:13.507Z"
   },
   {
    "duration": 18,
    "start_time": "2023-02-23T17:58:10.103Z"
   },
   {
    "duration": 305,
    "start_time": "2023-02-23T17:58:45.592Z"
   },
   {
    "duration": 960,
    "start_time": "2023-02-23T18:00:09.897Z"
   },
   {
    "duration": 862,
    "start_time": "2023-02-23T18:00:20.997Z"
   },
   {
    "duration": 966,
    "start_time": "2023-02-23T18:02:29.116Z"
   },
   {
    "duration": 8,
    "start_time": "2023-02-23T18:03:09.068Z"
   },
   {
    "duration": 31,
    "start_time": "2023-02-23T18:07:25.016Z"
   },
   {
    "duration": 30,
    "start_time": "2023-02-23T18:07:34.201Z"
   },
   {
    "duration": 30,
    "start_time": "2023-02-23T18:08:27.219Z"
   },
   {
    "duration": 41,
    "start_time": "2023-02-23T18:08:46.993Z"
   },
   {
    "duration": 32,
    "start_time": "2023-02-23T18:08:57.532Z"
   },
   {
    "duration": 23,
    "start_time": "2023-02-23T18:09:21.168Z"
   },
   {
    "duration": 353,
    "start_time": "2023-02-23T18:09:28.533Z"
   },
   {
    "duration": 37,
    "start_time": "2023-02-23T18:10:08.375Z"
   },
   {
    "duration": 19,
    "start_time": "2023-02-23T18:10:17.356Z"
   },
   {
    "duration": 43,
    "start_time": "2023-02-23T18:10:35.353Z"
   },
   {
    "duration": 37,
    "start_time": "2023-02-23T18:10:47.292Z"
   },
   {
    "duration": 58,
    "start_time": "2023-02-23T18:10:52.029Z"
   },
   {
    "duration": 33,
    "start_time": "2023-02-23T18:11:05.468Z"
   },
   {
    "duration": 44,
    "start_time": "2023-02-23T18:28:17.950Z"
   },
   {
    "duration": 222,
    "start_time": "2023-02-23T18:28:18.608Z"
   },
   {
    "duration": 58,
    "start_time": "2023-02-23T18:28:21.905Z"
   },
   {
    "duration": 3,
    "start_time": "2023-02-23T18:28:28.727Z"
   },
   {
    "duration": 853,
    "start_time": "2023-02-23T18:28:30.176Z"
   },
   {
    "duration": 34,
    "start_time": "2023-02-23T18:28:31.031Z"
   },
   {
    "duration": 380,
    "start_time": "2023-02-23T18:28:31.066Z"
   },
   {
    "duration": 279,
    "start_time": "2023-02-23T18:28:31.449Z"
   },
   {
    "duration": 307,
    "start_time": "2023-02-23T18:28:31.730Z"
   },
   {
    "duration": 126,
    "start_time": "2023-02-23T18:28:32.097Z"
   },
   {
    "duration": 15,
    "start_time": "2023-02-23T18:28:40.193Z"
   },
   {
    "duration": 26,
    "start_time": "2023-02-23T18:28:40.856Z"
   },
   {
    "duration": 52,
    "start_time": "2023-02-23T18:28:41.272Z"
   },
   {
    "duration": 20,
    "start_time": "2023-02-23T18:28:41.456Z"
   },
   {
    "duration": 11,
    "start_time": "2023-02-23T18:28:41.624Z"
   },
   {
    "duration": 9,
    "start_time": "2023-02-23T18:28:42.023Z"
   },
   {
    "duration": 3,
    "start_time": "2023-02-23T18:29:59.694Z"
   },
   {
    "duration": 17,
    "start_time": "2023-02-23T18:30:05.462Z"
   },
   {
    "duration": 355,
    "start_time": "2023-02-23T18:30:08.191Z"
   },
   {
    "duration": 10,
    "start_time": "2023-02-23T18:30:19.993Z"
   },
   {
    "duration": 68,
    "start_time": "2023-02-23T18:30:20.357Z"
   },
   {
    "duration": 15,
    "start_time": "2023-02-23T18:30:27.792Z"
   },
   {
    "duration": 80,
    "start_time": "2023-02-23T18:31:11.706Z"
   },
   {
    "duration": 24,
    "start_time": "2023-02-23T18:31:29.560Z"
   },
   {
    "duration": 18,
    "start_time": "2023-02-23T18:31:42.217Z"
   },
   {
    "duration": 55,
    "start_time": "2023-02-23T18:31:46.607Z"
   },
   {
    "duration": 211,
    "start_time": "2023-02-23T18:31:55.056Z"
   },
   {
    "duration": 4,
    "start_time": "2023-02-23T18:33:13.122Z"
   },
   {
    "duration": 190,
    "start_time": "2023-02-23T18:33:41.215Z"
   },
   {
    "duration": 248,
    "start_time": "2023-02-23T18:33:42.781Z"
   },
   {
    "duration": 369,
    "start_time": "2023-02-23T18:33:43.032Z"
   },
   {
    "duration": 159,
    "start_time": "2023-02-23T18:33:43.403Z"
   },
   {
    "duration": 157,
    "start_time": "2023-02-23T18:33:43.564Z"
   },
   {
    "duration": 301,
    "start_time": "2023-02-23T18:33:43.791Z"
   },
   {
    "duration": 284,
    "start_time": "2023-02-23T18:33:44.093Z"
   },
   {
    "duration": 11,
    "start_time": "2023-02-23T18:34:04.335Z"
   },
   {
    "duration": 27,
    "start_time": "2023-02-23T18:34:04.488Z"
   },
   {
    "duration": 4,
    "start_time": "2023-02-23T18:34:05.158Z"
   },
   {
    "duration": 7,
    "start_time": "2023-02-23T18:34:05.879Z"
   },
   {
    "duration": 4,
    "start_time": "2023-02-23T18:34:06.071Z"
   },
   {
    "duration": 5,
    "start_time": "2023-02-23T18:34:06.248Z"
   },
   {
    "duration": 14,
    "start_time": "2023-02-23T18:34:06.414Z"
   },
   {
    "duration": 7,
    "start_time": "2023-02-23T18:34:06.583Z"
   },
   {
    "duration": 200,
    "start_time": "2023-02-23T18:34:06.786Z"
   },
   {
    "duration": 7,
    "start_time": "2023-02-23T18:34:16.687Z"
   },
   {
    "duration": 14,
    "start_time": "2023-02-23T18:34:16.938Z"
   },
   {
    "duration": 5,
    "start_time": "2023-02-23T18:34:28.329Z"
   },
   {
    "duration": 6,
    "start_time": "2023-02-23T18:34:29.046Z"
   },
   {
    "duration": 5,
    "start_time": "2023-02-23T18:34:30.031Z"
   },
   {
    "duration": 2,
    "start_time": "2023-02-23T18:34:30.553Z"
   },
   {
    "duration": 279,
    "start_time": "2023-02-23T18:34:31.312Z"
   },
   {
    "duration": 275,
    "start_time": "2023-02-23T18:36:03.679Z"
   },
   {
    "duration": 280,
    "start_time": "2023-02-23T18:38:45.461Z"
   },
   {
    "duration": 0,
    "start_time": "2023-02-23T18:42:35.946Z"
   },
   {
    "duration": 0,
    "start_time": "2023-02-23T18:42:35.948Z"
   },
   {
    "duration": 0,
    "start_time": "2023-02-23T18:42:35.949Z"
   },
   {
    "duration": 0,
    "start_time": "2023-02-23T18:42:35.952Z"
   },
   {
    "duration": 0,
    "start_time": "2023-02-23T18:42:35.960Z"
   },
   {
    "duration": 0,
    "start_time": "2023-02-23T18:42:35.961Z"
   },
   {
    "duration": 0,
    "start_time": "2023-02-23T18:42:35.971Z"
   },
   {
    "duration": 0,
    "start_time": "2023-02-23T18:42:35.972Z"
   },
   {
    "duration": 0,
    "start_time": "2023-02-23T18:42:35.973Z"
   },
   {
    "duration": 0,
    "start_time": "2023-02-23T18:42:35.974Z"
   },
   {
    "duration": 0,
    "start_time": "2023-02-23T18:42:35.975Z"
   },
   {
    "duration": 0,
    "start_time": "2023-02-23T18:42:35.976Z"
   },
   {
    "duration": 0,
    "start_time": "2023-02-23T18:42:35.977Z"
   },
   {
    "duration": 0,
    "start_time": "2023-02-23T18:42:35.978Z"
   },
   {
    "duration": 0,
    "start_time": "2023-02-23T18:42:35.979Z"
   },
   {
    "duration": 0,
    "start_time": "2023-02-23T18:42:35.980Z"
   },
   {
    "duration": 0,
    "start_time": "2023-02-23T18:42:35.981Z"
   },
   {
    "duration": 0,
    "start_time": "2023-02-23T18:42:35.982Z"
   },
   {
    "duration": 0,
    "start_time": "2023-02-23T18:42:35.982Z"
   },
   {
    "duration": 0,
    "start_time": "2023-02-23T18:42:35.983Z"
   },
   {
    "duration": 0,
    "start_time": "2023-02-23T18:42:35.984Z"
   },
   {
    "duration": 0,
    "start_time": "2023-02-23T18:42:35.985Z"
   },
   {
    "duration": 0,
    "start_time": "2023-02-23T18:42:35.986Z"
   },
   {
    "duration": 0,
    "start_time": "2023-02-23T18:42:35.987Z"
   },
   {
    "duration": 0,
    "start_time": "2023-02-23T18:42:35.988Z"
   },
   {
    "duration": 0,
    "start_time": "2023-02-23T18:42:35.988Z"
   },
   {
    "duration": 0,
    "start_time": "2023-02-23T18:42:35.990Z"
   },
   {
    "duration": 0,
    "start_time": "2023-02-23T18:42:35.990Z"
   },
   {
    "duration": 0,
    "start_time": "2023-02-23T18:42:35.991Z"
   },
   {
    "duration": 0,
    "start_time": "2023-02-23T18:42:35.992Z"
   },
   {
    "duration": 0,
    "start_time": "2023-02-23T18:42:35.993Z"
   },
   {
    "duration": 0,
    "start_time": "2023-02-23T18:42:35.994Z"
   },
   {
    "duration": 0,
    "start_time": "2023-02-23T18:42:35.995Z"
   },
   {
    "duration": 0,
    "start_time": "2023-02-23T18:42:35.996Z"
   },
   {
    "duration": 0,
    "start_time": "2023-02-23T18:42:35.997Z"
   },
   {
    "duration": 0,
    "start_time": "2023-02-23T18:42:35.998Z"
   },
   {
    "duration": 0,
    "start_time": "2023-02-23T18:42:36.043Z"
   },
   {
    "duration": 0,
    "start_time": "2023-02-23T18:42:36.044Z"
   },
   {
    "duration": 0,
    "start_time": "2023-02-23T18:42:36.044Z"
   },
   {
    "duration": 0,
    "start_time": "2023-02-23T18:42:36.045Z"
   },
   {
    "duration": 0,
    "start_time": "2023-02-23T18:42:36.045Z"
   },
   {
    "duration": 0,
    "start_time": "2023-02-23T18:42:36.046Z"
   },
   {
    "duration": 0,
    "start_time": "2023-02-23T18:42:36.047Z"
   },
   {
    "duration": 0,
    "start_time": "2023-02-23T18:42:36.047Z"
   },
   {
    "duration": 1233,
    "start_time": "2023-02-23T18:43:14.365Z"
   },
   {
    "duration": 601,
    "start_time": "2023-02-23T18:43:18.060Z"
   },
   {
    "duration": 27,
    "start_time": "2023-02-23T18:43:18.663Z"
   },
   {
    "duration": 435,
    "start_time": "2023-02-23T18:43:18.692Z"
   },
   {
    "duration": 323,
    "start_time": "2023-02-23T18:43:19.129Z"
   },
   {
    "duration": 330,
    "start_time": "2023-02-23T18:43:19.454Z"
   },
   {
    "duration": 133,
    "start_time": "2023-02-23T18:43:19.786Z"
   },
   {
    "duration": 22,
    "start_time": "2023-02-23T18:43:19.921Z"
   },
   {
    "duration": 30,
    "start_time": "2023-02-23T18:43:19.949Z"
   },
   {
    "duration": 40,
    "start_time": "2023-02-23T18:43:20.756Z"
   },
   {
    "duration": 28,
    "start_time": "2023-02-23T18:43:20.924Z"
   },
   {
    "duration": 4,
    "start_time": "2023-02-23T18:43:21.084Z"
   },
   {
    "duration": 18,
    "start_time": "2023-02-23T18:43:21.524Z"
   },
   {
    "duration": 392,
    "start_time": "2023-02-23T18:43:22.252Z"
   },
   {
    "duration": 17,
    "start_time": "2023-02-23T18:43:22.649Z"
   },
   {
    "duration": 79,
    "start_time": "2023-02-23T18:43:23.022Z"
   },
   {
    "duration": 22,
    "start_time": "2023-02-23T18:43:23.187Z"
   },
   {
    "duration": 21,
    "start_time": "2023-02-23T18:43:23.389Z"
   },
   {
    "duration": 44,
    "start_time": "2023-02-23T18:43:23.569Z"
   },
   {
    "duration": 216,
    "start_time": "2023-02-23T18:43:23.732Z"
   },
   {
    "duration": 18,
    "start_time": "2023-02-23T18:43:24.100Z"
   },
   {
    "duration": 180,
    "start_time": "2023-02-23T18:43:24.524Z"
   },
   {
    "duration": 296,
    "start_time": "2023-02-23T18:43:24.901Z"
   },
   {
    "duration": 287,
    "start_time": "2023-02-23T18:43:25.285Z"
   },
   {
    "duration": 190,
    "start_time": "2023-02-23T18:43:25.733Z"
   },
   {
    "duration": 168,
    "start_time": "2023-02-23T18:43:26.485Z"
   },
   {
    "duration": 291,
    "start_time": "2023-02-23T18:43:26.892Z"
   },
   {
    "duration": 398,
    "start_time": "2023-02-23T18:43:27.185Z"
   },
   {
    "duration": 80,
    "start_time": "2023-02-23T18:43:27.585Z"
   },
   {
    "duration": 0,
    "start_time": "2023-02-23T18:43:27.667Z"
   },
   {
    "duration": 4,
    "start_time": "2023-02-23T18:43:28.373Z"
   },
   {
    "duration": 9,
    "start_time": "2023-02-23T18:43:29.127Z"
   },
   {
    "duration": 5,
    "start_time": "2023-02-23T18:43:29.485Z"
   },
   {
    "duration": 9,
    "start_time": "2023-02-23T18:43:32.628Z"
   },
   {
    "duration": 5,
    "start_time": "2023-02-23T18:43:36.553Z"
   },
   {
    "duration": 4,
    "start_time": "2023-02-23T18:43:36.755Z"
   },
   {
    "duration": 13,
    "start_time": "2023-02-23T18:43:36.924Z"
   },
   {
    "duration": 7,
    "start_time": "2023-02-23T18:43:37.124Z"
   },
   {
    "duration": 197,
    "start_time": "2023-02-23T18:43:37.318Z"
   },
   {
    "duration": 7,
    "start_time": "2023-02-23T18:43:37.726Z"
   },
   {
    "duration": 13,
    "start_time": "2023-02-23T18:43:37.904Z"
   },
   {
    "duration": 5,
    "start_time": "2023-02-23T18:43:38.264Z"
   },
   {
    "duration": 6,
    "start_time": "2023-02-23T18:43:38.660Z"
   },
   {
    "duration": 5,
    "start_time": "2023-02-23T18:43:39.052Z"
   },
   {
    "duration": 265,
    "start_time": "2023-02-23T18:43:39.589Z"
   },
   {
    "duration": 131,
    "start_time": "2023-02-23T18:43:42.956Z"
   },
   {
    "duration": 123,
    "start_time": "2023-02-23T18:43:49.485Z"
   },
   {
    "duration": 283,
    "start_time": "2023-02-23T18:46:03.487Z"
   },
   {
    "duration": 3,
    "start_time": "2023-02-23T18:59:21.353Z"
   },
   {
    "duration": 577,
    "start_time": "2023-02-23T18:59:21.359Z"
   },
   {
    "duration": 29,
    "start_time": "2023-02-23T18:59:21.943Z"
   },
   {
    "duration": 407,
    "start_time": "2023-02-23T18:59:21.975Z"
   },
   {
    "duration": 339,
    "start_time": "2023-02-23T18:59:22.385Z"
   },
   {
    "duration": 275,
    "start_time": "2023-02-23T18:59:22.726Z"
   },
   {
    "duration": 127,
    "start_time": "2023-02-23T18:59:23.003Z"
   },
   {
    "duration": 16,
    "start_time": "2023-02-23T18:59:23.139Z"
   },
   {
    "duration": 24,
    "start_time": "2023-02-23T18:59:23.157Z"
   },
   {
    "duration": 39,
    "start_time": "2023-02-23T18:59:23.183Z"
   },
   {
    "duration": 21,
    "start_time": "2023-02-23T18:59:23.237Z"
   },
   {
    "duration": 4,
    "start_time": "2023-02-23T18:59:23.260Z"
   },
   {
    "duration": 18,
    "start_time": "2023-02-23T18:59:23.265Z"
   },
   {
    "duration": 346,
    "start_time": "2023-02-23T18:59:23.286Z"
   },
   {
    "duration": 21,
    "start_time": "2023-02-23T18:59:23.637Z"
   },
   {
    "duration": 61,
    "start_time": "2023-02-23T18:59:23.660Z"
   },
   {
    "duration": 31,
    "start_time": "2023-02-23T18:59:23.723Z"
   },
   {
    "duration": 25,
    "start_time": "2023-02-23T18:59:23.756Z"
   },
   {
    "duration": 71,
    "start_time": "2023-02-23T18:59:23.783Z"
   },
   {
    "duration": 230,
    "start_time": "2023-02-23T18:59:23.856Z"
   },
   {
    "duration": 11,
    "start_time": "2023-02-23T18:59:24.088Z"
   },
   {
    "duration": 208,
    "start_time": "2023-02-23T18:59:24.101Z"
   },
   {
    "duration": 293,
    "start_time": "2023-02-23T18:59:24.311Z"
   },
   {
    "duration": 384,
    "start_time": "2023-02-23T18:59:24.606Z"
   },
   {
    "duration": 176,
    "start_time": "2023-02-23T18:59:24.992Z"
   },
   {
    "duration": 160,
    "start_time": "2023-02-23T18:59:25.170Z"
   },
   {
    "duration": 282,
    "start_time": "2023-02-23T18:59:25.332Z"
   },
   {
    "duration": 310,
    "start_time": "2023-02-23T18:59:25.617Z"
   },
   {
    "duration": 191,
    "start_time": "2023-02-23T18:59:25.929Z"
   },
   {
    "duration": 4,
    "start_time": "2023-02-23T18:59:26.122Z"
   },
   {
    "duration": 30,
    "start_time": "2023-02-23T18:59:26.127Z"
   },
   {
    "duration": 10,
    "start_time": "2023-02-23T18:59:26.159Z"
   },
   {
    "duration": 25,
    "start_time": "2023-02-23T18:59:26.170Z"
   },
   {
    "duration": 28,
    "start_time": "2023-02-23T18:59:26.197Z"
   },
   {
    "duration": 229,
    "start_time": "2023-02-23T18:59:26.227Z"
   },
   {
    "duration": 7,
    "start_time": "2023-02-23T18:59:26.458Z"
   },
   {
    "duration": 19,
    "start_time": "2023-02-23T18:59:26.466Z"
   },
   {
    "duration": 6,
    "start_time": "2023-02-23T18:59:26.487Z"
   },
   {
    "duration": 7,
    "start_time": "2023-02-23T18:59:26.495Z"
   },
   {
    "duration": 10,
    "start_time": "2023-02-23T18:59:26.503Z"
   },
   {
    "duration": 262,
    "start_time": "2023-02-23T18:59:26.538Z"
   },
   {
    "duration": 3,
    "start_time": "2023-02-23T18:59:37.371Z"
   },
   {
    "duration": 538,
    "start_time": "2023-02-23T18:59:38.054Z"
   },
   {
    "duration": 22,
    "start_time": "2023-02-23T18:59:38.594Z"
   },
   {
    "duration": 391,
    "start_time": "2023-02-23T18:59:38.617Z"
   },
   {
    "duration": 287,
    "start_time": "2023-02-23T18:59:39.010Z"
   },
   {
    "duration": 284,
    "start_time": "2023-02-23T18:59:39.298Z"
   },
   {
    "duration": 128,
    "start_time": "2023-02-23T18:59:39.584Z"
   },
   {
    "duration": 11,
    "start_time": "2023-02-23T18:59:39.713Z"
   },
   {
    "duration": 17,
    "start_time": "2023-02-23T18:59:39.868Z"
   },
   {
    "duration": 39,
    "start_time": "2023-02-23T18:59:40.197Z"
   },
   {
    "duration": 14,
    "start_time": "2023-02-23T18:59:40.387Z"
   },
   {
    "duration": 4,
    "start_time": "2023-02-23T18:59:40.565Z"
   },
   {
    "duration": 22,
    "start_time": "2023-02-23T18:59:40.892Z"
   },
   {
    "duration": 324,
    "start_time": "2023-02-23T18:59:41.587Z"
   },
   {
    "duration": 12,
    "start_time": "2023-02-23T18:59:41.957Z"
   },
   {
    "duration": 63,
    "start_time": "2023-02-23T18:59:42.343Z"
   },
   {
    "duration": 25,
    "start_time": "2023-02-23T18:59:42.518Z"
   },
   {
    "duration": 27,
    "start_time": "2023-02-23T18:59:42.709Z"
   },
   {
    "duration": 50,
    "start_time": "2023-02-23T18:59:42.894Z"
   },
   {
    "duration": 266,
    "start_time": "2023-02-23T18:59:43.228Z"
   },
   {
    "duration": 12,
    "start_time": "2023-02-23T18:59:43.652Z"
   },
   {
    "duration": 284,
    "start_time": "2023-02-23T18:59:44.204Z"
   },
   {
    "duration": 274,
    "start_time": "2023-02-23T18:59:44.724Z"
   },
   {
    "duration": 300,
    "start_time": "2023-02-23T18:59:45.000Z"
   },
   {
    "duration": 172,
    "start_time": "2023-02-23T18:59:49.733Z"
   },
   {
    "duration": 158,
    "start_time": "2023-02-23T18:59:49.907Z"
   },
   {
    "duration": 275,
    "start_time": "2023-02-23T18:59:50.212Z"
   },
   {
    "duration": 277,
    "start_time": "2023-02-23T18:59:50.489Z"
   },
   {
    "duration": 23,
    "start_time": "2023-02-23T18:59:50.768Z"
   },
   {
    "duration": 4,
    "start_time": "2023-02-23T18:59:51.389Z"
   },
   {
    "duration": 5,
    "start_time": "2023-02-23T18:59:52.092Z"
   },
   {
    "duration": 5,
    "start_time": "2023-02-23T18:59:52.272Z"
   },
   {
    "duration": 18,
    "start_time": "2023-02-23T18:59:52.460Z"
   },
   {
    "duration": 9,
    "start_time": "2023-02-23T18:59:52.621Z"
   },
   {
    "duration": 214,
    "start_time": "2023-02-23T18:59:52.805Z"
   },
   {
    "duration": 11,
    "start_time": "2023-02-23T18:59:53.159Z"
   },
   {
    "duration": 15,
    "start_time": "2023-02-23T18:59:53.352Z"
   },
   {
    "duration": 5,
    "start_time": "2023-02-23T18:59:53.716Z"
   },
   {
    "duration": 5,
    "start_time": "2023-02-23T19:00:58.237Z"
   },
   {
    "duration": 3,
    "start_time": "2023-02-23T19:00:58.397Z"
   },
   {
    "duration": 12,
    "start_time": "2023-02-23T19:00:58.572Z"
   },
   {
    "duration": 6,
    "start_time": "2023-02-23T19:00:58.789Z"
   },
   {
    "duration": 199,
    "start_time": "2023-02-23T19:00:59.030Z"
   },
   {
    "duration": 8,
    "start_time": "2023-02-23T19:01:00.821Z"
   },
   {
    "duration": 17,
    "start_time": "2023-02-23T19:01:00.981Z"
   },
   {
    "duration": 6,
    "start_time": "2023-02-23T19:01:01.309Z"
   },
   {
    "duration": 6,
    "start_time": "2023-02-23T19:01:01.620Z"
   },
   {
    "duration": 8,
    "start_time": "2023-02-23T19:01:01.945Z"
   },
   {
    "duration": 277,
    "start_time": "2023-02-23T19:01:02.100Z"
   },
   {
    "duration": 17,
    "start_time": "2023-02-23T19:01:46.028Z"
   },
   {
    "duration": 430,
    "start_time": "2023-02-23T19:01:53.724Z"
   },
   {
    "duration": 299,
    "start_time": "2023-02-23T19:01:54.157Z"
   },
   {
    "duration": 179,
    "start_time": "2023-02-23T19:01:54.458Z"
   },
   {
    "duration": 168,
    "start_time": "2023-02-23T19:01:54.639Z"
   },
   {
    "duration": 311,
    "start_time": "2023-02-23T19:01:54.809Z"
   },
   {
    "duration": 325,
    "start_time": "2023-02-23T19:01:55.122Z"
   },
   {
    "duration": 26,
    "start_time": "2023-02-23T19:01:55.452Z"
   },
   {
    "duration": 4,
    "start_time": "2023-02-23T19:01:56.008Z"
   },
   {
    "duration": 4,
    "start_time": "2023-02-23T19:01:56.671Z"
   },
   {
    "duration": 5,
    "start_time": "2023-02-23T19:01:56.854Z"
   },
   {
    "duration": 16,
    "start_time": "2023-02-23T19:01:58.028Z"
   },
   {
    "duration": 9,
    "start_time": "2023-02-23T19:01:58.196Z"
   },
   {
    "duration": 196,
    "start_time": "2023-02-23T19:01:58.360Z"
   },
   {
    "duration": 7,
    "start_time": "2023-02-23T19:01:58.685Z"
   },
   {
    "duration": 21,
    "start_time": "2023-02-23T19:01:58.830Z"
   },
   {
    "duration": 7,
    "start_time": "2023-02-23T19:01:59.249Z"
   },
   {
    "duration": 5,
    "start_time": "2023-02-23T19:01:59.787Z"
   },
   {
    "duration": 6,
    "start_time": "2023-02-23T19:02:00.152Z"
   },
   {
    "duration": 309,
    "start_time": "2023-02-23T19:02:00.308Z"
   },
   {
    "duration": 4,
    "start_time": "2023-02-23T19:03:24.448Z"
   },
   {
    "duration": 596,
    "start_time": "2023-02-23T19:03:24.455Z"
   },
   {
    "duration": 38,
    "start_time": "2023-02-23T19:03:25.053Z"
   },
   {
    "duration": 466,
    "start_time": "2023-02-23T19:03:25.093Z"
   },
   {
    "duration": 401,
    "start_time": "2023-02-23T19:03:25.564Z"
   },
   {
    "duration": 309,
    "start_time": "2023-02-23T19:03:25.972Z"
   },
   {
    "duration": 188,
    "start_time": "2023-02-23T19:03:26.283Z"
   },
   {
    "duration": 11,
    "start_time": "2023-02-23T19:03:26.472Z"
   },
   {
    "duration": 22,
    "start_time": "2023-02-23T19:03:26.485Z"
   },
   {
    "duration": 73,
    "start_time": "2023-02-23T19:03:26.509Z"
   },
   {
    "duration": 18,
    "start_time": "2023-02-23T19:03:26.584Z"
   },
   {
    "duration": 4,
    "start_time": "2023-02-23T19:03:26.603Z"
   },
   {
    "duration": 58,
    "start_time": "2023-02-23T19:03:26.609Z"
   },
   {
    "duration": 361,
    "start_time": "2023-02-23T19:03:26.670Z"
   },
   {
    "duration": 21,
    "start_time": "2023-02-23T19:03:27.033Z"
   },
   {
    "duration": 54,
    "start_time": "2023-02-23T19:03:27.056Z"
   },
   {
    "duration": 42,
    "start_time": "2023-02-23T19:03:27.112Z"
   },
   {
    "duration": 24,
    "start_time": "2023-02-23T19:03:27.160Z"
   },
   {
    "duration": 56,
    "start_time": "2023-02-23T19:03:27.186Z"
   },
   {
    "duration": 201,
    "start_time": "2023-02-23T19:03:27.249Z"
   },
   {
    "duration": 11,
    "start_time": "2023-02-23T19:03:27.456Z"
   },
   {
    "duration": 183,
    "start_time": "2023-02-23T19:03:27.469Z"
   },
   {
    "duration": 398,
    "start_time": "2023-02-23T19:03:27.657Z"
   },
   {
    "duration": 276,
    "start_time": "2023-02-23T19:03:28.057Z"
   },
   {
    "duration": 183,
    "start_time": "2023-02-23T19:03:28.337Z"
   },
   {
    "duration": 207,
    "start_time": "2023-02-23T19:03:28.523Z"
   },
   {
    "duration": 275,
    "start_time": "2023-02-23T19:03:28.740Z"
   },
   {
    "duration": 289,
    "start_time": "2023-02-23T19:03:29.018Z"
   },
   {
    "duration": 47,
    "start_time": "2023-02-23T19:03:29.310Z"
   },
   {
    "duration": 6,
    "start_time": "2023-02-23T19:03:29.359Z"
   },
   {
    "duration": 7,
    "start_time": "2023-02-23T19:03:29.366Z"
   },
   {
    "duration": 5,
    "start_time": "2023-02-23T19:03:29.375Z"
   },
   {
    "duration": 16,
    "start_time": "2023-02-23T19:03:29.382Z"
   },
   {
    "duration": 9,
    "start_time": "2023-02-23T19:03:29.400Z"
   },
   {
    "duration": 204,
    "start_time": "2023-02-23T19:03:29.410Z"
   },
   {
    "duration": 6,
    "start_time": "2023-02-23T19:03:29.616Z"
   },
   {
    "duration": 32,
    "start_time": "2023-02-23T19:03:29.625Z"
   },
   {
    "duration": 6,
    "start_time": "2023-02-23T19:03:29.659Z"
   },
   {
    "duration": 7,
    "start_time": "2023-02-23T19:03:29.666Z"
   },
   {
    "duration": 8,
    "start_time": "2023-02-23T19:03:29.675Z"
   },
   {
    "duration": 296,
    "start_time": "2023-02-23T19:03:29.687Z"
   },
   {
    "duration": 1175,
    "start_time": "2023-02-23T22:46:54.918Z"
   },
   {
    "duration": 2324,
    "start_time": "2023-02-23T22:46:56.095Z"
   },
   {
    "duration": 24,
    "start_time": "2023-02-23T22:46:58.421Z"
   },
   {
    "duration": 443,
    "start_time": "2023-02-23T22:46:58.447Z"
   },
   {
    "duration": 327,
    "start_time": "2023-02-23T22:46:58.892Z"
   },
   {
    "duration": 316,
    "start_time": "2023-02-23T22:46:59.221Z"
   },
   {
    "duration": 135,
    "start_time": "2023-02-23T22:46:59.539Z"
   },
   {
    "duration": 12,
    "start_time": "2023-02-23T22:46:59.675Z"
   },
   {
    "duration": 17,
    "start_time": "2023-02-23T22:46:59.689Z"
   },
   {
    "duration": 48,
    "start_time": "2023-02-23T22:46:59.709Z"
   },
   {
    "duration": 25,
    "start_time": "2023-02-23T22:46:59.758Z"
   },
   {
    "duration": 4,
    "start_time": "2023-02-23T22:46:59.784Z"
   },
   {
    "duration": 16,
    "start_time": "2023-02-23T22:46:59.790Z"
   },
   {
    "duration": 398,
    "start_time": "2023-02-23T22:46:59.807Z"
   },
   {
    "duration": 9,
    "start_time": "2023-02-23T22:47:00.207Z"
   },
   {
    "duration": 81,
    "start_time": "2023-02-23T22:47:00.217Z"
   },
   {
    "duration": 16,
    "start_time": "2023-02-23T22:47:00.299Z"
   },
   {
    "duration": 36,
    "start_time": "2023-02-23T22:47:00.317Z"
   },
   {
    "duration": 57,
    "start_time": "2023-02-23T22:47:00.363Z"
   },
   {
    "duration": 217,
    "start_time": "2023-02-23T22:47:00.421Z"
   },
   {
    "duration": 18,
    "start_time": "2023-02-23T22:47:00.639Z"
   },
   {
    "duration": 222,
    "start_time": "2023-02-23T22:47:00.659Z"
   },
   {
    "duration": 270,
    "start_time": "2023-02-23T22:47:00.883Z"
   },
   {
    "duration": 272,
    "start_time": "2023-02-23T22:47:01.157Z"
   },
   {
    "duration": 175,
    "start_time": "2023-02-23T22:47:01.431Z"
   },
   {
    "duration": 163,
    "start_time": "2023-02-23T22:47:01.608Z"
   },
   {
    "duration": 296,
    "start_time": "2023-02-23T22:47:01.773Z"
   },
   {
    "duration": 369,
    "start_time": "2023-02-23T22:47:02.074Z"
   },
   {
    "duration": 453,
    "start_time": "2023-02-23T22:47:02.445Z"
   },
   {
    "duration": 5,
    "start_time": "2023-02-23T22:47:02.900Z"
   },
   {
    "duration": 19,
    "start_time": "2023-02-23T22:47:02.907Z"
   },
   {
    "duration": 8,
    "start_time": "2023-02-23T22:47:02.928Z"
   },
   {
    "duration": 38,
    "start_time": "2023-02-23T22:47:02.938Z"
   },
   {
    "duration": 12,
    "start_time": "2023-02-23T22:47:02.983Z"
   },
   {
    "duration": 238,
    "start_time": "2023-02-23T22:47:02.997Z"
   },
   {
    "duration": 20,
    "start_time": "2023-02-23T22:47:03.236Z"
   },
   {
    "duration": 58,
    "start_time": "2023-02-23T22:47:03.258Z"
   },
   {
    "duration": 27,
    "start_time": "2023-02-23T22:47:03.317Z"
   },
   {
    "duration": 43,
    "start_time": "2023-02-23T22:47:03.346Z"
   },
   {
    "duration": 36,
    "start_time": "2023-02-23T22:47:03.391Z"
   },
   {
    "duration": 351,
    "start_time": "2023-02-23T22:47:03.428Z"
   },
   {
    "duration": 6,
    "start_time": "2023-02-23T23:06:55.181Z"
   },
   {
    "duration": 6,
    "start_time": "2023-02-23T23:07:05.379Z"
   },
   {
    "duration": 6,
    "start_time": "2023-02-23T23:07:07.365Z"
   },
   {
    "duration": 266,
    "start_time": "2023-02-23T23:07:36.678Z"
   },
   {
    "duration": 53,
    "start_time": "2023-02-24T08:42:43.919Z"
   },
   {
    "duration": 1290,
    "start_time": "2023-02-24T08:42:49.684Z"
   },
   {
    "duration": 1929,
    "start_time": "2023-02-24T08:42:52.732Z"
   },
   {
    "duration": 28,
    "start_time": "2023-02-24T08:42:54.663Z"
   },
   {
    "duration": 437,
    "start_time": "2023-02-24T08:42:54.693Z"
   },
   {
    "duration": 326,
    "start_time": "2023-02-24T08:42:55.132Z"
   },
   {
    "duration": 309,
    "start_time": "2023-02-24T08:42:55.460Z"
   },
   {
    "duration": 132,
    "start_time": "2023-02-24T08:43:31.552Z"
   },
   {
    "duration": 3,
    "start_time": "2023-02-24T10:11:19.839Z"
   },
   {
    "duration": 586,
    "start_time": "2023-02-24T10:11:19.844Z"
   },
   {
    "duration": 26,
    "start_time": "2023-02-24T10:11:20.432Z"
   },
   {
    "duration": 430,
    "start_time": "2023-02-24T10:11:20.460Z"
   },
   {
    "duration": 298,
    "start_time": "2023-02-24T10:11:20.892Z"
   },
   {
    "duration": 330,
    "start_time": "2023-02-24T10:11:21.191Z"
   },
   {
    "duration": 132,
    "start_time": "2023-02-24T10:11:21.523Z"
   },
   {
    "duration": 12,
    "start_time": "2023-02-24T10:11:21.657Z"
   },
   {
    "duration": 22,
    "start_time": "2023-02-24T10:11:21.671Z"
   },
   {
    "duration": 63,
    "start_time": "2023-02-24T10:11:21.696Z"
   },
   {
    "duration": 16,
    "start_time": "2023-02-24T10:11:21.760Z"
   },
   {
    "duration": 17,
    "start_time": "2023-02-24T10:11:21.777Z"
   },
   {
    "duration": 40,
    "start_time": "2023-02-24T10:11:21.796Z"
   },
   {
    "duration": 402,
    "start_time": "2023-02-24T10:11:21.837Z"
   },
   {
    "duration": 10,
    "start_time": "2023-02-24T10:11:22.241Z"
   },
   {
    "duration": 77,
    "start_time": "2023-02-24T10:11:22.253Z"
   },
   {
    "duration": 17,
    "start_time": "2023-02-24T10:11:22.332Z"
   },
   {
    "duration": 33,
    "start_time": "2023-02-24T10:11:22.350Z"
   },
   {
    "duration": 84,
    "start_time": "2023-02-24T10:11:22.384Z"
   },
   {
    "duration": 289,
    "start_time": "2023-02-24T10:11:22.470Z"
   },
   {
    "duration": 11,
    "start_time": "2023-02-24T10:11:22.760Z"
   },
   {
    "duration": 230,
    "start_time": "2023-02-24T10:11:22.773Z"
   },
   {
    "duration": 281,
    "start_time": "2023-02-24T10:11:23.006Z"
   },
   {
    "duration": 285,
    "start_time": "2023-02-24T10:11:23.291Z"
   },
   {
    "duration": 174,
    "start_time": "2023-02-24T10:11:23.578Z"
   },
   {
    "duration": 157,
    "start_time": "2023-02-24T10:11:23.754Z"
   },
   {
    "duration": 290,
    "start_time": "2023-02-24T10:11:23.913Z"
   },
   {
    "duration": 364,
    "start_time": "2023-02-24T10:11:24.205Z"
   },
   {
    "duration": 196,
    "start_time": "2023-02-24T10:11:24.571Z"
   },
   {
    "duration": 4,
    "start_time": "2023-02-24T10:11:24.769Z"
   },
   {
    "duration": 11,
    "start_time": "2023-02-24T10:11:24.774Z"
   },
   {
    "duration": 9,
    "start_time": "2023-02-24T10:11:24.787Z"
   },
   {
    "duration": 43,
    "start_time": "2023-02-24T10:11:24.798Z"
   },
   {
    "duration": 18,
    "start_time": "2023-02-24T10:11:24.843Z"
   },
   {
    "duration": 234,
    "start_time": "2023-02-24T10:11:24.863Z"
   },
   {
    "duration": 6,
    "start_time": "2023-02-24T10:11:25.099Z"
   },
   {
    "duration": 20,
    "start_time": "2023-02-24T10:11:25.107Z"
   },
   {
    "duration": 13,
    "start_time": "2023-02-24T10:11:25.128Z"
   },
   {
    "duration": 9,
    "start_time": "2023-02-24T10:11:25.143Z"
   },
   {
    "duration": 10,
    "start_time": "2023-02-24T10:11:25.154Z"
   },
   {
    "duration": 280,
    "start_time": "2023-02-24T10:11:25.165Z"
   },
   {
    "duration": 4,
    "start_time": "2023-02-24T11:03:25.630Z"
   },
   {
    "duration": 571,
    "start_time": "2023-02-24T11:03:37.191Z"
   },
   {
    "duration": 26,
    "start_time": "2023-02-24T11:03:39.552Z"
   },
   {
    "duration": 370,
    "start_time": "2023-02-24T11:03:40.233Z"
   },
   {
    "duration": 278,
    "start_time": "2023-02-24T11:03:40.791Z"
   },
   {
    "duration": 299,
    "start_time": "2023-02-24T11:03:41.333Z"
   },
   {
    "duration": 22,
    "start_time": "2023-02-24T12:28:07.408Z"
   },
   {
    "duration": 23,
    "start_time": "2023-02-24T12:28:44.020Z"
   },
   {
    "duration": 100,
    "start_time": "2023-02-24T12:30:38.839Z"
   },
   {
    "duration": 34,
    "start_time": "2023-02-24T12:30:56.440Z"
   },
   {
    "duration": 27,
    "start_time": "2023-02-24T12:31:04.273Z"
   },
   {
    "duration": 26,
    "start_time": "2023-02-24T12:31:11.177Z"
   },
   {
    "duration": 62,
    "start_time": "2023-02-24T12:43:11.086Z"
   },
   {
    "duration": 67,
    "start_time": "2023-02-24T12:43:56.687Z"
   },
   {
    "duration": 3,
    "start_time": "2023-02-24T12:44:10.965Z"
   },
   {
    "duration": 647,
    "start_time": "2023-02-24T12:44:12.085Z"
   },
   {
    "duration": 26,
    "start_time": "2023-02-24T12:44:12.734Z"
   },
   {
    "duration": 414,
    "start_time": "2023-02-24T12:44:12.780Z"
   },
   {
    "duration": 308,
    "start_time": "2023-02-24T12:44:13.197Z"
   },
   {
    "duration": 281,
    "start_time": "2023-02-24T12:44:13.507Z"
   },
   {
    "duration": 66,
    "start_time": "2023-02-24T12:44:14.287Z"
   },
   {
    "duration": 65,
    "start_time": "2023-02-24T12:44:28.320Z"
   },
   {
    "duration": 145,
    "start_time": "2023-02-24T12:44:48.253Z"
   },
   {
    "duration": 18,
    "start_time": "2023-02-24T12:45:16.365Z"
   },
   {
    "duration": 14,
    "start_time": "2023-02-24T12:45:28.317Z"
   },
   {
    "duration": 22,
    "start_time": "2023-02-24T12:45:44.781Z"
   },
   {
    "duration": 18,
    "start_time": "2023-02-24T12:45:53.580Z"
   },
   {
    "duration": 337,
    "start_time": "2023-02-24T13:17:00.000Z"
   },
   {
    "duration": 292,
    "start_time": "2023-02-24T13:17:12.949Z"
   },
   {
    "duration": 415,
    "start_time": "2023-02-24T13:22:06.460Z"
   },
   {
    "duration": 304,
    "start_time": "2023-02-24T13:22:13.635Z"
   },
   {
    "duration": 176,
    "start_time": "2023-02-24T13:42:38.472Z"
   },
   {
    "duration": 162,
    "start_time": "2023-02-24T13:42:46.376Z"
   },
   {
    "duration": 283,
    "start_time": "2023-02-24T13:42:51.066Z"
   },
   {
    "duration": 304,
    "start_time": "2023-02-24T13:42:55.769Z"
   },
   {
    "duration": 300,
    "start_time": "2023-02-24T13:43:10.963Z"
   },
   {
    "duration": 309,
    "start_time": "2023-02-24T13:43:20.280Z"
   },
   {
    "duration": 303,
    "start_time": "2023-02-24T13:43:27.497Z"
   },
   {
    "duration": 351,
    "start_time": "2023-02-24T13:43:33.416Z"
   },
   {
    "duration": 10,
    "start_time": "2023-02-24T15:12:13.648Z"
   },
   {
    "duration": 8,
    "start_time": "2023-02-24T15:12:19.383Z"
   },
   {
    "duration": 14,
    "start_time": "2023-02-24T15:12:20.007Z"
   },
   {
    "duration": 143,
    "start_time": "2023-02-24T15:12:20.919Z"
   },
   {
    "duration": 9,
    "start_time": "2023-02-24T15:12:21.911Z"
   },
   {
    "duration": 13,
    "start_time": "2023-02-24T15:13:14.135Z"
   },
   {
    "duration": 15,
    "start_time": "2023-02-24T15:14:43.031Z"
   },
   {
    "duration": 15,
    "start_time": "2023-02-24T15:15:03.384Z"
   },
   {
    "duration": 7,
    "start_time": "2023-02-24T15:15:30.855Z"
   },
   {
    "duration": 13,
    "start_time": "2023-02-24T15:15:57.827Z"
   },
   {
    "duration": 15,
    "start_time": "2023-02-24T15:16:12.368Z"
   },
   {
    "duration": 14,
    "start_time": "2023-02-24T15:16:28.198Z"
   },
   {
    "duration": 7,
    "start_time": "2023-02-24T15:17:53.071Z"
   },
   {
    "duration": 14,
    "start_time": "2023-02-24T15:17:55.477Z"
   },
   {
    "duration": 6,
    "start_time": "2023-02-24T15:17:56.556Z"
   },
   {
    "duration": 6,
    "start_time": "2023-02-24T15:22:06.182Z"
   },
   {
    "duration": 14,
    "start_time": "2023-02-24T15:22:06.702Z"
   },
   {
    "duration": 14,
    "start_time": "2023-02-24T15:23:48.245Z"
   },
   {
    "duration": 12,
    "start_time": "2023-02-24T15:24:09.694Z"
   },
   {
    "duration": 14,
    "start_time": "2023-02-24T15:28:20.117Z"
   },
   {
    "duration": 3,
    "start_time": "2023-02-24T15:32:48.698Z"
   },
   {
    "duration": 14,
    "start_time": "2023-02-24T15:33:13.507Z"
   },
   {
    "duration": 5,
    "start_time": "2023-02-24T15:35:14.846Z"
   },
   {
    "duration": 5,
    "start_time": "2023-02-24T15:35:34.547Z"
   },
   {
    "duration": 14,
    "start_time": "2023-02-24T15:35:35.637Z"
   },
   {
    "duration": 14,
    "start_time": "2023-02-24T15:35:35.906Z"
   },
   {
    "duration": 16,
    "start_time": "2023-02-24T15:35:36.449Z"
   },
   {
    "duration": 5,
    "start_time": "2023-02-24T15:35:37.563Z"
   },
   {
    "duration": 264,
    "start_time": "2023-02-24T15:35:37.629Z"
   },
   {
    "duration": 15,
    "start_time": "2023-02-24T15:37:13.521Z"
   },
   {
    "duration": 15,
    "start_time": "2023-02-24T15:38:36.179Z"
   },
   {
    "duration": 5,
    "start_time": "2023-02-24T15:42:05.683Z"
   },
   {
    "duration": 6,
    "start_time": "2023-02-24T15:42:24.028Z"
   },
   {
    "duration": 6,
    "start_time": "2023-02-24T15:45:17.922Z"
   },
   {
    "duration": 6,
    "start_time": "2023-02-24T16:00:49.847Z"
   },
   {
    "duration": 5,
    "start_time": "2023-02-24T16:04:04.120Z"
   },
   {
    "duration": 5,
    "start_time": "2023-02-24T16:04:04.655Z"
   },
   {
    "duration": 5,
    "start_time": "2023-02-24T16:04:09.224Z"
   },
   {
    "duration": 6,
    "start_time": "2023-02-24T16:17:57.757Z"
   },
   {
    "duration": 6,
    "start_time": "2023-02-24T16:17:58.644Z"
   },
   {
    "duration": 6,
    "start_time": "2023-02-24T16:18:17.475Z"
   },
   {
    "duration": 53,
    "start_time": "2023-02-24T16:20:16.773Z"
   },
   {
    "duration": 3,
    "start_time": "2023-02-24T16:20:23.003Z"
   },
   {
    "duration": 55,
    "start_time": "2023-02-24T16:24:49.169Z"
   },
   {
    "duration": 538,
    "start_time": "2023-02-24T16:26:07.626Z"
   },
   {
    "duration": 199,
    "start_time": "2023-02-24T16:27:55.392Z"
   },
   {
    "duration": 208,
    "start_time": "2023-02-24T16:30:29.293Z"
   },
   {
    "duration": 208,
    "start_time": "2023-02-24T16:30:42.192Z"
   },
   {
    "duration": 426,
    "start_time": "2023-02-24T16:31:03.841Z"
   },
   {
    "duration": 336,
    "start_time": "2023-02-24T16:31:21.976Z"
   },
   {
    "duration": 406,
    "start_time": "2023-02-24T16:31:22.866Z"
   },
   {
    "duration": 584,
    "start_time": "2023-02-24T16:31:47.961Z"
   },
   {
    "duration": 516,
    "start_time": "2023-02-24T16:33:28.551Z"
   },
   {
    "duration": 278,
    "start_time": "2023-02-24T16:34:40.943Z"
   },
   {
    "duration": 389,
    "start_time": "2023-02-24T16:35:05.408Z"
   },
   {
    "duration": 423,
    "start_time": "2023-02-24T16:35:11.432Z"
   },
   {
    "duration": 302,
    "start_time": "2023-02-24T16:35:39.664Z"
   },
   {
    "duration": 281,
    "start_time": "2023-02-24T16:35:40.849Z"
   },
   {
    "duration": 419,
    "start_time": "2023-02-24T16:35:53.721Z"
   },
   {
    "duration": 615,
    "start_time": "2023-02-24T16:36:12.241Z"
   },
   {
    "duration": 268,
    "start_time": "2023-02-24T16:36:21.576Z"
   },
   {
    "duration": 412,
    "start_time": "2023-02-24T16:36:30.571Z"
   },
   {
    "duration": 438,
    "start_time": "2023-02-24T16:37:53.992Z"
   },
   {
    "duration": 540,
    "start_time": "2023-02-24T16:38:01.527Z"
   },
   {
    "duration": 10,
    "start_time": "2023-02-24T16:39:13.968Z"
   },
   {
    "duration": 6,
    "start_time": "2023-02-24T16:54:30.905Z"
   },
   {
    "duration": 6,
    "start_time": "2023-02-24T16:54:39.742Z"
   },
   {
    "duration": 6,
    "start_time": "2023-02-24T16:54:40.245Z"
   },
   {
    "duration": 5,
    "start_time": "2023-02-24T16:54:42.080Z"
   },
   {
    "duration": 135,
    "start_time": "2023-02-24T17:09:49.481Z"
   },
   {
    "duration": 135,
    "start_time": "2023-02-24T17:09:51.455Z"
   },
   {
    "duration": 134,
    "start_time": "2023-02-24T17:10:01.517Z"
   },
   {
    "duration": 3,
    "start_time": "2023-02-24T17:10:28.298Z"
   },
   {
    "duration": 607,
    "start_time": "2023-02-24T17:10:28.303Z"
   },
   {
    "duration": 26,
    "start_time": "2023-02-24T17:10:28.912Z"
   },
   {
    "duration": 398,
    "start_time": "2023-02-24T17:10:28.940Z"
   },
   {
    "duration": 315,
    "start_time": "2023-02-24T17:10:29.341Z"
   },
   {
    "duration": 281,
    "start_time": "2023-02-24T17:10:29.658Z"
   },
   {
    "duration": 143,
    "start_time": "2023-02-24T17:10:29.941Z"
   },
   {
    "duration": 11,
    "start_time": "2023-02-24T17:10:30.086Z"
   },
   {
    "duration": 53,
    "start_time": "2023-02-24T17:10:30.099Z"
   },
   {
    "duration": 53,
    "start_time": "2023-02-24T17:10:30.153Z"
   },
   {
    "duration": 15,
    "start_time": "2023-02-24T17:10:30.209Z"
   },
   {
    "duration": 39,
    "start_time": "2023-02-24T17:10:30.225Z"
   },
   {
    "duration": 45,
    "start_time": "2023-02-24T17:10:30.266Z"
   },
   {
    "duration": 460,
    "start_time": "2023-02-24T17:10:30.313Z"
   },
   {
    "duration": 10,
    "start_time": "2023-02-24T17:10:30.775Z"
   },
   {
    "duration": 93,
    "start_time": "2023-02-24T17:10:30.787Z"
   },
   {
    "duration": 16,
    "start_time": "2023-02-24T17:10:30.882Z"
   },
   {
    "duration": 38,
    "start_time": "2023-02-24T17:10:30.900Z"
   },
   {
    "duration": 68,
    "start_time": "2023-02-24T17:10:30.940Z"
   },
   {
    "duration": 211,
    "start_time": "2023-02-24T17:10:31.010Z"
   },
   {
    "duration": 18,
    "start_time": "2023-02-24T17:10:31.223Z"
   },
   {
    "duration": 231,
    "start_time": "2023-02-24T17:10:31.243Z"
   },
   {
    "duration": 297,
    "start_time": "2023-02-24T17:10:31.476Z"
   },
   {
    "duration": 310,
    "start_time": "2023-02-24T17:10:31.775Z"
   },
   {
    "duration": 624,
    "start_time": "2023-02-24T17:10:32.087Z"
   },
   {
    "duration": 182,
    "start_time": "2023-02-24T17:10:32.713Z"
   },
   {
    "duration": 167,
    "start_time": "2023-02-24T17:10:32.897Z"
   },
   {
    "duration": 291,
    "start_time": "2023-02-24T17:10:33.065Z"
   },
   {
    "duration": 380,
    "start_time": "2023-02-24T17:10:33.361Z"
   },
   {
    "duration": 26,
    "start_time": "2023-02-24T17:10:33.743Z"
   },
   {
    "duration": 4,
    "start_time": "2023-02-24T17:10:33.770Z"
   },
   {
    "duration": 13,
    "start_time": "2023-02-24T17:10:33.775Z"
   },
   {
    "duration": 26,
    "start_time": "2023-02-24T17:10:33.790Z"
   },
   {
    "duration": 49,
    "start_time": "2023-02-24T17:10:33.818Z"
   },
   {
    "duration": 34,
    "start_time": "2023-02-24T17:10:33.868Z"
   },
   {
    "duration": 354,
    "start_time": "2023-02-24T17:10:33.904Z"
   },
   {
    "duration": 8,
    "start_time": "2023-02-24T17:10:34.260Z"
   },
   {
    "duration": 69,
    "start_time": "2023-02-24T17:10:34.270Z"
   },
   {
    "duration": 5,
    "start_time": "2023-02-24T17:10:34.341Z"
   },
   {
    "duration": 31,
    "start_time": "2023-02-24T17:10:34.348Z"
   },
   {
    "duration": 17,
    "start_time": "2023-02-24T17:10:34.381Z"
   },
   {
    "duration": 16,
    "start_time": "2023-02-24T17:10:34.400Z"
   },
   {
    "duration": 264,
    "start_time": "2023-02-24T17:10:34.418Z"
   },
   {
    "duration": 4,
    "start_time": "2023-02-24T17:10:38.047Z"
   },
   {
    "duration": 535,
    "start_time": "2023-02-24T17:10:38.969Z"
   },
   {
    "duration": 25,
    "start_time": "2023-02-24T17:10:39.506Z"
   },
   {
    "duration": 380,
    "start_time": "2023-02-24T17:10:39.686Z"
   },
   {
    "duration": 292,
    "start_time": "2023-02-24T17:10:40.068Z"
   },
   {
    "duration": 280,
    "start_time": "2023-02-24T17:10:40.361Z"
   },
   {
    "duration": 140,
    "start_time": "2023-02-24T17:10:41.496Z"
   },
   {
    "duration": 46,
    "start_time": "2023-02-24T17:10:49.855Z"
   },
   {
    "duration": 131,
    "start_time": "2023-02-24T17:11:27.742Z"
   },
   {
    "duration": 1297,
    "start_time": "2023-02-24T19:39:05.786Z"
   },
   {
    "duration": 935,
    "start_time": "2023-02-24T19:39:07.085Z"
   },
   {
    "duration": 36,
    "start_time": "2023-02-24T19:39:34.356Z"
   },
   {
    "duration": 396,
    "start_time": "2023-02-24T19:39:34.561Z"
   },
   {
    "duration": 269,
    "start_time": "2023-02-24T19:39:34.959Z"
   },
   {
    "duration": 304,
    "start_time": "2023-02-24T19:39:35.230Z"
   },
   {
    "duration": 5,
    "start_time": "2023-02-24T19:40:19.969Z"
   },
   {
    "duration": 5,
    "start_time": "2023-02-24T19:40:45.627Z"
   },
   {
    "duration": 7,
    "start_time": "2023-02-24T19:41:55.445Z"
   },
   {
    "duration": 25,
    "start_time": "2023-02-24T19:42:09.860Z"
   },
   {
    "duration": 4,
    "start_time": "2023-02-24T19:42:31.888Z"
   },
   {
    "duration": 135,
    "start_time": "2023-02-24T19:42:35.503Z"
   },
   {
    "duration": 7,
    "start_time": "2023-02-24T19:46:20.067Z"
   },
   {
    "duration": 182,
    "start_time": "2023-02-24T19:47:00.412Z"
   },
   {
    "duration": 230,
    "start_time": "2023-02-24T19:47:16.542Z"
   },
   {
    "duration": 253,
    "start_time": "2023-02-24T19:48:57.921Z"
   },
   {
    "duration": 183,
    "start_time": "2023-02-24T19:49:19.371Z"
   },
   {
    "duration": 203,
    "start_time": "2023-02-24T19:50:18.416Z"
   },
   {
    "duration": 93,
    "start_time": "2023-02-24T19:50:40.832Z"
   },
   {
    "duration": 97,
    "start_time": "2023-02-24T19:51:36.674Z"
   },
   {
    "duration": 11,
    "start_time": "2023-02-24T19:51:38.974Z"
   },
   {
    "duration": 19,
    "start_time": "2023-02-24T19:51:39.742Z"
   },
   {
    "duration": 36,
    "start_time": "2023-02-24T19:51:43.463Z"
   },
   {
    "duration": 16,
    "start_time": "2023-02-24T19:51:44.103Z"
   },
   {
    "duration": 14,
    "start_time": "2023-02-24T19:53:15.447Z"
   },
   {
    "duration": 27,
    "start_time": "2023-02-24T19:53:29.910Z"
   },
   {
    "duration": 51,
    "start_time": "2023-02-24T19:55:00.296Z"
   },
   {
    "duration": 17,
    "start_time": "2023-02-24T19:55:00.975Z"
   },
   {
    "duration": 36,
    "start_time": "2023-02-24T19:55:01.895Z"
   },
   {
    "duration": 9,
    "start_time": "2023-02-24T19:55:37.445Z"
   },
   {
    "duration": 8,
    "start_time": "2023-02-24T19:56:09.822Z"
   },
   {
    "duration": 12,
    "start_time": "2023-02-24T19:56:10.769Z"
   },
   {
    "duration": 21,
    "start_time": "2023-02-24T19:56:15.429Z"
   },
   {
    "duration": 62,
    "start_time": "2023-02-24T19:56:17.046Z"
   },
   {
    "duration": 16,
    "start_time": "2023-02-24T19:56:17.592Z"
   },
   {
    "duration": 71,
    "start_time": "2023-02-24T19:56:18.103Z"
   },
   {
    "duration": 92,
    "start_time": "2023-02-24T19:56:26.044Z"
   },
   {
    "duration": 21,
    "start_time": "2023-02-24T19:56:31.513Z"
   },
   {
    "duration": 15,
    "start_time": "2023-02-24T19:57:29.723Z"
   },
   {
    "duration": 4,
    "start_time": "2023-02-24T19:59:38.229Z"
   },
   {
    "duration": 21,
    "start_time": "2023-02-24T19:59:51.818Z"
   },
   {
    "duration": 333,
    "start_time": "2023-02-24T19:59:53.291Z"
   },
   {
    "duration": 12,
    "start_time": "2023-02-24T19:59:53.658Z"
   },
   {
    "duration": 75,
    "start_time": "2023-02-24T20:00:02.588Z"
   },
   {
    "duration": 26,
    "start_time": "2023-02-24T20:00:37.547Z"
   },
   {
    "duration": 27,
    "start_time": "2023-02-24T20:01:07.244Z"
   },
   {
    "duration": 16,
    "start_time": "2023-02-24T20:01:07.511Z"
   },
   {
    "duration": 17,
    "start_time": "2023-02-24T20:01:08.063Z"
   },
   {
    "duration": 43,
    "start_time": "2023-02-24T20:01:11.515Z"
   },
   {
    "duration": 218,
    "start_time": "2023-02-24T20:01:11.796Z"
   },
   {
    "duration": 11,
    "start_time": "2023-02-24T20:01:13.211Z"
   },
   {
    "duration": 185,
    "start_time": "2023-02-24T20:01:43.556Z"
   },
   {
    "duration": 208,
    "start_time": "2023-02-24T20:01:50.494Z"
   },
   {
    "duration": 257,
    "start_time": "2023-02-24T20:02:42.834Z"
   },
   {
    "duration": 25,
    "start_time": "2023-02-24T20:04:02.181Z"
   },
   {
    "duration": 385,
    "start_time": "2023-02-24T20:05:10.611Z"
   },
   {
    "duration": 9,
    "start_time": "2023-02-24T20:06:04.738Z"
   },
   {
    "duration": 200,
    "start_time": "2023-02-24T20:06:05.537Z"
   },
   {
    "duration": 363,
    "start_time": "2023-02-24T20:06:05.957Z"
   },
   {
    "duration": 285,
    "start_time": "2023-02-24T20:06:06.322Z"
   },
   {
    "duration": 190,
    "start_time": "2023-02-24T20:06:06.609Z"
   },
   {
    "duration": 161,
    "start_time": "2023-02-24T20:06:06.801Z"
   },
   {
    "duration": 306,
    "start_time": "2023-02-24T20:06:07.114Z"
   },
   {
    "duration": 322,
    "start_time": "2023-02-24T20:06:07.465Z"
   },
   {
    "duration": 23,
    "start_time": "2023-02-24T20:06:10.515Z"
   },
   {
    "duration": 4,
    "start_time": "2023-02-24T20:06:11.763Z"
   },
   {
    "duration": 5,
    "start_time": "2023-02-24T20:06:12.754Z"
   },
   {
    "duration": 43,
    "start_time": "2023-02-24T20:07:25.465Z"
   },
   {
    "duration": 48,
    "start_time": "2023-02-24T20:07:48.147Z"
   },
   {
    "duration": 5,
    "start_time": "2023-02-24T20:08:37.233Z"
   },
   {
    "duration": 5,
    "start_time": "2023-02-24T20:08:37.386Z"
   },
   {
    "duration": 13,
    "start_time": "2023-02-24T20:08:37.530Z"
   },
   {
    "duration": 7,
    "start_time": "2023-02-24T20:08:37.690Z"
   },
   {
    "duration": 187,
    "start_time": "2023-02-24T20:08:37.822Z"
   },
   {
    "duration": 6,
    "start_time": "2023-02-24T20:08:38.118Z"
   },
   {
    "duration": 11,
    "start_time": "2023-02-24T20:08:38.473Z"
   },
   {
    "duration": 7,
    "start_time": "2023-02-24T20:08:39.090Z"
   },
   {
    "duration": 6,
    "start_time": "2023-02-24T20:08:39.682Z"
   },
   {
    "duration": 6,
    "start_time": "2023-02-24T20:08:39.850Z"
   },
   {
    "duration": 5,
    "start_time": "2023-02-24T20:08:40.225Z"
   },
   {
    "duration": 260,
    "start_time": "2023-02-24T20:08:40.388Z"
   },
   {
    "duration": 6,
    "start_time": "2023-02-24T20:14:23.146Z"
   },
   {
    "duration": 347,
    "start_time": "2023-02-24T20:14:27.596Z"
   },
   {
    "duration": 76,
    "start_time": "2023-02-24T20:18:30.031Z"
   },
   {
    "duration": 3,
    "start_time": "2023-02-24T20:26:07.018Z"
   },
   {
    "duration": 563,
    "start_time": "2023-02-24T20:26:07.023Z"
   },
   {
    "duration": 24,
    "start_time": "2023-02-24T20:26:07.588Z"
   },
   {
    "duration": 385,
    "start_time": "2023-02-24T20:26:07.614Z"
   },
   {
    "duration": 296,
    "start_time": "2023-02-24T20:26:08.000Z"
   },
   {
    "duration": 347,
    "start_time": "2023-02-24T20:26:08.298Z"
   },
   {
    "duration": 4,
    "start_time": "2023-02-24T20:26:08.646Z"
   },
   {
    "duration": 9,
    "start_time": "2023-02-24T20:26:08.652Z"
   },
   {
    "duration": 4,
    "start_time": "2023-02-24T20:26:08.662Z"
   },
   {
    "duration": 167,
    "start_time": "2023-02-24T20:26:08.667Z"
   },
   {
    "duration": 7,
    "start_time": "2023-02-24T20:26:08.836Z"
   },
   {
    "duration": 10,
    "start_time": "2023-02-24T20:26:08.845Z"
   },
   {
    "duration": 21,
    "start_time": "2023-02-24T20:26:08.856Z"
   },
   {
    "duration": 47,
    "start_time": "2023-02-24T20:26:08.880Z"
   },
   {
    "duration": 13,
    "start_time": "2023-02-24T20:26:08.929Z"
   },
   {
    "duration": 72,
    "start_time": "2023-02-24T20:26:08.944Z"
   },
   {
    "duration": 16,
    "start_time": "2023-02-24T20:26:09.018Z"
   },
   {
    "duration": 560,
    "start_time": "2023-02-24T20:26:09.035Z"
   },
   {
    "duration": 9,
    "start_time": "2023-02-24T20:26:09.599Z"
   },
   {
    "duration": 57,
    "start_time": "2023-02-24T20:26:09.610Z"
   },
   {
    "duration": 17,
    "start_time": "2023-02-24T20:26:09.669Z"
   },
   {
    "duration": 27,
    "start_time": "2023-02-24T20:26:09.687Z"
   },
   {
    "duration": 46,
    "start_time": "2023-02-24T20:26:09.716Z"
   },
   {
    "duration": 302,
    "start_time": "2023-02-24T20:26:09.764Z"
   },
   {
    "duration": 516,
    "start_time": "2023-02-24T20:26:10.068Z"
   },
   {
    "duration": 12,
    "start_time": "2023-02-24T20:26:10.599Z"
   },
   {
    "duration": 339,
    "start_time": "2023-02-24T20:26:10.613Z"
   },
   {
    "duration": 316,
    "start_time": "2023-02-24T20:26:10.953Z"
   },
   {
    "duration": 454,
    "start_time": "2023-02-24T20:26:11.270Z"
   },
   {
    "duration": 339,
    "start_time": "2023-02-24T20:26:11.725Z"
   },
   {
    "duration": 153,
    "start_time": "2023-02-24T20:26:12.066Z"
   },
   {
    "duration": 295,
    "start_time": "2023-02-24T20:26:12.221Z"
   },
   {
    "duration": 306,
    "start_time": "2023-02-24T20:26:12.517Z"
   },
   {
    "duration": 25,
    "start_time": "2023-02-24T20:26:12.825Z"
   },
   {
    "duration": 70,
    "start_time": "2023-02-24T20:26:12.852Z"
   },
   {
    "duration": 5,
    "start_time": "2023-02-24T20:26:12.923Z"
   },
   {
    "duration": 5,
    "start_time": "2023-02-24T20:26:12.930Z"
   },
   {
    "duration": 15,
    "start_time": "2023-02-24T20:26:12.937Z"
   },
   {
    "duration": 12,
    "start_time": "2023-02-24T20:26:12.953Z"
   },
   {
    "duration": 232,
    "start_time": "2023-02-24T20:26:12.967Z"
   },
   {
    "duration": 6,
    "start_time": "2023-02-24T20:26:13.202Z"
   },
   {
    "duration": 13,
    "start_time": "2023-02-24T20:26:13.210Z"
   },
   {
    "duration": 5,
    "start_time": "2023-02-24T20:26:13.225Z"
   },
   {
    "duration": 8,
    "start_time": "2023-02-24T20:26:13.232Z"
   },
   {
    "duration": 11,
    "start_time": "2023-02-24T20:26:13.241Z"
   },
   {
    "duration": 7,
    "start_time": "2023-02-24T20:26:13.253Z"
   },
   {
    "duration": 325,
    "start_time": "2023-02-24T20:26:13.261Z"
   },
   {
    "duration": 3,
    "start_time": "2023-02-24T20:26:13.627Z"
   },
   {
    "duration": 520,
    "start_time": "2023-02-24T20:26:14.556Z"
   },
   {
    "duration": 25,
    "start_time": "2023-02-24T20:26:15.091Z"
   },
   {
    "duration": 352,
    "start_time": "2023-02-24T20:26:15.259Z"
   },
   {
    "duration": 258,
    "start_time": "2023-02-24T20:26:15.637Z"
   },
   {
    "duration": 283,
    "start_time": "2023-02-24T20:26:15.898Z"
   },
   {
    "duration": 4,
    "start_time": "2023-02-24T20:26:16.651Z"
   },
   {
    "duration": 5,
    "start_time": "2023-02-24T20:26:16.812Z"
   },
   {
    "duration": 4,
    "start_time": "2023-02-24T20:26:16.995Z"
   },
   {
    "duration": 155,
    "start_time": "2023-02-24T20:26:17.379Z"
   },
   {
    "duration": 9,
    "start_time": "2023-02-24T20:26:17.623Z"
   },
   {
    "duration": 11,
    "start_time": "2023-02-24T20:26:18.131Z"
   },
   {
    "duration": 18,
    "start_time": "2023-02-24T20:26:36.995Z"
   },
   {
    "duration": 44,
    "start_time": "2023-02-24T20:26:37.829Z"
   },
   {
    "duration": 14,
    "start_time": "2023-02-24T20:26:38.044Z"
   },
   {
    "duration": 22,
    "start_time": "2023-02-24T20:29:31.747Z"
   },
   {
    "duration": 43,
    "start_time": "2023-02-24T20:30:45.423Z"
   },
   {
    "duration": 48,
    "start_time": "2023-02-24T20:30:59.119Z"
   },
   {
    "duration": 53,
    "start_time": "2023-02-24T20:31:17.054Z"
   },
   {
    "duration": 25,
    "start_time": "2023-02-24T20:31:34.862Z"
   },
   {
    "duration": 24,
    "start_time": "2023-02-24T20:31:39.925Z"
   },
   {
    "duration": 45,
    "start_time": "2023-02-24T20:37:02.634Z"
   },
   {
    "duration": 42,
    "start_time": "2023-02-24T20:37:15.725Z"
   },
   {
    "duration": 41,
    "start_time": "2023-02-24T20:37:30.380Z"
   },
   {
    "duration": 3,
    "start_time": "2023-02-24T20:37:33.896Z"
   },
   {
    "duration": 566,
    "start_time": "2023-02-24T20:37:33.905Z"
   },
   {
    "duration": 27,
    "start_time": "2023-02-24T20:37:34.473Z"
   },
   {
    "duration": 381,
    "start_time": "2023-02-24T20:37:34.501Z"
   },
   {
    "duration": 264,
    "start_time": "2023-02-24T20:37:34.884Z"
   },
   {
    "duration": 275,
    "start_time": "2023-02-24T20:37:35.150Z"
   },
   {
    "duration": 4,
    "start_time": "2023-02-24T20:37:35.427Z"
   },
   {
    "duration": 8,
    "start_time": "2023-02-24T20:37:35.433Z"
   },
   {
    "duration": 3,
    "start_time": "2023-02-24T20:37:35.442Z"
   },
   {
    "duration": 193,
    "start_time": "2023-02-24T20:37:35.447Z"
   },
   {
    "duration": 7,
    "start_time": "2023-02-24T20:37:35.643Z"
   },
   {
    "duration": 22,
    "start_time": "2023-02-24T20:37:35.652Z"
   },
   {
    "duration": 54,
    "start_time": "2023-02-24T20:37:35.675Z"
   },
   {
    "duration": 0,
    "start_time": "2023-02-24T20:37:35.731Z"
   },
   {
    "duration": 0,
    "start_time": "2023-02-24T20:37:35.732Z"
   },
   {
    "duration": 0,
    "start_time": "2023-02-24T20:37:35.733Z"
   },
   {
    "duration": 0,
    "start_time": "2023-02-24T20:37:35.734Z"
   },
   {
    "duration": 0,
    "start_time": "2023-02-24T20:37:35.735Z"
   },
   {
    "duration": 0,
    "start_time": "2023-02-24T20:37:35.736Z"
   },
   {
    "duration": 0,
    "start_time": "2023-02-24T20:37:35.737Z"
   },
   {
    "duration": 0,
    "start_time": "2023-02-24T20:37:35.739Z"
   },
   {
    "duration": 0,
    "start_time": "2023-02-24T20:37:35.740Z"
   },
   {
    "duration": 0,
    "start_time": "2023-02-24T20:37:35.741Z"
   },
   {
    "duration": 0,
    "start_time": "2023-02-24T20:37:35.742Z"
   },
   {
    "duration": 0,
    "start_time": "2023-02-24T20:37:35.743Z"
   },
   {
    "duration": 0,
    "start_time": "2023-02-24T20:37:35.744Z"
   },
   {
    "duration": 0,
    "start_time": "2023-02-24T20:37:35.745Z"
   },
   {
    "duration": 0,
    "start_time": "2023-02-24T20:37:35.746Z"
   },
   {
    "duration": 0,
    "start_time": "2023-02-24T20:37:35.747Z"
   },
   {
    "duration": 0,
    "start_time": "2023-02-24T20:37:35.748Z"
   },
   {
    "duration": 0,
    "start_time": "2023-02-24T20:37:35.749Z"
   },
   {
    "duration": 0,
    "start_time": "2023-02-24T20:37:35.749Z"
   },
   {
    "duration": 0,
    "start_time": "2023-02-24T20:37:35.750Z"
   },
   {
    "duration": 0,
    "start_time": "2023-02-24T20:37:35.752Z"
   },
   {
    "duration": 0,
    "start_time": "2023-02-24T20:37:35.752Z"
   },
   {
    "duration": 0,
    "start_time": "2023-02-24T20:37:35.753Z"
   },
   {
    "duration": 0,
    "start_time": "2023-02-24T20:37:35.754Z"
   },
   {
    "duration": 0,
    "start_time": "2023-02-24T20:37:35.755Z"
   },
   {
    "duration": 0,
    "start_time": "2023-02-24T20:37:35.799Z"
   },
   {
    "duration": 0,
    "start_time": "2023-02-24T20:37:35.800Z"
   },
   {
    "duration": 0,
    "start_time": "2023-02-24T20:37:35.801Z"
   },
   {
    "duration": 0,
    "start_time": "2023-02-24T20:37:35.803Z"
   },
   {
    "duration": 0,
    "start_time": "2023-02-24T20:37:35.803Z"
   },
   {
    "duration": 0,
    "start_time": "2023-02-24T20:37:35.804Z"
   },
   {
    "duration": 0,
    "start_time": "2023-02-24T20:37:35.806Z"
   },
   {
    "duration": 0,
    "start_time": "2023-02-24T20:37:35.806Z"
   },
   {
    "duration": 0,
    "start_time": "2023-02-24T20:37:35.807Z"
   },
   {
    "duration": 47,
    "start_time": "2023-02-24T20:37:55.685Z"
   },
   {
    "duration": 42,
    "start_time": "2023-02-24T20:38:06.954Z"
   },
   {
    "duration": 44,
    "start_time": "2023-02-24T20:38:18.870Z"
   },
   {
    "duration": 25,
    "start_time": "2023-02-24T20:38:31.099Z"
   },
   {
    "duration": 19,
    "start_time": "2023-02-24T20:38:44.706Z"
   },
   {
    "duration": 11,
    "start_time": "2023-02-24T20:39:10.248Z"
   },
   {
    "duration": 11,
    "start_time": "2023-02-24T20:40:12.601Z"
   },
   {
    "duration": 9,
    "start_time": "2023-02-24T20:40:19.361Z"
   },
   {
    "duration": 22,
    "start_time": "2023-02-24T20:40:36.154Z"
   },
   {
    "duration": 9,
    "start_time": "2023-02-24T20:40:52.641Z"
   },
   {
    "duration": 20,
    "start_time": "2023-02-24T20:40:57.922Z"
   },
   {
    "duration": 1244,
    "start_time": "2023-02-24T22:19:24.658Z"
   },
   {
    "duration": 775,
    "start_time": "2023-02-24T22:19:25.904Z"
   },
   {
    "duration": 37,
    "start_time": "2023-02-24T22:19:26.681Z"
   },
   {
    "duration": 549,
    "start_time": "2023-02-24T22:19:26.721Z"
   },
   {
    "duration": 376,
    "start_time": "2023-02-24T22:19:27.273Z"
   },
   {
    "duration": 372,
    "start_time": "2023-02-24T22:19:27.651Z"
   },
   {
    "duration": 5,
    "start_time": "2023-02-24T22:19:28.024Z"
   },
   {
    "duration": 12,
    "start_time": "2023-02-24T22:19:28.039Z"
   },
   {
    "duration": 21,
    "start_time": "2023-02-24T22:19:28.057Z"
   },
   {
    "duration": 223,
    "start_time": "2023-02-24T22:19:28.080Z"
   },
   {
    "duration": 8,
    "start_time": "2023-02-24T22:19:28.305Z"
   },
   {
    "duration": 43,
    "start_time": "2023-02-24T22:19:28.315Z"
   },
   {
    "duration": 32,
    "start_time": "2023-02-24T22:19:28.366Z"
   },
   {
    "duration": 39,
    "start_time": "2023-02-24T22:19:28.402Z"
   },
   {
    "duration": 23,
    "start_time": "2023-02-24T22:19:28.448Z"
   },
   {
    "duration": 23,
    "start_time": "2023-02-24T22:19:28.473Z"
   },
   {
    "duration": 16,
    "start_time": "2023-02-24T22:19:28.498Z"
   },
   {
    "duration": 439,
    "start_time": "2023-02-24T22:19:28.516Z"
   },
   {
    "duration": 19,
    "start_time": "2023-02-24T22:19:28.959Z"
   },
   {
    "duration": 83,
    "start_time": "2023-02-24T22:19:28.983Z"
   },
   {
    "duration": 22,
    "start_time": "2023-02-24T22:19:29.072Z"
   },
   {
    "duration": 24,
    "start_time": "2023-02-24T22:19:29.097Z"
   },
   {
    "duration": 74,
    "start_time": "2023-02-24T22:19:29.124Z"
   },
   {
    "duration": 289,
    "start_time": "2023-02-24T22:19:29.201Z"
   },
   {
    "duration": 487,
    "start_time": "2023-02-24T22:19:29.492Z"
   },
   {
    "duration": 11,
    "start_time": "2023-02-24T22:19:29.981Z"
   },
   {
    "duration": 237,
    "start_time": "2023-02-24T22:19:29.994Z"
   },
   {
    "duration": 324,
    "start_time": "2023-02-24T22:19:30.241Z"
   },
   {
    "duration": 329,
    "start_time": "2023-02-24T22:19:30.568Z"
   },
   {
    "duration": 300,
    "start_time": "2023-02-24T22:19:30.899Z"
   },
   {
    "duration": 184,
    "start_time": "2023-02-24T22:19:31.200Z"
   },
   {
    "duration": 331,
    "start_time": "2023-02-24T22:19:31.386Z"
   },
   {
    "duration": 385,
    "start_time": "2023-02-24T22:19:31.720Z"
   },
   {
    "duration": 679,
    "start_time": "2023-02-24T22:19:32.107Z"
   },
   {
    "duration": 154,
    "start_time": "2023-02-24T22:19:32.789Z"
   },
   {
    "duration": 7,
    "start_time": "2023-02-24T22:19:32.945Z"
   },
   {
    "duration": 40,
    "start_time": "2023-02-24T22:19:32.954Z"
   },
   {
    "duration": 28,
    "start_time": "2023-02-24T22:19:32.996Z"
   },
   {
    "duration": 53,
    "start_time": "2023-02-24T22:19:33.027Z"
   },
   {
    "duration": 230,
    "start_time": "2023-02-24T22:19:33.082Z"
   },
   {
    "duration": 7,
    "start_time": "2023-02-24T22:19:33.316Z"
   },
   {
    "duration": 32,
    "start_time": "2023-02-24T22:19:33.325Z"
   },
   {
    "duration": 20,
    "start_time": "2023-02-24T22:19:33.362Z"
   },
   {
    "duration": 13,
    "start_time": "2023-02-24T22:19:33.383Z"
   },
   {
    "duration": 15,
    "start_time": "2023-02-24T22:19:33.398Z"
   },
   {
    "duration": 15,
    "start_time": "2023-02-24T22:19:33.415Z"
   },
   {
    "duration": 331,
    "start_time": "2023-02-24T22:19:33.432Z"
   },
   {
    "duration": 11,
    "start_time": "2023-02-24T22:33:22.872Z"
   },
   {
    "duration": 19,
    "start_time": "2023-02-24T22:33:27.307Z"
   },
   {
    "duration": 20,
    "start_time": "2023-02-24T22:33:57.071Z"
   },
   {
    "duration": 46,
    "start_time": "2023-02-25T10:03:59.265Z"
   },
   {
    "duration": 6,
    "start_time": "2023-02-25T10:04:03.261Z"
   },
   {
    "duration": 1276,
    "start_time": "2023-02-25T10:04:07.770Z"
   },
   {
    "duration": 2024,
    "start_time": "2023-02-25T10:04:09.048Z"
   },
   {
    "duration": 27,
    "start_time": "2023-02-25T10:04:11.074Z"
   },
   {
    "duration": 769,
    "start_time": "2023-02-25T10:04:11.102Z"
   },
   {
    "duration": 510,
    "start_time": "2023-02-25T10:04:11.874Z"
   },
   {
    "duration": 368,
    "start_time": "2023-02-25T10:04:12.386Z"
   },
   {
    "duration": 5,
    "start_time": "2023-02-25T10:04:12.756Z"
   },
   {
    "duration": 10,
    "start_time": "2023-02-25T10:04:12.763Z"
   },
   {
    "duration": 7,
    "start_time": "2023-02-25T10:04:12.774Z"
   },
   {
    "duration": 194,
    "start_time": "2023-02-25T10:04:12.810Z"
   },
   {
    "duration": 9,
    "start_time": "2023-02-25T10:04:13.069Z"
   },
   {
    "duration": 32,
    "start_time": "2023-02-25T10:04:13.268Z"
   },
   {
    "duration": 61,
    "start_time": "2023-02-25T10:04:38.727Z"
   },
   {
    "duration": 35,
    "start_time": "2023-02-25T10:04:46.712Z"
   },
   {
    "duration": 85,
    "start_time": "2023-02-25T10:05:07.919Z"
   },
   {
    "duration": 37,
    "start_time": "2023-02-25T10:05:26.568Z"
   },
   {
    "duration": 38,
    "start_time": "2023-02-25T10:06:18.013Z"
   },
   {
    "duration": 36,
    "start_time": "2023-02-25T10:06:42.277Z"
   },
   {
    "duration": 42,
    "start_time": "2023-02-25T10:07:34.965Z"
   },
   {
    "duration": 10,
    "start_time": "2023-02-25T10:08:41.965Z"
   },
   {
    "duration": 20,
    "start_time": "2023-02-25T10:08:42.788Z"
   },
   {
    "duration": 43,
    "start_time": "2023-02-25T10:08:43.293Z"
   },
   {
    "duration": 20,
    "start_time": "2023-02-25T10:08:48.212Z"
   },
   {
    "duration": 19,
    "start_time": "2023-02-25T10:08:48.696Z"
   },
   {
    "duration": 49,
    "start_time": "2023-02-25T10:16:31.227Z"
   },
   {
    "duration": 13,
    "start_time": "2023-02-25T10:16:35.776Z"
   },
   {
    "duration": 28,
    "start_time": "2023-02-25T10:17:57.012Z"
   },
   {
    "duration": 13,
    "start_time": "2023-02-25T10:20:26.445Z"
   },
   {
    "duration": 25,
    "start_time": "2023-02-25T10:20:27.192Z"
   },
   {
    "duration": 18,
    "start_time": "2023-02-25T10:22:53.303Z"
   },
   {
    "duration": 332,
    "start_time": "2023-02-25T10:22:59.564Z"
   },
   {
    "duration": 11,
    "start_time": "2023-02-25T10:22:59.910Z"
   },
   {
    "duration": 52,
    "start_time": "2023-02-25T10:23:00.929Z"
   },
   {
    "duration": 15,
    "start_time": "2023-02-25T10:23:01.168Z"
   },
   {
    "duration": 19,
    "start_time": "2023-02-25T10:23:01.431Z"
   },
   {
    "duration": 51,
    "start_time": "2023-02-25T10:23:01.954Z"
   },
   {
    "duration": 218,
    "start_time": "2023-02-25T10:23:02.368Z"
   },
   {
    "duration": 390,
    "start_time": "2023-02-25T10:23:02.800Z"
   },
   {
    "duration": 13,
    "start_time": "2023-02-25T10:23:03.465Z"
   },
   {
    "duration": 224,
    "start_time": "2023-02-25T10:23:05.254Z"
   },
   {
    "duration": 264,
    "start_time": "2023-02-25T10:23:06.768Z"
   },
   {
    "duration": 277,
    "start_time": "2023-02-25T10:23:07.233Z"
   },
   {
    "duration": 259,
    "start_time": "2023-02-25T10:23:08.232Z"
   },
   {
    "duration": 144,
    "start_time": "2023-02-25T10:23:08.742Z"
   },
   {
    "duration": 281,
    "start_time": "2023-02-25T10:23:10.382Z"
   },
   {
    "duration": 289,
    "start_time": "2023-02-25T10:23:11.161Z"
   },
   {
    "duration": 22,
    "start_time": "2023-02-25T10:25:18.766Z"
   },
   {
    "duration": 18,
    "start_time": "2023-02-25T10:26:11.767Z"
   },
   {
    "duration": 18,
    "start_time": "2023-02-25T10:26:20.759Z"
   },
   {
    "duration": 11,
    "start_time": "2023-02-25T10:26:45.089Z"
   },
   {
    "duration": 206,
    "start_time": "2023-02-25T10:27:06.080Z"
   },
   {
    "duration": 214,
    "start_time": "2023-02-25T10:27:28.897Z"
   },
   {
    "duration": 283,
    "start_time": "2023-02-25T10:27:39.914Z"
   },
   {
    "duration": 260,
    "start_time": "2023-02-25T10:28:10.079Z"
   },
   {
    "duration": 289,
    "start_time": "2023-02-25T10:28:46.965Z"
   },
   {
    "duration": 317,
    "start_time": "2023-02-25T10:29:12.872Z"
   },
   {
    "duration": 277,
    "start_time": "2023-02-25T10:29:22.041Z"
   },
   {
    "duration": 245,
    "start_time": "2023-02-25T10:29:49.269Z"
   },
   {
    "duration": 157,
    "start_time": "2023-02-25T10:30:14.744Z"
   },
   {
    "duration": 277,
    "start_time": "2023-02-25T10:30:56.527Z"
   },
   {
    "duration": 265,
    "start_time": "2023-02-25T10:31:13.653Z"
   },
   {
    "duration": 528,
    "start_time": "2023-02-25T10:31:39.118Z"
   },
   {
    "duration": 645,
    "start_time": "2023-02-25T10:31:44.033Z"
   },
   {
    "duration": 376,
    "start_time": "2023-02-25T10:31:47.905Z"
   },
   {
    "duration": 10,
    "start_time": "2023-02-25T10:31:57.433Z"
   },
   {
    "duration": 204,
    "start_time": "2023-02-25T10:31:58.445Z"
   },
   {
    "duration": 269,
    "start_time": "2023-02-25T10:31:58.791Z"
   },
   {
    "duration": 300,
    "start_time": "2023-02-25T10:31:59.062Z"
   },
   {
    "duration": 281,
    "start_time": "2023-02-25T10:31:59.364Z"
   },
   {
    "duration": 161,
    "start_time": "2023-02-25T10:31:59.647Z"
   },
   {
    "duration": 307,
    "start_time": "2023-02-25T10:31:59.857Z"
   },
   {
    "duration": 317,
    "start_time": "2023-02-25T10:32:00.166Z"
   },
   {
    "duration": 275,
    "start_time": "2023-02-25T10:32:43.405Z"
   },
   {
    "duration": 243,
    "start_time": "2023-02-25T10:33:47.815Z"
   },
   {
    "duration": 196,
    "start_time": "2023-02-25T10:33:51.524Z"
   },
   {
    "duration": 52,
    "start_time": "2023-02-25T10:33:57.238Z"
   },
   {
    "duration": 30,
    "start_time": "2023-02-25T10:35:13.025Z"
   },
   {
    "duration": 5,
    "start_time": "2023-02-25T10:35:36.885Z"
   },
   {
    "duration": 4,
    "start_time": "2023-02-25T10:35:37.206Z"
   },
   {
    "duration": 14,
    "start_time": "2023-02-25T10:35:37.511Z"
   },
   {
    "duration": 8,
    "start_time": "2023-02-25T10:35:40.685Z"
   },
   {
    "duration": 186,
    "start_time": "2023-02-25T10:35:41.197Z"
   },
   {
    "duration": 6,
    "start_time": "2023-02-25T10:35:41.917Z"
   },
   {
    "duration": 12,
    "start_time": "2023-02-25T10:35:42.221Z"
   },
   {
    "duration": 6,
    "start_time": "2023-02-25T10:35:42.633Z"
   },
   {
    "duration": 6,
    "start_time": "2023-02-25T10:35:43.249Z"
   },
   {
    "duration": 5,
    "start_time": "2023-02-25T10:35:43.455Z"
   },
   {
    "duration": 6,
    "start_time": "2023-02-25T10:35:43.871Z"
   },
   {
    "duration": 242,
    "start_time": "2023-02-25T10:35:44.064Z"
   },
   {
    "duration": 56,
    "start_time": "2023-02-25T10:40:58.638Z"
   },
   {
    "duration": 5,
    "start_time": "2023-02-25T10:42:34.998Z"
   },
   {
    "duration": 12,
    "start_time": "2023-02-25T10:48:20.431Z"
   },
   {
    "duration": 5,
    "start_time": "2023-02-25T10:48:30.544Z"
   },
   {
    "duration": 7,
    "start_time": "2023-02-25T10:48:47.220Z"
   },
   {
    "duration": 6,
    "start_time": "2023-02-25T10:48:50.122Z"
   },
   {
    "duration": 7,
    "start_time": "2023-02-25T10:49:08.639Z"
   },
   {
    "duration": 5,
    "start_time": "2023-02-25T10:49:13.505Z"
   },
   {
    "duration": 12,
    "start_time": "2023-02-25T10:49:14.431Z"
   },
   {
    "duration": 96,
    "start_time": "2023-02-25T10:49:28.864Z"
   },
   {
    "duration": 6,
    "start_time": "2023-02-25T10:49:29.688Z"
   },
   {
    "duration": 8,
    "start_time": "2023-02-25T10:49:32.015Z"
   },
   {
    "duration": 5,
    "start_time": "2023-02-25T10:49:33.135Z"
   },
   {
    "duration": 6,
    "start_time": "2023-02-25T10:50:07.024Z"
   },
   {
    "duration": 8,
    "start_time": "2023-02-25T10:50:07.876Z"
   },
   {
    "duration": 5,
    "start_time": "2023-02-25T10:50:09.178Z"
   },
   {
    "duration": 6,
    "start_time": "2023-02-25T10:50:09.780Z"
   },
   {
    "duration": 256,
    "start_time": "2023-02-25T10:50:11.083Z"
   },
   {
    "duration": 59,
    "start_time": "2023-02-25T10:50:57.415Z"
   },
   {
    "duration": 4,
    "start_time": "2023-02-25T10:51:41.177Z"
   },
   {
    "duration": 596,
    "start_time": "2023-02-25T10:51:42.817Z"
   },
   {
    "duration": 29,
    "start_time": "2023-02-25T10:51:43.622Z"
   },
   {
    "duration": 375,
    "start_time": "2023-02-25T10:51:43.820Z"
   },
   {
    "duration": 311,
    "start_time": "2023-02-25T10:51:44.197Z"
   },
   {
    "duration": 339,
    "start_time": "2023-02-25T10:51:44.510Z"
   },
   {
    "duration": 4,
    "start_time": "2023-02-25T10:51:45.915Z"
   },
   {
    "duration": 8,
    "start_time": "2023-02-25T10:51:46.384Z"
   },
   {
    "duration": 4,
    "start_time": "2023-02-25T10:51:46.772Z"
   },
   {
    "duration": 164,
    "start_time": "2023-02-25T10:51:47.875Z"
   },
   {
    "duration": 8,
    "start_time": "2023-02-25T10:51:48.387Z"
   },
   {
    "duration": 31,
    "start_time": "2023-02-25T10:51:49.135Z"
   },
   {
    "duration": 11,
    "start_time": "2023-02-25T10:52:26.246Z"
   },
   {
    "duration": 21,
    "start_time": "2023-02-25T10:52:26.770Z"
   },
   {
    "duration": 50,
    "start_time": "2023-02-25T10:52:27.318Z"
   },
   {
    "duration": 19,
    "start_time": "2023-02-25T10:52:27.524Z"
   },
   {
    "duration": 24,
    "start_time": "2023-02-25T10:52:27.687Z"
   },
   {
    "duration": 41,
    "start_time": "2023-02-25T10:52:54.151Z"
   },
   {
    "duration": 19,
    "start_time": "2023-02-25T10:52:54.721Z"
   },
   {
    "duration": 31,
    "start_time": "2023-02-25T10:52:55.619Z"
   },
   {
    "duration": 16,
    "start_time": "2023-02-25T10:52:59.197Z"
   },
   {
    "duration": 25,
    "start_time": "2023-02-25T10:55:03.182Z"
   },
   {
    "duration": 37,
    "start_time": "2023-02-25T10:55:19.418Z"
   },
   {
    "duration": 27,
    "start_time": "2023-02-25T10:55:33.868Z"
   },
   {
    "duration": 25,
    "start_time": "2023-02-25T10:55:38.477Z"
   },
   {
    "duration": 16,
    "start_time": "2023-02-25T10:55:41.687Z"
   },
   {
    "duration": 347,
    "start_time": "2023-02-25T10:55:43.167Z"
   },
   {
    "duration": 11,
    "start_time": "2023-02-25T10:55:43.541Z"
   },
   {
    "duration": 69,
    "start_time": "2023-02-25T10:55:44.503Z"
   },
   {
    "duration": 23,
    "start_time": "2023-02-25T10:55:44.754Z"
   },
   {
    "duration": 20,
    "start_time": "2023-02-25T10:55:44.974Z"
   },
   {
    "duration": 37,
    "start_time": "2023-02-25T11:00:12.395Z"
   },
   {
    "duration": 70,
    "start_time": "2023-02-25T11:00:43.615Z"
   },
   {
    "duration": 63,
    "start_time": "2023-02-25T11:00:49.687Z"
   },
   {
    "duration": 16,
    "start_time": "2023-02-25T11:00:50.677Z"
   },
   {
    "duration": 38,
    "start_time": "2023-02-25T11:00:52.589Z"
   },
   {
    "duration": 21,
    "start_time": "2023-02-25T11:00:59.180Z"
   },
   {
    "duration": 418,
    "start_time": "2023-02-25T11:01:00.689Z"
   },
   {
    "duration": 30,
    "start_time": "2023-02-25T11:01:01.109Z"
   },
   {
    "duration": 31,
    "start_time": "2023-02-25T11:01:01.741Z"
   },
   {
    "duration": 17,
    "start_time": "2023-02-25T11:01:01.952Z"
   },
   {
    "duration": 30,
    "start_time": "2023-02-25T11:01:02.112Z"
   },
   {
    "duration": 48,
    "start_time": "2023-02-25T11:01:02.467Z"
   },
   {
    "duration": 220,
    "start_time": "2023-02-25T11:01:02.654Z"
   },
   {
    "duration": 451,
    "start_time": "2023-02-25T11:01:03.055Z"
   },
   {
    "duration": 11,
    "start_time": "2023-02-25T11:01:03.661Z"
   },
   {
    "duration": 287,
    "start_time": "2023-02-25T11:01:04.596Z"
   },
   {
    "duration": 351,
    "start_time": "2023-02-25T11:01:05.011Z"
   },
   {
    "duration": 318,
    "start_time": "2023-02-25T11:01:05.364Z"
   },
   {
    "duration": 333,
    "start_time": "2023-02-25T11:01:05.684Z"
   },
   {
    "duration": 197,
    "start_time": "2023-02-25T11:01:06.019Z"
   },
   {
    "duration": 358,
    "start_time": "2023-02-25T11:01:06.221Z"
   },
   {
    "duration": 309,
    "start_time": "2023-02-25T11:01:06.581Z"
   },
   {
    "duration": 287,
    "start_time": "2023-02-25T11:01:07.371Z"
   },
   {
    "duration": 25,
    "start_time": "2023-02-25T11:01:16.157Z"
   },
   {
    "duration": 40,
    "start_time": "2023-02-25T11:01:18.109Z"
   },
   {
    "duration": 6,
    "start_time": "2023-02-25T11:01:18.844Z"
   },
   {
    "duration": 4,
    "start_time": "2023-02-25T11:01:19.060Z"
   },
   {
    "duration": 17,
    "start_time": "2023-02-25T11:01:29.787Z"
   },
   {
    "duration": 9,
    "start_time": "2023-02-25T11:01:29.990Z"
   },
   {
    "duration": 224,
    "start_time": "2023-02-25T11:01:30.161Z"
   },
   {
    "duration": 8,
    "start_time": "2023-02-25T11:01:30.797Z"
   },
   {
    "duration": 27,
    "start_time": "2023-02-25T11:01:31.014Z"
   },
   {
    "duration": 6,
    "start_time": "2023-02-25T11:01:31.772Z"
   },
   {
    "duration": 7,
    "start_time": "2023-02-25T11:01:32.054Z"
   },
   {
    "duration": 9,
    "start_time": "2023-02-25T11:01:32.643Z"
   },
   {
    "duration": 12,
    "start_time": "2023-02-25T11:01:32.819Z"
   },
   {
    "duration": 302,
    "start_time": "2023-02-25T11:01:33.214Z"
   },
   {
    "duration": 6,
    "start_time": "2023-02-25T11:06:38.579Z"
   },
   {
    "duration": 6,
    "start_time": "2023-02-25T11:07:32.515Z"
   },
   {
    "duration": 297,
    "start_time": "2023-02-25T11:07:33.164Z"
   },
   {
    "duration": 29,
    "start_time": "2023-02-25T11:09:52.314Z"
   },
   {
    "duration": 12,
    "start_time": "2023-02-25T11:09:58.867Z"
   },
   {
    "duration": 123,
    "start_time": "2023-02-25T11:10:22.733Z"
   },
   {
    "duration": 38,
    "start_time": "2023-02-25T11:11:22.701Z"
   },
   {
    "duration": 247,
    "start_time": "2023-02-25T11:11:45.919Z"
   },
   {
    "duration": 302,
    "start_time": "2023-02-25T11:12:04.544Z"
   },
   {
    "duration": 243,
    "start_time": "2023-02-25T11:12:05.144Z"
   },
   {
    "duration": 262,
    "start_time": "2023-02-25T11:14:01.300Z"
   },
   {
    "duration": 6,
    "start_time": "2023-02-25T11:27:59.003Z"
   },
   {
    "duration": 12,
    "start_time": "2023-02-25T11:30:23.805Z"
   },
   {
    "duration": 6,
    "start_time": "2023-02-25T11:31:43.197Z"
   },
   {
    "duration": 7,
    "start_time": "2023-02-25T11:31:44.136Z"
   },
   {
    "duration": 10,
    "start_time": "2023-02-25T11:33:55.754Z"
   },
   {
    "duration": 5,
    "start_time": "2023-02-25T11:34:58.228Z"
   },
   {
    "duration": 608,
    "start_time": "2023-02-25T11:34:58.259Z"
   },
   {
    "duration": 26,
    "start_time": "2023-02-25T11:34:58.869Z"
   },
   {
    "duration": 472,
    "start_time": "2023-02-25T11:34:58.897Z"
   },
   {
    "duration": 318,
    "start_time": "2023-02-25T11:34:59.370Z"
   },
   {
    "duration": 308,
    "start_time": "2023-02-25T11:34:59.690Z"
   },
   {
    "duration": 4,
    "start_time": "2023-02-25T11:35:00.000Z"
   },
   {
    "duration": 50,
    "start_time": "2023-02-25T11:35:00.006Z"
   },
   {
    "duration": 6,
    "start_time": "2023-02-25T11:35:00.058Z"
   },
   {
    "duration": 176,
    "start_time": "2023-02-25T11:35:00.067Z"
   },
   {
    "duration": 9,
    "start_time": "2023-02-25T11:35:00.245Z"
   },
   {
    "duration": 38,
    "start_time": "2023-02-25T11:35:00.256Z"
   },
   {
    "duration": 42,
    "start_time": "2023-02-25T11:35:00.296Z"
   },
   {
    "duration": 53,
    "start_time": "2023-02-25T11:35:00.341Z"
   },
   {
    "duration": 68,
    "start_time": "2023-02-25T11:35:00.397Z"
   },
   {
    "duration": 14,
    "start_time": "2023-02-25T11:35:00.467Z"
   },
   {
    "duration": 72,
    "start_time": "2023-02-25T11:35:00.482Z"
   },
   {
    "duration": 17,
    "start_time": "2023-02-25T11:35:00.555Z"
   },
   {
    "duration": 397,
    "start_time": "2023-02-25T11:35:00.574Z"
   },
   {
    "duration": 13,
    "start_time": "2023-02-25T11:35:00.974Z"
   },
   {
    "duration": 87,
    "start_time": "2023-02-25T11:35:00.989Z"
   },
   {
    "duration": 18,
    "start_time": "2023-02-25T11:35:01.078Z"
   },
   {
    "duration": 96,
    "start_time": "2023-02-25T11:35:01.099Z"
   },
   {
    "duration": 71,
    "start_time": "2023-02-25T11:35:01.197Z"
   },
   {
    "duration": 222,
    "start_time": "2023-02-25T11:35:01.270Z"
   },
   {
    "duration": 591,
    "start_time": "2023-02-25T11:35:01.494Z"
   },
   {
    "duration": 11,
    "start_time": "2023-02-25T11:35:02.087Z"
   },
   {
    "duration": 247,
    "start_time": "2023-02-25T11:35:02.100Z"
   },
   {
    "duration": 306,
    "start_time": "2023-02-25T11:35:02.350Z"
   },
   {
    "duration": 304,
    "start_time": "2023-02-25T11:35:02.658Z"
   },
   {
    "duration": 189,
    "start_time": "2023-02-25T11:35:02.963Z"
   },
   {
    "duration": 163,
    "start_time": "2023-02-25T11:35:03.153Z"
   },
   {
    "duration": 318,
    "start_time": "2023-02-25T11:35:03.321Z"
   },
   {
    "duration": 310,
    "start_time": "2023-02-25T11:35:03.640Z"
   },
   {
    "duration": 259,
    "start_time": "2023-02-25T11:35:03.951Z"
   },
   {
    "duration": 425,
    "start_time": "2023-02-25T11:35:04.212Z"
   },
   {
    "duration": 39,
    "start_time": "2023-02-25T11:35:04.639Z"
   },
   {
    "duration": 58,
    "start_time": "2023-02-25T11:35:04.680Z"
   },
   {
    "duration": 6,
    "start_time": "2023-02-25T11:35:04.740Z"
   },
   {
    "duration": 18,
    "start_time": "2023-02-25T11:35:04.748Z"
   },
   {
    "duration": 32,
    "start_time": "2023-02-25T11:35:04.768Z"
   },
   {
    "duration": 17,
    "start_time": "2023-02-25T11:35:04.804Z"
   },
   {
    "duration": 274,
    "start_time": "2023-02-25T11:35:04.824Z"
   },
   {
    "duration": 8,
    "start_time": "2023-02-25T11:35:05.100Z"
   },
   {
    "duration": 44,
    "start_time": "2023-02-25T11:35:05.110Z"
   },
   {
    "duration": 10,
    "start_time": "2023-02-25T11:35:05.157Z"
   },
   {
    "duration": 17,
    "start_time": "2023-02-25T11:35:05.168Z"
   },
   {
    "duration": 400,
    "start_time": "2023-02-25T11:35:05.187Z"
   },
   {
    "duration": 4,
    "start_time": "2023-02-25T11:35:05.589Z"
   },
   {
    "duration": 607,
    "start_time": "2023-02-25T11:35:05.596Z"
   },
   {
    "duration": 32,
    "start_time": "2023-02-25T11:35:06.205Z"
   },
   {
    "duration": 441,
    "start_time": "2023-02-25T11:35:06.239Z"
   },
   {
    "duration": 308,
    "start_time": "2023-02-25T11:35:06.682Z"
   },
   {
    "duration": 314,
    "start_time": "2023-02-25T11:35:06.992Z"
   },
   {
    "duration": 7,
    "start_time": "2023-02-25T11:35:07.529Z"
   },
   {
    "duration": 7,
    "start_time": "2023-02-25T11:35:07.713Z"
   },
   {
    "duration": 4,
    "start_time": "2023-02-25T11:35:08.052Z"
   },
   {
    "duration": 195,
    "start_time": "2023-02-25T11:35:08.608Z"
   },
   {
    "duration": 16,
    "start_time": "2023-02-25T11:35:08.806Z"
   },
   {
    "duration": 36,
    "start_time": "2023-02-25T11:35:08.986Z"
   },
   {
    "duration": 14,
    "start_time": "2023-02-25T11:35:09.971Z"
   },
   {
    "duration": 24,
    "start_time": "2023-02-25T11:35:10.593Z"
   },
   {
    "duration": 76,
    "start_time": "2023-02-25T11:35:11.183Z"
   },
   {
    "duration": 16,
    "start_time": "2023-02-25T11:35:11.388Z"
   },
   {
    "duration": 47,
    "start_time": "2023-02-25T11:35:11.617Z"
   },
   {
    "duration": 25,
    "start_time": "2023-02-25T11:35:12.818Z"
   },
   {
    "duration": 399,
    "start_time": "2023-02-25T11:35:14.594Z"
   },
   {
    "duration": 15,
    "start_time": "2023-02-25T11:35:14.996Z"
   },
   {
    "duration": 63,
    "start_time": "2023-02-25T11:35:15.785Z"
   },
   {
    "duration": 17,
    "start_time": "2023-02-25T11:35:15.999Z"
   },
   {
    "duration": 27,
    "start_time": "2023-02-25T11:35:16.303Z"
   },
   {
    "duration": 74,
    "start_time": "2023-02-25T11:35:16.736Z"
   },
   {
    "duration": 224,
    "start_time": "2023-02-25T11:35:16.893Z"
   },
   {
    "duration": 466,
    "start_time": "2023-02-25T11:35:17.281Z"
   },
   {
    "duration": 11,
    "start_time": "2023-02-25T11:35:17.897Z"
   },
   {
    "duration": 220,
    "start_time": "2023-02-25T11:35:18.849Z"
   },
   {
    "duration": 416,
    "start_time": "2023-02-25T11:35:19.257Z"
   },
   {
    "duration": 314,
    "start_time": "2023-02-25T11:35:19.675Z"
   },
   {
    "duration": 183,
    "start_time": "2023-02-25T11:35:19.991Z"
   },
   {
    "duration": 179,
    "start_time": "2023-02-25T11:35:20.259Z"
   },
   {
    "duration": 312,
    "start_time": "2023-02-25T11:35:20.666Z"
   },
   {
    "duration": 294,
    "start_time": "2023-02-25T11:35:20.980Z"
   },
   {
    "duration": 268,
    "start_time": "2023-02-25T11:35:21.810Z"
   },
   {
    "duration": 242,
    "start_time": "2023-02-25T11:35:22.080Z"
   },
   {
    "duration": 28,
    "start_time": "2023-02-25T11:35:22.397Z"
   },
   {
    "duration": 33,
    "start_time": "2023-02-25T11:35:23.334Z"
   },
   {
    "duration": 5,
    "start_time": "2023-02-25T11:35:24.089Z"
   },
   {
    "duration": 5,
    "start_time": "2023-02-25T11:35:24.211Z"
   },
   {
    "duration": 18,
    "start_time": "2023-02-25T11:35:24.395Z"
   },
   {
    "duration": 8,
    "start_time": "2023-02-25T11:35:24.562Z"
   },
   {
    "duration": 197,
    "start_time": "2023-02-25T11:35:24.729Z"
   },
   {
    "duration": 9,
    "start_time": "2023-02-25T11:35:25.123Z"
   },
   {
    "duration": 14,
    "start_time": "2023-02-25T11:35:25.313Z"
   },
   {
    "duration": 140,
    "start_time": "2023-02-25T11:35:26.104Z"
   },
   {
    "duration": 10,
    "start_time": "2023-02-25T11:35:26.298Z"
   },
   {
    "duration": 275,
    "start_time": "2023-02-25T11:35:26.515Z"
   },
   {
    "duration": 1125,
    "start_time": "2023-02-25T12:51:38.694Z"
   },
   {
    "duration": 43,
    "start_time": "2023-02-25T12:51:40.468Z"
   },
   {
    "duration": 446,
    "start_time": "2023-02-25T12:51:40.513Z"
   },
   {
    "duration": 362,
    "start_time": "2023-02-25T12:51:40.961Z"
   },
   {
    "duration": 339,
    "start_time": "2023-02-25T12:51:41.325Z"
   },
   {
    "duration": 6,
    "start_time": "2023-02-25T12:51:41.666Z"
   },
   {
    "duration": 22,
    "start_time": "2023-02-25T12:51:41.674Z"
   },
   {
    "duration": 4,
    "start_time": "2023-02-25T12:51:41.703Z"
   },
   {
    "duration": 244,
    "start_time": "2023-02-25T12:51:41.710Z"
   },
   {
    "duration": 10,
    "start_time": "2023-02-25T12:51:41.956Z"
   },
   {
    "duration": 67,
    "start_time": "2023-02-25T12:51:41.968Z"
   },
   {
    "duration": 14,
    "start_time": "2023-02-25T12:51:42.037Z"
   },
   {
    "duration": 38,
    "start_time": "2023-02-25T12:51:42.054Z"
   },
   {
    "duration": 61,
    "start_time": "2023-02-25T12:51:42.094Z"
   },
   {
    "duration": 18,
    "start_time": "2023-02-25T12:51:42.157Z"
   },
   {
    "duration": 54,
    "start_time": "2023-02-25T12:51:42.176Z"
   },
   {
    "duration": 15,
    "start_time": "2023-02-25T12:51:42.232Z"
   },
   {
    "duration": 365,
    "start_time": "2023-02-25T12:51:42.248Z"
   },
   {
    "duration": 9,
    "start_time": "2023-02-25T12:51:42.615Z"
   },
   {
    "duration": 52,
    "start_time": "2023-02-25T12:51:42.626Z"
   },
   {
    "duration": 37,
    "start_time": "2023-02-25T12:51:42.679Z"
   },
   {
    "duration": 17,
    "start_time": "2023-02-25T12:51:42.717Z"
   },
   {
    "duration": 42,
    "start_time": "2023-02-25T12:51:42.735Z"
   },
   {
    "duration": 241,
    "start_time": "2023-02-25T12:51:42.804Z"
   },
   {
    "duration": 448,
    "start_time": "2023-02-25T12:51:43.047Z"
   },
   {
    "duration": 15,
    "start_time": "2023-02-25T12:51:43.496Z"
   },
   {
    "duration": 224,
    "start_time": "2023-02-25T12:51:43.515Z"
   },
   {
    "duration": 275,
    "start_time": "2023-02-25T12:51:43.740Z"
   },
   {
    "duration": 273,
    "start_time": "2023-02-25T12:51:44.017Z"
   },
   {
    "duration": 238,
    "start_time": "2023-02-25T12:51:44.292Z"
   },
   {
    "duration": 149,
    "start_time": "2023-02-25T12:51:44.531Z"
   },
   {
    "duration": 275,
    "start_time": "2023-02-25T12:51:44.682Z"
   },
   {
    "duration": 274,
    "start_time": "2023-02-25T12:51:44.958Z"
   },
   {
    "duration": 253,
    "start_time": "2023-02-25T12:51:45.234Z"
   },
   {
    "duration": 208,
    "start_time": "2023-02-25T12:51:45.489Z"
   },
   {
    "duration": 376,
    "start_time": "2023-02-25T12:51:45.703Z"
   },
   {
    "duration": 30,
    "start_time": "2023-02-25T12:51:46.081Z"
   },
   {
    "duration": 5,
    "start_time": "2023-02-25T12:51:46.113Z"
   },
   {
    "duration": 9,
    "start_time": "2023-02-25T12:51:46.119Z"
   },
   {
    "duration": 19,
    "start_time": "2023-02-25T12:51:46.129Z"
   },
   {
    "duration": 56,
    "start_time": "2023-02-25T12:51:46.149Z"
   },
   {
    "duration": 219,
    "start_time": "2023-02-25T12:51:46.206Z"
   },
   {
    "duration": 6,
    "start_time": "2023-02-25T12:51:46.427Z"
   },
   {
    "duration": 19,
    "start_time": "2023-02-25T12:51:46.435Z"
   },
   {
    "duration": 12,
    "start_time": "2023-02-25T12:51:46.458Z"
   },
   {
    "duration": 14,
    "start_time": "2023-02-25T12:51:46.471Z"
   },
   {
    "duration": 288,
    "start_time": "2023-02-25T12:51:46.486Z"
   }
  ],
  "kernelspec": {
   "display_name": "Python 3 (ipykernel)",
   "language": "python",
   "name": "python3"
  },
  "language_info": {
   "codemirror_mode": {
    "name": "ipython",
    "version": 3
   },
   "file_extension": ".py",
   "mimetype": "text/x-python",
   "name": "python",
   "nbconvert_exporter": "python",
   "pygments_lexer": "ipython3",
   "version": "3.9.13"
  },
  "toc": {
   "base_numbering": 1,
   "nav_menu": {},
   "number_sections": true,
   "sideBar": true,
   "skip_h1_title": true,
   "title_cell": "Table of Contents",
   "title_sidebar": "Contents",
   "toc_cell": false,
   "toc_position": {
    "height": "calc(100% - 180px)",
    "left": "10px",
    "top": "150px",
    "width": "289.438px"
   },
   "toc_section_display": true,
   "toc_window_display": true
  }
 },
 "nbformat": 4,
 "nbformat_minor": 2
}
