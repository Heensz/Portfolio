{
 "cells": [
  {
   "cell_type": "code",
   "execution_count": 1,
   "metadata": {},
   "outputs": [],
   "source": [
    "#запускаем библиотеки\n",
    "import pandas as pd\n",
    "import datetime as dt\n",
    "import numpy as np\n",
    "import matplotlib.pyplot as plt\n",
    "import scipy.stats as stats"
   ]
  },
  {
   "attachments": {},
   "cell_type": "markdown",
   "metadata": {},
   "source": [
    "# Проверка гипотез по увеличению выручки в интернет-магазине — оценка результатов A/B теста."
   ]
  },
  {
   "attachments": {},
   "cell_type": "markdown",
   "metadata": {},
   "source": [
    "Краткое описание проекта:\n",
    "вместе с отделом маркетинга мы подготовили список из 9 гипотез для увеличения выручки.\n",
    "В ходе исследования мы приоритизируем гипотезы и  проанализируем полученные результаты A/B-теста.\n",
    "\n",
    "Цель прокта: \n",
    "по результатам анализа A/B-теста необходимо принять решение. Варианты решений: 1. Остановить тест, зафиксировать победу одной из групп. 2. Остановить тест, зафиксировать отсутствие различий между группами. 3. Продолжить тест.\n",
    "\n",
    "Описание данных:\n",
    "мы имеем три датафрейма: 1 датафрейм с гипотезами и 2 датафрейма с результатами A/B-теста с данными о посетителях и заказах.\n",
    "\n",
    "План работы: сначала мы сделаем предобработку данных, затем в первой части приоретизируем гипотезы, после  этого проведём анализ результатов A/B-теста, а именно: построим необходимые нам графики, избавимся от аномалий и посчитаем статистическую значимость различий групп А и В по нужным нам критериям."
   ]
  },
  {
   "cell_type": "code",
   "execution_count": null,
   "metadata": {},
   "outputs": [],
   "source": [
    "План работы: \n",
    "1. Предобработка данных.\n",
    "2. Приоретизвция гипотез.\n",
    "3. Анализ результатов A/B-теста, а именно: построить необходимые нам графики, избавиться от аномалий и посчитать статистическую значимость различий групп А и В по нужным нам критериям.\n",
    "Вместе c отделом маркетинга мы подготовили список из 9 гипотез для увеличения выручки.\n",
    "В ходе исследования мы приоритизируем гипотезы и проанализируем полученные результаты A/B-теста.\n",
    "по результатам анализа A/B-теста необходимо принять решение. \n",
    "1. Остановить тест, зафиксировать победу одной из групп. \n",
    "2. Остановить тест, зафиксировать отсутствие различий между группами. \n",
    "3. Продолжить тест.\n",
    "Имеются три датафрейма: 1 датафрейм с гипотезами и 2 датафрейма с результатами A/B-теста с данными о посетителях и заказах.\n"
   ]
  },
  {
   "attachments": {},
   "cell_type": "markdown",
   "metadata": {},
   "source": [
    "## Предобработка данных"
   ]
  },
  {
   "cell_type": "code",
   "execution_count": 3,
   "metadata": {},
   "outputs": [
    {
     "data": {
      "text/html": [
       "<div>\n",
       "<style scoped>\n",
       "    .dataframe tbody tr th:only-of-type {\n",
       "        vertical-align: middle;\n",
       "    }\n",
       "\n",
       "    .dataframe tbody tr th {\n",
       "        vertical-align: top;\n",
       "    }\n",
       "\n",
       "    .dataframe thead th {\n",
       "        text-align: right;\n",
       "    }\n",
       "</style>\n",
       "<table border=\"1\" class=\"dataframe\">\n",
       "  <thead>\n",
       "    <tr style=\"text-align: right;\">\n",
       "      <th></th>\n",
       "      <th>Hypothesis</th>\n",
       "      <th>Reach</th>\n",
       "      <th>Impact</th>\n",
       "      <th>Confidence</th>\n",
       "      <th>Efforts</th>\n",
       "    </tr>\n",
       "  </thead>\n",
       "  <tbody>\n",
       "    <tr>\n",
       "      <th>0</th>\n",
       "      <td>Добавить два новых канала привлечения трафика, что позволит привлекать на 30% больше пользователей</td>\n",
       "      <td>3</td>\n",
       "      <td>10</td>\n",
       "      <td>8</td>\n",
       "      <td>6</td>\n",
       "    </tr>\n",
       "    <tr>\n",
       "      <th>1</th>\n",
       "      <td>Запустить собственную службу доставки, что сократит срок доставки заказов</td>\n",
       "      <td>2</td>\n",
       "      <td>5</td>\n",
       "      <td>4</td>\n",
       "      <td>10</td>\n",
       "    </tr>\n",
       "    <tr>\n",
       "      <th>2</th>\n",
       "      <td>Добавить блоки рекомендаций товаров на сайт интернет магазина, чтобы повысить конверсию и средний чек заказа</td>\n",
       "      <td>8</td>\n",
       "      <td>3</td>\n",
       "      <td>7</td>\n",
       "      <td>3</td>\n",
       "    </tr>\n",
       "    <tr>\n",
       "      <th>3</th>\n",
       "      <td>Изменить структура категорий, что увеличит конверсию, т.к. пользователи быстрее найдут нужный товар</td>\n",
       "      <td>8</td>\n",
       "      <td>3</td>\n",
       "      <td>3</td>\n",
       "      <td>8</td>\n",
       "    </tr>\n",
       "    <tr>\n",
       "      <th>4</th>\n",
       "      <td>Изменить цвет фона главной страницы, чтобы увеличить вовлеченность пользователей</td>\n",
       "      <td>3</td>\n",
       "      <td>1</td>\n",
       "      <td>1</td>\n",
       "      <td>1</td>\n",
       "    </tr>\n",
       "  </tbody>\n",
       "</table>\n",
       "</div>"
      ],
      "text/plain": [
       "                                                                                                     Hypothesis  \\\n",
       "0            Добавить два новых канала привлечения трафика, что позволит привлекать на 30% больше пользователей   \n",
       "1                                     Запустить собственную службу доставки, что сократит срок доставки заказов   \n",
       "2  Добавить блоки рекомендаций товаров на сайт интернет магазина, чтобы повысить конверсию и средний чек заказа   \n",
       "3           Изменить структура категорий, что увеличит конверсию, т.к. пользователи быстрее найдут нужный товар   \n",
       "4                              Изменить цвет фона главной страницы, чтобы увеличить вовлеченность пользователей   \n",
       "\n",
       "   Reach  Impact  Confidence  Efforts  \n",
       "0      3      10           8        6  \n",
       "1      2       5           4       10  \n",
       "2      8       3           7        3  \n",
       "3      8       3           3        8  \n",
       "4      3       1           1        1  "
      ]
     },
     "metadata": {},
     "output_type": "display_data"
    },
    {
     "data": {
      "text/plain": [
       "'**************************************************'"
      ]
     },
     "metadata": {},
     "output_type": "display_data"
    },
    {
     "data": {
      "text/html": [
       "<div>\n",
       "<style scoped>\n",
       "    .dataframe tbody tr th:only-of-type {\n",
       "        vertical-align: middle;\n",
       "    }\n",
       "\n",
       "    .dataframe tbody tr th {\n",
       "        vertical-align: top;\n",
       "    }\n",
       "\n",
       "    .dataframe thead th {\n",
       "        text-align: right;\n",
       "    }\n",
       "</style>\n",
       "<table border=\"1\" class=\"dataframe\">\n",
       "  <thead>\n",
       "    <tr style=\"text-align: right;\">\n",
       "      <th></th>\n",
       "      <th>transactionId</th>\n",
       "      <th>visitorId</th>\n",
       "      <th>date</th>\n",
       "      <th>revenue</th>\n",
       "      <th>group</th>\n",
       "    </tr>\n",
       "  </thead>\n",
       "  <tbody>\n",
       "    <tr>\n",
       "      <th>0</th>\n",
       "      <td>3667963787</td>\n",
       "      <td>3312258926</td>\n",
       "      <td>2019-08-15</td>\n",
       "      <td>1650</td>\n",
       "      <td>B</td>\n",
       "    </tr>\n",
       "    <tr>\n",
       "      <th>1</th>\n",
       "      <td>2804400009</td>\n",
       "      <td>3642806036</td>\n",
       "      <td>2019-08-15</td>\n",
       "      <td>730</td>\n",
       "      <td>B</td>\n",
       "    </tr>\n",
       "    <tr>\n",
       "      <th>2</th>\n",
       "      <td>2961555356</td>\n",
       "      <td>4069496402</td>\n",
       "      <td>2019-08-15</td>\n",
       "      <td>400</td>\n",
       "      <td>A</td>\n",
       "    </tr>\n",
       "    <tr>\n",
       "      <th>3</th>\n",
       "      <td>3797467345</td>\n",
       "      <td>1196621759</td>\n",
       "      <td>2019-08-15</td>\n",
       "      <td>9759</td>\n",
       "      <td>B</td>\n",
       "    </tr>\n",
       "    <tr>\n",
       "      <th>4</th>\n",
       "      <td>2282983706</td>\n",
       "      <td>2322279887</td>\n",
       "      <td>2019-08-15</td>\n",
       "      <td>2308</td>\n",
       "      <td>B</td>\n",
       "    </tr>\n",
       "  </tbody>\n",
       "</table>\n",
       "</div>"
      ],
      "text/plain": [
       "   transactionId   visitorId        date  revenue group\n",
       "0     3667963787  3312258926  2019-08-15     1650     B\n",
       "1     2804400009  3642806036  2019-08-15      730     B\n",
       "2     2961555356  4069496402  2019-08-15      400     A\n",
       "3     3797467345  1196621759  2019-08-15     9759     B\n",
       "4     2282983706  2322279887  2019-08-15     2308     B"
      ]
     },
     "metadata": {},
     "output_type": "display_data"
    },
    {
     "data": {
      "text/plain": [
       "'**************************************************'"
      ]
     },
     "metadata": {},
     "output_type": "display_data"
    },
    {
     "data": {
      "text/html": [
       "<div>\n",
       "<style scoped>\n",
       "    .dataframe tbody tr th:only-of-type {\n",
       "        vertical-align: middle;\n",
       "    }\n",
       "\n",
       "    .dataframe tbody tr th {\n",
       "        vertical-align: top;\n",
       "    }\n",
       "\n",
       "    .dataframe thead th {\n",
       "        text-align: right;\n",
       "    }\n",
       "</style>\n",
       "<table border=\"1\" class=\"dataframe\">\n",
       "  <thead>\n",
       "    <tr style=\"text-align: right;\">\n",
       "      <th></th>\n",
       "      <th>date</th>\n",
       "      <th>group</th>\n",
       "      <th>visitors</th>\n",
       "    </tr>\n",
       "  </thead>\n",
       "  <tbody>\n",
       "    <tr>\n",
       "      <th>0</th>\n",
       "      <td>2019-08-01</td>\n",
       "      <td>A</td>\n",
       "      <td>719</td>\n",
       "    </tr>\n",
       "    <tr>\n",
       "      <th>1</th>\n",
       "      <td>2019-08-02</td>\n",
       "      <td>A</td>\n",
       "      <td>619</td>\n",
       "    </tr>\n",
       "    <tr>\n",
       "      <th>2</th>\n",
       "      <td>2019-08-03</td>\n",
       "      <td>A</td>\n",
       "      <td>507</td>\n",
       "    </tr>\n",
       "    <tr>\n",
       "      <th>3</th>\n",
       "      <td>2019-08-04</td>\n",
       "      <td>A</td>\n",
       "      <td>717</td>\n",
       "    </tr>\n",
       "    <tr>\n",
       "      <th>4</th>\n",
       "      <td>2019-08-05</td>\n",
       "      <td>A</td>\n",
       "      <td>756</td>\n",
       "    </tr>\n",
       "  </tbody>\n",
       "</table>\n",
       "</div>"
      ],
      "text/plain": [
       "         date group  visitors\n",
       "0  2019-08-01     A       719\n",
       "1  2019-08-02     A       619\n",
       "2  2019-08-03     A       507\n",
       "3  2019-08-04     A       717\n",
       "4  2019-08-05     A       756"
      ]
     },
     "metadata": {},
     "output_type": "display_data"
    }
   ],
   "source": [
    "pd.options.display.max_colwidth = 130\n",
    "display(hypothesis.head())\n",
    "display('*'*50)\n",
    "display(orders.head())\n",
    "display('*'*50)\n",
    "display(visitors.head())"
   ]
  },
  {
   "cell_type": "code",
   "execution_count": 4,
   "metadata": {},
   "outputs": [
    {
     "name": "stdout",
     "output_type": "stream",
     "text": [
      "<class 'pandas.core.frame.DataFrame'>\n",
      "RangeIndex: 9 entries, 0 to 8\n",
      "Data columns (total 5 columns):\n",
      " #   Column      Non-Null Count  Dtype \n",
      "---  ------      --------------  ----- \n",
      " 0   Hypothesis  9 non-null      object\n",
      " 1   Reach       9 non-null      int64 \n",
      " 2   Impact      9 non-null      int64 \n",
      " 3   Confidence  9 non-null      int64 \n",
      " 4   Efforts     9 non-null      int64 \n",
      "dtypes: int64(4), object(1)\n",
      "memory usage: 488.0+ bytes\n"
     ]
    },
    {
     "data": {
      "text/plain": [
       "0"
      ]
     },
     "execution_count": 4,
     "metadata": {},
     "output_type": "execute_result"
    }
   ],
   "source": [
    "hypothesis.info()\n",
    "hypothesis.isna().sum()\n",
    "hypothesis.duplicated().sum()"
   ]
  },
  {
   "cell_type": "code",
   "execution_count": 5,
   "metadata": {},
   "outputs": [
    {
     "name": "stdout",
     "output_type": "stream",
     "text": [
      "<class 'pandas.core.frame.DataFrame'>\n",
      "RangeIndex: 1197 entries, 0 to 1196\n",
      "Data columns (total 5 columns):\n",
      " #   Column         Non-Null Count  Dtype \n",
      "---  ------         --------------  ----- \n",
      " 0   transactionId  1197 non-null   int64 \n",
      " 1   visitorId      1197 non-null   int64 \n",
      " 2   date           1197 non-null   object\n",
      " 3   revenue        1197 non-null   int64 \n",
      " 4   group          1197 non-null   object\n",
      "dtypes: int64(3), object(2)\n",
      "memory usage: 46.9+ KB\n"
     ]
    },
    {
     "data": {
      "text/plain": [
       "0"
      ]
     },
     "execution_count": 5,
     "metadata": {},
     "output_type": "execute_result"
    }
   ],
   "source": [
    "orders.info()\n",
    "orders.duplicated().sum()"
   ]
  },
  {
   "cell_type": "code",
   "execution_count": 6,
   "metadata": {
    "scrolled": false
   },
   "outputs": [
    {
     "name": "stdout",
     "output_type": "stream",
     "text": [
      "<class 'pandas.core.frame.DataFrame'>\n",
      "RangeIndex: 62 entries, 0 to 61\n",
      "Data columns (total 3 columns):\n",
      " #   Column    Non-Null Count  Dtype \n",
      "---  ------    --------------  ----- \n",
      " 0   date      62 non-null     object\n",
      " 1   group     62 non-null     object\n",
      " 2   visitors  62 non-null     int64 \n",
      "dtypes: int64(1), object(2)\n",
      "memory usage: 1.6+ KB\n"
     ]
    },
    {
     "data": {
      "text/plain": [
       "0"
      ]
     },
     "execution_count": 6,
     "metadata": {},
     "output_type": "execute_result"
    }
   ],
   "source": [
    "visitors.info()\n",
    "visitors.duplicated().sum()"
   ]
  },
  {
   "attachments": {},
   "cell_type": "markdown",
   "metadata": {},
   "source": [
    "Пропусков нет, полных дубликатов тоже нет. В датасетах hypothesis и orders необходимо привести названия столбцов к единому виду.\n",
    "Изменять типы данных не требуется."
   ]
  },
  {
   "cell_type": "code",
   "execution_count": 7,
   "metadata": {
    "scrolled": false
   },
   "outputs": [
    {
     "data": {
      "text/html": [
       "<div>\n",
       "<style scoped>\n",
       "    .dataframe tbody tr th:only-of-type {\n",
       "        vertical-align: middle;\n",
       "    }\n",
       "\n",
       "    .dataframe tbody tr th {\n",
       "        vertical-align: top;\n",
       "    }\n",
       "\n",
       "    .dataframe thead th {\n",
       "        text-align: right;\n",
       "    }\n",
       "</style>\n",
       "<table border=\"1\" class=\"dataframe\">\n",
       "  <thead>\n",
       "    <tr style=\"text-align: right;\">\n",
       "      <th></th>\n",
       "      <th>hypothesis</th>\n",
       "      <th>reach</th>\n",
       "      <th>impact</th>\n",
       "      <th>confidence</th>\n",
       "      <th>efforts</th>\n",
       "    </tr>\n",
       "  </thead>\n",
       "  <tbody>\n",
       "    <tr>\n",
       "      <th>0</th>\n",
       "      <td>Добавить два новых канала привлечения трафика, что позволит привлекать на 30% больше пользователей</td>\n",
       "      <td>3</td>\n",
       "      <td>10</td>\n",
       "      <td>8</td>\n",
       "      <td>6</td>\n",
       "    </tr>\n",
       "    <tr>\n",
       "      <th>1</th>\n",
       "      <td>Запустить собственную службу доставки, что сократит срок доставки заказов</td>\n",
       "      <td>2</td>\n",
       "      <td>5</td>\n",
       "      <td>4</td>\n",
       "      <td>10</td>\n",
       "    </tr>\n",
       "    <tr>\n",
       "      <th>2</th>\n",
       "      <td>Добавить блоки рекомендаций товаров на сайт интернет магазина, чтобы повысить конверсию и средний чек заказа</td>\n",
       "      <td>8</td>\n",
       "      <td>3</td>\n",
       "      <td>7</td>\n",
       "      <td>3</td>\n",
       "    </tr>\n",
       "    <tr>\n",
       "      <th>3</th>\n",
       "      <td>Изменить структура категорий, что увеличит конверсию, т.к. пользователи быстрее найдут нужный товар</td>\n",
       "      <td>8</td>\n",
       "      <td>3</td>\n",
       "      <td>3</td>\n",
       "      <td>8</td>\n",
       "    </tr>\n",
       "    <tr>\n",
       "      <th>4</th>\n",
       "      <td>Изменить цвет фона главной страницы, чтобы увеличить вовлеченность пользователей</td>\n",
       "      <td>3</td>\n",
       "      <td>1</td>\n",
       "      <td>1</td>\n",
       "      <td>1</td>\n",
       "    </tr>\n",
       "  </tbody>\n",
       "</table>\n",
       "</div>"
      ],
      "text/plain": [
       "                                                                                                     hypothesis  \\\n",
       "0            Добавить два новых канала привлечения трафика, что позволит привлекать на 30% больше пользователей   \n",
       "1                                     Запустить собственную службу доставки, что сократит срок доставки заказов   \n",
       "2  Добавить блоки рекомендаций товаров на сайт интернет магазина, чтобы повысить конверсию и средний чек заказа   \n",
       "3           Изменить структура категорий, что увеличит конверсию, т.к. пользователи быстрее найдут нужный товар   \n",
       "4                              Изменить цвет фона главной страницы, чтобы увеличить вовлеченность пользователей   \n",
       "\n",
       "   reach  impact  confidence  efforts  \n",
       "0      3      10           8        6  \n",
       "1      2       5           4       10  \n",
       "2      8       3           7        3  \n",
       "3      8       3           3        8  \n",
       "4      3       1           1        1  "
      ]
     },
     "metadata": {},
     "output_type": "display_data"
    }
   ],
   "source": [
    "hypothesis.columns = [x.lower().replace(' ', '_') for x in hypothesis.columns]\n",
    "display(hypothesis.head())"
   ]
  },
  {
   "cell_type": "code",
   "execution_count": 8,
   "metadata": {},
   "outputs": [
    {
     "data": {
      "text/html": [
       "<div>\n",
       "<style scoped>\n",
       "    .dataframe tbody tr th:only-of-type {\n",
       "        vertical-align: middle;\n",
       "    }\n",
       "\n",
       "    .dataframe tbody tr th {\n",
       "        vertical-align: top;\n",
       "    }\n",
       "\n",
       "    .dataframe thead th {\n",
       "        text-align: right;\n",
       "    }\n",
       "</style>\n",
       "<table border=\"1\" class=\"dataframe\">\n",
       "  <thead>\n",
       "    <tr style=\"text-align: right;\">\n",
       "      <th></th>\n",
       "      <th>transaction_id</th>\n",
       "      <th>visitor_id</th>\n",
       "      <th>date</th>\n",
       "      <th>revenue</th>\n",
       "      <th>group</th>\n",
       "    </tr>\n",
       "  </thead>\n",
       "  <tbody>\n",
       "    <tr>\n",
       "      <th>0</th>\n",
       "      <td>3667963787</td>\n",
       "      <td>3312258926</td>\n",
       "      <td>2019-08-15</td>\n",
       "      <td>1650</td>\n",
       "      <td>B</td>\n",
       "    </tr>\n",
       "    <tr>\n",
       "      <th>1</th>\n",
       "      <td>2804400009</td>\n",
       "      <td>3642806036</td>\n",
       "      <td>2019-08-15</td>\n",
       "      <td>730</td>\n",
       "      <td>B</td>\n",
       "    </tr>\n",
       "    <tr>\n",
       "      <th>2</th>\n",
       "      <td>2961555356</td>\n",
       "      <td>4069496402</td>\n",
       "      <td>2019-08-15</td>\n",
       "      <td>400</td>\n",
       "      <td>A</td>\n",
       "    </tr>\n",
       "    <tr>\n",
       "      <th>3</th>\n",
       "      <td>3797467345</td>\n",
       "      <td>1196621759</td>\n",
       "      <td>2019-08-15</td>\n",
       "      <td>9759</td>\n",
       "      <td>B</td>\n",
       "    </tr>\n",
       "    <tr>\n",
       "      <th>4</th>\n",
       "      <td>2282983706</td>\n",
       "      <td>2322279887</td>\n",
       "      <td>2019-08-15</td>\n",
       "      <td>2308</td>\n",
       "      <td>B</td>\n",
       "    </tr>\n",
       "  </tbody>\n",
       "</table>\n",
       "</div>"
      ],
      "text/plain": [
       "   transaction_id  visitor_id        date  revenue group\n",
       "0      3667963787  3312258926  2019-08-15     1650     B\n",
       "1      2804400009  3642806036  2019-08-15      730     B\n",
       "2      2961555356  4069496402  2019-08-15      400     A\n",
       "3      3797467345  1196621759  2019-08-15     9759     B\n",
       "4      2282983706  2322279887  2019-08-15     2308     B"
      ]
     },
     "metadata": {},
     "output_type": "display_data"
    }
   ],
   "source": [
    "orders = orders.rename(columns = {'transactionId' : 'transaction_id', 'visitorId':'visitor_id'})\n",
    "display(orders.head())"
   ]
  },
  {
   "cell_type": "code",
   "execution_count": 9,
   "metadata": {},
   "outputs": [
    {
     "data": {
      "text/plain": [
       "array(['B', 'A'], dtype=object)"
      ]
     },
     "metadata": {},
     "output_type": "display_data"
    },
    {
     "name": "stdout",
     "output_type": "stream",
     "text": [
      "Начальная дата 2019-08-01, конечная дата 2019-08-31\n",
      "**************************************************\n",
      "Количество человек в группе А: visitor_id    503\n",
      "dtype: int64\n",
      "Количество человек в группе В: visitor_id    586\n",
      "dtype: int64\n",
      "**************************************************\n",
      "Количество пользователей, попавших в обе группы: 58\n",
      "**************************************************\n",
      "Количество пользователей: visitor_id    1031\n",
      "dtype: int64\n",
      "**************************************************\n",
      "Количество заказов: 1197\n",
      "Количество заказов в группе А: 557\n",
      "Количество заказов в группы В: 640\n",
      "**************************************************\n",
      "\n",
      "Всего прибыли: 9992563\n",
      "Всего прибыли в группе A: 4084803\n",
      "Всего прибыли в группе B: 5907760\n"
     ]
    }
   ],
   "source": [
    "display(orders['group'].unique())\n",
    "\n",
    "print('Начальная дата {}, конечная дата {}'.format(orders['date'].min(), orders['date'].max()))\n",
    "print('*'*50)\n",
    "\n",
    "orders_A =orders.query('group == \"A\"')\n",
    "orders_B =orders.query('group == \"B\"')\n",
    "\n",
    "print(\"Количество человек в группе А:\", orders_A.agg({'visitor_id':'nunique'}))\n",
    "print(\"Количество человек в группе В:\", orders_B.agg({'visitor_id':'nunique'}))\n",
    "print('*'*50)\n",
    "\n",
    "d=orders_A.merge(orders_B, how='inner', indicator = False, on=['visitor_id'])\n",
    "print(\"Количество пользователей, попавших в обе группы:\", d['visitor_id'].drop_duplicates().count()) #посмотрим общие строки\n",
    "print('*'*50)\n",
    "print(\"Количество пользователей:\", orders.agg({'visitor_id':'nunique'}))\n",
    "print('*'*50)\n",
    "print(\"Количество заказов:\", orders['transaction_id'].count())\n",
    "print(\"Количество заказов в группе А:\", orders_A['transaction_id'].count())\n",
    "print(\"Количество заказов в группы В:\", orders_B['transaction_id'].count())\n",
    "print('*'*50)\n",
    "print()\n",
    "print(\"Всего прибыли:\", orders['revenue'].sum())\n",
    "print(\"Всего прибыли в группе A:\", orders_A['revenue'].sum())\n",
    "print(\"Всего прибыли в группе B:\", orders_B['revenue'].sum())"
   ]
  },
  {
   "attachments": {},
   "cell_type": "markdown",
   "metadata": {},
   "source": [
    "<div class=\"alert alert-info\"> <b></b> A/B-тест длился месяц. С 1 августа по 31 августа 2019 года\n",
    "    \n",
    "Количество пользователей в группах примерно одинаковое: 503 и 586 пользователей. \n",
    "\n",
    "Найдены 58 id пользователей, которые попали в обе группы, их необходимо удалить.\n",
    "\n",
    "Заказов(1197) больше чем пользователей (1031), хороший знак. В группе B заказов больше - 640, чем в группе А - 557.\n",
    "\n",
    "Всего прибыли = 9 992 563. С группы В получили больше прибыли - 5 907 760, чем с группы А - 4 084 803, примерно на 1 822 000. Это большая сумма\n",
    "</div>"
   ]
  },
  {
   "cell_type": "code",
   "execution_count": 10,
   "metadata": {},
   "outputs": [],
   "source": [
    "for i in orders['visitor_id']:#удалим пользователей, которые попали в обе группы\n",
    "    if i in d['visitor_id'].unique():\n",
    "        orders = orders.drop(orders[orders.visitor_id == i].index)  "
   ]
  },
  {
   "cell_type": "code",
   "execution_count": 11,
   "metadata": {},
   "outputs": [
    {
     "data": {
      "text/plain": [
       "1016"
      ]
     },
     "execution_count": 11,
     "metadata": {},
     "output_type": "execute_result"
    }
   ],
   "source": [
    "orders['visitor_id'].count()"
   ]
  },
  {
   "attachments": {},
   "cell_type": "markdown",
   "metadata": {},
   "source": [
    "<div class=\"alert alert-info\"> <b></b>  Удалилось корректно. </div>"
   ]
  },
  {
   "attachments": {},
   "cell_type": "markdown",
   "metadata": {},
   "source": [
    "## Приоритизация гипотез"
   ]
  },
  {
   "attachments": {},
   "cell_type": "markdown",
   "metadata": {},
   "source": [
    "Применим фреймворк ICE для приоритизации гипотез. Отсортируем их по убыванию приоритета."
   ]
  },
  {
   "cell_type": "code",
   "execution_count": 12,
   "metadata": {
    "scrolled": true
   },
   "outputs": [
    {
     "data": {
      "text/html": [
       "<div>\n",
       "<style scoped>\n",
       "    .dataframe tbody tr th:only-of-type {\n",
       "        vertical-align: middle;\n",
       "    }\n",
       "\n",
       "    .dataframe tbody tr th {\n",
       "        vertical-align: top;\n",
       "    }\n",
       "\n",
       "    .dataframe thead th {\n",
       "        text-align: right;\n",
       "    }\n",
       "</style>\n",
       "<table border=\"1\" class=\"dataframe\">\n",
       "  <thead>\n",
       "    <tr style=\"text-align: right;\">\n",
       "      <th></th>\n",
       "      <th>hypothesis</th>\n",
       "      <th>ICE</th>\n",
       "    </tr>\n",
       "  </thead>\n",
       "  <tbody>\n",
       "    <tr>\n",
       "      <th>8</th>\n",
       "      <td>Запустить акцию, дающую скидку на товар в день рождения</td>\n",
       "      <td>16.20</td>\n",
       "    </tr>\n",
       "    <tr>\n",
       "      <th>0</th>\n",
       "      <td>Добавить два новых канала привлечения трафика, что позволит привлекать на 30% больше пользователей</td>\n",
       "      <td>13.33</td>\n",
       "    </tr>\n",
       "    <tr>\n",
       "      <th>7</th>\n",
       "      <td>Добавить форму подписки на все основные страницы, чтобы собрать базу клиентов для email-рассылок</td>\n",
       "      <td>11.20</td>\n",
       "    </tr>\n",
       "    <tr>\n",
       "      <th>6</th>\n",
       "      <td>Показать на главной странице баннеры с актуальными акциями и распродажами, чтобы увеличить конверсию</td>\n",
       "      <td>8.00</td>\n",
       "    </tr>\n",
       "    <tr>\n",
       "      <th>2</th>\n",
       "      <td>Добавить блоки рекомендаций товаров на сайт интернет магазина, чтобы повысить конверсию и средний чек заказа</td>\n",
       "      <td>7.00</td>\n",
       "    </tr>\n",
       "    <tr>\n",
       "      <th>1</th>\n",
       "      <td>Запустить собственную службу доставки, что сократит срок доставки заказов</td>\n",
       "      <td>2.00</td>\n",
       "    </tr>\n",
       "    <tr>\n",
       "      <th>5</th>\n",
       "      <td>Добавить страницу отзывов клиентов о магазине, что позволит увеличить количество заказов</td>\n",
       "      <td>1.33</td>\n",
       "    </tr>\n",
       "    <tr>\n",
       "      <th>3</th>\n",
       "      <td>Изменить структура категорий, что увеличит конверсию, т.к. пользователи быстрее найдут нужный товар</td>\n",
       "      <td>1.12</td>\n",
       "    </tr>\n",
       "    <tr>\n",
       "      <th>4</th>\n",
       "      <td>Изменить цвет фона главной страницы, чтобы увеличить вовлеченность пользователей</td>\n",
       "      <td>1.00</td>\n",
       "    </tr>\n",
       "  </tbody>\n",
       "</table>\n",
       "</div>"
      ],
      "text/plain": [
       "                                                                                                     hypothesis  \\\n",
       "8                                                       Запустить акцию, дающую скидку на товар в день рождения   \n",
       "0            Добавить два новых канала привлечения трафика, что позволит привлекать на 30% больше пользователей   \n",
       "7              Добавить форму подписки на все основные страницы, чтобы собрать базу клиентов для email-рассылок   \n",
       "6          Показать на главной странице баннеры с актуальными акциями и распродажами, чтобы увеличить конверсию   \n",
       "2  Добавить блоки рекомендаций товаров на сайт интернет магазина, чтобы повысить конверсию и средний чек заказа   \n",
       "1                                     Запустить собственную службу доставки, что сократит срок доставки заказов   \n",
       "5                      Добавить страницу отзывов клиентов о магазине, что позволит увеличить количество заказов   \n",
       "3           Изменить структура категорий, что увеличит конверсию, т.к. пользователи быстрее найдут нужный товар   \n",
       "4                              Изменить цвет фона главной страницы, чтобы увеличить вовлеченность пользователей   \n",
       "\n",
       "     ICE  \n",
       "8  16.20  \n",
       "0  13.33  \n",
       "7  11.20  \n",
       "6   8.00  \n",
       "2   7.00  \n",
       "1   2.00  \n",
       "5   1.33  \n",
       "3   1.12  \n",
       "4   1.00  "
      ]
     },
     "metadata": {},
     "output_type": "display_data"
    }
   ],
   "source": [
    "hypothesis['ICE']= hypothesis['impact'] *hypothesis['confidence']/hypothesis['efforts']\n",
    "display(round(hypothesis[['hypothesis','ICE']].sort_values(by = 'ICE', ascending = False), 2))"
   ]
  },
  {
   "attachments": {},
   "cell_type": "markdown",
   "metadata": {},
   "source": [
    "Гипотеза под номером 8 наиболее приоритетна.\n",
    "\n",
    "Наименее приоритетные гипотезы - под номерами: 1, 5, 3 и 4."
   ]
  },
  {
   "attachments": {},
   "cell_type": "markdown",
   "metadata": {},
   "source": [
    "Применим фреймворк RICE для приоритизации гипотез. Отсортируем их по убыванию приоритета."
   ]
  },
  {
   "cell_type": "code",
   "execution_count": 13,
   "metadata": {},
   "outputs": [
    {
     "data": {
      "text/html": [
       "<div>\n",
       "<style scoped>\n",
       "    .dataframe tbody tr th:only-of-type {\n",
       "        vertical-align: middle;\n",
       "    }\n",
       "\n",
       "    .dataframe tbody tr th {\n",
       "        vertical-align: top;\n",
       "    }\n",
       "\n",
       "    .dataframe thead th {\n",
       "        text-align: right;\n",
       "    }\n",
       "</style>\n",
       "<table border=\"1\" class=\"dataframe\">\n",
       "  <thead>\n",
       "    <tr style=\"text-align: right;\">\n",
       "      <th></th>\n",
       "      <th>hypothesis</th>\n",
       "      <th>RICE</th>\n",
       "    </tr>\n",
       "  </thead>\n",
       "  <tbody>\n",
       "    <tr>\n",
       "      <th>7</th>\n",
       "      <td>Добавить форму подписки на все основные страницы, чтобы собрать базу клиентов для email-рассылок</td>\n",
       "      <td>112.0</td>\n",
       "    </tr>\n",
       "    <tr>\n",
       "      <th>2</th>\n",
       "      <td>Добавить блоки рекомендаций товаров на сайт интернет магазина, чтобы повысить конверсию и средний чек заказа</td>\n",
       "      <td>56.0</td>\n",
       "    </tr>\n",
       "    <tr>\n",
       "      <th>0</th>\n",
       "      <td>Добавить два новых канала привлечения трафика, что позволит привлекать на 30% больше пользователей</td>\n",
       "      <td>40.0</td>\n",
       "    </tr>\n",
       "    <tr>\n",
       "      <th>6</th>\n",
       "      <td>Показать на главной странице баннеры с актуальными акциями и распродажами, чтобы увеличить конверсию</td>\n",
       "      <td>40.0</td>\n",
       "    </tr>\n",
       "    <tr>\n",
       "      <th>8</th>\n",
       "      <td>Запустить акцию, дающую скидку на товар в день рождения</td>\n",
       "      <td>16.2</td>\n",
       "    </tr>\n",
       "    <tr>\n",
       "      <th>3</th>\n",
       "      <td>Изменить структура категорий, что увеличит конверсию, т.к. пользователи быстрее найдут нужный товар</td>\n",
       "      <td>9.0</td>\n",
       "    </tr>\n",
       "    <tr>\n",
       "      <th>1</th>\n",
       "      <td>Запустить собственную службу доставки, что сократит срок доставки заказов</td>\n",
       "      <td>4.0</td>\n",
       "    </tr>\n",
       "    <tr>\n",
       "      <th>5</th>\n",
       "      <td>Добавить страницу отзывов клиентов о магазине, что позволит увеличить количество заказов</td>\n",
       "      <td>4.0</td>\n",
       "    </tr>\n",
       "    <tr>\n",
       "      <th>4</th>\n",
       "      <td>Изменить цвет фона главной страницы, чтобы увеличить вовлеченность пользователей</td>\n",
       "      <td>3.0</td>\n",
       "    </tr>\n",
       "  </tbody>\n",
       "</table>\n",
       "</div>"
      ],
      "text/plain": [
       "                                                                                                     hypothesis  \\\n",
       "7              Добавить форму подписки на все основные страницы, чтобы собрать базу клиентов для email-рассылок   \n",
       "2  Добавить блоки рекомендаций товаров на сайт интернет магазина, чтобы повысить конверсию и средний чек заказа   \n",
       "0            Добавить два новых канала привлечения трафика, что позволит привлекать на 30% больше пользователей   \n",
       "6          Показать на главной странице баннеры с актуальными акциями и распродажами, чтобы увеличить конверсию   \n",
       "8                                                       Запустить акцию, дающую скидку на товар в день рождения   \n",
       "3           Изменить структура категорий, что увеличит конверсию, т.к. пользователи быстрее найдут нужный товар   \n",
       "1                                     Запустить собственную службу доставки, что сократит срок доставки заказов   \n",
       "5                      Добавить страницу отзывов клиентов о магазине, что позволит увеличить количество заказов   \n",
       "4                              Изменить цвет фона главной страницы, чтобы увеличить вовлеченность пользователей   \n",
       "\n",
       "    RICE  \n",
       "7  112.0  \n",
       "2   56.0  \n",
       "0   40.0  \n",
       "6   40.0  \n",
       "8   16.2  \n",
       "3    9.0  \n",
       "1    4.0  \n",
       "5    4.0  \n",
       "4    3.0  "
      ]
     },
     "metadata": {},
     "output_type": "display_data"
    }
   ],
   "source": [
    "hypothesis['RICE'] = hypothesis['reach']*hypothesis['impact']*hypothesis['confidence']/hypothesis['efforts']\n",
    "display(round(hypothesis[['hypothesis','RICE']].sort_values(by='RICE', ascending = False), 2))"
   ]
  },
  {
   "attachments": {},
   "cell_type": "markdown",
   "metadata": {},
   "source": [
    "Укажем, как изменилась приоритизация гипотез при применении RICE вместо ICE. Объясним, почему так произошло."
   ]
  },
  {
   "attachments": {},
   "cell_type": "markdown",
   "metadata": {},
   "source": [
    "8-я гипотеза опустилась с 1-ого места до 5-ого,\n",
    "\n",
    "0-ая гипотеза опустилась со 2-ого места на 3-е.\n",
    "\n",
    "А 7-ая гипотеза поднялась с 3-его места на 1-ое. \n",
    "\n",
    "Гипотеза под номером 2 тоже поднялась, с 5-ого места на 2-ое.\n",
    "\n",
    "4-ая гипотеза по-прежнему отстаётся на последнем месте.\n",
    "\n",
    "В RICE мы учитываем, сколько пользователей затронет изменение (подключаем параметр Reach), поэтому приоретизация при применении RICE и ICE различается."
   ]
  },
  {
   "attachments": {},
   "cell_type": "markdown",
   "metadata": {},
   "source": [
    "## Анализ A/B-теста"
   ]
  },
  {
   "attachments": {},
   "cell_type": "markdown",
   "metadata": {},
   "source": [
    "### Кумулятивные метрики"
   ]
  },
  {
   "attachments": {},
   "cell_type": "markdown",
   "metadata": {},
   "source": [
    "1 Построим график кумулятивной выручки по группам. Сделаем выводы и предположения."
   ]
  },
  {
   "cell_type": "code",
   "execution_count": 14,
   "metadata": {
    "scrolled": true
   },
   "outputs": [
    {
     "data": {
      "text/html": [
       "<div>\n",
       "<style scoped>\n",
       "    .dataframe tbody tr th:only-of-type {\n",
       "        vertical-align: middle;\n",
       "    }\n",
       "\n",
       "    .dataframe tbody tr th {\n",
       "        vertical-align: top;\n",
       "    }\n",
       "\n",
       "    .dataframe thead th {\n",
       "        text-align: right;\n",
       "    }\n",
       "</style>\n",
       "<table border=\"1\" class=\"dataframe\">\n",
       "  <thead>\n",
       "    <tr style=\"text-align: right;\">\n",
       "      <th></th>\n",
       "      <th>transaction_id</th>\n",
       "      <th>visitor_id</th>\n",
       "      <th>date</th>\n",
       "      <th>revenue</th>\n",
       "      <th>group</th>\n",
       "    </tr>\n",
       "  </thead>\n",
       "  <tbody>\n",
       "    <tr>\n",
       "      <th>0</th>\n",
       "      <td>3667963787</td>\n",
       "      <td>3312258926</td>\n",
       "      <td>2019-08-15</td>\n",
       "      <td>1650</td>\n",
       "      <td>B</td>\n",
       "    </tr>\n",
       "    <tr>\n",
       "      <th>1</th>\n",
       "      <td>2804400009</td>\n",
       "      <td>3642806036</td>\n",
       "      <td>2019-08-15</td>\n",
       "      <td>730</td>\n",
       "      <td>B</td>\n",
       "    </tr>\n",
       "    <tr>\n",
       "      <th>3</th>\n",
       "      <td>3797467345</td>\n",
       "      <td>1196621759</td>\n",
       "      <td>2019-08-15</td>\n",
       "      <td>9759</td>\n",
       "      <td>B</td>\n",
       "    </tr>\n",
       "    <tr>\n",
       "      <th>4</th>\n",
       "      <td>2282983706</td>\n",
       "      <td>2322279887</td>\n",
       "      <td>2019-08-15</td>\n",
       "      <td>2308</td>\n",
       "      <td>B</td>\n",
       "    </tr>\n",
       "    <tr>\n",
       "      <th>5</th>\n",
       "      <td>182168103</td>\n",
       "      <td>935554773</td>\n",
       "      <td>2019-08-15</td>\n",
       "      <td>2210</td>\n",
       "      <td>B</td>\n",
       "    </tr>\n",
       "  </tbody>\n",
       "</table>\n",
       "</div>"
      ],
      "text/plain": [
       "   transaction_id  visitor_id       date  revenue group\n",
       "0      3667963787  3312258926 2019-08-15     1650     B\n",
       "1      2804400009  3642806036 2019-08-15      730     B\n",
       "3      3797467345  1196621759 2019-08-15     9759     B\n",
       "4      2282983706  2322279887 2019-08-15     2308     B\n",
       "5       182168103   935554773 2019-08-15     2210     B"
      ]
     },
     "metadata": {},
     "output_type": "display_data"
    },
    {
     "data": {
      "text/html": [
       "<div>\n",
       "<style scoped>\n",
       "    .dataframe tbody tr th:only-of-type {\n",
       "        vertical-align: middle;\n",
       "    }\n",
       "\n",
       "    .dataframe tbody tr th {\n",
       "        vertical-align: top;\n",
       "    }\n",
       "\n",
       "    .dataframe thead th {\n",
       "        text-align: right;\n",
       "    }\n",
       "</style>\n",
       "<table border=\"1\" class=\"dataframe\">\n",
       "  <thead>\n",
       "    <tr style=\"text-align: right;\">\n",
       "      <th></th>\n",
       "      <th>date</th>\n",
       "      <th>group</th>\n",
       "      <th>visitors</th>\n",
       "    </tr>\n",
       "  </thead>\n",
       "  <tbody>\n",
       "    <tr>\n",
       "      <th>0</th>\n",
       "      <td>2019-08-01</td>\n",
       "      <td>A</td>\n",
       "      <td>719</td>\n",
       "    </tr>\n",
       "    <tr>\n",
       "      <th>1</th>\n",
       "      <td>2019-08-02</td>\n",
       "      <td>A</td>\n",
       "      <td>619</td>\n",
       "    </tr>\n",
       "    <tr>\n",
       "      <th>2</th>\n",
       "      <td>2019-08-03</td>\n",
       "      <td>A</td>\n",
       "      <td>507</td>\n",
       "    </tr>\n",
       "    <tr>\n",
       "      <th>3</th>\n",
       "      <td>2019-08-04</td>\n",
       "      <td>A</td>\n",
       "      <td>717</td>\n",
       "    </tr>\n",
       "    <tr>\n",
       "      <th>4</th>\n",
       "      <td>2019-08-05</td>\n",
       "      <td>A</td>\n",
       "      <td>756</td>\n",
       "    </tr>\n",
       "  </tbody>\n",
       "</table>\n",
       "</div>"
      ],
      "text/plain": [
       "        date group  visitors\n",
       "0 2019-08-01     A       719\n",
       "1 2019-08-02     A       619\n",
       "2 2019-08-03     A       507\n",
       "3 2019-08-04     A       717\n",
       "4 2019-08-05     A       756"
      ]
     },
     "metadata": {},
     "output_type": "display_data"
    },
    {
     "data": {
      "text/html": [
       "<div>\n",
       "<style scoped>\n",
       "    .dataframe tbody tr th:only-of-type {\n",
       "        vertical-align: middle;\n",
       "    }\n",
       "\n",
       "    .dataframe tbody tr th {\n",
       "        vertical-align: top;\n",
       "    }\n",
       "\n",
       "    .dataframe thead th {\n",
       "        text-align: right;\n",
       "    }\n",
       "</style>\n",
       "<table border=\"1\" class=\"dataframe\">\n",
       "  <thead>\n",
       "    <tr style=\"text-align: right;\">\n",
       "      <th></th>\n",
       "      <th>date</th>\n",
       "      <th>group</th>\n",
       "      <th>buyers</th>\n",
       "      <th>orders</th>\n",
       "      <th>revenue</th>\n",
       "      <th>visitors</th>\n",
       "    </tr>\n",
       "  </thead>\n",
       "  <tbody>\n",
       "    <tr>\n",
       "      <th>0</th>\n",
       "      <td>2019-08-01</td>\n",
       "      <td>A</td>\n",
       "      <td>19</td>\n",
       "      <td>23</td>\n",
       "      <td>142779</td>\n",
       "      <td>719</td>\n",
       "    </tr>\n",
       "    <tr>\n",
       "      <th>1</th>\n",
       "      <td>2019-08-01</td>\n",
       "      <td>B</td>\n",
       "      <td>17</td>\n",
       "      <td>17</td>\n",
       "      <td>59758</td>\n",
       "      <td>713</td>\n",
       "    </tr>\n",
       "    <tr>\n",
       "      <th>2</th>\n",
       "      <td>2019-08-02</td>\n",
       "      <td>A</td>\n",
       "      <td>36</td>\n",
       "      <td>42</td>\n",
       "      <td>234381</td>\n",
       "      <td>1338</td>\n",
       "    </tr>\n",
       "    <tr>\n",
       "      <th>3</th>\n",
       "      <td>2019-08-02</td>\n",
       "      <td>B</td>\n",
       "      <td>39</td>\n",
       "      <td>40</td>\n",
       "      <td>221801</td>\n",
       "      <td>1294</td>\n",
       "    </tr>\n",
       "    <tr>\n",
       "      <th>4</th>\n",
       "      <td>2019-08-03</td>\n",
       "      <td>A</td>\n",
       "      <td>60</td>\n",
       "      <td>66</td>\n",
       "      <td>346854</td>\n",
       "      <td>1845</td>\n",
       "    </tr>\n",
       "  </tbody>\n",
       "</table>\n",
       "</div>"
      ],
      "text/plain": [
       "        date group  buyers  orders  revenue  visitors\n",
       "0 2019-08-01     A      19      23   142779       719\n",
       "1 2019-08-01     B      17      17    59758       713\n",
       "2 2019-08-02     A      36      42   234381      1338\n",
       "3 2019-08-02     B      39      40   221801      1294\n",
       "4 2019-08-03     A      60      66   346854      1845"
      ]
     },
     "metadata": {},
     "output_type": "display_data"
    },
    {
     "data": {
      "text/plain": [
       "<matplotlib.legend.Legend at 0x7f64c00c7a00>"
      ]
     },
     "execution_count": 14,
     "metadata": {},
     "output_type": "execute_result"
    },
    {
     "data": {
      "image/png": "[encoded data removed]",
      "text/plain": [
       "<Figure size 864x504 with 1 Axes>"
      ]
     },
     "metadata": {
      "needs_background": "light"
     },
     "output_type": "display_data"
    }
   ],
   "source": [
    "orders['date'] = orders['date'].map(\n",
    "    lambda x:  pd.to_datetime(x)\n",
    ")\n",
    "\n",
    "visitors['date'] = visitors['date'].map(\n",
    "    lambda x: pd.to_datetime(x)\n",
    ")\n",
    "\n",
    "display(orders.head(5))\n",
    "display(visitors.head(5))\n",
    "\n",
    "datesGroups = orders[['date', 'group']].drop_duplicates()\n",
    "\n",
    "ordersAggregated = datesGroups.apply(\n",
    "    lambda x: orders[np.logical_and(orders['date'] <= x['date'], orders['group'] == x['group'])].agg({\n",
    "'date' : 'max',\n",
    "'group' : 'max',\n",
    "'visitor_id' : pd.Series.nunique,\n",
    "'transaction_id' : pd.Series.nunique,\n",
    "'revenue' : 'sum'}), axis=1).sort_values(by=['date','group'])\n",
    "\n",
    "visitorsAggregated = datesGroups.apply(lambda x: visitors[np.logical_and(visitors['date'] <= x['date'], visitors['group'] == x['group'])].agg({'date' : 'max', 'group' : 'max', 'visitors' : 'sum'}), axis=1).sort_values(by=['date','group'])\n",
    "\n",
    "cumulativeData = ordersAggregated.merge(visitorsAggregated, left_on=['date', 'group'], right_on=['date', 'group'])\n",
    "\n",
    "cumulativeData.columns = ['date', 'group', 'buyers', 'orders' , 'revenue', 'visitors']\n",
    "display(cumulativeData.head(5))\n",
    "\n",
    "# датафрейм с кумулятивным количеством заказов и кумулятивной выручкой по дням в группе А\n",
    "cumulativeRevenueA = cumulativeData[cumulativeData['group']=='A'][['date','revenue', 'orders']]\n",
    "\n",
    "# датафрейм с кумулятивным количеством заказов и кумулятивной выручкой по дням в группе B\n",
    "cumulativeRevenueB = cumulativeData[cumulativeData['group']=='B'][['date','revenue', 'orders']]\n",
    "\n",
    "plt.rcParams[\"figure.figsize\"] = (12,7)\n",
    "# Строим график выручки группы А\n",
    "plt.plot(cumulativeRevenueA['date'], cumulativeRevenueA['revenue'], label='A')\n",
    "\n",
    "# Строим график выручки группы B\n",
    "plt.plot(cumulativeRevenueB['date'], cumulativeRevenueB['revenue'], label='B')\n",
    "\n",
    "plt.rcParams.update({'font.size': 12})\n",
    "\n",
    "plt.grid(which='major')\n",
    "\n",
    "plt.xlabel('date', fontsize=16)\n",
    "plt.ylabel(r'revenue (millions)', fontsize=16)\n",
    "\n",
    "plt.title(r'Сumulative revenue')\n",
    "\n",
    "plt.legend() "
   ]
  },
  {
   "attachments": {},
   "cell_type": "markdown",
   "metadata": {},
   "source": [
    "Выручка почти равномерно увеличивается в течение всего теста.\n",
    "\n",
    "Однако в одной точке, выручка группы В резко выросла. Это может сигнализировать о всплеске числа заказов, либо о появлении очень дорогих заказов в выборке. \n",
    "\n",
    "Выручка группы А увеличивается равномерно."
   ]
  },
  {
   "attachments": {},
   "cell_type": "markdown",
   "metadata": {},
   "source": [
    "2 Построим график кумулятивного среднего чека по группам. Сделаем выводы и предположения."
   ]
  },
  {
   "cell_type": "code",
   "execution_count": 15,
   "metadata": {},
   "outputs": [
    {
     "data": {
      "text/plain": [
       "<matplotlib.legend.Legend at 0x7f64b8038cd0>"
      ]
     },
     "execution_count": 15,
     "metadata": {},
     "output_type": "execute_result"
    },
    {
     "data": {
      "image/png": "[encoded data removed]",
      "text/plain": [
       "<Figure size 864x504 with 1 Axes>"
      ]
     },
     "metadata": {
      "needs_background": "light"
     },
     "output_type": "display_data"
    }
   ],
   "source": [
    "plt.rcParams[\"figure.figsize\"] = (12,7)\n",
    "\n",
    "plt.plot(cumulativeRevenueA['date'], cumulativeRevenueA['revenue']/cumulativeRevenueA['orders'], label='A')\n",
    "plt.plot(cumulativeRevenueB['date'], cumulativeRevenueB['revenue']/cumulativeRevenueB['orders'], label='B')\n",
    "\n",
    "plt.rcParams.update({'font.size': 12})\n",
    "\n",
    "plt.grid(which='major')\n",
    "\n",
    "plt.xlabel('date', fontsize=16)\n",
    "plt.ylabel(r'average check (thousands)', fontsize=16)\n",
    "\n",
    "plt.title(r'Сumulative average check')\n",
    "\n",
    "plt.legend() "
   ]
  },
  {
   "attachments": {},
   "cell_type": "markdown",
   "metadata": {},
   "source": [
    "Суммы средних чеков в обеих группах нестабильны. Есть резкие спады и подъёмы. Это возможно в следствии выборосов - аномальных сумм. В одной точке группы В сумма среднего чека резко выросла, затем плавно пошла на спад. \n",
    "\n",
    "Под конец теста на протяжении 2х недель средние чеки группы В, после резкого подъёма, стабильно выше, чем в группе А."
   ]
  },
  {
   "attachments": {},
   "cell_type": "markdown",
   "metadata": {},
   "source": [
    "3 Построим график относительного изменения кумулятивного среднего чека группы B к группе A. Сделаем выводы и предположения."
   ]
  },
  {
   "cell_type": "code",
   "execution_count": 16,
   "metadata": {
    "scrolled": true
   },
   "outputs": [
    {
     "data": {
      "text/plain": [
       "Text(0.5, 1.0, 'Относительное изменение кумулятивного среднего чека группы B к группе A')"
      ]
     },
     "execution_count": 16,
     "metadata": {},
     "output_type": "execute_result"
    },
    {
     "data": {
      "image/png": "[encoded data removed]",
      "text/plain": [
       "<Figure size 864x504 with 1 Axes>"
      ]
     },
     "metadata": {
      "needs_background": "light"
     },
     "output_type": "display_data"
    }
   ],
   "source": [
    "# собираем данные в одном датафрейме\n",
    "mergedCumulativeRevenue = cumulativeRevenueA.merge(cumulativeRevenueB, left_on='date', right_on='date', how='left', suffixes=['A', 'B'])\n",
    "\n",
    "plt.rcParams[\"figure.figsize\"] = (12,7)\n",
    "# cтроим отношение средних чеков\n",
    "plt.plot(mergedCumulativeRevenue['date'], (mergedCumulativeRevenue['revenueB']/mergedCumulativeRevenue['ordersB'])/(mergedCumulativeRevenue['revenueA']/mergedCumulativeRevenue['ordersA'])-1)\n",
    "\n",
    "# добавляем ось X\n",
    "plt.axhline(y=0, color='black', linestyle='--')\n",
    "\n",
    "plt.rcParams.update({'font.size': 12})\n",
    "\n",
    "plt.grid(which='major')\n",
    "\n",
    "plt.xlabel('дата', fontsize=16)\n",
    "plt.ylabel(r'коэффициент', fontsize=16)\n",
    "\n",
    "plt.title(r'Относительное изменение кумулятивного среднего чека группы B к группе A')"
   ]
  },
  {
   "attachments": {},
   "cell_type": "markdown",
   "metadata": {},
   "source": [
    "В нескольких точках график различия между сегментами резко скачет. Это может говорить о выбросах - о крупных суммах и крупных заказах."
   ]
  },
  {
   "attachments": {},
   "cell_type": "markdown",
   "metadata": {},
   "source": [
    "4 Построим график кумулятивного среднего количества заказов на посетителя по группам. Сделаем выводы и предположения."
   ]
  },
  {
   "cell_type": "code",
   "execution_count": 17,
   "metadata": {
    "scrolled": false
   },
   "outputs": [
    {
     "data": {
      "text/plain": [
       "<matplotlib.legend.Legend at 0x7f64b7c5a250>"
      ]
     },
     "execution_count": 17,
     "metadata": {},
     "output_type": "execute_result"
    },
    {
     "data": {
      "image/png": "[encoded data removed]",
      "text/plain": [
       "<Figure size 864x504 with 1 Axes>"
      ]
     },
     "metadata": {
      "needs_background": "light"
     },
     "output_type": "display_data"
    }
   ],
   "source": [
    "# считаем кумулятивную конверсию\n",
    "cumulativeData['conversion'] = cumulativeData['orders']/cumulativeData['visitors']\n",
    "\n",
    "# отделяем данные по группе A\n",
    "cumulativeDataA = cumulativeData[cumulativeData['group']=='A']\n",
    "\n",
    "# отделяем данные по группе B\n",
    "cumulativeDataB = cumulativeData[cumulativeData['group']=='B']\n",
    "# строим графики\n",
    "plt.plot(cumulativeDataA['date'], cumulativeDataA['conversion'], label='A')\n",
    "plt.plot(cumulativeDataB['date'], cumulativeDataB['conversion'], label='B')\n",
    "\n",
    "plt.rcParams.update({'font.size': 12})\n",
    "\n",
    "plt.grid(which='major')\n",
    "\n",
    "plt.xlabel('дата', fontsize=16)\n",
    "plt.ylabel(r'коэффициент', fontsize=16)\n",
    "\n",
    "plt.title(r'Кумулятивное среднее количество заказов на посетителя по группам')\n",
    "\n",
    "plt.legend()"
   ]
  },
  {
   "cell_type": "code",
   "execution_count": 18,
   "metadata": {},
   "outputs": [
    {
     "data": {
      "text/plain": [
       "0.026870768645692805"
      ]
     },
     "execution_count": 18,
     "metadata": {},
     "output_type": "execute_result"
    }
   ],
   "source": [
    "cumulativeDataA['conversion'].mean()"
   ]
  },
  {
   "cell_type": "code",
   "execution_count": 19,
   "metadata": {},
   "outputs": [
    {
     "data": {
      "text/plain": [
       "0.029282455691133105"
      ]
     },
     "execution_count": 19,
     "metadata": {},
     "output_type": "execute_result"
    }
   ],
   "source": [
    "cumulativeDataB['conversion'].mean()"
   ]
  },
  {
   "attachments": {},
   "cell_type": "markdown",
   "metadata": {},
   "source": [
    "Кумулятивное среднее количество заказов на посетителя выше у группы В. \n",
    "\n",
    "Также наблюдаются резкие скачки графиков. Скорее всего, по причине того, что в разные дни было разное количество заказов.\n",
    "\n",
    "График первой недели можно не учитывать, так как в это время происходит стабилизация условий проведения теста. "
   ]
  },
  {
   "attachments": {},
   "cell_type": "markdown",
   "metadata": {},
   "source": [
    "5 Построим график относительного изменения кумулятивного среднего количества заказов на посетителя группы B к группе A. Сделаем выводы и предположения."
   ]
  },
  {
   "cell_type": "code",
   "execution_count": 20,
   "metadata": {
    "scrolled": true
   },
   "outputs": [
    {
     "data": {
      "text/plain": [
       "<matplotlib.legend.Legend at 0x7f64b7bea8b0>"
      ]
     },
     "execution_count": 20,
     "metadata": {},
     "output_type": "execute_result"
    },
    {
     "data": {
      "image/png": "[encoded data removed]",
      "text/plain": [
       "<Figure size 864x504 with 1 Axes>"
      ]
     },
     "metadata": {
      "needs_background": "light"
     },
     "output_type": "display_data"
    }
   ],
   "source": [
    "mergedCumulativeConversions = cumulativeDataA[['date','conversion']].merge(cumulativeDataB[['date','conversion']], left_on='date', right_on='date', how='left', suffixes=['A', 'B'])\n",
    "\n",
    "plt.plot(mergedCumulativeConversions['date'], mergedCumulativeConversions['conversionB']/mergedCumulativeConversions['conversionA']-1, label=\"Относительный прирост конверсии группы B относительно группы A\")\n",
    "plt.legend()\n",
    "\n",
    "plt.axhline(y=0, color='black', linestyle='--')\n",
    "plt.axhline(y=0.2, color='grey', linestyle='--')\n",
    "\n",
    "plt.rcParams.update({'font.size': 12})\n",
    "\n",
    "plt.grid(which='major')\n",
    "\n",
    "plt.xlabel('дата', fontsize=16)\n",
    "plt.ylabel(r'коэффициент', fontsize=16)\n",
    "\n",
    "plt.title(r'Относительное изменение кумулятивной конверсии группы B к группе A')\n",
    "\n",
    "plt.legend()"
   ]
  },
  {
   "attachments": {},
   "cell_type": "markdown",
   "metadata": {},
   "source": [
    "В целом, относительный прирост конверсии группы В относительно группы А достаточно высок."
   ]
  },
  {
   "attachments": {},
   "cell_type": "markdown",
   "metadata": {},
   "source": [
    "### Анализ выбросов и всплесков"
   ]
  },
  {
   "attachments": {},
   "cell_type": "markdown",
   "metadata": {},
   "source": [
    "6 Построим точечный график количества заказов по пользователям. Сделаем выводы и предположения."
   ]
  },
  {
   "cell_type": "code",
   "execution_count": 21,
   "metadata": {
    "scrolled": true
   },
   "outputs": [
    {
     "data": {
      "text/html": [
       "<div>\n",
       "<style scoped>\n",
       "    .dataframe tbody tr th:only-of-type {\n",
       "        vertical-align: middle;\n",
       "    }\n",
       "\n",
       "    .dataframe tbody tr th {\n",
       "        vertical-align: top;\n",
       "    }\n",
       "\n",
       "    .dataframe thead th {\n",
       "        text-align: right;\n",
       "    }\n",
       "</style>\n",
       "<table border=\"1\" class=\"dataframe\">\n",
       "  <thead>\n",
       "    <tr style=\"text-align: right;\">\n",
       "      <th></th>\n",
       "      <th>visitor_id</th>\n",
       "      <th>count_orders</th>\n",
       "    </tr>\n",
       "  </thead>\n",
       "  <tbody>\n",
       "    <tr>\n",
       "      <th>908</th>\n",
       "      <td>3967698036</td>\n",
       "      <td>3</td>\n",
       "    </tr>\n",
       "    <tr>\n",
       "      <th>55</th>\n",
       "      <td>249864742</td>\n",
       "      <td>3</td>\n",
       "    </tr>\n",
       "    <tr>\n",
       "      <th>478</th>\n",
       "      <td>2108163459</td>\n",
       "      <td>3</td>\n",
       "    </tr>\n",
       "    <tr>\n",
       "      <th>687</th>\n",
       "      <td>2988190573</td>\n",
       "      <td>3</td>\n",
       "    </tr>\n",
       "    <tr>\n",
       "      <th>890</th>\n",
       "      <td>3908431265</td>\n",
       "      <td>3</td>\n",
       "    </tr>\n",
       "  </tbody>\n",
       "</table>\n",
       "</div>"
      ],
      "text/plain": [
       "     visitor_id  count_orders\n",
       "908  3967698036             3\n",
       "55    249864742             3\n",
       "478  2108163459             3\n",
       "687  2988190573             3\n",
       "890  3908431265             3"
      ]
     },
     "metadata": {},
     "output_type": "display_data"
    },
    {
     "data": {
      "text/plain": [
       "Text(0.5, 1.0, 'Количество заказов по пользователям')"
      ]
     },
     "execution_count": 21,
     "metadata": {},
     "output_type": "execute_result"
    },
    {
     "data": {
      "image/png": "[encoded data removed]",
      "text/plain": [
       "<Figure size 864x504 with 1 Axes>"
      ]
     },
     "metadata": {
      "needs_background": "light"
     },
     "output_type": "display_data"
    }
   ],
   "source": [
    "ordersByUsers = (\n",
    "    orders.groupby('visitor_id', as_index=False)\n",
    "    .agg({'transaction_id': 'nunique'})\n",
    ")\n",
    "ordersByUsers.columns = ['visitor_id', 'count_orders']\n",
    "\n",
    "display(ordersByUsers.sort_values(by='count_orders', ascending=False).head())\n",
    "\n",
    "# серия из чисел от 0 до количества наблюдений в ordersByUsers\n",
    "x_values = pd.Series(range(0, len(ordersByUsers)))\n",
    "\n",
    "plt.scatter(x_values, ordersByUsers['count_orders']) \n",
    "\n",
    "plt.rcParams.update({'font.size': 14})\n",
    "\n",
    "plt.grid(which='major')\n",
    "\n",
    "plt.xlabel('количество наблюдений', fontsize=16)\n",
    "plt.ylabel(r'количество заказов', fontsize=16)\n",
    "\n",
    "plt.title(r'Количество заказов по пользователям')"
   ]
  },
  {
   "attachments": {},
   "cell_type": "markdown",
   "metadata": {},
   "source": [
    "По графику видно, что болшьше всего пользователи делают 1 заказ. 2 заказа и более делают редко."
   ]
  },
  {
   "cell_type": "code",
   "execution_count": 22,
   "metadata": {},
   "outputs": [
    {
     "data": {
      "text/plain": [
       "Text(0.5, 1.0, 'Гистрограмма количества заказов на пользователя')"
      ]
     },
     "execution_count": 22,
     "metadata": {},
     "output_type": "execute_result"
    },
    {
     "data": {
      "image/png": "[encoded data removed]",
      "text/plain": [
       "<Figure size 864x432 with 1 Axes>"
      ]
     },
     "metadata": {
      "needs_background": "light"
     },
     "output_type": "display_data"
    }
   ],
   "source": [
    "plt.rcParams[\"figure.figsize\"] = (12,6)\n",
    "\n",
    "plt.grid(which='major')\n",
    "plt.hist(ordersByUsers['count_orders'], bins = 10)\n",
    "\n",
    "plt.xlabel('количество заказов', fontsize=16)\n",
    "plt.ylabel(r'количество наблюдений', fontsize=16)\n",
    "plt.title('Гистрограмма количества заказов на пользователя')"
   ]
  },
  {
   "attachments": {},
   "cell_type": "markdown",
   "metadata": {},
   "source": [
    "7 Посчитаем 95-й и 99-й перцентили количества заказов на пользователя. Выберем границу для определения аномальных пользователей."
   ]
  },
  {
   "cell_type": "code",
   "execution_count": 23,
   "metadata": {
    "scrolled": true
   },
   "outputs": [
    {
     "name": "stdout",
     "output_type": "stream",
     "text": [
      "[1. 1. 2.]\n"
     ]
    }
   ],
   "source": [
    "print(np.percentile(ordersByUsers['count_orders'], [90, 95.0, 99])) "
   ]
  },
  {
   "attachments": {},
   "cell_type": "markdown",
   "metadata": {},
   "source": [
    "Только 3% пользователей делают больше 3х заказов включительно, а около 1% посетителей делают больше 4х заказов."
   ]
  },
  {
   "cell_type": "code",
   "execution_count": 24,
   "metadata": {
    "scrolled": false
   },
   "outputs": [
    {
     "data": {
      "text/plain": [
       "visitor_id      0\n",
       "count_orders    0\n",
       "dtype: int64"
      ]
     },
     "execution_count": 24,
     "metadata": {},
     "output_type": "execute_result"
    }
   ],
   "source": [
    "ordersByUsers.query('count_orders > 3').count()"
   ]
  },
  {
   "attachments": {},
   "cell_type": "markdown",
   "metadata": {},
   "source": [
    "Граница для определения аномальных пользователей - 3 заказа, то есть посетители, сделавшие больше 3х заказов будут исключены, это примерно 1.2% данных."
   ]
  },
  {
   "attachments": {},
   "cell_type": "markdown",
   "metadata": {},
   "source": [
    "8 Построим точечный график стоимостей заказов. Сделаем выводы и предположения."
   ]
  },
  {
   "cell_type": "code",
   "execution_count": 25,
   "metadata": {
    "scrolled": true
   },
   "outputs": [
    {
     "data": {
      "text/plain": [
       "8300.814960629921"
      ]
     },
     "execution_count": 25,
     "metadata": {},
     "output_type": "execute_result"
    },
    {
     "data": {
      "image/png": "[encoded data removed]",
      "text/plain": [
       "<Figure size 864x432 with 1 Axes>"
      ]
     },
     "metadata": {
      "needs_background": "light"
     },
     "output_type": "display_data"
    }
   ],
   "source": [
    "orders['date'] =orders['date'].map(lambda x:  pd.to_datetime(x))\n",
    "\n",
    "#print(orders.sort_values(by='revenue', ascending=False).head(10))\n",
    "\n",
    "x_values = pd.Series(range(0, len(orders)))\n",
    "\n",
    "plt.scatter(x_values, orders['revenue'])\n",
    "\n",
    "plt.rcParams[\"figure.figsize\"] = (12,6)\n",
    "\n",
    "plt.grid(which='major')\n",
    "plt.title('График стоимостей заказов.')\n",
    "\n",
    "orders['revenue'].mean()"
   ]
  },
  {
   "attachments": {},
   "cell_type": "markdown",
   "metadata": {},
   "source": [
    "<div class=\"alert alert-info\">Так как есть несколько сильных выбросов, сложно определить стоимость основной части заказов. Удалим выбросы и снова построим такой график. </div>"
   ]
  },
  {
   "cell_type": "code",
   "execution_count": 26,
   "metadata": {},
   "outputs": [
    {
     "data": {
      "text/plain": [
       "Text(0.5, 1.0, 'Гистрограмма количества заказов на пользователя')"
      ]
     },
     "execution_count": 26,
     "metadata": {},
     "output_type": "execute_result"
    },
    {
     "data": {
      "image/png": "[encoded data removed]",
      "text/plain": [
       "<Figure size 864x432 with 1 Axes>"
      ]
     },
     "metadata": {
      "needs_background": "light"
     },
     "output_type": "display_data"
    }
   ],
   "source": [
    "r = orders.loc[orders['revenue'] < 200000]\n",
    "\n",
    "plt.rcParams[\"figure.figsize\"] = (12,6)\n",
    "\n",
    "plt.grid(which='major')\n",
    "\n",
    "x_values = pd.Series(range(0, len(r)))\n",
    "\n",
    "plt.scatter(x_values, r['revenue'])\n",
    "\n",
    "plt.title('Гистрограмма количества заказов на пользователя')"
   ]
  },
  {
   "attachments": {},
   "cell_type": "markdown",
   "metadata": {},
   "source": [
    "<div class=\"alert alert-info\"> <b></b> БОльшая часть заказов имеет стоимость до 20 000, но заказов больше этой суммы тоже много. </div>"
   ]
  },
  {
   "cell_type": "code",
   "execution_count": 27,
   "metadata": {},
   "outputs": [
    {
     "data": {
      "text/plain": [
       "8300.814960629921"
      ]
     },
     "execution_count": 27,
     "metadata": {},
     "output_type": "execute_result"
    }
   ],
   "source": [
    "orders['revenue'].mean()"
   ]
  },
  {
   "attachments": {},
   "cell_type": "markdown",
   "metadata": {},
   "source": [
    "Наблюдаются выбросы, средняя стоимость заказов - 8 350.\n",
    "\n",
    "Теперь определим максимальную стоимость заказов, которые войдут в исследование."
   ]
  },
  {
   "attachments": {},
   "cell_type": "markdown",
   "metadata": {},
   "source": [
    "9 Посчитаем 95-й и 99-й перцентили стоимости заказов. Выберем границу для определения аномальных заказов."
   ]
  },
  {
   "cell_type": "code",
   "execution_count": 28,
   "metadata": {
    "scrolled": true
   },
   "outputs": [
    {
     "name": "stdout",
     "output_type": "stream",
     "text": [
      "[26785. 53904.]\n"
     ]
    }
   ],
   "source": [
    "print(np.percentile(orders['revenue'], [95, 99]))\n",
    "#print(orders['revenue'].max())\n",
    "#orders.query('revenue >= 58233.2').sort_values(by='revenue')\n",
    "#orders.query('revenue < 18168').sort_values(by='revenue', ascending = False)"
   ]
  },
  {
   "cell_type": "code",
   "execution_count": 29,
   "metadata": {},
   "outputs": [
    {
     "data": {
      "text/plain": [
       "transaction_id    18\n",
       "visitor_id        18\n",
       "date              18\n",
       "revenue           18\n",
       "group             18\n",
       "dtype: int64"
      ]
     },
     "execution_count": 29,
     "metadata": {},
     "output_type": "execute_result"
    }
   ],
   "source": [
    "orders.query('revenue > 45000').count()"
   ]
  },
  {
   "attachments": {},
   "cell_type": "markdown",
   "metadata": {},
   "source": [
    "Отавим заказы, с крайней стоимостью в 45 000. Удалим около 2% данных."
   ]
  },
  {
   "attachments": {},
   "cell_type": "markdown",
   "metadata": {},
   "source": [
    "### Принятие решения по результатам теста"
   ]
  },
  {
   "attachments": {},
   "cell_type": "markdown",
   "metadata": {},
   "source": [
    "10 Посчитаем статистическую значимость различий в среднем количестве заказов на посетителя между группами по «сырым» данным. Сделаем выводы и предположения."
   ]
  },
  {
   "attachments": {},
   "cell_type": "markdown",
   "metadata": {},
   "source": [
    "Сформулируем нулевую и альтернативную гипотезы:\n",
    "\n",
    "Н0: \"Статистически значимых различий между группами нет.\"\n",
    "\n",
    "\n",
    "H1: \"Есть статистически значимые различия между группами.\""
   ]
  },
  {
   "cell_type": "code",
   "execution_count": 30,
   "metadata": {
    "scrolled": true
   },
   "outputs": [
    {
     "data": {
      "text/html": [
       "<div>\n",
       "<style scoped>\n",
       "    .dataframe tbody tr th:only-of-type {\n",
       "        vertical-align: middle;\n",
       "    }\n",
       "\n",
       "    .dataframe tbody tr th {\n",
       "        vertical-align: top;\n",
       "    }\n",
       "\n",
       "    .dataframe thead th {\n",
       "        text-align: right;\n",
       "    }\n",
       "</style>\n",
       "<table border=\"1\" class=\"dataframe\">\n",
       "  <thead>\n",
       "    <tr style=\"text-align: right;\">\n",
       "      <th></th>\n",
       "      <th>date</th>\n",
       "      <th>ordersPerDateA</th>\n",
       "      <th>revenuePerDateA</th>\n",
       "      <th>ordersPerDateB</th>\n",
       "      <th>revenuePerDateB</th>\n",
       "      <th>ordersCummulativeA</th>\n",
       "      <th>revenueCummulativeA</th>\n",
       "      <th>ordersCummulativeB</th>\n",
       "      <th>revenueCummulativeB</th>\n",
       "      <th>visitorsPerDateA</th>\n",
       "      <th>visitorsPerDateB</th>\n",
       "      <th>visitorsCummulativeA</th>\n",
       "      <th>visitorsCummulativeB</th>\n",
       "    </tr>\n",
       "  </thead>\n",
       "  <tbody>\n",
       "    <tr>\n",
       "      <th>0</th>\n",
       "      <td>2019-08-01</td>\n",
       "      <td>23</td>\n",
       "      <td>142779</td>\n",
       "      <td>17</td>\n",
       "      <td>59758</td>\n",
       "      <td>23</td>\n",
       "      <td>142779</td>\n",
       "      <td>17</td>\n",
       "      <td>59758</td>\n",
       "      <td>719</td>\n",
       "      <td>713</td>\n",
       "      <td>719</td>\n",
       "      <td>713</td>\n",
       "    </tr>\n",
       "    <tr>\n",
       "      <th>1</th>\n",
       "      <td>2019-08-02</td>\n",
       "      <td>19</td>\n",
       "      <td>91602</td>\n",
       "      <td>23</td>\n",
       "      <td>162043</td>\n",
       "      <td>42</td>\n",
       "      <td>234381</td>\n",
       "      <td>40</td>\n",
       "      <td>221801</td>\n",
       "      <td>619</td>\n",
       "      <td>581</td>\n",
       "      <td>1338</td>\n",
       "      <td>1294</td>\n",
       "    </tr>\n",
       "    <tr>\n",
       "      <th>2</th>\n",
       "      <td>2019-08-03</td>\n",
       "      <td>24</td>\n",
       "      <td>112473</td>\n",
       "      <td>14</td>\n",
       "      <td>67049</td>\n",
       "      <td>66</td>\n",
       "      <td>346854</td>\n",
       "      <td>54</td>\n",
       "      <td>288850</td>\n",
       "      <td>507</td>\n",
       "      <td>509</td>\n",
       "      <td>1845</td>\n",
       "      <td>1803</td>\n",
       "    </tr>\n",
       "    <tr>\n",
       "      <th>3</th>\n",
       "      <td>2019-08-04</td>\n",
       "      <td>11</td>\n",
       "      <td>41176</td>\n",
       "      <td>14</td>\n",
       "      <td>96890</td>\n",
       "      <td>77</td>\n",
       "      <td>388030</td>\n",
       "      <td>68</td>\n",
       "      <td>385740</td>\n",
       "      <td>717</td>\n",
       "      <td>770</td>\n",
       "      <td>2562</td>\n",
       "      <td>2573</td>\n",
       "    </tr>\n",
       "    <tr>\n",
       "      <th>4</th>\n",
       "      <td>2019-08-05</td>\n",
       "      <td>22</td>\n",
       "      <td>86383</td>\n",
       "      <td>21</td>\n",
       "      <td>89908</td>\n",
       "      <td>99</td>\n",
       "      <td>474413</td>\n",
       "      <td>89</td>\n",
       "      <td>475648</td>\n",
       "      <td>756</td>\n",
       "      <td>707</td>\n",
       "      <td>3318</td>\n",
       "      <td>3280</td>\n",
       "    </tr>\n",
       "  </tbody>\n",
       "</table>\n",
       "</div>"
      ],
      "text/plain": [
       "        date  ordersPerDateA  revenuePerDateA  ordersPerDateB  \\\n",
       "0 2019-08-01              23           142779              17   \n",
       "1 2019-08-02              19            91602              23   \n",
       "2 2019-08-03              24           112473              14   \n",
       "3 2019-08-04              11            41176              14   \n",
       "4 2019-08-05              22            86383              21   \n",
       "\n",
       "   revenuePerDateB  ordersCummulativeA  revenueCummulativeA  \\\n",
       "0            59758                  23               142779   \n",
       "1           162043                  42               234381   \n",
       "2            67049                  66               346854   \n",
       "3            96890                  77               388030   \n",
       "4            89908                  99               474413   \n",
       "\n",
       "   ordersCummulativeB  revenueCummulativeB  visitorsPerDateA  \\\n",
       "0                  17                59758               719   \n",
       "1                  40               221801               619   \n",
       "2                  54               288850               507   \n",
       "3                  68               385740               717   \n",
       "4                  89               475648               756   \n",
       "\n",
       "   visitorsPerDateB  visitorsCummulativeA  visitorsCummulativeB  \n",
       "0               713                   719                   713  \n",
       "1               581                  1338                  1294  \n",
       "2               509                  1845                  1803  \n",
       "3               770                  2562                  2573  \n",
       "4               707                  3318                  3280  "
      ]
     },
     "metadata": {},
     "output_type": "display_data"
    },
    {
     "name": "stdout",
     "output_type": "stream",
     "text": [
      "p_value: 0.01102\n",
      "Различие в средних: 0.160\n"
     ]
    }
   ],
   "source": [
    "alpha = 0.05\n",
    "\n",
    "visitorsADaily = visitors[visitors['group'] == 'A'][['date', 'visitors']]\n",
    "visitorsADaily.columns = ['date', 'visitorsPerDateA']\n",
    "\n",
    "visitorsACummulative = visitorsADaily.apply(\n",
    "    lambda x: visitorsADaily[visitorsADaily['date'] <= x['date']].agg(\n",
    "        {'date': 'max', 'visitorsPerDateA': 'sum'}\n",
    "    ),\n",
    "    axis=1,\n",
    ")\n",
    "visitorsACummulative.columns = ['date', 'visitorsCummulativeA']\n",
    "\n",
    "visitorsBDaily = visitors[visitors['group'] == 'B'][['date', 'visitors']]\n",
    "visitorsBDaily.columns = ['date', 'visitorsPerDateB']\n",
    "\n",
    "visitorsBCummulative = visitorsBDaily.apply(\n",
    "    lambda x: visitorsBDaily[visitorsBDaily['date'] <= x['date']].agg(\n",
    "        {'date': 'max', 'visitorsPerDateB': 'sum'}\n",
    "    ),\n",
    "    axis=1,\n",
    ")\n",
    "visitorsBCummulative.columns = ['date', 'visitorsCummulativeB']\n",
    "\n",
    "ordersADaily = (\n",
    "    orders[orders['group'] == 'A'][['date', 'transaction_id', 'visitor_id', 'revenue']]\n",
    "    .groupby('date', as_index=False)\n",
    "    .agg({'transaction_id': pd.Series.nunique, 'revenue': 'sum'})\n",
    ")\n",
    "ordersADaily.columns = ['date', 'ordersPerDateA', 'revenuePerDateA']\n",
    "\n",
    "ordersACummulative = ordersADaily.apply(\n",
    "    lambda x: ordersADaily[ordersADaily['date'] <= x['date']].agg(\n",
    "        {'date': 'max', 'ordersPerDateA': 'sum', 'revenuePerDateA': 'sum'}\n",
    "    ),\n",
    "    axis=1,\n",
    ").sort_values(by=['date'])\n",
    "ordersACummulative.columns = [\n",
    "    'date',\n",
    "    'ordersCummulativeA',\n",
    "    'revenueCummulativeA',\n",
    "]\n",
    "\n",
    "ordersBDaily = (\n",
    "    orders[orders['group'] == 'B'][['date', 'transaction_id', 'visitor_id', 'revenue']]\n",
    "    .groupby('date', as_index=False)\n",
    "    .agg({'transaction_id': pd.Series.nunique, 'revenue': 'sum'})\n",
    ")\n",
    "ordersBDaily.columns = ['date', 'ordersPerDateB', 'revenuePerDateB']\n",
    "\n",
    "ordersBCummulative = ordersBDaily.apply(\n",
    "    lambda x: ordersBDaily[ordersBDaily['date'] <= x['date']].agg(\n",
    "        {'date': 'max', 'ordersPerDateB': 'sum', 'revenuePerDateB': 'sum'}\n",
    "    ),\n",
    "    axis=1,\n",
    ").sort_values(by=['date'])\n",
    "ordersBCummulative.columns = [\n",
    "    'date',\n",
    "    'ordersCummulativeB',\n",
    "    'revenueCummulativeB',\n",
    "]\n",
    "\n",
    "data = (\n",
    "    ordersADaily.merge(\n",
    "        ordersBDaily, left_on='date', right_on='date', how='left'\n",
    "    )\n",
    "    .merge(ordersACummulative, left_on='date', right_on='date', how='left')\n",
    "    .merge(ordersBCummulative, left_on='date', right_on='date', how='left')\n",
    "    .merge(visitorsADaily, left_on='date', right_on='date', how='left')\n",
    "    .merge(visitorsBDaily, left_on='date', right_on='date', how='left')\n",
    "    .merge(visitorsACummulative, left_on='date', right_on='date', how='left')\n",
    "    .merge(visitorsBCummulative, left_on='date', right_on='date', how='left')\n",
    ")\n",
    "\n",
    "display(data.head(5))\n",
    "\n",
    "ordersByUsersA = (\n",
    "    orders[orders['group'] == 'A']\n",
    "    .groupby('visitor_id', as_index=False)\n",
    "    .agg({'transaction_id': pd.Series.nunique})\n",
    ")\n",
    "ordersByUsersA.columns = ['visitor_id', 'count_orders']\n",
    "\n",
    "ordersByUsersB = (\n",
    "    orders[orders['group'] == 'B']\n",
    "    .groupby('visitor_id', as_index=False)\n",
    "    .agg({'transaction_id': pd.Series.nunique})\n",
    ")\n",
    "ordersByUsersB.columns = ['visitor_id', 'count_orders']\n",
    "\n",
    "sampleA = pd.concat(\n",
    "    [\n",
    "        ordersByUsersA['count_orders'],\n",
    "        pd.Series(\n",
    "            0,\n",
    "            index=np.arange(\n",
    "                data['visitorsPerDateA'].sum() - len(ordersByUsersA['count_orders'])\n",
    "            ),\n",
    "            name='orders',\n",
    "        ),\n",
    "    ],\n",
    "    axis=0,\n",
    ")\n",
    "\n",
    "sampleB = pd.concat(\n",
    "    [\n",
    "        ordersByUsersB['count_orders'],\n",
    "        pd.Series(\n",
    "            0,\n",
    "            index=np.arange(\n",
    "                data['visitorsPerDateB'].sum() - len(ordersByUsersB['count_orders'])\n",
    "            ),\n",
    "            name='orders',\n",
    "        ),\n",
    "    ],\n",
    "    axis=0,\n",
    ")\n",
    "\n",
    "print(\"p_value:\", \"{0:.5f}\".format(stats.mannwhitneyu(sampleA, sampleB)[1]))\n",
    "\n",
    "\n",
    "print(\"Различие в средних:\", \"{0:.3f}\".format((data['ordersPerDateB'].sum()/data['visitorsPerDateB'].sum())/(data['ordersPerDateA'].sum()/data['visitorsPerDateA'].sum())-1))"
   ]
  },
  {
   "attachments": {},
   "cell_type": "markdown",
   "metadata": {},
   "source": [
    "Первое число — p-value = 0.01679 меньше 0.05. Значит, нулевую гипотезу о том, что статистически значимых различий в среднем числе заказов между группами нет, отвергаем. \n",
    "\n",
    "Относительный выигрыш группы B равен 13.8% "
   ]
  },
  {
   "attachments": {},
   "cell_type": "markdown",
   "metadata": {},
   "source": [
    " Среднее количество заказов на посетителя в группе В больше, чем в группе А."
   ]
  },
  {
   "attachments": {},
   "cell_type": "markdown",
   "metadata": {},
   "source": [
    "11 Посчитаем статистическую значимость различий в среднем чеке заказа между группами по «сырым» данным. Сделаем выводы и предположения."
   ]
  },
  {
   "attachments": {},
   "cell_type": "markdown",
   "metadata": {},
   "source": [
    "Сформулируем нулевую и альтернативную гипотезы:\n",
    "\n",
    "Н0: \"Статистически значимых различий между группами нет.\"\n",
    "\n",
    "H1: \"Есть статистически значимые различия между группами.\""
   ]
  },
  {
   "cell_type": "code",
   "execution_count": 31,
   "metadata": {},
   "outputs": [
    {
     "name": "stdout",
     "output_type": "stream",
     "text": [
      "p-value: 0.829\n",
      "Oтносительное различие среднего чека между сегментами: 0.287\n"
     ]
    }
   ],
   "source": [
    "alpha = 0.05\n",
    "print(\"p-value:\", '{0:.3f}'.format(stats.mannwhitneyu(orders[orders['group']=='A']['revenue'], orders[orders['group']=='B']['revenue'])[1]))\n",
    "print(\"Oтносительное различие среднего чека между сегментами:\", '{0:.3f}'.format(orders[orders['group']=='B']['revenue'].mean()/orders[orders['group']=='A']['revenue'].mean()-1))"
   ]
  },
  {
   "attachments": {},
   "cell_type": "markdown",
   "metadata": {},
   "source": [
    "P-value значительно больше 0.05. Значит, причин отвергать нулевую гипотезу и считать, что в среднем чеке есть различия, нет.\n",
    "\n",
    "Разница между группами примерно 26%"
   ]
  },
  {
   "attachments": {},
   "cell_type": "markdown",
   "metadata": {},
   "source": [
    "12 Посчитаем статистическую значимость различий в среднем количестве заказов на посетителя между группами по «очищенным» данным. Сделаем выводы и предположения."
   ]
  },
  {
   "attachments": {},
   "cell_type": "markdown",
   "metadata": {},
   "source": [
    "Сформулируем нулевую и альтернативную гипотезы:\n",
    "\n",
    "Н0: \"Статистически значимых различий между группами нет.\"\n",
    "\n",
    "H1: \"Есть статистически значимые различия между группами.\""
   ]
  },
  {
   "cell_type": "code",
   "execution_count": 32,
   "metadata": {
    "scrolled": true
   },
   "outputs": [
    {
     "name": "stdout",
     "output_type": "stream",
     "text": [
      "568     113298937\n",
      "1099    148427295\n",
      "461     154576532\n",
      "928     204675465\n",
      "33      249864742\n",
      "Name: visitor_id, dtype: int64\n",
      "p-value: 0.01885\n",
      "Различия в среднем количестве заказов на посетителя между группами по «очищенным» данным: 0.171\n"
     ]
    }
   ],
   "source": [
    "alpha = 0.05\n",
    "\n",
    "usersWithManyOrders = pd.concat(\n",
    "    [\n",
    "        ordersByUsersA[ordersByUsersA['count_orders'] > 2]['visitor_id'],\n",
    "        ordersByUsersB[ordersByUsersB['count_orders'] > 2]['visitor_id'],\n",
    "    ],\n",
    "    axis=0,\n",
    ")\n",
    "usersWithExpensiveOrders = orders[orders['revenue'] > 25000]['visitor_id']\n",
    "abnormalUsers = (\n",
    "    pd.concat([usersWithManyOrders, usersWithExpensiveOrders], axis=0)\n",
    "    .drop_duplicates()\n",
    "    .sort_values()\n",
    ")\n",
    "print(abnormalUsers.head(5))\n",
    "\n",
    "sampleAFiltered = pd.concat(\n",
    "    [\n",
    "        ordersByUsersA[\n",
    "            np.logical_not(ordersByUsersA['visitor_id'].isin(abnormalUsers))\n",
    "        ]['count_orders'],\n",
    "        pd.Series(\n",
    "            0,\n",
    "            index=np.arange(\n",
    "                data['visitorsPerDateA'].sum() - len(ordersByUsersA['count_orders'])\n",
    "            ),\n",
    "            name='orders',\n",
    "        ),\n",
    "    ],\n",
    "    axis=0,\n",
    ")\n",
    "\n",
    "sampleBFiltered = pd.concat(\n",
    "    [\n",
    "        ordersByUsersB[\n",
    "            np.logical_not(ordersByUsersB['visitor_id'].isin(abnormalUsers))\n",
    "        ]['count_orders'],\n",
    "        pd.Series(\n",
    "            0,\n",
    "            index=np.arange(\n",
    "                data['visitorsPerDateB'].sum() - len(ordersByUsersB['count_orders'])\n",
    "            ),\n",
    "            name='orders',\n",
    "        ),\n",
    "    ],\n",
    "    axis=0,\n",
    ")\n",
    "\n",
    "print(\"p-value:\", '{0:.5f}'.format(stats.mannwhitneyu(sampleAFiltered, sampleBFiltered)[1]))\n",
    "print(\"Различия в среднем количестве заказов на посетителя между группами по «очищенным» данным:\", '{0:.3f}'.format(sampleBFiltered.mean()/sampleAFiltered.mean()-1)) "
   ]
  },
  {
   "attachments": {},
   "cell_type": "markdown",
   "metadata": {},
   "source": [
    "p-value меньше 0.05, значит отвергаем нулевую гипотезу, различия в среднем количестве заказов на посетителя между группами есть!\n",
    "\n",
    "В группе В на 15% больше заказов на 1 пользователя."
   ]
  },
  {
   "attachments": {},
   "cell_type": "markdown",
   "metadata": {},
   "source": [
    "13 Посчитаем статистическую значимость различий в среднем чеке заказа между группами по «очищенным» данным. Сделаем выводы и предположения."
   ]
  },
  {
   "attachments": {},
   "cell_type": "markdown",
   "metadata": {},
   "source": [
    "Сформулируем нулевую и альтернативную гипотезы:\n",
    "\n",
    "Н0: \"Статистически значимых различий между группами нет.\"\n",
    "\n",
    "H1: \"Есть статистически значимые различия между группами.\""
   ]
  },
  {
   "cell_type": "code",
   "execution_count": 33,
   "metadata": {},
   "outputs": [
    {
     "name": "stdout",
     "output_type": "stream",
     "text": [
      "p-value: 0.475\n",
      "Различия в среднем чеке заказа между группами по «очищенным» данным:-0.088\n"
     ]
    }
   ],
   "source": [
    "alpha = 0.05\n",
    "\n",
    "print(\"p-value:\", '{0:.3f}'.format(stats.mannwhitneyu(orders[np.logical_and(orders['group'] == 'A',\n",
    "                                                                np.logical_not(orders['visitor_id'].isin(abnormalUsers)),)]['revenue'],\n",
    "            orders[\n",
    "                np.logical_and(\n",
    "                    orders['group'] == 'B',\n",
    "                    np.logical_not(orders['visitor_id'].isin(abnormalUsers)),\n",
    "                )\n",
    "            ]['revenue'],\n",
    "        )[1]\n",
    "    )\n",
    ")\n",
    "\n",
    "print(\"Различия в среднем чеке заказа между группами по «очищенным» данным:\"\n",
    "    \"{0:.3f}\".format(\n",
    "        orders[\n",
    "            np.logical_and(\n",
    "                orders['group'] == 'B',\n",
    "                np.logical_not(orders['visitor_id'].isin(abnormalUsers)),\n",
    "            )\n",
    "        ]['revenue'].mean()\n",
    "        / orders[\n",
    "            np.logical_and(\n",
    "                orders['group'] == 'A',\n",
    "                np.logical_not(orders['visitor_id'].isin(abnormalUsers)),\n",
    "            )\n",
    "        ]['revenue'].mean()\n",
    "        - 1\n",
    "    )\n",
    ")"
   ]
  },
  {
   "attachments": {},
   "cell_type": "markdown",
   "metadata": {},
   "source": [
    "p-value больше 0.05, значит гипотезу о том, что различий в среднем чеке заказа между группами нет, отвергнуть не получилось. Разница между группами сократилась с 26% до 7%."
   ]
  },
  {
   "attachments": {},
   "cell_type": "markdown",
   "metadata": {},
   "source": [
    "Мы избавились от выбросов, поэтому получили более точный результат и сократилось различие средних. При этом наблюдаемые различия не являются значимыми при таком уровне значимости."
   ]
  },
  {
   "attachments": {},
   "cell_type": "markdown",
   "metadata": {},
   "source": [
    "<div class=\"alert alert-info\"> Примем решение по результатам теста и объясним его. Варианты решений: \n",
    "1. Остановить тест, зафиксировать победу одной из групп. \n",
    "2. Остановить тест, зафиксировать отсутствие различий между группами.\n",
    "3. Продолжить тест.</div>"
   ]
  },
  {
   "attachments": {},
   "cell_type": "markdown",
   "metadata": {},
   "source": [
    "<div class=\"alert alert-info\">Вывод: в группе В на человека приходится больше заказов, чем в группе А, а вот средний чек в обеих группах примерно одинаков.\n",
    "\n",
    "Из этого можно сказать, что группа В победила и тест можно останавливать.</div>"
   ]
  },
  {
   "attachments": {},
   "cell_type": "markdown",
   "metadata": {},
   "source": [
    "<div class=\"alert alert-info\">В ходе исследования мы приоретизировали гипотезы, избавились от аномалий в данных, проанализировали результаты А/B-теста с помощью кумулятивных метрик и измерений статистических значимостей, а также приняли верное решение - остановить A/B-тест.\n",
    "\n",
    "Результат анализа А/B-теста: средний чек в группе B не изменился относительно контрольной группы А, а вот количество заказов на одного пользователя в группе В значительно больше, чем в группе А. Это говорит о том, что благодаря внесённым изменениям пользователи стали делать больше заказов, это значит, что суммарная выручка будет гораздо больше, чем до внесения изменений.\n",
    "Можно сделать вывод, что изменения в интернет-магазине эффективны.</div>"
   ]
  }
 ],
 "metadata": {
  "ExecuteTimeLog": [
   {
    "duration": 485,
    "start_time": "2022-12-07T09:56:59.918Z"
   },
   {
    "duration": 71,
    "start_time": "2022-12-07T10:04:16.667Z"
   },
   {
    "duration": 165,
    "start_time": "2022-12-07T10:05:23.391Z"
   },
   {
    "duration": 20,
    "start_time": "2022-12-07T10:06:30.227Z"
   },
   {
    "duration": 79,
    "start_time": "2022-12-07T10:06:58.265Z"
   },
   {
    "duration": 14,
    "start_time": "2022-12-07T10:07:22.270Z"
   },
   {
    "duration": 13,
    "start_time": "2022-12-07T10:08:24.901Z"
   },
   {
    "duration": 14,
    "start_time": "2022-12-07T10:08:57.708Z"
   },
   {
    "duration": 16,
    "start_time": "2022-12-07T10:09:03.061Z"
   },
   {
    "duration": 15,
    "start_time": "2022-12-07T10:09:22.444Z"
   },
   {
    "duration": 16,
    "start_time": "2022-12-07T10:09:28.349Z"
   },
   {
    "duration": 13,
    "start_time": "2022-12-07T10:09:36.700Z"
   },
   {
    "duration": 13,
    "start_time": "2022-12-07T10:09:54.874Z"
   },
   {
    "duration": 9,
    "start_time": "2022-12-07T10:10:23.630Z"
   },
   {
    "duration": 4,
    "start_time": "2022-12-07T10:10:39.308Z"
   },
   {
    "duration": 5,
    "start_time": "2022-12-07T10:10:56.187Z"
   },
   {
    "duration": 4,
    "start_time": "2022-12-07T10:17:06.175Z"
   },
   {
    "duration": 4,
    "start_time": "2022-12-07T10:17:13.341Z"
   },
   {
    "duration": 7,
    "start_time": "2022-12-07T10:17:29.177Z"
   },
   {
    "duration": 8,
    "start_time": "2022-12-07T10:17:50.629Z"
   },
   {
    "duration": 12,
    "start_time": "2022-12-07T10:18:19.582Z"
   },
   {
    "duration": 7,
    "start_time": "2022-12-07T10:19:15.232Z"
   },
   {
    "duration": 9,
    "start_time": "2022-12-07T10:19:54.094Z"
   },
   {
    "duration": 10,
    "start_time": "2022-12-07T10:20:04.866Z"
   },
   {
    "duration": 11,
    "start_time": "2022-12-07T10:21:37.701Z"
   },
   {
    "duration": 10,
    "start_time": "2022-12-07T10:21:46.577Z"
   },
   {
    "duration": 12,
    "start_time": "2022-12-07T10:22:01.204Z"
   },
   {
    "duration": 4,
    "start_time": "2022-12-07T10:22:07.453Z"
   },
   {
    "duration": 7,
    "start_time": "2022-12-07T10:22:16.136Z"
   },
   {
    "duration": 7,
    "start_time": "2022-12-07T10:22:21.136Z"
   },
   {
    "duration": 3,
    "start_time": "2022-12-07T10:22:30.174Z"
   },
   {
    "duration": 100,
    "start_time": "2022-12-07T10:22:30.179Z"
   },
   {
    "duration": 10,
    "start_time": "2022-12-07T10:22:30.281Z"
   },
   {
    "duration": 33,
    "start_time": "2022-12-07T10:22:30.292Z"
   },
   {
    "duration": 35,
    "start_time": "2022-12-07T10:22:30.328Z"
   },
   {
    "duration": 26,
    "start_time": "2022-12-07T10:22:30.364Z"
   },
   {
    "duration": 16,
    "start_time": "2022-12-07T10:22:30.392Z"
   },
   {
    "duration": 20,
    "start_time": "2022-12-07T10:22:30.410Z"
   },
   {
    "duration": 908,
    "start_time": "2022-12-07T10:22:30.434Z"
   },
   {
    "duration": 713,
    "start_time": "2022-12-07T10:22:37.141Z"
   },
   {
    "duration": 3,
    "start_time": "2022-12-07T10:22:45.102Z"
   },
   {
    "duration": 73,
    "start_time": "2022-12-07T10:22:45.917Z"
   },
   {
    "duration": 11,
    "start_time": "2022-12-07T10:22:46.052Z"
   },
   {
    "duration": 15,
    "start_time": "2022-12-07T10:22:46.181Z"
   },
   {
    "duration": 14,
    "start_time": "2022-12-07T10:22:46.852Z"
   },
   {
    "duration": 13,
    "start_time": "2022-12-07T10:22:46.998Z"
   },
   {
    "duration": 6,
    "start_time": "2022-12-07T10:22:47.781Z"
   },
   {
    "duration": 6,
    "start_time": "2022-12-07T10:22:48.420Z"
   },
   {
    "duration": 756,
    "start_time": "2022-12-07T10:22:49.212Z"
   },
   {
    "duration": 5,
    "start_time": "2022-12-07T10:23:01.452Z"
   },
   {
    "duration": 2,
    "start_time": "2022-12-07T10:57:53.442Z"
   },
   {
    "duration": 78,
    "start_time": "2022-12-07T10:57:53.446Z"
   },
   {
    "duration": 10,
    "start_time": "2022-12-07T10:57:53.572Z"
   },
   {
    "duration": 45,
    "start_time": "2022-12-07T10:57:53.585Z"
   },
   {
    "duration": 26,
    "start_time": "2022-12-07T10:57:53.632Z"
   },
   {
    "duration": 19,
    "start_time": "2022-12-07T10:57:53.661Z"
   },
   {
    "duration": 8,
    "start_time": "2022-12-07T10:57:53.682Z"
   },
   {
    "duration": 13,
    "start_time": "2022-12-07T10:57:53.692Z"
   },
   {
    "duration": 26,
    "start_time": "2022-12-07T10:57:53.707Z"
   },
   {
    "duration": 53,
    "start_time": "2022-12-07T16:18:45.541Z"
   },
   {
    "duration": 417,
    "start_time": "2022-12-07T16:18:48.617Z"
   },
   {
    "duration": 216,
    "start_time": "2022-12-07T16:18:50.974Z"
   },
   {
    "duration": 13,
    "start_time": "2022-12-07T16:18:51.870Z"
   },
   {
    "duration": 28,
    "start_time": "2022-12-07T16:18:52.367Z"
   },
   {
    "duration": 15,
    "start_time": "2022-12-07T16:18:52.735Z"
   },
   {
    "duration": 12,
    "start_time": "2022-12-07T16:18:53.039Z"
   },
   {
    "duration": 5,
    "start_time": "2022-12-07T16:18:53.591Z"
   },
   {
    "duration": 6,
    "start_time": "2022-12-07T16:18:53.892Z"
   },
   {
    "duration": 4,
    "start_time": "2022-12-07T16:18:54.354Z"
   },
   {
    "duration": 15,
    "start_time": "2022-12-07T16:36:41.654Z"
   },
   {
    "duration": 28,
    "start_time": "2022-12-07T16:36:58.381Z"
   },
   {
    "duration": 8,
    "start_time": "2022-12-07T16:37:11.759Z"
   },
   {
    "duration": 8,
    "start_time": "2022-12-07T16:42:00.962Z"
   },
   {
    "duration": 8,
    "start_time": "2022-12-07T16:42:03.669Z"
   },
   {
    "duration": 372,
    "start_time": "2022-12-07T17:09:48.299Z"
   },
   {
    "duration": 81,
    "start_time": "2022-12-10T16:55:36.973Z"
   },
   {
    "duration": 865,
    "start_time": "2022-12-10T16:55:54.317Z"
   },
   {
    "duration": 254,
    "start_time": "2022-12-10T16:55:56.341Z"
   },
   {
    "duration": 16,
    "start_time": "2022-12-10T16:55:56.813Z"
   },
   {
    "duration": 26,
    "start_time": "2022-12-10T16:55:57.302Z"
   },
   {
    "duration": 15,
    "start_time": "2022-12-10T16:55:57.478Z"
   },
   {
    "duration": 19,
    "start_time": "2022-12-10T16:55:57.654Z"
   },
   {
    "duration": 8,
    "start_time": "2022-12-10T16:55:58.041Z"
   },
   {
    "duration": 8,
    "start_time": "2022-12-10T16:55:58.198Z"
   },
   {
    "duration": 6,
    "start_time": "2022-12-10T16:55:58.360Z"
   },
   {
    "duration": 13,
    "start_time": "2022-12-10T16:55:58.904Z"
   },
   {
    "duration": 10,
    "start_time": "2022-12-10T16:55:59.271Z"
   },
   {
    "duration": 251,
    "start_time": "2022-12-10T16:56:00.315Z"
   },
   {
    "duration": 195,
    "start_time": "2022-12-10T16:59:17.092Z"
   },
   {
    "duration": 256,
    "start_time": "2022-12-10T17:00:03.424Z"
   },
   {
    "duration": 195,
    "start_time": "2022-12-10T17:00:58.019Z"
   },
   {
    "duration": 188,
    "start_time": "2022-12-10T17:01:24.434Z"
   },
   {
    "duration": 187,
    "start_time": "2022-12-10T17:02:08.024Z"
   },
   {
    "duration": 208,
    "start_time": "2022-12-10T17:03:01.519Z"
   },
   {
    "duration": 192,
    "start_time": "2022-12-10T17:04:55.179Z"
   },
   {
    "duration": 236,
    "start_time": "2022-12-10T17:05:17.259Z"
   },
   {
    "duration": 364,
    "start_time": "2022-12-10T17:05:47.485Z"
   },
   {
    "duration": 69,
    "start_time": "2022-12-10T17:05:53.889Z"
   },
   {
    "duration": 46,
    "start_time": "2022-12-10T17:10:09.702Z"
   },
   {
    "duration": 53,
    "start_time": "2022-12-10T17:11:31.299Z"
   },
   {
    "duration": 352,
    "start_time": "2022-12-10T17:12:02.225Z"
   },
   {
    "duration": 271,
    "start_time": "2022-12-10T17:22:39.769Z"
   },
   {
    "duration": 214,
    "start_time": "2022-12-10T17:23:52.030Z"
   },
   {
    "duration": 245,
    "start_time": "2022-12-10T17:23:59.316Z"
   },
   {
    "duration": 158,
    "start_time": "2022-12-10T17:24:13.341Z"
   },
   {
    "duration": 195,
    "start_time": "2022-12-10T17:26:33.121Z"
   },
   {
    "duration": 172,
    "start_time": "2022-12-10T17:26:42.759Z"
   },
   {
    "duration": 178,
    "start_time": "2022-12-10T17:27:06.301Z"
   },
   {
    "duration": 173,
    "start_time": "2022-12-10T17:27:39.252Z"
   },
   {
    "duration": 191,
    "start_time": "2022-12-10T17:30:22.101Z"
   },
   {
    "duration": 168,
    "start_time": "2022-12-10T17:33:33.548Z"
   },
   {
    "duration": 299,
    "start_time": "2022-12-10T17:38:36.931Z"
   },
   {
    "duration": 6,
    "start_time": "2022-12-10T17:44:42.100Z"
   },
   {
    "duration": 207,
    "start_time": "2022-12-10T17:45:14.948Z"
   },
   {
    "duration": 145,
    "start_time": "2022-12-10T17:45:31.312Z"
   },
   {
    "duration": 153,
    "start_time": "2022-12-10T17:45:36.680Z"
   },
   {
    "duration": 163,
    "start_time": "2022-12-10T17:45:48.790Z"
   },
   {
    "duration": 293,
    "start_time": "2022-12-10T17:47:24.979Z"
   },
   {
    "duration": 193,
    "start_time": "2022-12-10T17:47:40.317Z"
   },
   {
    "duration": 307,
    "start_time": "2022-12-10T17:51:29.032Z"
   },
   {
    "duration": 316,
    "start_time": "2022-12-10T17:51:39.432Z"
   },
   {
    "duration": 45,
    "start_time": "2022-12-10T20:13:23.919Z"
   },
   {
    "duration": 7,
    "start_time": "2022-12-10T20:13:33.248Z"
   },
   {
    "duration": 7,
    "start_time": "2022-12-10T20:13:43.559Z"
   },
   {
    "duration": 8,
    "start_time": "2022-12-10T20:13:50.295Z"
   },
   {
    "duration": 714,
    "start_time": "2022-12-10T20:13:56.984Z"
   },
   {
    "duration": 233,
    "start_time": "2022-12-10T20:13:57.758Z"
   },
   {
    "duration": 11,
    "start_time": "2022-12-10T20:13:57.993Z"
   },
   {
    "duration": 15,
    "start_time": "2022-12-10T20:13:58.090Z"
   },
   {
    "duration": 14,
    "start_time": "2022-12-10T20:13:58.250Z"
   },
   {
    "duration": 13,
    "start_time": "2022-12-10T20:13:58.426Z"
   },
   {
    "duration": 6,
    "start_time": "2022-12-10T20:13:58.796Z"
   },
   {
    "duration": 7,
    "start_time": "2022-12-10T20:13:58.988Z"
   },
   {
    "duration": 5,
    "start_time": "2022-12-10T20:13:59.180Z"
   },
   {
    "duration": 11,
    "start_time": "2022-12-10T20:13:59.778Z"
   },
   {
    "duration": 9,
    "start_time": "2022-12-10T20:14:00.253Z"
   },
   {
    "duration": 411,
    "start_time": "2022-12-10T20:14:01.455Z"
   },
   {
    "duration": 251,
    "start_time": "2022-12-10T20:14:02.016Z"
   },
   {
    "duration": 310,
    "start_time": "2022-12-10T20:14:02.530Z"
   },
   {
    "duration": 172,
    "start_time": "2022-12-10T20:14:02.966Z"
   },
   {
    "duration": 347,
    "start_time": "2022-12-10T20:14:03.378Z"
   },
   {
    "duration": 34,
    "start_time": "2022-12-10T20:14:04.434Z"
   },
   {
    "duration": 13,
    "start_time": "2022-12-10T20:14:23.014Z"
   },
   {
    "duration": 13,
    "start_time": "2022-12-10T20:15:20.360Z"
   },
   {
    "duration": 113,
    "start_time": "2022-12-10T20:16:17.487Z"
   },
   {
    "duration": 320,
    "start_time": "2022-12-10T20:16:46.573Z"
   },
   {
    "duration": 122,
    "start_time": "2022-12-10T20:16:58.741Z"
   },
   {
    "duration": 134,
    "start_time": "2022-12-10T20:18:17.847Z"
   },
   {
    "duration": 12,
    "start_time": "2022-12-10T20:18:41.736Z"
   },
   {
    "duration": 117,
    "start_time": "2022-12-10T20:18:53.991Z"
   },
   {
    "duration": 5,
    "start_time": "2022-12-10T20:19:04.046Z"
   },
   {
    "duration": 139,
    "start_time": "2022-12-10T20:23:09.217Z"
   },
   {
    "duration": 1157,
    "start_time": "2022-12-10T20:23:14.028Z"
   },
   {
    "duration": 103,
    "start_time": "2022-12-10T20:23:54.696Z"
   },
   {
    "duration": 112,
    "start_time": "2022-12-10T20:24:05.383Z"
   },
   {
    "duration": 114,
    "start_time": "2022-12-10T20:24:23.592Z"
   },
   {
    "duration": 14,
    "start_time": "2022-12-10T20:24:44.116Z"
   },
   {
    "duration": 126,
    "start_time": "2022-12-10T20:25:34.278Z"
   },
   {
    "duration": 127,
    "start_time": "2022-12-10T20:25:41.633Z"
   },
   {
    "duration": 8,
    "start_time": "2022-12-10T20:26:02.125Z"
   },
   {
    "duration": 180,
    "start_time": "2022-12-10T20:26:15.290Z"
   },
   {
    "duration": 104,
    "start_time": "2022-12-10T20:26:41.043Z"
   },
   {
    "duration": 1112,
    "start_time": "2022-12-10T20:26:51.588Z"
   },
   {
    "duration": 110,
    "start_time": "2022-12-10T20:27:19.599Z"
   },
   {
    "duration": 1090,
    "start_time": "2022-12-10T20:27:31.941Z"
   },
   {
    "duration": 1119,
    "start_time": "2022-12-10T20:27:41.779Z"
   },
   {
    "duration": 124,
    "start_time": "2022-12-10T20:29:00.768Z"
   },
   {
    "duration": 117,
    "start_time": "2022-12-10T20:29:57.144Z"
   },
   {
    "duration": 116,
    "start_time": "2022-12-10T20:30:50.847Z"
   },
   {
    "duration": 969,
    "start_time": "2022-12-10T20:40:10.176Z"
   },
   {
    "duration": 285,
    "start_time": "2022-12-10T20:40:20.856Z"
   },
   {
    "duration": 278,
    "start_time": "2022-12-10T20:41:27.707Z"
   },
   {
    "duration": 607,
    "start_time": "2022-12-10T20:42:31.965Z"
   },
   {
    "duration": 120,
    "start_time": "2022-12-10T20:42:37.435Z"
   },
   {
    "duration": 8,
    "start_time": "2022-12-10T20:43:58.593Z"
   },
   {
    "duration": 8,
    "start_time": "2022-12-10T20:44:02.474Z"
   },
   {
    "duration": 123,
    "start_time": "2022-12-10T20:44:08.244Z"
   },
   {
    "duration": 126,
    "start_time": "2022-12-10T20:51:43.958Z"
   },
   {
    "duration": 4,
    "start_time": "2022-12-10T20:52:23.213Z"
   },
   {
    "duration": 11,
    "start_time": "2022-12-10T20:56:41.119Z"
   },
   {
    "duration": 11,
    "start_time": "2022-12-10T20:56:53.839Z"
   },
   {
    "duration": 8,
    "start_time": "2022-12-10T20:57:09.733Z"
   },
   {
    "duration": 4,
    "start_time": "2022-12-10T20:57:32.298Z"
   },
   {
    "duration": 7,
    "start_time": "2022-12-10T20:58:45.973Z"
   },
   {
    "duration": 8,
    "start_time": "2022-12-10T20:59:00.682Z"
   },
   {
    "duration": 6,
    "start_time": "2022-12-10T20:59:28.607Z"
   },
   {
    "duration": 7,
    "start_time": "2022-12-10T20:59:50.092Z"
   },
   {
    "duration": 7,
    "start_time": "2022-12-10T21:00:02.100Z"
   },
   {
    "duration": 13,
    "start_time": "2022-12-10T21:00:09.519Z"
   },
   {
    "duration": 8,
    "start_time": "2022-12-10T21:00:18.922Z"
   },
   {
    "duration": 6,
    "start_time": "2022-12-10T21:00:24.366Z"
   },
   {
    "duration": 7,
    "start_time": "2022-12-10T21:00:48.325Z"
   },
   {
    "duration": 7,
    "start_time": "2022-12-10T21:00:54.578Z"
   },
   {
    "duration": 7,
    "start_time": "2022-12-10T21:01:27.343Z"
   },
   {
    "duration": 7,
    "start_time": "2022-12-10T21:01:34.407Z"
   },
   {
    "duration": 15,
    "start_time": "2022-12-10T21:02:09.743Z"
   },
   {
    "duration": 7,
    "start_time": "2022-12-10T21:02:15.370Z"
   },
   {
    "duration": 47,
    "start_time": "2022-12-10T21:02:24.114Z"
   },
   {
    "duration": 7,
    "start_time": "2022-12-10T21:02:34.267Z"
   },
   {
    "duration": 7,
    "start_time": "2022-12-10T21:03:26.694Z"
   },
   {
    "duration": 7,
    "start_time": "2022-12-10T21:03:32.599Z"
   },
   {
    "duration": 4,
    "start_time": "2022-12-10T21:04:07.141Z"
   },
   {
    "duration": 9,
    "start_time": "2022-12-10T21:04:29.172Z"
   },
   {
    "duration": 6,
    "start_time": "2022-12-10T21:04:42.276Z"
   },
   {
    "duration": 7,
    "start_time": "2022-12-10T21:05:06.956Z"
   },
   {
    "duration": 4,
    "start_time": "2022-12-10T21:07:38.856Z"
   },
   {
    "duration": 4,
    "start_time": "2022-12-10T21:07:45.968Z"
   },
   {
    "duration": 3,
    "start_time": "2022-12-10T21:08:45.074Z"
   },
   {
    "duration": 4,
    "start_time": "2022-12-10T21:08:58.834Z"
   },
   {
    "duration": 4,
    "start_time": "2022-12-10T21:09:05.692Z"
   },
   {
    "duration": 4,
    "start_time": "2022-12-10T21:09:10.494Z"
   },
   {
    "duration": 4,
    "start_time": "2022-12-10T21:09:15.479Z"
   },
   {
    "duration": 4,
    "start_time": "2022-12-10T21:09:18.492Z"
   },
   {
    "duration": 4,
    "start_time": "2022-12-10T21:09:21.620Z"
   },
   {
    "duration": 6,
    "start_time": "2022-12-10T21:10:06.605Z"
   },
   {
    "duration": 7,
    "start_time": "2022-12-10T21:11:23.091Z"
   },
   {
    "duration": 7,
    "start_time": "2022-12-10T21:11:36.630Z"
   },
   {
    "duration": 7,
    "start_time": "2022-12-10T21:12:53.257Z"
   },
   {
    "duration": 7,
    "start_time": "2022-12-10T21:13:05.377Z"
   },
   {
    "duration": 4,
    "start_time": "2022-12-10T21:14:11.259Z"
   },
   {
    "duration": 4,
    "start_time": "2022-12-10T21:14:20.136Z"
   },
   {
    "duration": 4,
    "start_time": "2022-12-10T21:14:35.955Z"
   },
   {
    "duration": 4,
    "start_time": "2022-12-10T21:14:42.414Z"
   },
   {
    "duration": 4,
    "start_time": "2022-12-10T21:14:54.470Z"
   },
   {
    "duration": 137,
    "start_time": "2022-12-10T21:15:07.431Z"
   },
   {
    "duration": 108,
    "start_time": "2022-12-10T21:15:18.383Z"
   },
   {
    "duration": 168,
    "start_time": "2022-12-10T21:16:57.580Z"
   },
   {
    "duration": 1133,
    "start_time": "2022-12-10T21:18:05.767Z"
   },
   {
    "duration": 242,
    "start_time": "2022-12-10T21:18:56.074Z"
   },
   {
    "duration": 176,
    "start_time": "2022-12-10T21:19:06.481Z"
   },
   {
    "duration": 171,
    "start_time": "2022-12-10T21:19:32.251Z"
   },
   {
    "duration": 10,
    "start_time": "2022-12-10T21:19:55.803Z"
   },
   {
    "duration": 9,
    "start_time": "2022-12-10T21:20:17.999Z"
   },
   {
    "duration": 10,
    "start_time": "2022-12-10T21:20:29.534Z"
   },
   {
    "duration": 3,
    "start_time": "2022-12-10T21:20:35.686Z"
   },
   {
    "duration": 10,
    "start_time": "2022-12-10T21:20:43.675Z"
   },
   {
    "duration": 105,
    "start_time": "2022-12-10T21:20:49.491Z"
   },
   {
    "duration": 12,
    "start_time": "2022-12-10T21:20:52.704Z"
   },
   {
    "duration": 183,
    "start_time": "2022-12-10T21:21:01.089Z"
   },
   {
    "duration": 129,
    "start_time": "2022-12-10T21:21:25.955Z"
   },
   {
    "duration": 171,
    "start_time": "2022-12-10T21:21:40.487Z"
   },
   {
    "duration": 8,
    "start_time": "2022-12-10T21:22:25.499Z"
   },
   {
    "duration": 52,
    "start_time": "2022-12-10T21:22:50.949Z"
   },
   {
    "duration": 162,
    "start_time": "2022-12-10T21:22:55.043Z"
   },
   {
    "duration": 4,
    "start_time": "2022-12-10T21:24:11.885Z"
   },
   {
    "duration": 84,
    "start_time": "2022-12-10T21:24:42.244Z"
   },
   {
    "duration": 9,
    "start_time": "2022-12-10T21:25:01.411Z"
   },
   {
    "duration": 74,
    "start_time": "2022-12-10T21:25:08.943Z"
   },
   {
    "duration": 40,
    "start_time": "2022-12-10T21:25:15.918Z"
   },
   {
    "duration": 37,
    "start_time": "2022-12-10T21:25:22.664Z"
   },
   {
    "duration": 40,
    "start_time": "2022-12-10T21:25:27.326Z"
   },
   {
    "duration": 13,
    "start_time": "2022-12-10T21:25:32.486Z"
   },
   {
    "duration": 11,
    "start_time": "2022-12-10T21:25:52.357Z"
   },
   {
    "duration": 13,
    "start_time": "2022-12-10T21:26:02.242Z"
   },
   {
    "duration": 18,
    "start_time": "2022-12-10T21:27:11.986Z"
   },
   {
    "duration": 18,
    "start_time": "2022-12-10T21:27:19.158Z"
   },
   {
    "duration": 15,
    "start_time": "2022-12-10T21:27:30.190Z"
   },
   {
    "duration": 15,
    "start_time": "2022-12-10T21:27:36.001Z"
   },
   {
    "duration": 13,
    "start_time": "2022-12-10T21:28:22.491Z"
   },
   {
    "duration": 11,
    "start_time": "2022-12-10T21:28:32.664Z"
   },
   {
    "duration": 10,
    "start_time": "2022-12-10T21:29:20.174Z"
   },
   {
    "duration": 10,
    "start_time": "2022-12-10T21:29:26.472Z"
   },
   {
    "duration": 14,
    "start_time": "2022-12-10T21:29:41.075Z"
   },
   {
    "duration": 17,
    "start_time": "2022-12-10T21:30:16.139Z"
   },
   {
    "duration": 16,
    "start_time": "2022-12-10T21:30:32.199Z"
   },
   {
    "duration": 15,
    "start_time": "2022-12-10T21:31:52.124Z"
   },
   {
    "duration": 15,
    "start_time": "2022-12-10T21:32:27.866Z"
   },
   {
    "duration": 205,
    "start_time": "2022-12-10T21:33:07.431Z"
   },
   {
    "duration": 132,
    "start_time": "2022-12-10T21:33:22.345Z"
   },
   {
    "duration": 159,
    "start_time": "2022-12-10T21:33:39.668Z"
   },
   {
    "duration": 150,
    "start_time": "2022-12-10T21:33:49.760Z"
   },
   {
    "duration": 115,
    "start_time": "2022-12-10T21:34:17.981Z"
   },
   {
    "duration": 256,
    "start_time": "2022-12-10T21:34:24.160Z"
   },
   {
    "duration": 144,
    "start_time": "2022-12-10T21:34:30.885Z"
   },
   {
    "duration": 148,
    "start_time": "2022-12-10T21:35:09.264Z"
   },
   {
    "duration": 142,
    "start_time": "2022-12-10T21:35:16.888Z"
   },
   {
    "duration": 141,
    "start_time": "2022-12-10T21:35:28.833Z"
   },
   {
    "duration": 135,
    "start_time": "2022-12-10T21:35:36.055Z"
   },
   {
    "duration": 117,
    "start_time": "2022-12-10T21:36:06.568Z"
   },
   {
    "duration": 132,
    "start_time": "2022-12-10T21:36:11.270Z"
   },
   {
    "duration": 4,
    "start_time": "2022-12-10T21:36:41.742Z"
   },
   {
    "duration": 16,
    "start_time": "2022-12-10T21:37:13.272Z"
   },
   {
    "duration": 4,
    "start_time": "2022-12-10T21:37:33.862Z"
   },
   {
    "duration": 8,
    "start_time": "2022-12-10T21:37:51.788Z"
   },
   {
    "duration": 53,
    "start_time": "2022-12-11T11:44:34.227Z"
   },
   {
    "duration": 10,
    "start_time": "2022-12-11T11:45:38.642Z"
   },
   {
    "duration": 9,
    "start_time": "2022-12-11T11:46:18.457Z"
   },
   {
    "duration": 821,
    "start_time": "2022-12-11T11:46:22.333Z"
   },
   {
    "duration": 217,
    "start_time": "2022-12-11T11:46:24.270Z"
   },
   {
    "duration": 12,
    "start_time": "2022-12-11T11:46:24.489Z"
   },
   {
    "duration": 17,
    "start_time": "2022-12-11T11:46:24.672Z"
   },
   {
    "duration": 16,
    "start_time": "2022-12-11T11:46:25.025Z"
   },
   {
    "duration": 12,
    "start_time": "2022-12-11T11:46:25.234Z"
   },
   {
    "duration": 6,
    "start_time": "2022-12-11T11:46:25.632Z"
   },
   {
    "duration": 8,
    "start_time": "2022-12-11T11:46:25.836Z"
   },
   {
    "duration": 4,
    "start_time": "2022-12-11T11:46:26.017Z"
   },
   {
    "duration": 10,
    "start_time": "2022-12-11T11:46:26.546Z"
   },
   {
    "duration": 8,
    "start_time": "2022-12-11T11:46:26.931Z"
   },
   {
    "duration": 393,
    "start_time": "2022-12-11T11:46:27.860Z"
   },
   {
    "duration": 268,
    "start_time": "2022-12-11T11:46:28.255Z"
   },
   {
    "duration": 366,
    "start_time": "2022-12-11T11:46:28.612Z"
   },
   {
    "duration": 189,
    "start_time": "2022-12-11T11:46:29.013Z"
   },
   {
    "duration": 341,
    "start_time": "2022-12-11T11:46:29.431Z"
   },
   {
    "duration": 119,
    "start_time": "2022-12-11T11:46:29.798Z"
   },
   {
    "duration": 5,
    "start_time": "2022-12-11T11:46:30.232Z"
   },
   {
    "duration": 9,
    "start_time": "2022-12-11T11:46:30.440Z"
   },
   {
    "duration": 139,
    "start_time": "2022-12-11T11:46:30.792Z"
   },
   {
    "duration": 156,
    "start_time": "2022-12-11T11:46:30.985Z"
   },
   {
    "duration": 4,
    "start_time": "2022-12-11T11:46:31.500Z"
   },
   {
    "duration": 166,
    "start_time": "2022-12-11T11:46:32.106Z"
   },
   {
    "duration": 110,
    "start_time": "2022-12-11T11:58:58.579Z"
   },
   {
    "duration": 107,
    "start_time": "2022-12-11T12:00:10.591Z"
   },
   {
    "duration": 163,
    "start_time": "2022-12-11T12:00:34.764Z"
   },
   {
    "duration": 337,
    "start_time": "2022-12-11T12:00:56.417Z"
   },
   {
    "duration": 470,
    "start_time": "2022-12-11T12:01:19.359Z"
   },
   {
    "duration": 362,
    "start_time": "2022-12-11T12:01:24.295Z"
   },
   {
    "duration": 12,
    "start_time": "2022-12-11T12:50:08.463Z"
   },
   {
    "duration": 1141,
    "start_time": "2022-12-11T12:57:41.725Z"
   },
   {
    "duration": 1143,
    "start_time": "2022-12-11T12:58:16.079Z"
   },
   {
    "duration": 10,
    "start_time": "2022-12-11T12:58:21.251Z"
   },
   {
    "duration": 9,
    "start_time": "2022-12-11T13:01:56.886Z"
   },
   {
    "duration": 1194,
    "start_time": "2022-12-11T13:06:25.145Z"
   },
   {
    "duration": 1117,
    "start_time": "2022-12-11T13:07:32.696Z"
   },
   {
    "duration": 34,
    "start_time": "2022-12-11T13:07:49.740Z"
   },
   {
    "duration": 15,
    "start_time": "2022-12-11T13:17:40.566Z"
   },
   {
    "duration": 14,
    "start_time": "2022-12-11T13:20:21.261Z"
   },
   {
    "duration": 16,
    "start_time": "2022-12-11T14:33:04.740Z"
   },
   {
    "duration": 73,
    "start_time": "2022-12-11T16:23:01.503Z"
   },
   {
    "duration": 10,
    "start_time": "2022-12-11T16:23:04.079Z"
   },
   {
    "duration": 9,
    "start_time": "2022-12-11T16:23:58.395Z"
   },
   {
    "duration": 10,
    "start_time": "2022-12-11T16:24:09.458Z"
   },
   {
    "duration": 4,
    "start_time": "2022-12-11T16:24:13.607Z"
   },
   {
    "duration": 6,
    "start_time": "2022-12-11T16:24:34.668Z"
   },
   {
    "duration": 7,
    "start_time": "2022-12-11T16:24:37.318Z"
   },
   {
    "duration": 9,
    "start_time": "2022-12-11T16:26:25.013Z"
   },
   {
    "duration": 397,
    "start_time": "2022-12-11T16:26:33.077Z"
   },
   {
    "duration": 512,
    "start_time": "2022-12-11T16:27:52.646Z"
   },
   {
    "duration": 181,
    "start_time": "2022-12-11T16:28:42.663Z"
   },
   {
    "duration": 236,
    "start_time": "2022-12-11T16:39:28.922Z"
   },
   {
    "duration": 217,
    "start_time": "2022-12-11T16:39:41.955Z"
   },
   {
    "duration": 182,
    "start_time": "2022-12-11T16:39:49.317Z"
   },
   {
    "duration": 4,
    "start_time": "2022-12-11T17:02:56.434Z"
   },
   {
    "duration": 4,
    "start_time": "2022-12-11T17:03:01.293Z"
   },
   {
    "duration": 5,
    "start_time": "2022-12-11T17:03:05.146Z"
   },
   {
    "duration": 5,
    "start_time": "2022-12-11T17:03:08.792Z"
   },
   {
    "duration": 4,
    "start_time": "2022-12-11T17:03:12.839Z"
   },
   {
    "duration": 4,
    "start_time": "2022-12-11T17:03:18.415Z"
   },
   {
    "duration": 5,
    "start_time": "2022-12-11T17:03:23.322Z"
   },
   {
    "duration": 4,
    "start_time": "2022-12-11T17:03:27.537Z"
   },
   {
    "duration": 5,
    "start_time": "2022-12-11T17:03:36.640Z"
   },
   {
    "duration": 6,
    "start_time": "2022-12-11T17:03:48.878Z"
   },
   {
    "duration": 5,
    "start_time": "2022-12-11T17:04:43.686Z"
   },
   {
    "duration": 130,
    "start_time": "2022-12-11T17:05:05.984Z"
   },
   {
    "duration": 7,
    "start_time": "2022-12-11T17:07:00.575Z"
   },
   {
    "duration": 12,
    "start_time": "2022-12-11T17:07:23.903Z"
   },
   {
    "duration": 7,
    "start_time": "2022-12-11T17:07:29.539Z"
   },
   {
    "duration": 4,
    "start_time": "2022-12-11T17:08:26.192Z"
   },
   {
    "duration": 5,
    "start_time": "2022-12-11T17:08:31.679Z"
   },
   {
    "duration": 5,
    "start_time": "2022-12-11T17:08:38.234Z"
   },
   {
    "duration": 4,
    "start_time": "2022-12-11T17:08:43.406Z"
   },
   {
    "duration": 10,
    "start_time": "2022-12-11T17:09:57.796Z"
   },
   {
    "duration": 7,
    "start_time": "2022-12-11T17:10:11.126Z"
   },
   {
    "duration": 40,
    "start_time": "2022-12-11T17:10:17.442Z"
   },
   {
    "duration": 8,
    "start_time": "2022-12-11T17:10:22.042Z"
   },
   {
    "duration": 7,
    "start_time": "2022-12-11T17:11:40.493Z"
   },
   {
    "duration": 8,
    "start_time": "2022-12-11T17:12:22.758Z"
   },
   {
    "duration": 7,
    "start_time": "2022-12-11T17:13:09.189Z"
   },
   {
    "duration": 7,
    "start_time": "2022-12-11T17:13:39.229Z"
   },
   {
    "duration": 8,
    "start_time": "2022-12-11T17:14:19.978Z"
   },
   {
    "duration": 8,
    "start_time": "2022-12-11T17:14:32.909Z"
   },
   {
    "duration": 5,
    "start_time": "2022-12-11T17:15:26.960Z"
   },
   {
    "duration": 8,
    "start_time": "2022-12-11T17:15:37.241Z"
   },
   {
    "duration": 8,
    "start_time": "2022-12-11T17:17:09.806Z"
   },
   {
    "duration": 8,
    "start_time": "2022-12-11T17:17:29.329Z"
   },
   {
    "duration": 20,
    "start_time": "2022-12-11T17:17:51.992Z"
   },
   {
    "duration": 8,
    "start_time": "2022-12-11T17:17:54.706Z"
   },
   {
    "duration": 9,
    "start_time": "2022-12-11T17:18:00.914Z"
   },
   {
    "duration": 8,
    "start_time": "2022-12-11T17:18:05.071Z"
   },
   {
    "duration": 7,
    "start_time": "2022-12-11T17:18:08.726Z"
   },
   {
    "duration": 8,
    "start_time": "2022-12-11T17:18:12.369Z"
   },
   {
    "duration": 8,
    "start_time": "2022-12-11T17:18:15.749Z"
   },
   {
    "duration": 8,
    "start_time": "2022-12-11T17:18:22.047Z"
   },
   {
    "duration": 8,
    "start_time": "2022-12-11T17:18:36.443Z"
   },
   {
    "duration": 9,
    "start_time": "2022-12-11T17:18:40.591Z"
   },
   {
    "duration": 172,
    "start_time": "2022-12-11T17:21:50.998Z"
   },
   {
    "duration": 143,
    "start_time": "2022-12-11T17:22:18.260Z"
   },
   {
    "duration": 10,
    "start_time": "2022-12-11T17:22:54.813Z"
   },
   {
    "duration": 5,
    "start_time": "2022-12-11T17:22:58.264Z"
   },
   {
    "duration": 5,
    "start_time": "2022-12-11T17:23:12.947Z"
   },
   {
    "duration": 5,
    "start_time": "2022-12-11T17:23:46.025Z"
   },
   {
    "duration": 9,
    "start_time": "2022-12-11T17:24:19.221Z"
   },
   {
    "duration": 9,
    "start_time": "2022-12-11T17:24:30.335Z"
   },
   {
    "duration": 6,
    "start_time": "2022-12-11T17:24:42.198Z"
   },
   {
    "duration": 9,
    "start_time": "2022-12-11T17:24:58.599Z"
   },
   {
    "duration": 14,
    "start_time": "2022-12-11T17:25:03.638Z"
   },
   {
    "duration": 9,
    "start_time": "2022-12-11T17:26:01.176Z"
   },
   {
    "duration": 9,
    "start_time": "2022-12-11T17:26:20.235Z"
   },
   {
    "duration": 7,
    "start_time": "2022-12-11T17:28:48.534Z"
   },
   {
    "duration": 4,
    "start_time": "2022-12-11T17:29:02.960Z"
   },
   {
    "duration": 10,
    "start_time": "2022-12-11T17:29:26.008Z"
   },
   {
    "duration": 9,
    "start_time": "2022-12-11T17:29:30.766Z"
   },
   {
    "duration": 10,
    "start_time": "2022-12-11T17:29:51.127Z"
   },
   {
    "duration": 9,
    "start_time": "2022-12-11T17:29:56.335Z"
   },
   {
    "duration": 13,
    "start_time": "2022-12-11T17:31:12.774Z"
   },
   {
    "duration": 11,
    "start_time": "2022-12-11T17:31:23.913Z"
   },
   {
    "duration": 12,
    "start_time": "2022-12-11T17:31:36.214Z"
   },
   {
    "duration": 13,
    "start_time": "2022-12-11T17:31:44.095Z"
   },
   {
    "duration": 6,
    "start_time": "2022-12-11T18:10:12.758Z"
   },
   {
    "duration": 5,
    "start_time": "2022-12-11T18:10:25.365Z"
   },
   {
    "duration": 5,
    "start_time": "2022-12-11T18:10:39.511Z"
   },
   {
    "duration": 4,
    "start_time": "2022-12-11T20:53:07.635Z"
   },
   {
    "duration": 84,
    "start_time": "2022-12-11T20:53:07.641Z"
   },
   {
    "duration": 10,
    "start_time": "2022-12-11T20:53:07.727Z"
   },
   {
    "duration": 29,
    "start_time": "2022-12-11T20:53:07.739Z"
   },
   {
    "duration": 16,
    "start_time": "2022-12-11T20:53:07.771Z"
   },
   {
    "duration": 16,
    "start_time": "2022-12-11T20:53:07.788Z"
   },
   {
    "duration": 13,
    "start_time": "2022-12-11T20:53:07.806Z"
   },
   {
    "duration": 16,
    "start_time": "2022-12-11T20:53:07.822Z"
   },
   {
    "duration": 16,
    "start_time": "2022-12-11T20:53:07.840Z"
   },
   {
    "duration": 8,
    "start_time": "2022-12-11T20:53:07.858Z"
   },
   {
    "duration": 10,
    "start_time": "2022-12-11T20:53:07.868Z"
   },
   {
    "duration": 619,
    "start_time": "2022-12-11T20:53:07.880Z"
   },
   {
    "duration": 219,
    "start_time": "2022-12-11T20:53:08.502Z"
   },
   {
    "duration": 421,
    "start_time": "2022-12-11T20:53:08.723Z"
   },
   {
    "duration": 206,
    "start_time": "2022-12-11T20:53:09.146Z"
   },
   {
    "duration": 4,
    "start_time": "2022-12-11T20:53:09.354Z"
   },
   {
    "duration": 7,
    "start_time": "2022-12-11T20:53:09.360Z"
   },
   {
    "duration": 288,
    "start_time": "2022-12-11T20:53:09.368Z"
   },
   {
    "duration": 145,
    "start_time": "2022-12-11T20:53:09.658Z"
   },
   {
    "duration": 4,
    "start_time": "2022-12-11T20:53:09.806Z"
   },
   {
    "duration": 14,
    "start_time": "2022-12-11T20:53:09.812Z"
   },
   {
    "duration": 161,
    "start_time": "2022-12-11T20:53:09.843Z"
   },
   {
    "duration": 5,
    "start_time": "2022-12-11T20:53:10.006Z"
   },
   {
    "duration": 8,
    "start_time": "2022-12-11T20:53:10.013Z"
   },
   {
    "duration": 23,
    "start_time": "2022-12-11T20:53:10.022Z"
   },
   {
    "duration": 393,
    "start_time": "2022-12-11T20:53:10.047Z"
   },
   {
    "duration": 11,
    "start_time": "2022-12-11T20:53:10.442Z"
   },
   {
    "duration": 35,
    "start_time": "2022-12-11T20:53:10.454Z"
   },
   {
    "duration": 16,
    "start_time": "2022-12-11T20:53:10.491Z"
   },
   {
    "duration": 3,
    "start_time": "2022-12-11T20:53:11.793Z"
   },
   {
    "duration": 72,
    "start_time": "2022-12-11T20:53:12.488Z"
   },
   {
    "duration": 11,
    "start_time": "2022-12-11T20:53:12.615Z"
   },
   {
    "duration": 15,
    "start_time": "2022-12-11T20:53:12.803Z"
   },
   {
    "duration": 13,
    "start_time": "2022-12-11T20:53:12.990Z"
   },
   {
    "duration": 13,
    "start_time": "2022-12-11T20:53:13.168Z"
   },
   {
    "duration": 6,
    "start_time": "2022-12-11T20:53:13.503Z"
   },
   {
    "duration": 7,
    "start_time": "2022-12-11T20:53:13.677Z"
   },
   {
    "duration": 4,
    "start_time": "2022-12-11T20:53:13.911Z"
   },
   {
    "duration": 9,
    "start_time": "2022-12-11T20:53:14.537Z"
   },
   {
    "duration": 9,
    "start_time": "2022-12-11T20:53:15.238Z"
   },
   {
    "duration": 593,
    "start_time": "2022-12-11T20:53:16.206Z"
   },
   {
    "duration": 206,
    "start_time": "2022-12-11T20:53:16.801Z"
   },
   {
    "duration": 294,
    "start_time": "2022-12-11T20:53:17.499Z"
   },
   {
    "duration": 198,
    "start_time": "2022-12-11T20:53:18.109Z"
   },
   {
    "duration": 4,
    "start_time": "2022-12-11T20:53:18.316Z"
   },
   {
    "duration": 5,
    "start_time": "2022-12-11T20:53:18.534Z"
   },
   {
    "duration": 317,
    "start_time": "2022-12-11T20:53:19.135Z"
   },
   {
    "duration": 134,
    "start_time": "2022-12-11T20:53:19.750Z"
   },
   {
    "duration": 4,
    "start_time": "2022-12-11T20:53:20.289Z"
   },
   {
    "duration": 9,
    "start_time": "2022-12-11T20:53:20.700Z"
   },
   {
    "duration": 151,
    "start_time": "2022-12-11T20:53:21.386Z"
   },
   {
    "duration": 4,
    "start_time": "2022-12-11T20:53:21.539Z"
   },
   {
    "duration": 5,
    "start_time": "2022-12-11T20:53:22.111Z"
   },
   {
    "duration": 11,
    "start_time": "2022-12-11T20:53:22.308Z"
   },
   {
    "duration": 394,
    "start_time": "2022-12-11T20:53:22.921Z"
   },
   {
    "duration": 10,
    "start_time": "2022-12-11T20:53:23.664Z"
   },
   {
    "duration": 35,
    "start_time": "2022-12-11T20:53:24.059Z"
   },
   {
    "duration": 13,
    "start_time": "2022-12-11T20:53:24.456Z"
   },
   {
    "duration": 121,
    "start_time": "2022-12-12T18:06:00.445Z"
   },
   {
    "duration": 66,
    "start_time": "2022-12-12T18:08:45.511Z"
   },
   {
    "duration": 43,
    "start_time": "2022-12-12T18:23:12.129Z"
   },
   {
    "duration": 7,
    "start_time": "2022-12-12T18:23:14.997Z"
   },
   {
    "duration": 6,
    "start_time": "2022-12-12T18:23:26.364Z"
   },
   {
    "duration": 1217,
    "start_time": "2022-12-12T18:23:35.069Z"
   },
   {
    "duration": 219,
    "start_time": "2022-12-12T18:23:36.288Z"
   },
   {
    "duration": 17,
    "start_time": "2022-12-12T18:23:36.509Z"
   },
   {
    "duration": 16,
    "start_time": "2022-12-12T18:23:36.528Z"
   },
   {
    "duration": 13,
    "start_time": "2022-12-12T18:23:36.546Z"
   },
   {
    "duration": 15,
    "start_time": "2022-12-12T18:23:36.560Z"
   },
   {
    "duration": 6,
    "start_time": "2022-12-12T18:23:36.576Z"
   },
   {
    "duration": 9,
    "start_time": "2022-12-12T18:23:36.583Z"
   },
   {
    "duration": 7,
    "start_time": "2022-12-12T18:23:36.594Z"
   },
   {
    "duration": 30,
    "start_time": "2022-12-12T18:23:36.602Z"
   },
   {
    "duration": 9,
    "start_time": "2022-12-12T18:23:36.634Z"
   },
   {
    "duration": 634,
    "start_time": "2022-12-12T18:23:36.645Z"
   },
   {
    "duration": 195,
    "start_time": "2022-12-12T18:23:37.281Z"
   },
   {
    "duration": 369,
    "start_time": "2022-12-12T18:23:37.479Z"
   },
   {
    "duration": 207,
    "start_time": "2022-12-12T18:23:37.850Z"
   },
   {
    "duration": 5,
    "start_time": "2022-12-12T18:23:38.058Z"
   },
   {
    "duration": 7,
    "start_time": "2022-12-12T18:23:38.065Z"
   },
   {
    "duration": 279,
    "start_time": "2022-12-12T18:23:38.073Z"
   },
   {
    "duration": 133,
    "start_time": "2022-12-12T18:23:38.355Z"
   },
   {
    "duration": 3,
    "start_time": "2022-12-12T18:23:38.490Z"
   },
   {
    "duration": 11,
    "start_time": "2022-12-12T18:23:38.495Z"
   },
   {
    "duration": 146,
    "start_time": "2022-12-12T18:23:38.507Z"
   },
   {
    "duration": 4,
    "start_time": "2022-12-12T18:23:38.655Z"
   },
   {
    "duration": 19,
    "start_time": "2022-12-12T18:23:38.661Z"
   },
   {
    "duration": 23,
    "start_time": "2022-12-12T18:23:38.682Z"
   },
   {
    "duration": 352,
    "start_time": "2022-12-12T18:23:38.706Z"
   },
   {
    "duration": 10,
    "start_time": "2022-12-12T18:23:39.059Z"
   },
   {
    "duration": 30,
    "start_time": "2022-12-12T18:23:39.071Z"
   },
   {
    "duration": 32,
    "start_time": "2022-12-12T18:23:39.103Z"
   },
   {
    "duration": 7,
    "start_time": "2022-12-12T18:24:16.867Z"
   },
   {
    "duration": 10,
    "start_time": "2022-12-12T18:28:38.583Z"
   },
   {
    "duration": 9,
    "start_time": "2022-12-12T18:29:00.762Z"
   },
   {
    "duration": 9,
    "start_time": "2022-12-12T18:30:09.961Z"
   },
   {
    "duration": 9,
    "start_time": "2022-12-12T18:30:38.573Z"
   },
   {
    "duration": 3,
    "start_time": "2022-12-12T18:34:07.284Z"
   },
   {
    "duration": 57,
    "start_time": "2022-12-12T18:34:24.902Z"
   },
   {
    "duration": 3,
    "start_time": "2022-12-12T18:34:33.466Z"
   },
   {
    "duration": 4,
    "start_time": "2022-12-12T18:34:47.021Z"
   },
   {
    "duration": 5,
    "start_time": "2022-12-12T18:34:56.850Z"
   },
   {
    "duration": 4,
    "start_time": "2022-12-12T18:35:09.241Z"
   },
   {
    "duration": 5,
    "start_time": "2022-12-12T18:35:24.213Z"
   },
   {
    "duration": 10,
    "start_time": "2022-12-12T18:38:43.112Z"
   },
   {
    "duration": 27,
    "start_time": "2022-12-12T18:38:55.032Z"
   },
   {
    "duration": 9,
    "start_time": "2022-12-12T18:39:07.019Z"
   },
   {
    "duration": 11,
    "start_time": "2022-12-12T18:39:22.618Z"
   },
   {
    "duration": 11,
    "start_time": "2022-12-12T18:39:42.237Z"
   },
   {
    "duration": 7,
    "start_time": "2022-12-12T18:40:12.341Z"
   },
   {
    "duration": 7,
    "start_time": "2022-12-12T18:40:25.555Z"
   },
   {
    "duration": 7,
    "start_time": "2022-12-12T18:40:41.893Z"
   },
   {
    "duration": 6,
    "start_time": "2022-12-12T18:41:19.520Z"
   },
   {
    "duration": 6,
    "start_time": "2022-12-12T18:41:28.970Z"
   },
   {
    "duration": 6,
    "start_time": "2022-12-12T18:41:46.242Z"
   },
   {
    "duration": 38,
    "start_time": "2022-12-12T18:41:55.050Z"
   },
   {
    "duration": 7,
    "start_time": "2022-12-12T18:42:05.695Z"
   },
   {
    "duration": 7,
    "start_time": "2022-12-12T18:42:24.231Z"
   },
   {
    "duration": 71,
    "start_time": "2022-12-12T18:44:57.885Z"
   },
   {
    "duration": 104,
    "start_time": "2022-12-12T18:45:02.777Z"
   },
   {
    "duration": 15,
    "start_time": "2022-12-12T18:45:18.525Z"
   },
   {
    "duration": 13,
    "start_time": "2022-12-12T18:45:39.498Z"
   },
   {
    "duration": 74,
    "start_time": "2022-12-12T18:45:48.232Z"
   },
   {
    "duration": 16,
    "start_time": "2022-12-12T18:45:52.723Z"
   },
   {
    "duration": 10,
    "start_time": "2022-12-12T18:48:35.856Z"
   },
   {
    "duration": 16,
    "start_time": "2022-12-12T18:48:41.526Z"
   },
   {
    "duration": 10,
    "start_time": "2022-12-12T18:48:49.265Z"
   },
   {
    "duration": 13,
    "start_time": "2022-12-12T18:49:13.210Z"
   },
   {
    "duration": 9,
    "start_time": "2022-12-12T18:49:23.214Z"
   },
   {
    "duration": 9,
    "start_time": "2022-12-12T18:49:38.754Z"
   },
   {
    "duration": 10,
    "start_time": "2022-12-12T18:50:20.882Z"
   },
   {
    "duration": 5,
    "start_time": "2022-12-12T19:10:02.451Z"
   },
   {
    "duration": 8,
    "start_time": "2022-12-12T19:11:35.538Z"
   },
   {
    "duration": 14,
    "start_time": "2022-12-12T19:12:41.000Z"
   },
   {
    "duration": 12,
    "start_time": "2022-12-12T19:12:54.240Z"
   },
   {
    "duration": 17,
    "start_time": "2022-12-12T19:13:14.946Z"
   },
   {
    "duration": 18,
    "start_time": "2022-12-12T19:14:19.035Z"
   },
   {
    "duration": 23,
    "start_time": "2022-12-12T19:15:30.706Z"
   },
   {
    "duration": 14,
    "start_time": "2022-12-12T19:16:32.458Z"
   },
   {
    "duration": 16,
    "start_time": "2022-12-12T19:16:47.711Z"
   },
   {
    "duration": 19,
    "start_time": "2022-12-12T19:19:22.588Z"
   },
   {
    "duration": 18,
    "start_time": "2022-12-12T19:19:30.952Z"
   },
   {
    "duration": 17,
    "start_time": "2022-12-12T19:19:56.785Z"
   },
   {
    "duration": 17,
    "start_time": "2022-12-12T19:21:13.784Z"
   },
   {
    "duration": 22,
    "start_time": "2022-12-12T19:21:31.675Z"
   },
   {
    "duration": 27,
    "start_time": "2022-12-12T19:29:13.146Z"
   },
   {
    "duration": 26,
    "start_time": "2022-12-12T19:29:24.555Z"
   },
   {
    "duration": 25,
    "start_time": "2022-12-12T19:29:33.765Z"
   },
   {
    "duration": 21,
    "start_time": "2022-12-12T19:30:00.458Z"
   },
   {
    "duration": 23,
    "start_time": "2022-12-12T19:30:10.554Z"
   },
   {
    "duration": 22,
    "start_time": "2022-12-12T19:30:17.290Z"
   },
   {
    "duration": 24,
    "start_time": "2022-12-12T19:30:30.864Z"
   },
   {
    "duration": 15,
    "start_time": "2022-12-12T19:30:41.950Z"
   },
   {
    "duration": 1111,
    "start_time": "2022-12-12T20:34:57.672Z"
   },
   {
    "duration": 219,
    "start_time": "2022-12-12T20:34:58.785Z"
   },
   {
    "duration": 13,
    "start_time": "2022-12-12T20:34:59.005Z"
   },
   {
    "duration": 19,
    "start_time": "2022-12-12T20:34:59.020Z"
   },
   {
    "duration": 32,
    "start_time": "2022-12-12T20:34:59.040Z"
   },
   {
    "duration": 12,
    "start_time": "2022-12-12T20:34:59.073Z"
   },
   {
    "duration": 8,
    "start_time": "2022-12-12T20:34:59.087Z"
   },
   {
    "duration": 7,
    "start_time": "2022-12-12T20:34:59.112Z"
   },
   {
    "duration": 8,
    "start_time": "2022-12-12T20:34:59.121Z"
   },
   {
    "duration": 22,
    "start_time": "2022-12-12T20:34:59.133Z"
   },
   {
    "duration": 15,
    "start_time": "2022-12-12T20:34:59.157Z"
   },
   {
    "duration": 741,
    "start_time": "2022-12-12T20:34:59.173Z"
   },
   {
    "duration": 233,
    "start_time": "2022-12-12T20:34:59.916Z"
   },
   {
    "duration": 287,
    "start_time": "2022-12-12T20:35:00.151Z"
   },
   {
    "duration": 212,
    "start_time": "2022-12-12T20:35:00.440Z"
   },
   {
    "duration": 5,
    "start_time": "2022-12-12T20:35:00.653Z"
   },
   {
    "duration": 168,
    "start_time": "2022-12-12T20:35:00.660Z"
   },
   {
    "duration": 303,
    "start_time": "2022-12-12T20:35:00.830Z"
   },
   {
    "duration": 150,
    "start_time": "2022-12-12T20:35:01.135Z"
   },
   {
    "duration": 5,
    "start_time": "2022-12-12T20:35:01.287Z"
   },
   {
    "duration": 20,
    "start_time": "2022-12-12T20:35:01.293Z"
   },
   {
    "duration": 167,
    "start_time": "2022-12-12T20:35:01.315Z"
   },
   {
    "duration": 5,
    "start_time": "2022-12-12T20:35:01.484Z"
   },
   {
    "duration": 7,
    "start_time": "2022-12-12T20:35:01.491Z"
   },
   {
    "duration": 14,
    "start_time": "2022-12-12T20:35:01.512Z"
   },
   {
    "duration": 387,
    "start_time": "2022-12-12T20:35:01.528Z"
   },
   {
    "duration": 11,
    "start_time": "2022-12-12T20:35:01.918Z"
   },
   {
    "duration": 51,
    "start_time": "2022-12-12T20:35:01.933Z"
   },
   {
    "duration": 28,
    "start_time": "2022-12-12T20:35:01.985Z"
   },
   {
    "duration": 1116,
    "start_time": "2022-12-12T21:06:13.000Z"
   },
   {
    "duration": 77,
    "start_time": "2022-12-12T21:06:14.119Z"
   },
   {
    "duration": 12,
    "start_time": "2022-12-12T21:06:14.198Z"
   },
   {
    "duration": 18,
    "start_time": "2022-12-12T21:06:14.212Z"
   },
   {
    "duration": 14,
    "start_time": "2022-12-12T21:06:14.233Z"
   },
   {
    "duration": 13,
    "start_time": "2022-12-12T21:06:14.249Z"
   },
   {
    "duration": 7,
    "start_time": "2022-12-12T21:06:14.264Z"
   },
   {
    "duration": 45,
    "start_time": "2022-12-12T21:06:14.273Z"
   },
   {
    "duration": 10,
    "start_time": "2022-12-12T21:06:14.319Z"
   },
   {
    "duration": 11,
    "start_time": "2022-12-12T21:06:14.332Z"
   },
   {
    "duration": 8,
    "start_time": "2022-12-12T21:06:14.345Z"
   },
   {
    "duration": 726,
    "start_time": "2022-12-12T21:06:14.356Z"
   },
   {
    "duration": 196,
    "start_time": "2022-12-12T21:06:15.084Z"
   },
   {
    "duration": 323,
    "start_time": "2022-12-12T21:06:15.282Z"
   },
   {
    "duration": 220,
    "start_time": "2022-12-12T21:06:15.606Z"
   },
   {
    "duration": 5,
    "start_time": "2022-12-12T21:06:15.828Z"
   },
   {
    "duration": 7,
    "start_time": "2022-12-12T21:06:15.835Z"
   },
   {
    "duration": 311,
    "start_time": "2022-12-12T21:06:15.844Z"
   },
   {
    "duration": 143,
    "start_time": "2022-12-12T21:06:16.157Z"
   },
   {
    "duration": 17,
    "start_time": "2022-12-12T21:06:16.302Z"
   },
   {
    "duration": 10,
    "start_time": "2022-12-12T21:06:16.322Z"
   },
   {
    "duration": 205,
    "start_time": "2022-12-12T21:06:16.333Z"
   },
   {
    "duration": 5,
    "start_time": "2022-12-12T21:06:16.540Z"
   },
   {
    "duration": 13,
    "start_time": "2022-12-12T21:06:16.547Z"
   },
   {
    "duration": 19,
    "start_time": "2022-12-12T21:06:16.562Z"
   },
   {
    "duration": 400,
    "start_time": "2022-12-12T21:06:16.584Z"
   },
   {
    "duration": 9,
    "start_time": "2022-12-12T21:06:16.986Z"
   },
   {
    "duration": 41,
    "start_time": "2022-12-12T21:06:16.998Z"
   },
   {
    "duration": 13,
    "start_time": "2022-12-12T21:06:17.041Z"
   },
   {
    "duration": 120,
    "start_time": "2022-12-12T21:08:50.899Z"
   },
   {
    "duration": 311,
    "start_time": "2022-12-12T21:09:23.845Z"
   },
   {
    "duration": 314,
    "start_time": "2022-12-12T21:09:57.952Z"
   },
   {
    "duration": 230,
    "start_time": "2022-12-12T21:10:25.316Z"
   },
   {
    "duration": 244,
    "start_time": "2022-12-12T21:11:15.213Z"
   },
   {
    "duration": 202,
    "start_time": "2022-12-12T21:11:31.786Z"
   },
   {
    "duration": 236,
    "start_time": "2022-12-12T21:11:55.036Z"
   },
   {
    "duration": 203,
    "start_time": "2022-12-12T21:12:00.858Z"
   },
   {
    "duration": 237,
    "start_time": "2022-12-12T21:12:07.863Z"
   },
   {
    "duration": 7,
    "start_time": "2022-12-12T21:12:47.628Z"
   },
   {
    "duration": 6,
    "start_time": "2022-12-12T21:13:01.106Z"
   },
   {
    "duration": 316,
    "start_time": "2022-12-12T21:16:15.648Z"
   },
   {
    "duration": 908,
    "start_time": "2022-12-12T21:16:19.755Z"
   },
   {
    "duration": 230,
    "start_time": "2022-12-12T21:16:36.782Z"
   },
   {
    "duration": 6,
    "start_time": "2022-12-12T21:17:10.188Z"
   },
   {
    "duration": 311,
    "start_time": "2022-12-12T21:17:17.757Z"
   },
   {
    "duration": 347,
    "start_time": "2022-12-12T21:17:22.770Z"
   },
   {
    "duration": 46,
    "start_time": "2022-12-13T09:33:18.555Z"
   },
   {
    "duration": 1236,
    "start_time": "2022-12-13T09:33:24.242Z"
   },
   {
    "duration": 248,
    "start_time": "2022-12-13T09:33:26.173Z"
   },
   {
    "duration": 12,
    "start_time": "2022-12-13T09:33:26.423Z"
   },
   {
    "duration": 9,
    "start_time": "2022-12-13T09:33:40.072Z"
   },
   {
    "duration": 23,
    "start_time": "2022-12-13T09:34:02.606Z"
   },
   {
    "duration": 5326,
    "start_time": "2022-12-13T09:35:06.277Z"
   },
   {
    "duration": 5054,
    "start_time": "2022-12-13T09:35:15.119Z"
   },
   {
    "duration": 7,
    "start_time": "2022-12-13T09:35:20.862Z"
   },
   {
    "duration": 6,
    "start_time": "2022-12-13T09:35:21.135Z"
   },
   {
    "duration": 4,
    "start_time": "2022-12-13T09:35:21.560Z"
   },
   {
    "duration": 13,
    "start_time": "2022-12-13T09:35:23.601Z"
   },
   {
    "duration": 73,
    "start_time": "2022-12-13T09:37:53.459Z"
   },
   {
    "duration": 74,
    "start_time": "2022-12-13T09:38:51.489Z"
   },
   {
    "duration": 5,
    "start_time": "2022-12-13T09:43:03.855Z"
   },
   {
    "duration": 7,
    "start_time": "2022-12-13T09:43:25.739Z"
   },
   {
    "duration": 6,
    "start_time": "2022-12-13T09:43:37.707Z"
   },
   {
    "duration": 4,
    "start_time": "2022-12-13T09:44:01.205Z"
   },
   {
    "duration": 8,
    "start_time": "2022-12-13T09:44:57.600Z"
   },
   {
    "duration": 7,
    "start_time": "2022-12-13T09:45:08.972Z"
   },
   {
    "duration": 9,
    "start_time": "2022-12-13T09:45:32.941Z"
   },
   {
    "duration": 11,
    "start_time": "2022-12-13T09:45:38.565Z"
   },
   {
    "duration": 17,
    "start_time": "2022-12-13T09:46:28.593Z"
   },
   {
    "duration": 17,
    "start_time": "2022-12-13T09:46:43.919Z"
   },
   {
    "duration": 201,
    "start_time": "2022-12-13T09:47:49.227Z"
   },
   {
    "duration": 27,
    "start_time": "2022-12-13T09:48:00.788Z"
   },
   {
    "duration": 168,
    "start_time": "2022-12-13T09:48:22.800Z"
   },
   {
    "duration": 35,
    "start_time": "2022-12-13T09:48:30.389Z"
   },
   {
    "duration": 18,
    "start_time": "2022-12-13T09:48:45.256Z"
   },
   {
    "duration": 75,
    "start_time": "2022-12-13T09:52:44.013Z"
   },
   {
    "duration": 12,
    "start_time": "2022-12-13T09:53:25.881Z"
   },
   {
    "duration": 12,
    "start_time": "2022-12-13T09:54:26.462Z"
   },
   {
    "duration": 11,
    "start_time": "2022-12-13T09:54:43.623Z"
   },
   {
    "duration": 8,
    "start_time": "2022-12-13T09:54:49.440Z"
   },
   {
    "duration": 12,
    "start_time": "2022-12-13T09:55:06.870Z"
   },
   {
    "duration": 611,
    "start_time": "2022-12-13T09:56:28.883Z"
   },
   {
    "duration": 485,
    "start_time": "2022-12-13T09:58:50.362Z"
   },
   {
    "duration": 490,
    "start_time": "2022-12-13T09:59:03.315Z"
   },
   {
    "duration": 491,
    "start_time": "2022-12-13T09:59:23.309Z"
   },
   {
    "duration": 516,
    "start_time": "2022-12-13T10:04:21.154Z"
   },
   {
    "duration": 757,
    "start_time": "2022-12-13T11:13:03.034Z"
   },
   {
    "duration": 564,
    "start_time": "2022-12-13T11:13:32.785Z"
   },
   {
    "duration": 112,
    "start_time": "2022-12-13T11:15:00.472Z"
   },
   {
    "duration": 657,
    "start_time": "2022-12-13T11:15:05.899Z"
   },
   {
    "duration": 578,
    "start_time": "2022-12-13T11:15:43.609Z"
   },
   {
    "duration": 625,
    "start_time": "2022-12-13T11:15:57.068Z"
   },
   {
    "duration": 599,
    "start_time": "2022-12-13T11:16:11.392Z"
   },
   {
    "duration": 619,
    "start_time": "2022-12-13T11:16:26.982Z"
   },
   {
    "duration": 650,
    "start_time": "2022-12-13T11:16:45.506Z"
   },
   {
    "duration": 603,
    "start_time": "2022-12-13T11:16:57.403Z"
   },
   {
    "duration": 616,
    "start_time": "2022-12-13T11:17:06.735Z"
   },
   {
    "duration": 617,
    "start_time": "2022-12-13T11:17:22.837Z"
   },
   {
    "duration": 627,
    "start_time": "2022-12-13T11:17:36.096Z"
   },
   {
    "duration": 702,
    "start_time": "2022-12-13T11:17:59.200Z"
   },
   {
    "duration": 591,
    "start_time": "2022-12-13T11:18:22.783Z"
   },
   {
    "duration": 719,
    "start_time": "2022-12-13T11:18:29.937Z"
   },
   {
    "duration": 619,
    "start_time": "2022-12-13T11:18:38.869Z"
   },
   {
    "duration": 584,
    "start_time": "2022-12-13T11:20:22.573Z"
   },
   {
    "duration": 16,
    "start_time": "2022-12-13T11:20:51.549Z"
   },
   {
    "duration": 16,
    "start_time": "2022-12-13T11:20:56.395Z"
   },
   {
    "duration": 220,
    "start_time": "2022-12-13T11:21:50.036Z"
   },
   {
    "duration": 256,
    "start_time": "2022-12-13T11:22:23.999Z"
   },
   {
    "duration": 276,
    "start_time": "2022-12-13T11:24:30.902Z"
   },
   {
    "duration": 235,
    "start_time": "2022-12-13T11:24:48.345Z"
   },
   {
    "duration": 392,
    "start_time": "2022-12-13T11:25:07.269Z"
   },
   {
    "duration": 327,
    "start_time": "2022-12-13T11:25:26.549Z"
   },
   {
    "duration": 340,
    "start_time": "2022-12-13T11:26:47.076Z"
   },
   {
    "duration": 374,
    "start_time": "2022-12-13T11:27:35.100Z"
   },
   {
    "duration": 362,
    "start_time": "2022-12-13T11:30:37.423Z"
   },
   {
    "duration": 442,
    "start_time": "2022-12-13T11:31:00.639Z"
   },
   {
    "duration": 340,
    "start_time": "2022-12-13T11:31:12.366Z"
   },
   {
    "duration": 41,
    "start_time": "2022-12-13T11:36:25.898Z"
   },
   {
    "duration": 33,
    "start_time": "2022-12-13T11:36:44.248Z"
   },
   {
    "duration": 28,
    "start_time": "2022-12-13T11:37:57.805Z"
   },
   {
    "duration": 26,
    "start_time": "2022-12-13T11:38:05.975Z"
   },
   {
    "duration": 25,
    "start_time": "2022-12-13T11:38:11.054Z"
   },
   {
    "duration": 26,
    "start_time": "2022-12-13T11:39:25.683Z"
   },
   {
    "duration": 35,
    "start_time": "2022-12-13T11:39:37.831Z"
   },
   {
    "duration": 28,
    "start_time": "2022-12-13T11:39:45.148Z"
   },
   {
    "duration": 26,
    "start_time": "2022-12-13T11:39:54.135Z"
   },
   {
    "duration": 23,
    "start_time": "2022-12-13T11:40:03.588Z"
   },
   {
    "duration": 20,
    "start_time": "2022-12-13T11:40:46.642Z"
   },
   {
    "duration": 19,
    "start_time": "2022-12-13T11:49:10.922Z"
   },
   {
    "duration": 9,
    "start_time": "2022-12-13T11:49:14.141Z"
   },
   {
    "duration": 235,
    "start_time": "2022-12-13T11:49:16.690Z"
   },
   {
    "duration": 314,
    "start_time": "2022-12-13T11:50:10.739Z"
   },
   {
    "duration": 327,
    "start_time": "2022-12-13T11:50:26.328Z"
   },
   {
    "duration": 325,
    "start_time": "2022-12-13T11:50:35.980Z"
   },
   {
    "duration": 355,
    "start_time": "2022-12-13T11:50:41.307Z"
   },
   {
    "duration": 284,
    "start_time": "2022-12-13T11:50:54.805Z"
   },
   {
    "duration": 5,
    "start_time": "2022-12-13T11:51:13.941Z"
   },
   {
    "duration": 5,
    "start_time": "2022-12-13T11:51:16.777Z"
   },
   {
    "duration": 4,
    "start_time": "2022-12-13T11:51:22.002Z"
   },
   {
    "duration": 4,
    "start_time": "2022-12-13T11:51:22.642Z"
   },
   {
    "duration": 420,
    "start_time": "2022-12-13T11:53:20.184Z"
   },
   {
    "duration": 373,
    "start_time": "2022-12-13T11:54:08.466Z"
   },
   {
    "duration": 359,
    "start_time": "2022-12-13T11:55:02.458Z"
   },
   {
    "duration": 188,
    "start_time": "2022-12-13T11:55:40.440Z"
   },
   {
    "duration": 164,
    "start_time": "2022-12-13T11:56:01.159Z"
   },
   {
    "duration": 204,
    "start_time": "2022-12-13T11:56:54.055Z"
   },
   {
    "duration": 243,
    "start_time": "2022-12-13T11:57:15.612Z"
   },
   {
    "duration": 244,
    "start_time": "2022-12-13T11:57:49.541Z"
   },
   {
    "duration": 216,
    "start_time": "2022-12-13T11:58:22.119Z"
   },
   {
    "duration": 229,
    "start_time": "2022-12-13T11:59:00.214Z"
   },
   {
    "duration": 290,
    "start_time": "2022-12-13T11:59:09.751Z"
   },
   {
    "duration": 461,
    "start_time": "2022-12-13T12:01:32.503Z"
   },
   {
    "duration": 353,
    "start_time": "2022-12-13T12:01:47.141Z"
   },
   {
    "duration": 288,
    "start_time": "2022-12-13T12:01:55.501Z"
   },
   {
    "duration": 1394,
    "start_time": "2022-12-13T12:03:06.177Z"
   },
   {
    "duration": 1450,
    "start_time": "2022-12-13T12:03:14.361Z"
   },
   {
    "duration": 156,
    "start_time": "2022-12-13T12:03:24.650Z"
   },
   {
    "duration": 146,
    "start_time": "2022-12-13T12:04:01.445Z"
   },
   {
    "duration": 167,
    "start_time": "2022-12-13T12:04:54.972Z"
   },
   {
    "duration": 146,
    "start_time": "2022-12-13T12:05:01.483Z"
   },
   {
    "duration": 158,
    "start_time": "2022-12-13T12:05:36.851Z"
   },
   {
    "duration": 213,
    "start_time": "2022-12-13T12:06:54.438Z"
   },
   {
    "duration": 197,
    "start_time": "2022-12-13T12:07:17.339Z"
   },
   {
    "duration": 760,
    "start_time": "2022-12-13T12:08:34.777Z"
   },
   {
    "duration": 145,
    "start_time": "2022-12-13T12:08:42.038Z"
   },
   {
    "duration": 144,
    "start_time": "2022-12-13T12:09:18.855Z"
   },
   {
    "duration": 197,
    "start_time": "2022-12-13T12:09:48.937Z"
   },
   {
    "duration": 146,
    "start_time": "2022-12-13T12:10:03.348Z"
   },
   {
    "duration": 225,
    "start_time": "2022-12-13T12:10:50.455Z"
   },
   {
    "duration": 15,
    "start_time": "2022-12-13T12:11:27.296Z"
   },
   {
    "duration": 24,
    "start_time": "2022-12-13T12:11:31.606Z"
   },
   {
    "duration": 20,
    "start_time": "2022-12-13T12:12:32.544Z"
   },
   {
    "duration": 149,
    "start_time": "2022-12-13T12:12:55.449Z"
   },
   {
    "duration": 169,
    "start_time": "2022-12-13T12:13:35.305Z"
   },
   {
    "duration": 154,
    "start_time": "2022-12-13T12:13:48.739Z"
   },
   {
    "duration": 15,
    "start_time": "2022-12-13T12:14:04.479Z"
   },
   {
    "duration": 230,
    "start_time": "2022-12-13T12:14:14.669Z"
   },
   {
    "duration": 175,
    "start_time": "2022-12-13T12:14:42.362Z"
   },
   {
    "duration": 173,
    "start_time": "2022-12-13T12:15:26.439Z"
   },
   {
    "duration": 183,
    "start_time": "2022-12-13T12:17:23.240Z"
   },
   {
    "duration": 350,
    "start_time": "2022-12-13T12:17:37.780Z"
   },
   {
    "duration": 190,
    "start_time": "2022-12-13T12:19:07.388Z"
   },
   {
    "duration": 170,
    "start_time": "2022-12-13T12:19:17.015Z"
   },
   {
    "duration": 2990,
    "start_time": "2022-12-13T12:20:02.953Z"
   },
   {
    "duration": 1446,
    "start_time": "2022-12-13T12:20:17.916Z"
   },
   {
    "duration": 146,
    "start_time": "2022-12-13T12:20:28.352Z"
   },
   {
    "duration": 5,
    "start_time": "2022-12-13T12:20:28.739Z"
   },
   {
    "duration": 20,
    "start_time": "2022-12-13T12:20:29.523Z"
   },
   {
    "duration": 1376,
    "start_time": "2022-12-13T12:20:31.366Z"
   },
   {
    "duration": 1446,
    "start_time": "2022-12-13T12:20:46.126Z"
   },
   {
    "duration": 3,
    "start_time": "2022-12-13T12:20:51.654Z"
   },
   {
    "duration": 89,
    "start_time": "2022-12-13T12:20:53.170Z"
   },
   {
    "duration": 23,
    "start_time": "2022-12-13T12:20:53.335Z"
   },
   {
    "duration": 13,
    "start_time": "2022-12-13T12:20:54.468Z"
   },
   {
    "duration": 16,
    "start_time": "2022-12-13T12:20:54.662Z"
   },
   {
    "duration": 14,
    "start_time": "2022-12-13T12:20:54.841Z"
   },
   {
    "duration": 6,
    "start_time": "2022-12-13T12:20:55.181Z"
   },
   {
    "duration": 7,
    "start_time": "2022-12-13T12:20:55.341Z"
   },
   {
    "duration": 4,
    "start_time": "2022-12-13T12:20:55.687Z"
   },
   {
    "duration": 20,
    "start_time": "2022-12-13T12:20:56.249Z"
   },
   {
    "duration": 15,
    "start_time": "2022-12-13T12:20:57.240Z"
   },
   {
    "duration": 17,
    "start_time": "2022-12-13T12:20:58.236Z"
   },
   {
    "duration": 711,
    "start_time": "2022-12-13T12:20:59.628Z"
   },
   {
    "duration": 254,
    "start_time": "2022-12-13T12:21:01.389Z"
   },
   {
    "duration": 369,
    "start_time": "2022-12-13T12:21:02.003Z"
   },
   {
    "duration": 258,
    "start_time": "2022-12-13T12:21:02.629Z"
   },
   {
    "duration": 4,
    "start_time": "2022-12-13T12:21:02.889Z"
   },
   {
    "duration": 14,
    "start_time": "2022-12-13T12:21:03.009Z"
   },
   {
    "duration": 343,
    "start_time": "2022-12-13T12:21:04.163Z"
   },
   {
    "duration": 181,
    "start_time": "2022-12-13T12:21:05.021Z"
   },
   {
    "duration": 152,
    "start_time": "2022-12-13T12:21:05.449Z"
   },
   {
    "duration": 20,
    "start_time": "2022-12-13T12:21:06.109Z"
   },
   {
    "duration": 12,
    "start_time": "2022-12-13T12:21:06.526Z"
   },
   {
    "duration": 190,
    "start_time": "2022-12-13T12:21:07.352Z"
   },
   {
    "duration": 9,
    "start_time": "2022-12-13T12:21:17.430Z"
   },
   {
    "duration": 1398,
    "start_time": "2022-12-13T12:22:00.640Z"
   },
   {
    "duration": 2211,
    "start_time": "2022-12-13T12:22:20.146Z"
   },
   {
    "duration": 1452,
    "start_time": "2022-12-13T12:23:44.949Z"
   },
   {
    "duration": 5715,
    "start_time": "2022-12-13T12:35:13.258Z"
   },
   {
    "duration": 1469,
    "start_time": "2022-12-13T12:35:33.263Z"
   },
   {
    "duration": 3,
    "start_time": "2022-12-13T12:35:38.608Z"
   },
   {
    "duration": 95,
    "start_time": "2022-12-13T12:35:39.774Z"
   },
   {
    "duration": 21,
    "start_time": "2022-12-13T12:35:39.966Z"
   },
   {
    "duration": 21,
    "start_time": "2022-12-13T12:35:40.824Z"
   },
   {
    "duration": 21,
    "start_time": "2022-12-13T12:35:41.044Z"
   },
   {
    "duration": 14,
    "start_time": "2022-12-13T12:35:41.249Z"
   },
   {
    "duration": 6,
    "start_time": "2022-12-13T12:35:41.650Z"
   },
   {
    "duration": 6,
    "start_time": "2022-12-13T12:35:41.843Z"
   },
   {
    "duration": 5,
    "start_time": "2022-12-13T12:35:42.064Z"
   },
   {
    "duration": 21,
    "start_time": "2022-12-13T12:35:42.961Z"
   },
   {
    "duration": 12,
    "start_time": "2022-12-13T12:35:43.842Z"
   },
   {
    "duration": 12,
    "start_time": "2022-12-13T12:35:45.369Z"
   },
   {
    "duration": 678,
    "start_time": "2022-12-13T12:35:46.672Z"
   },
   {
    "duration": 259,
    "start_time": "2022-12-13T12:35:53.295Z"
   },
   {
    "duration": 326,
    "start_time": "2022-12-13T12:35:53.841Z"
   },
   {
    "duration": 310,
    "start_time": "2022-12-13T12:35:54.449Z"
   },
   {
    "duration": 7,
    "start_time": "2022-12-13T12:35:54.761Z"
   },
   {
    "duration": 5,
    "start_time": "2022-12-13T12:35:54.849Z"
   },
   {
    "duration": 400,
    "start_time": "2022-12-13T12:35:55.891Z"
   },
   {
    "duration": 181,
    "start_time": "2022-12-13T12:35:56.692Z"
   },
   {
    "duration": 148,
    "start_time": "2022-12-13T12:35:57.142Z"
   },
   {
    "duration": 5,
    "start_time": "2022-12-13T12:35:58.039Z"
   },
   {
    "duration": 8,
    "start_time": "2022-12-13T12:35:58.471Z"
   },
   {
    "duration": 170,
    "start_time": "2022-12-13T12:35:59.330Z"
   },
   {
    "duration": 9,
    "start_time": "2022-12-13T12:36:00.075Z"
   },
   {
    "duration": 22,
    "start_time": "2022-12-13T12:37:58.170Z"
   },
   {
    "duration": 23,
    "start_time": "2022-12-13T12:38:12.326Z"
   },
   {
    "duration": 21,
    "start_time": "2022-12-13T12:38:41.490Z"
   },
   {
    "duration": 35,
    "start_time": "2022-12-13T12:39:17.194Z"
   },
   {
    "duration": 23,
    "start_time": "2022-12-13T12:39:33.525Z"
   },
   {
    "duration": 85,
    "start_time": "2022-12-13T12:39:56.592Z"
   },
   {
    "duration": 40,
    "start_time": "2022-12-13T12:40:04.556Z"
   },
   {
    "duration": 16,
    "start_time": "2022-12-13T12:40:13.071Z"
   },
   {
    "duration": 31,
    "start_time": "2022-12-13T12:41:51.727Z"
   },
   {
    "duration": 88,
    "start_time": "2022-12-13T12:41:58.793Z"
   },
   {
    "duration": 26,
    "start_time": "2022-12-13T12:42:02.535Z"
   },
   {
    "duration": 22,
    "start_time": "2022-12-13T12:42:17.882Z"
   },
   {
    "duration": 24,
    "start_time": "2022-12-13T12:42:55.842Z"
   },
   {
    "duration": 22,
    "start_time": "2022-12-13T12:43:14.769Z"
   },
   {
    "duration": 31,
    "start_time": "2022-12-13T12:43:26.850Z"
   },
   {
    "duration": 22,
    "start_time": "2022-12-13T12:43:45.640Z"
   },
   {
    "duration": 28,
    "start_time": "2022-12-13T12:43:52.384Z"
   },
   {
    "duration": 31,
    "start_time": "2022-12-13T12:43:57.861Z"
   },
   {
    "duration": 25,
    "start_time": "2022-12-13T12:44:50.827Z"
   },
   {
    "duration": 76,
    "start_time": "2022-12-13T12:45:04.729Z"
   },
   {
    "duration": 32,
    "start_time": "2022-12-13T12:45:14.845Z"
   },
   {
    "duration": 36,
    "start_time": "2022-12-13T12:45:33.504Z"
   },
   {
    "duration": 106,
    "start_time": "2022-12-13T12:46:17.930Z"
   },
   {
    "duration": 31,
    "start_time": "2022-12-13T12:46:21.903Z"
   },
   {
    "duration": 28,
    "start_time": "2022-12-13T12:46:35.433Z"
   },
   {
    "duration": 28,
    "start_time": "2022-12-13T12:46:47.730Z"
   },
   {
    "duration": 34,
    "start_time": "2022-12-13T12:47:05.737Z"
   },
   {
    "duration": 32,
    "start_time": "2022-12-13T12:47:32.339Z"
   },
   {
    "duration": 37,
    "start_time": "2022-12-13T12:47:40.234Z"
   },
   {
    "duration": 31,
    "start_time": "2022-12-13T12:47:53.490Z"
   },
   {
    "duration": 33,
    "start_time": "2022-12-13T12:48:31.001Z"
   },
   {
    "duration": 34,
    "start_time": "2022-12-13T12:48:49.755Z"
   },
   {
    "duration": 35,
    "start_time": "2022-12-13T12:49:04.906Z"
   },
   {
    "duration": 40,
    "start_time": "2022-12-13T12:50:14.866Z"
   },
   {
    "duration": 35,
    "start_time": "2022-12-13T12:51:13.538Z"
   },
   {
    "duration": 32,
    "start_time": "2022-12-13T12:52:09.762Z"
   },
   {
    "duration": 49,
    "start_time": "2022-12-13T12:56:20.295Z"
   },
   {
    "duration": 43,
    "start_time": "2022-12-13T12:56:54.636Z"
   },
   {
    "duration": 30,
    "start_time": "2022-12-13T12:57:23.726Z"
   },
   {
    "duration": 34,
    "start_time": "2022-12-13T12:58:37.591Z"
   },
   {
    "duration": 36,
    "start_time": "2022-12-13T12:58:51.525Z"
   },
   {
    "duration": 3,
    "start_time": "2022-12-13T13:03:04.051Z"
   },
   {
    "duration": 13,
    "start_time": "2022-12-13T13:03:06.001Z"
   },
   {
    "duration": 14,
    "start_time": "2022-12-13T13:03:07.435Z"
   },
   {
    "duration": 584,
    "start_time": "2022-12-13T13:03:08.862Z"
   },
   {
    "duration": 571,
    "start_time": "2022-12-13T13:04:41.882Z"
   },
   {
    "duration": 368,
    "start_time": "2022-12-13T13:05:02.218Z"
   },
   {
    "duration": 281,
    "start_time": "2022-12-13T13:05:07.915Z"
   },
   {
    "duration": 457,
    "start_time": "2022-12-13T13:05:11.830Z"
   },
   {
    "duration": 395,
    "start_time": "2022-12-13T13:06:14.384Z"
   },
   {
    "duration": 169,
    "start_time": "2022-12-13T13:06:18.773Z"
   },
   {
    "duration": 198,
    "start_time": "2022-12-13T13:07:22.453Z"
   },
   {
    "duration": 133,
    "start_time": "2022-12-13T13:07:59.987Z"
   },
   {
    "duration": 137,
    "start_time": "2022-12-13T13:08:31.157Z"
   },
   {
    "duration": 146,
    "start_time": "2022-12-13T13:08:50.920Z"
   },
   {
    "duration": 168,
    "start_time": "2022-12-13T13:09:08.124Z"
   },
   {
    "duration": 182,
    "start_time": "2022-12-13T13:09:13.091Z"
   },
   {
    "duration": 173,
    "start_time": "2022-12-13T13:09:50.551Z"
   },
   {
    "duration": 151,
    "start_time": "2022-12-13T13:09:59.637Z"
   },
   {
    "duration": 382,
    "start_time": "2022-12-13T13:15:24.829Z"
   },
   {
    "duration": 359,
    "start_time": "2022-12-13T13:18:26.120Z"
   },
   {
    "duration": 347,
    "start_time": "2022-12-13T13:19:02.152Z"
   },
   {
    "duration": 415,
    "start_time": "2022-12-13T13:19:51.354Z"
   },
   {
    "duration": 350,
    "start_time": "2022-12-13T13:22:02.792Z"
   },
   {
    "duration": 11,
    "start_time": "2022-12-13T13:23:40.003Z"
   },
   {
    "duration": 11,
    "start_time": "2022-12-13T13:23:52.836Z"
   },
   {
    "duration": 31,
    "start_time": "2022-12-13T13:24:16.555Z"
   },
   {
    "duration": 12,
    "start_time": "2022-12-13T13:24:42.134Z"
   },
   {
    "duration": 37,
    "start_time": "2022-12-13T13:24:57.930Z"
   },
   {
    "duration": 14,
    "start_time": "2022-12-13T13:25:27.491Z"
   },
   {
    "duration": 13,
    "start_time": "2022-12-13T13:26:41.741Z"
   },
   {
    "duration": 31,
    "start_time": "2022-12-13T13:27:34.856Z"
   },
   {
    "duration": 23,
    "start_time": "2022-12-13T13:28:47.007Z"
   },
   {
    "duration": 73,
    "start_time": "2022-12-13T13:29:17.379Z"
   },
   {
    "duration": 32,
    "start_time": "2022-12-13T13:29:17.909Z"
   },
   {
    "duration": 14,
    "start_time": "2022-12-13T13:29:19.261Z"
   },
   {
    "duration": 13,
    "start_time": "2022-12-13T13:29:19.470Z"
   },
   {
    "duration": 18,
    "start_time": "2022-12-13T13:29:19.710Z"
   },
   {
    "duration": 7,
    "start_time": "2022-12-13T13:29:20.064Z"
   },
   {
    "duration": 8,
    "start_time": "2022-12-13T13:29:20.240Z"
   },
   {
    "duration": 7,
    "start_time": "2022-12-13T13:29:20.430Z"
   },
   {
    "duration": 29,
    "start_time": "2022-12-13T13:29:20.975Z"
   },
   {
    "duration": 3,
    "start_time": "2022-12-13T13:29:21.343Z"
   },
   {
    "duration": 11,
    "start_time": "2022-12-13T13:29:21.952Z"
   },
   {
    "duration": 13,
    "start_time": "2022-12-13T13:29:23.028Z"
   },
   {
    "duration": 659,
    "start_time": "2022-12-13T13:29:24.710Z"
   },
   {
    "duration": 253,
    "start_time": "2022-12-13T13:29:27.311Z"
   },
   {
    "duration": 351,
    "start_time": "2022-12-13T13:29:27.910Z"
   },
   {
    "duration": 255,
    "start_time": "2022-12-13T13:29:28.552Z"
   },
   {
    "duration": 5,
    "start_time": "2022-12-13T13:29:28.813Z"
   },
   {
    "duration": 4,
    "start_time": "2022-12-13T13:29:29.045Z"
   },
   {
    "duration": 380,
    "start_time": "2022-12-13T13:29:35.827Z"
   },
   {
    "duration": 175,
    "start_time": "2022-12-13T13:29:39.609Z"
   },
   {
    "duration": 156,
    "start_time": "2022-12-13T13:30:19.399Z"
   },
   {
    "duration": 170,
    "start_time": "2022-12-13T13:30:42.230Z"
   },
   {
    "duration": 182,
    "start_time": "2022-12-13T13:30:45.882Z"
   },
   {
    "duration": 4,
    "start_time": "2022-12-13T13:30:47.169Z"
   },
   {
    "duration": 5,
    "start_time": "2022-12-13T13:30:59.114Z"
   },
   {
    "duration": 13,
    "start_time": "2022-12-13T13:31:00.335Z"
   },
   {
    "duration": 392,
    "start_time": "2022-12-13T13:31:08.072Z"
   },
   {
    "duration": 26,
    "start_time": "2022-12-13T16:23:04.282Z"
   },
   {
    "duration": 25,
    "start_time": "2022-12-13T16:23:20.714Z"
   },
   {
    "duration": 10,
    "start_time": "2022-12-13T16:23:42.066Z"
   },
   {
    "duration": 11,
    "start_time": "2022-12-13T16:23:51.046Z"
   },
   {
    "duration": 4,
    "start_time": "2022-12-13T16:38:43.201Z"
   },
   {
    "duration": 10,
    "start_time": "2022-12-13T16:38:57.383Z"
   },
   {
    "duration": 6,
    "start_time": "2022-12-13T16:39:03.672Z"
   },
   {
    "duration": 6,
    "start_time": "2022-12-13T16:39:15.068Z"
   },
   {
    "duration": 6,
    "start_time": "2022-12-13T16:39:37.050Z"
   },
   {
    "duration": 6,
    "start_time": "2022-12-13T16:39:42.514Z"
   },
   {
    "duration": 5,
    "start_time": "2022-12-13T16:40:03.317Z"
   },
   {
    "duration": 5,
    "start_time": "2022-12-13T16:40:13.172Z"
   },
   {
    "duration": 6,
    "start_time": "2022-12-13T16:42:46.762Z"
   },
   {
    "duration": 4,
    "start_time": "2022-12-13T16:42:59.065Z"
   },
   {
    "duration": 4,
    "start_time": "2022-12-13T16:43:07.084Z"
   },
   {
    "duration": 4,
    "start_time": "2022-12-13T16:43:17.151Z"
   },
   {
    "duration": 5,
    "start_time": "2022-12-13T16:43:18.580Z"
   },
   {
    "duration": 3,
    "start_time": "2022-12-13T16:43:27.840Z"
   },
   {
    "duration": 4,
    "start_time": "2022-12-13T16:43:28.529Z"
   },
   {
    "duration": 5,
    "start_time": "2022-12-13T16:43:32.124Z"
   },
   {
    "duration": 5,
    "start_time": "2022-12-13T16:44:01.512Z"
   },
   {
    "duration": 4,
    "start_time": "2022-12-13T16:44:02.149Z"
   },
   {
    "duration": 71,
    "start_time": "2022-12-13T16:44:35.689Z"
   },
   {
    "duration": 74,
    "start_time": "2022-12-13T16:44:46.779Z"
   },
   {
    "duration": 4,
    "start_time": "2022-12-13T16:44:53.785Z"
   },
   {
    "duration": 4,
    "start_time": "2022-12-13T16:44:54.645Z"
   },
   {
    "duration": 3,
    "start_time": "2022-12-13T16:45:00.716Z"
   },
   {
    "duration": 4,
    "start_time": "2022-12-13T16:45:01.277Z"
   },
   {
    "duration": 8,
    "start_time": "2022-12-13T16:45:22.063Z"
   },
   {
    "duration": 5,
    "start_time": "2022-12-13T16:45:27.367Z"
   },
   {
    "duration": 23,
    "start_time": "2022-12-13T16:46:04.914Z"
   },
   {
    "duration": 19,
    "start_time": "2022-12-13T16:46:21.439Z"
   },
   {
    "duration": 4,
    "start_time": "2022-12-13T16:46:22.089Z"
   },
   {
    "duration": 10,
    "start_time": "2022-12-13T16:46:31.381Z"
   },
   {
    "duration": 4,
    "start_time": "2022-12-13T16:46:32.376Z"
   },
   {
    "duration": 9,
    "start_time": "2022-12-13T16:47:10.977Z"
   },
   {
    "duration": 5,
    "start_time": "2022-12-13T16:47:11.460Z"
   },
   {
    "duration": 2,
    "start_time": "2022-12-13T16:47:29.336Z"
   },
   {
    "duration": 74,
    "start_time": "2022-12-13T16:47:29.343Z"
   },
   {
    "duration": 23,
    "start_time": "2022-12-13T16:47:29.419Z"
   },
   {
    "duration": 16,
    "start_time": "2022-12-13T16:47:29.443Z"
   },
   {
    "duration": 18,
    "start_time": "2022-12-13T16:47:29.461Z"
   },
   {
    "duration": 52,
    "start_time": "2022-12-13T16:47:29.480Z"
   },
   {
    "duration": 19,
    "start_time": "2022-12-13T16:47:29.533Z"
   },
   {
    "duration": 13,
    "start_time": "2022-12-13T16:47:29.553Z"
   },
   {
    "duration": 33,
    "start_time": "2022-12-13T16:47:29.568Z"
   },
   {
    "duration": 16,
    "start_time": "2022-12-13T16:47:29.603Z"
   },
   {
    "duration": 4,
    "start_time": "2022-12-13T16:47:29.622Z"
   },
   {
    "duration": 17,
    "start_time": "2022-12-13T16:47:29.628Z"
   },
   {
    "duration": 17,
    "start_time": "2022-12-13T16:47:29.647Z"
   },
   {
    "duration": 666,
    "start_time": "2022-12-13T16:47:29.666Z"
   },
   {
    "duration": 293,
    "start_time": "2022-12-13T16:47:30.333Z"
   },
   {
    "duration": 335,
    "start_time": "2022-12-13T16:47:30.628Z"
   },
   {
    "duration": 279,
    "start_time": "2022-12-13T16:47:30.965Z"
   },
   {
    "duration": 4,
    "start_time": "2022-12-13T16:47:31.246Z"
   },
   {
    "duration": 11,
    "start_time": "2022-12-13T16:47:31.252Z"
   },
   {
    "duration": 364,
    "start_time": "2022-12-13T16:47:31.265Z"
   },
   {
    "duration": 187,
    "start_time": "2022-12-13T16:47:31.631Z"
   },
   {
    "duration": 165,
    "start_time": "2022-12-13T16:47:31.820Z"
   },
   {
    "duration": 4,
    "start_time": "2022-12-13T16:47:31.987Z"
   },
   {
    "duration": 23,
    "start_time": "2022-12-13T16:47:31.993Z"
   },
   {
    "duration": 180,
    "start_time": "2022-12-13T16:47:32.017Z"
   },
   {
    "duration": 166,
    "start_time": "2022-12-13T16:47:32.198Z"
   },
   {
    "duration": 5,
    "start_time": "2022-12-13T16:47:32.366Z"
   },
   {
    "duration": 13,
    "start_time": "2022-12-13T16:47:32.372Z"
   },
   {
    "duration": 13,
    "start_time": "2022-12-13T16:47:32.388Z"
   },
   {
    "duration": 611,
    "start_time": "2022-12-13T16:47:32.414Z"
   },
   {
    "duration": 11,
    "start_time": "2022-12-13T16:47:33.026Z"
   },
   {
    "duration": 52,
    "start_time": "2022-12-13T16:47:33.039Z"
   },
   {
    "duration": 17,
    "start_time": "2022-12-13T16:47:33.092Z"
   },
   {
    "duration": 3,
    "start_time": "2022-12-13T16:47:36.333Z"
   },
   {
    "duration": 72,
    "start_time": "2022-12-13T16:47:37.902Z"
   },
   {
    "duration": 19,
    "start_time": "2022-12-13T16:47:38.064Z"
   },
   {
    "duration": 15,
    "start_time": "2022-12-13T16:47:38.829Z"
   },
   {
    "duration": 13,
    "start_time": "2022-12-13T16:47:39.087Z"
   },
   {
    "duration": 13,
    "start_time": "2022-12-13T16:47:39.440Z"
   },
   {
    "duration": 11,
    "start_time": "2022-12-13T16:47:40.269Z"
   },
   {
    "duration": 11,
    "start_time": "2022-12-13T16:47:40.714Z"
   },
   {
    "duration": 34,
    "start_time": "2022-12-13T16:47:41.795Z"
   },
   {
    "duration": 11,
    "start_time": "2022-12-13T16:47:43.230Z"
   },
   {
    "duration": 5,
    "start_time": "2022-12-13T16:47:43.684Z"
   },
   {
    "duration": 11,
    "start_time": "2022-12-13T16:48:05.763Z"
   },
   {
    "duration": 5,
    "start_time": "2022-12-13T16:48:06.326Z"
   },
   {
    "duration": 10,
    "start_time": "2022-12-13T16:48:39.633Z"
   },
   {
    "duration": 5,
    "start_time": "2022-12-13T16:48:40.097Z"
   },
   {
    "duration": 108,
    "start_time": "2022-12-13T16:50:15.765Z"
   },
   {
    "duration": 136,
    "start_time": "2022-12-13T16:50:52.419Z"
   },
   {
    "duration": 71,
    "start_time": "2022-12-13T16:51:28.226Z"
   },
   {
    "duration": 11,
    "start_time": "2022-12-13T16:51:37.897Z"
   },
   {
    "duration": 26,
    "start_time": "2022-12-13T16:52:36.534Z"
   },
   {
    "duration": 89,
    "start_time": "2022-12-13T16:53:36.730Z"
   },
   {
    "duration": 105,
    "start_time": "2022-12-13T16:54:11.181Z"
   },
   {
    "duration": 15,
    "start_time": "2022-12-13T16:57:03.965Z"
   },
   {
    "duration": 283,
    "start_time": "2022-12-13T16:57:12.095Z"
   },
   {
    "duration": 4,
    "start_time": "2022-12-13T16:57:32.619Z"
   },
   {
    "duration": 45,
    "start_time": "2022-12-13T16:59:46.639Z"
   },
   {
    "duration": 4,
    "start_time": "2022-12-13T16:59:48.369Z"
   },
   {
    "duration": 4,
    "start_time": "2022-12-13T16:59:52.679Z"
   },
   {
    "duration": 46,
    "start_time": "2022-12-13T17:00:29.584Z"
   },
   {
    "duration": 4,
    "start_time": "2022-12-13T17:00:30.008Z"
   },
   {
    "duration": 71,
    "start_time": "2022-12-13T17:04:01.838Z"
   },
   {
    "duration": 20,
    "start_time": "2022-12-13T17:04:02.014Z"
   },
   {
    "duration": 14,
    "start_time": "2022-12-13T17:04:02.541Z"
   },
   {
    "duration": 13,
    "start_time": "2022-12-13T17:04:02.716Z"
   },
   {
    "duration": 24,
    "start_time": "2022-12-13T17:04:02.909Z"
   },
   {
    "duration": 8,
    "start_time": "2022-12-13T17:04:03.278Z"
   },
   {
    "duration": 10,
    "start_time": "2022-12-13T17:04:03.456Z"
   },
   {
    "duration": 27,
    "start_time": "2022-12-13T17:04:04.030Z"
   },
   {
    "duration": 223,
    "start_time": "2022-12-13T17:04:04.479Z"
   },
   {
    "duration": 9,
    "start_time": "2022-12-13T17:04:04.705Z"
   },
   {
    "duration": 13,
    "start_time": "2022-12-13T17:04:05.825Z"
   },
   {
    "duration": 1470,
    "start_time": "2022-12-13T19:54:57.223Z"
   },
   {
    "duration": 223,
    "start_time": "2022-12-13T19:54:58.921Z"
   },
   {
    "duration": 26,
    "start_time": "2022-12-13T19:54:59.192Z"
   },
   {
    "duration": 15,
    "start_time": "2022-12-13T19:54:59.808Z"
   },
   {
    "duration": 18,
    "start_time": "2022-12-13T19:55:00.013Z"
   },
   {
    "duration": 19,
    "start_time": "2022-12-13T19:55:00.216Z"
   },
   {
    "duration": 9,
    "start_time": "2022-12-13T19:55:00.728Z"
   },
   {
    "duration": 9,
    "start_time": "2022-12-13T19:55:00.927Z"
   },
   {
    "duration": 29,
    "start_time": "2022-12-13T19:55:01.549Z"
   },
   {
    "duration": 212,
    "start_time": "2022-12-13T19:55:01.870Z"
   },
   {
    "duration": 5,
    "start_time": "2022-12-13T19:55:02.084Z"
   },
   {
    "duration": 14,
    "start_time": "2022-12-13T19:55:02.895Z"
   },
   {
    "duration": 16,
    "start_time": "2022-12-13T19:55:04.023Z"
   },
   {
    "duration": 695,
    "start_time": "2022-12-13T19:55:05.545Z"
   },
   {
    "duration": 223,
    "start_time": "2022-12-13T19:55:07.195Z"
   },
   {
    "duration": 352,
    "start_time": "2022-12-13T19:55:07.923Z"
   },
   {
    "duration": 230,
    "start_time": "2022-12-13T19:55:08.613Z"
   },
   {
    "duration": 5,
    "start_time": "2022-12-13T19:55:08.846Z"
   },
   {
    "duration": 5,
    "start_time": "2022-12-13T19:55:08.951Z"
   },
   {
    "duration": 318,
    "start_time": "2022-12-13T19:55:10.165Z"
   },
   {
    "duration": 194,
    "start_time": "2022-12-13T19:55:11.193Z"
   },
   {
    "duration": 172,
    "start_time": "2022-12-13T19:55:11.591Z"
   },
   {
    "duration": 4,
    "start_time": "2022-12-13T19:55:11.993Z"
   },
   {
    "duration": 7,
    "start_time": "2022-12-13T19:55:12.403Z"
   },
   {
    "duration": 156,
    "start_time": "2022-12-13T19:55:13.221Z"
   },
   {
    "duration": 276,
    "start_time": "2022-12-13T19:55:14.158Z"
   },
   {
    "duration": 6,
    "start_time": "2022-12-13T19:55:14.773Z"
   },
   {
    "duration": 5,
    "start_time": "2022-12-13T19:55:15.474Z"
   },
   {
    "duration": 11,
    "start_time": "2022-12-13T19:55:15.683Z"
   },
   {
    "duration": 364,
    "start_time": "2022-12-13T19:55:16.908Z"
   },
   {
    "duration": 11,
    "start_time": "2022-12-13T19:55:19.074Z"
   },
   {
    "duration": 35,
    "start_time": "2022-12-13T19:55:20.303Z"
   },
   {
    "duration": 15,
    "start_time": "2022-12-13T19:55:21.228Z"
   },
   {
    "duration": 53,
    "start_time": "2022-12-14T07:21:24.317Z"
   },
   {
    "duration": 1504,
    "start_time": "2022-12-14T07:21:30.151Z"
   },
   {
    "duration": 210,
    "start_time": "2022-12-14T07:21:31.658Z"
   },
   {
    "duration": 26,
    "start_time": "2022-12-14T07:21:31.869Z"
   },
   {
    "duration": 15,
    "start_time": "2022-12-14T07:21:31.897Z"
   },
   {
    "duration": 29,
    "start_time": "2022-12-14T07:21:31.914Z"
   },
   {
    "duration": 18,
    "start_time": "2022-12-14T07:21:31.945Z"
   },
   {
    "duration": 8,
    "start_time": "2022-12-14T07:21:31.965Z"
   },
   {
    "duration": 25,
    "start_time": "2022-12-14T07:21:31.975Z"
   },
   {
    "duration": 43,
    "start_time": "2022-12-14T07:21:32.002Z"
   },
   {
    "duration": 245,
    "start_time": "2022-12-14T07:21:32.048Z"
   },
   {
    "duration": 7,
    "start_time": "2022-12-14T07:21:32.295Z"
   },
   {
    "duration": 15,
    "start_time": "2022-12-14T07:21:32.303Z"
   },
   {
    "duration": 36,
    "start_time": "2022-12-14T07:21:32.320Z"
   },
   {
    "duration": 741,
    "start_time": "2022-12-14T07:21:32.358Z"
   },
   {
    "duration": 267,
    "start_time": "2022-12-14T07:21:33.102Z"
   },
   {
    "duration": 414,
    "start_time": "2022-12-14T07:21:33.372Z"
   },
   {
    "duration": 274,
    "start_time": "2022-12-14T07:21:33.789Z"
   },
   {
    "duration": 5,
    "start_time": "2022-12-14T07:21:34.065Z"
   },
   {
    "duration": 10,
    "start_time": "2022-12-14T07:21:34.072Z"
   },
   {
    "duration": 398,
    "start_time": "2022-12-14T07:21:34.084Z"
   },
   {
    "duration": 297,
    "start_time": "2022-12-14T07:21:34.485Z"
   },
   {
    "duration": 207,
    "start_time": "2022-12-14T07:21:34.784Z"
   },
   {
    "duration": 6,
    "start_time": "2022-12-14T07:21:34.993Z"
   },
   {
    "duration": 18,
    "start_time": "2022-12-14T07:21:35.001Z"
   },
   {
    "duration": 195,
    "start_time": "2022-12-14T07:21:35.021Z"
   },
   {
    "duration": 260,
    "start_time": "2022-12-14T07:21:35.218Z"
   },
   {
    "duration": 5,
    "start_time": "2022-12-14T07:21:35.480Z"
   },
   {
    "duration": 5,
    "start_time": "2022-12-14T07:21:35.489Z"
   },
   {
    "duration": 15,
    "start_time": "2022-12-14T07:21:35.496Z"
   },
   {
    "duration": 432,
    "start_time": "2022-12-14T07:21:35.513Z"
   },
   {
    "duration": 16,
    "start_time": "2022-12-14T07:21:35.947Z"
   },
   {
    "duration": 36,
    "start_time": "2022-12-14T07:21:35.964Z"
   },
   {
    "duration": 15,
    "start_time": "2022-12-14T07:21:36.002Z"
   },
   {
    "duration": 51,
    "start_time": "2022-12-14T07:22:15.089Z"
   },
   {
    "duration": 1272,
    "start_time": "2023-02-19T11:55:29.858Z"
   },
   {
    "duration": 183,
    "start_time": "2023-02-19T11:55:43.521Z"
   },
   {
    "duration": 25,
    "start_time": "2023-02-19T11:55:43.927Z"
   },
   {
    "duration": 15,
    "start_time": "2023-02-19T11:56:13.349Z"
   },
   {
    "duration": 14,
    "start_time": "2023-02-19T11:56:13.585Z"
   },
   {
    "duration": 12,
    "start_time": "2023-02-19T11:56:14.129Z"
   },
   {
    "duration": 9,
    "start_time": "2023-02-19T11:56:14.609Z"
   },
   {
    "duration": 9,
    "start_time": "2023-02-19T11:56:15.482Z"
   },
   {
    "duration": 112,
    "start_time": "2023-02-19T12:01:37.490Z"
   },
   {
    "duration": 4,
    "start_time": "2023-02-19T12:01:42.904Z"
   },
   {
    "duration": 68,
    "start_time": "2023-02-19T12:01:44.255Z"
   },
   {
    "duration": 22,
    "start_time": "2023-02-19T12:01:44.441Z"
   },
   {
    "duration": 15,
    "start_time": "2023-02-19T12:01:45.297Z"
   },
   {
    "duration": 16,
    "start_time": "2023-02-19T12:01:45.473Z"
   },
   {
    "duration": 15,
    "start_time": "2023-02-19T12:01:45.688Z"
   },
   {
    "duration": 10,
    "start_time": "2023-02-19T12:01:46.056Z"
   },
   {
    "duration": 10,
    "start_time": "2023-02-19T12:01:46.233Z"
   },
   {
    "duration": 9,
    "start_time": "2023-02-19T12:01:46.778Z"
   },
   {
    "duration": 30,
    "start_time": "2023-02-19T12:01:46.994Z"
   },
   {
    "duration": 27,
    "start_time": "2023-02-19T12:01:52.200Z"
   },
   {
    "duration": 35,
    "start_time": "2023-02-19T12:02:04.043Z"
   },
   {
    "duration": 28,
    "start_time": "2023-02-19T12:02:13.522Z"
   },
   {
    "duration": 1083,
    "start_time": "2023-02-21T09:51:56.018Z"
   },
   {
    "duration": 224,
    "start_time": "2023-02-21T09:51:57.539Z"
   },
   {
    "duration": 23,
    "start_time": "2023-02-21T09:51:57.765Z"
   },
   {
    "duration": 13,
    "start_time": "2023-02-21T09:51:58.447Z"
   },
   {
    "duration": 14,
    "start_time": "2023-02-21T09:51:58.600Z"
   },
   {
    "duration": 13,
    "start_time": "2023-02-21T09:51:58.779Z"
   },
   {
    "duration": 8,
    "start_time": "2023-02-21T09:51:59.150Z"
   },
   {
    "duration": 8,
    "start_time": "2023-02-21T09:51:59.356Z"
   },
   {
    "duration": 24,
    "start_time": "2023-02-21T09:51:59.917Z"
   },
   {
    "duration": 186,
    "start_time": "2023-02-21T09:52:00.295Z"
   },
   {
    "duration": 5,
    "start_time": "2023-02-21T09:52:00.496Z"
   },
   {
    "duration": 13,
    "start_time": "2023-02-21T09:52:01.373Z"
   },
   {
    "duration": 12,
    "start_time": "2023-02-21T09:52:02.460Z"
   },
   {
    "duration": 641,
    "start_time": "2023-02-21T09:52:03.831Z"
   },
   {
    "duration": 240,
    "start_time": "2023-02-21T09:52:13.281Z"
   },
   {
    "duration": 334,
    "start_time": "2023-02-21T09:52:13.782Z"
   },
   {
    "duration": 271,
    "start_time": "2023-02-21T09:52:14.314Z"
   },
   {
    "duration": 6,
    "start_time": "2023-02-21T09:52:14.587Z"
   },
   {
    "duration": 5,
    "start_time": "2023-02-21T09:52:14.643Z"
   },
   {
    "duration": 359,
    "start_time": "2023-02-21T09:52:15.799Z"
   },
   {
    "duration": 179,
    "start_time": "2023-02-21T09:52:16.823Z"
   },
   {
    "duration": 168,
    "start_time": "2023-02-21T09:52:17.220Z"
   },
   {
    "duration": 4,
    "start_time": "2023-02-21T09:52:17.623Z"
   },
   {
    "duration": 7,
    "start_time": "2023-02-21T09:52:18.049Z"
   },
   {
    "duration": 148,
    "start_time": "2023-02-21T09:52:18.842Z"
   },
   {
    "duration": 217,
    "start_time": "2023-02-21T09:52:19.636Z"
   },
   {
    "duration": 5,
    "start_time": "2023-02-21T09:52:20.271Z"
   },
   {
    "duration": 4,
    "start_time": "2023-02-21T09:52:20.862Z"
   },
   {
    "duration": 8,
    "start_time": "2023-02-21T09:52:21.063Z"
   },
   {
    "duration": 343,
    "start_time": "2023-02-21T09:52:22.802Z"
   },
   {
    "duration": 10,
    "start_time": "2023-02-21T09:52:24.534Z"
   },
   {
    "duration": 32,
    "start_time": "2023-02-21T09:52:25.786Z"
   },
   {
    "duration": 12,
    "start_time": "2023-02-21T09:52:26.656Z"
   }
  ],
  "kernelspec": {
   "display_name": "Python 3 (ipykernel)",
   "language": "python",
   "name": "python3"
  },
  "language_info": {
   "codemirror_mode": {
    "name": "ipython",
    "version": 3
   },
   "file_extension": ".py",
   "mimetype": "text/x-python",
   "name": "python",
   "nbconvert_exporter": "python",
   "pygments_lexer": "ipython3",
   "version": "3.9.5"
  },
  "toc": {
   "base_numbering": 1,
   "nav_menu": {},
   "number_sections": true,
   "sideBar": true,
   "skip_h1_title": true,
   "title_cell": "Table of Contents",
   "title_sidebar": "Contents",
   "toc_cell": false,
   "toc_position": {},
   "toc_section_display": true,
   "toc_window_display": false
  }
 },
 "nbformat": 4,
 "nbformat_minor": 2
}
